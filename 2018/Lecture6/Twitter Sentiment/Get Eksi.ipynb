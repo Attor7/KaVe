{
 "cells": [
  {
   "cell_type": "markdown",
   "metadata": {},
   "source": [
    "# Web Scraper Tips\n",
    "\n",
    "Source: [link](https://hackernoon.com/web-scraping-tutorial-with-python-tips-and-tricks-db070e70e071)"
   ]
  },
  {
   "cell_type": "markdown",
   "metadata": {},
   "source": [
    "> Web scraping is a technique used to extract data from websites through an automated process.\n",
    "\n",
    "\n"
   ]
  },
  {
   "cell_type": "markdown",
   "metadata": {},
   "source": [
    "#### Tips\n",
    " - Use __inspect__ on chrome web browser"
   ]
  },
  {
   "cell_type": "code",
   "execution_count": 29,
   "metadata": {},
   "outputs": [],
   "source": [
    "page_response_content = \"\"\"\n",
    "<body>\n",
    "<div id=\"listings_prices\">\n",
    " <div class=\"item\">\n",
    "  <li class=\"item_name\">Watch</li>\n",
    "  <div class=\"main_price\">Price: $66.68</div>\n",
    "       <div class=\"discounted_price\">Discounted price: $46.68</div>\n",
    "   </div>\n",
    "   <div class=\"item\">\n",
    "  <li class=\"item_name\">Watch2</li>\n",
    "  <div class=\"main_price\">Price: $56.68</div>\n",
    "   </div>\n",
    "</div>\n",
    "\n",
    "<div id=\"uzay\">\n",
    " <div class=\"item\">\n",
    "  <li class=\"item_name\">Elma</li>\n",
    "  <div class=\"main_price\">10 TL</div>\n",
    "       <div class=\"discounted_price\">Discounted price: $46.68</div>\n",
    "   </div>\n",
    "   <div class=\"item\">\n",
    "  <li class=\"item_name\">Armut</li>\n",
    "  <div class=\"main_price\">5 TL</div>\n",
    "   </div>\n",
    "</div>\n",
    "</body>\n",
    "\"\"\""
   ]
  },
  {
   "cell_type": "code",
   "execution_count": 30,
   "metadata": {},
   "outputs": [],
   "source": [
    "from bs4 import BeautifulSoup\n",
    "import requests\n",
    "\n",
    "#page_link ='https://www.website_to_crawl.com'\n",
    "# fetch the content from url\n",
    "#page_response_content = requests.get(page_link, timeout=5).content\n",
    "# parse html\n",
    "page_content = BeautifulSoup(page_response_content, \"html.parser\")\n",
    "\n",
    "# extract all html elements where price is stored\n",
    "prices = page_content.find_all(class_='main_price')\n"
   ]
  },
  {
   "cell_type": "code",
   "execution_count": 31,
   "metadata": {},
   "outputs": [
    {
     "data": {
      "text/plain": [
       "[<div class=\"main_price\">Price: $66.68</div>,\n",
       " <div class=\"main_price\">Price: $56.68</div>,\n",
       " <div class=\"main_price\">10 TL</div>,\n",
       " <div class=\"main_price\">5 TL</div>]"
      ]
     },
     "execution_count": 31,
     "metadata": {},
     "output_type": "execute_result"
    }
   ],
   "source": [
    "# you can also access the main_price class by specifying the tag of the class\n",
    "prices = page_content.find_all('div', attrs={'class':'main_price'})\n",
    "prices"
   ]
  },
  {
   "cell_type": "code",
   "execution_count": 33,
   "metadata": {},
   "outputs": [
    {
     "data": {
      "text/plain": [
       "[<div id=\"uzay\">\n",
       " <div class=\"item\">\n",
       " <li class=\"item_name\">Elma</li>\n",
       " <div class=\"main_price\">10 TL</div>\n",
       " <div class=\"discounted_price\">Discounted price: $46.68</div>\n",
       " </div>\n",
       " <div class=\"item\">\n",
       " <li class=\"item_name\">Armut</li>\n",
       " <div class=\"main_price\">5 TL</div>\n",
       " </div>\n",
       " </div>]"
      ]
     },
     "execution_count": 33,
     "metadata": {},
     "output_type": "execute_result"
    }
   ],
   "source": [
    "# you can also access the main_price class by specifying the tag of the class\n",
    "prices = page_content.find_all('div', attrs={'id':'uzay'})\n",
    "prices"
   ]
  },
  {
   "cell_type": "code",
   "execution_count": 44,
   "metadata": {},
   "outputs": [
    {
     "data": {
      "text/plain": [
       "<div id=\"uzay\">\n",
       "<div class=\"item\">\n",
       "<li class=\"item_name\">Elma</li>\n",
       "<div class=\"main_price\">10 TL</div>\n",
       "<div class=\"discounted_price\">Discounted price: $46.68</div>\n",
       "</div>\n",
       "<div class=\"item\">\n",
       "<li class=\"item_name\">Armut</li>\n",
       "<div class=\"main_price\">5 TL</div>\n",
       "</div>\n",
       "</div>"
      ]
     },
     "execution_count": 44,
     "metadata": {},
     "output_type": "execute_result"
    }
   ],
   "source": [
    "page_content.find(attrs={'id':'uzay'})"
   ]
  },
  {
   "cell_type": "code",
   "execution_count": 45,
   "metadata": {},
   "outputs": [
    {
     "data": {
      "text/plain": [
       "[<div class=\"main_price\">10 TL</div>, <div class=\"main_price\">5 TL</div>]"
      ]
     },
     "execution_count": 45,
     "metadata": {},
     "output_type": "execute_result"
    }
   ],
   "source": [
    "page_content.find(attrs={'id':'uzay'}).find_all(attrs={'class':'main_price'})"
   ]
  },
  {
   "cell_type": "markdown",
   "metadata": {},
   "source": [
    "## Permissions in robots.txt\n",
    " - https://twitter.com/robots.txt"
   ]
  },
  {
   "cell_type": "markdown",
   "metadata": {},
   "source": [
    "## User Agent\n",
    " - Everytime you visit a website, it gets your browser information via user agent. "
   ]
  },
  {
   "cell_type": "code",
   "execution_count": 49,
   "metadata": {},
   "outputs": [],
   "source": [
    "# library to generate user agent\n",
    "from user_agent import generate_user_agent\n",
    "page_link ='https://uzay00.github.io'\n",
    "# generate a user agent\n",
    "headers = {'User-Agent': generate_user_agent(device_type=\"desktop\", os=('mac', 'linux'))}\n",
    "#headers = {'User-Agent': 'Mozilla/5.0 (X11; Linux i686 on x86_64) AppleWebKit/537.36 (KHTML, like Gecko) Chrome/49.0.2623.63 Safari/537.36'}\n",
    "page_response = requests.get(page_link, timeout=5, headers=headers)"
   ]
  },
  {
   "cell_type": "code",
   "execution_count": 50,
   "metadata": {},
   "outputs": [
    {
     "data": {
      "text/plain": [
       "<Response [200]>"
      ]
     },
     "execution_count": 50,
     "metadata": {},
     "output_type": "execute_result"
    }
   ],
   "source": [
    "page_response"
   ]
  },
  {
   "cell_type": "code",
   "execution_count": 52,
   "metadata": {},
   "outputs": [
    {
     "data": {
      "text/plain": [
       "<!DOCTYPE HTML>\n",
       "\n",
       "<!--\n",
       "\tEditorial by HTML5 UP\n",
       "\thtml5up.net | @ajlkn\n",
       "\tFree for personal and commercial use under the CCA 3.0 license (html5up.net/license)\n",
       "-->\n",
       "<html>\n",
       "<head>\n",
       "<title>Dr. Uzay Çetin</title>\n",
       "<meta charset=\"utf-8\"/>\n",
       "<meta content=\"width=device-width, initial-scale=1, maximum-scale=1.0, user-scalable=no\" name=\"viewport\"/>\n",
       "<!--[if lte IE 8]><script src=\"assets/js/ie/html5shiv.js\"></script><![endif]-->\n",
       "<link href=\"assets/css/main.css\" rel=\"stylesheet\"/>\n",
       "<!--[if lte IE 9]><link rel=\"stylesheet\" href=\"assets/css/ie9.css\" /><![endif]-->\n",
       "<!--[if lte IE 8]><link rel=\"stylesheet\" href=\"assets/css/ie8.css\" /><![endif]-->\n",
       "</head>\n",
       "<body>\n",
       "<!-- Wrapper -->\n",
       "<div id=\"wrapper\">\n",
       "<!-- Main -->\n",
       "<div id=\"main\">\n",
       "<div class=\"inner\">\n",
       "<!-- Header -->\n",
       "<header id=\"header\">\n",
       "<a class=\"logo\" href=\"http://tuvalu.santafe.edu/events/workshops/index.php/Uzay_%C3%87etin\"><strong>Dr. Uzay Çetin</strong></a>\n",
       "<ul class=\"icons\">\n",
       "<li><a class=\"icon fa-twitter\" href=\"https://twitter.com/uzay00\"><span class=\"label\">Twitter</span></a></li>\n",
       "<li><a class=\"icon fa-facebook\" href=\"https://www.facebook.com/uzay00\"><span class=\"label\">Facebook</span></a></li>\n",
       "</ul>\n",
       "</header>\n",
       "<!-- Banner -->\n",
       "<section id=\"banner\">\n",
       "<div class=\"content\">\n",
       "<header>\n",
       "<h1>\n",
       "\t\t\t\t\t\t\t\t\t\t\tMerhabalar,<br/>\n",
       "\t\t\t\t\t\t\t\t\t\t\thoş geldiniz.</h1>\n",
       "</header>\n",
       "</div>\n",
       "<br/>\n",
       "<div class=\"posts\">\n",
       "<article>\n",
       "<p>\n",
       "<a href=\"./kahve/\">Karmaşıklık ve Veri Bilimi</a> \n",
       "\t\t\t\t\t\t\t\t\t\tKarmaşık Sistemler ve Veri Bilimi,\n",
       "\t\t\t\t\t\t\t\t\t\talanına ilgi duyuyor ve daha fazlasını öğrenmek istiyorsanız tıklayın.\n",
       "\t\t\t\t\t\t\t\t\t\t</p>\n",
       "<ul class=\"actions\">\n",
       "<li><a class=\"button big\" href=\"./kahve/\">\n",
       "\t\t\t\t\t\t\t\t\t\t\tKa|Ve</a></li>\n",
       "</ul>\n",
       "</article>\n",
       "<article>\n",
       "<p>\n",
       "\t\t\t\t\t\t\t\t\t\t26 Mayıs 2018 Cumartesi günü \n",
       "\t\t\t\t\t\t\t\t\t\tKarmaşık Sistemler ve Veri Bilimi çalıştayı,\n",
       "\t\t\t\t\t\t\t\t\t\tİstanbul Bilgi Üniversitesi, \n",
       "\t\t\t\t\t\t\t\t\t\tSantral Kampüsünde E1-301 nolu amfide\n",
       "\t\t\t\t\t\t\t\t\t\tgerçekleşecektir. Bilgi ve kayıt için tıklayın.\n",
       "\t\t\t\t\t\t\t\t\t\t\n",
       "\t\t\t\t\t\t\t\t\t\t</p>\n",
       "<ul class=\"actions\">\n",
       "<li><a class=\"button big\" href=\"KaVe2018.pdf\">\n",
       "\t\t\t\t\t\t\t\t\t\t\tProgram</a></li>\n",
       "</ul>\n",
       "</article>\n",
       "</div>\n",
       "</section>\n",
       "<!-- Content -->\n",
       "<section>\n",
       "<blockquote>Suam habet fortuna rationem (Rastlantının da, kendine has bir mantığı vardır) - Petronius, Gaius </blockquote>\n",
       "</section>\n",
       "</div>\n",
       "</div>\n",
       "</div>\n",
       "<!-- Scripts -->\n",
       "<script src=\"assets/js/jquery.min.js\"></script>\n",
       "<script src=\"assets/js/skel.min.js\"></script>\n",
       "<script src=\"assets/js/util.js\"></script>\n",
       "<!--[if lte IE 8]><script src=\"assets/js/ie/respond.min.js\"></script><![endif]-->\n",
       "<script src=\"assets/js/main.js\"></script>\n",
       "</body>\n",
       "</html>"
      ]
     },
     "execution_count": 52,
     "metadata": {},
     "output_type": "execute_result"
    }
   ],
   "source": [
    "page_response_content = page_response.content\n",
    "page_content = BeautifulSoup(page_response_content, \"html.parser\")\n",
    "page_content"
   ]
  },
  {
   "cell_type": "code",
   "execution_count": null,
   "metadata": {},
   "outputs": [],
   "source": []
  },
  {
   "cell_type": "code",
   "execution_count": null,
   "metadata": {},
   "outputs": [],
   "source": []
  },
  {
   "cell_type": "code",
   "execution_count": null,
   "metadata": {},
   "outputs": [],
   "source": []
  },
  {
   "cell_type": "code",
   "execution_count": null,
   "metadata": {},
   "outputs": [],
   "source": []
  },
  {
   "cell_type": "code",
   "execution_count": null,
   "metadata": {},
   "outputs": [],
   "source": []
  },
  {
   "cell_type": "markdown",
   "metadata": {},
   "source": [
    "# Get Eksi"
   ]
  },
  {
   "cell_type": "code",
   "execution_count": 1,
   "metadata": {},
   "outputs": [
    {
     "name": "stdout",
     "output_type": "stream",
     "text": [
      "Entry 1: bu cografya da dogmus olduguma sevinmem için bir kaç nedenden biri\n",
      "Entry 2: o olmasaydi biz, \"biz\" olur muyduk bilemiyorum...\n",
      "Entry 3: guzel insan keza bu kadarı yeter.\n",
      "Entry 4: (bkz: 10 kasim)\n",
      "Entry 5: sarı saçlı mavi gözlü yakışıklı, güzel elli, prezentabl geyikleri arasında kayanayıp gitmeye başlamış, büyük bir lider.kara kaşlı kara gözlü, kambur olsa idi, bu kadar çok saygı duyulmayacak mıydı?yalvarırım şu sarı saçlıyı, şu mavi gözlüyü, rakı-sigara-leblebi, tarlada karga kovalama edebiyatını bi kenara bırakın.ata, alemci akşamcıların jön dostu hareketli korkuluk değildir.maalesef yaptıklarından çok, düşünceleri ile sonsuza dek yaşamayı bilmiş birisidir.çelik erişçi yaklaşımları ile ancak yeni captainhowdyler yaratırsınız.\n",
      "Entry 6: konuyla ilgili olarak aziz nesin'in bir masal ve hikayesini öneriyorumisimlerini de vermiyorum ki ararken okuyunuz.\n",
      "Entry 7: dahi insan. ornek alınası kişi. sadece bir kez gormek bile yeterdi.. iyikio bıraktığı ülkeyi bugun görmüyor. yada görüyorsada gittiğiyerden,nasıl gelipte şunları tekrar adam etsem diye düşünüyodur...\n",
      "Entry 8: yuce onder,buyuk insanturkiye cumhuriyeti'nin kurucusu\n",
      "Entry 9: daglarda tek tek atesler yaniyordu.ve yildizlar oyle isiltili oyle ferahtilar ki$ayak kalpakli adam nasil ve ne zaman gelecegini bilmedenguzel, rahat gunlere inaniyorduve gulen biyiklariyla duruyordu ki mavzerinin yaninda,birden bire bes adim saginda onu gordu.pasalar onun arkasindaydilar.o, saati sordu.pasalar 'üç' dediler.sari$in bir kurda benziyordu.ve mavi gozleri cakmak cakmakti. yurudu ucurumun kenarina kadar,egildi durdu. biraksalarince uzun bacaklari ustunde yaylanarakve karanlikta akan bir yildiz gibi kayarakkocatepe'den afyon ovasi'na atlayacakti.nazım hikmetben daha söz bulamıyorum...\n",
      "Entry 10: mukemmel bi kumandan mukemmel bi liderden ote bi insan...abartiliyo diyip unutturulmaya calisiliyo.ama asla unutmuyacagimiz tek insan o. 10 sene daha yasasaydi simdi hersey cok farkli olurdu.\n",
      "Entry 11: bu cografya da dogmus olduguma sevinmem için bir kaç nedenden biri\n",
      "Entry 12: o olmasaydi biz, \"biz\" olur muyduk bilemiyorum...\n",
      "Entry 13: guzel insan keza bu kadarı yeter.\n",
      "Entry 14: (bkz: 10 kasim)\n",
      "Entry 15: sarı saçlı mavi gözlü yakışıklı, güzel elli, prezentabl geyikleri arasında kayanayıp gitmeye başlamış, büyük bir lider.kara kaşlı kara gözlü, kambur olsa idi, bu kadar çok saygı duyulmayacak mıydı?yalvarırım şu sarı saçlıyı, şu mavi gözlüyü, rakı-sigara-leblebi, tarlada karga kovalama edebiyatını bi kenara bırakın.ata, alemci akşamcıların jön dostu hareketli korkuluk değildir.maalesef yaptıklarından çok, düşünceleri ile sonsuza dek yaşamayı bilmiş birisidir.çelik erişçi yaklaşımları ile ancak yeni captainhowdyler yaratırsınız.\n",
      "Entry 16: konuyla ilgili olarak aziz nesin'in bir masal ve hikayesini öneriyorumisimlerini de vermiyorum ki ararken okuyunuz.\n",
      "Entry 17: dahi insan. ornek alınası kişi. sadece bir kez gormek bile yeterdi.. iyikio bıraktığı ülkeyi bugun görmüyor. yada görüyorsada gittiğiyerden,nasıl gelipte şunları tekrar adam etsem diye düşünüyodur...\n",
      "Entry 18: yuce onder,buyuk insanturkiye cumhuriyeti'nin kurucusu\n",
      "Entry 19: daglarda tek tek atesler yaniyordu.ve yildizlar oyle isiltili oyle ferahtilar ki$ayak kalpakli adam nasil ve ne zaman gelecegini bilmedenguzel, rahat gunlere inaniyorduve gulen biyiklariyla duruyordu ki mavzerinin yaninda,birden bire bes adim saginda onu gordu.pasalar onun arkasindaydilar.o, saati sordu.pasalar 'üç' dediler.sari$in bir kurda benziyordu.ve mavi gozleri cakmak cakmakti. yurudu ucurumun kenarina kadar,egildi durdu. biraksalarince uzun bacaklari ustunde yaylanarakve karanlikta akan bir yildiz gibi kayarakkocatepe'den afyon ovasi'na atlayacakti.nazım hikmetben daha söz bulamıyorum...\n",
      "Entry 20: mukemmel bi kumandan mukemmel bi liderden ote bi insan...abartiliyo diyip unutturulmaya calisiliyo.ama asla unutmuyacagimiz tek insan o. 10 sene daha yasasaydi simdi hersey cok farkli olurdu.\n"
     ]
    }
   ],
   "source": [
    "from lxml import html\n",
    "from requests import get, RequestException\n",
    "from user_agent import generate_user_agent\n",
    "\n",
    "url = 'https://eksisozluk.com/mustafa-kemal-ataturk--34712?p=2'\n",
    "\n",
    "ua = generate_user_agent(device_type=\"desktop\", os=('linux', 'mac'))\n",
    "\n",
    "def get_content(url):\n",
    "    try:\n",
    "        res = get(url, headers={'User-Agent': ua})\n",
    "        status = res.status_code\n",
    "        if status == 200:\n",
    "            return res.content\n",
    "        else:\n",
    "            print(status)\n",
    "    except RequestException as ex:\n",
    "        print('Request Error!')\n",
    "        print(ex)\n",
    "    except KeyboardInterrupt:\n",
    "        print('The request is interrupted!')\n",
    "\n",
    "def get_entries(url, num_fetch):\n",
    "    entries = []\n",
    "    page = 1\n",
    "\n",
    "    while len(entries) < num_fetch:\n",
    "        html_element = html.document_fromstring(get_content(url + '?p=' + str(page)))\n",
    "        entries.extend(entry.text_content().strip() for entry in html_element.xpath('.//div[@class=\"content\"]') if len(entries) < num_fetch)\n",
    "        page += 1\n",
    "\n",
    "    return entries\n",
    "\n",
    "entries = get_entries(url, 20)\n",
    "for i, entry in enumerate(entries):\n",
    "    print('Entry %d: %s' % (i+1, entry))"
   ]
  },
  {
   "cell_type": "code",
   "execution_count": null,
   "metadata": {},
   "outputs": [],
   "source": [
    "#!pip install user_agent"
   ]
  },
  {
   "cell_type": "code",
   "execution_count": null,
   "metadata": {},
   "outputs": [],
   "source": []
  }
 ],
 "metadata": {
  "kernelspec": {
   "display_name": "Python 3",
   "language": "python",
   "name": "python3"
  },
  "language_info": {
   "codemirror_mode": {
    "name": "ipython",
    "version": 3
   },
   "file_extension": ".py",
   "mimetype": "text/x-python",
   "name": "python",
   "nbconvert_exporter": "python",
   "pygments_lexer": "ipython3",
   "version": "3.6.4"
  }
 },
 "nbformat": 4,
 "nbformat_minor": 2
}
