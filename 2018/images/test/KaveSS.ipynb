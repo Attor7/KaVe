{
 "cells": [
  {
   "cell_type": "markdown",
   "metadata": {},
   "source": [
    "# Sarıyer Akademi Proje Odaklı Yapay Zeka Eğitimi Secme Sınavı\n",
    "\n",
    "Eğitim hakkında detaylı bilgi için:  http://bitly.com/yapayzeka3 adresini ziyaret edebilirsiniz. Bu eğitime başvuran adaylardan 20 kişiyi seçmek için bir sınav hazırladık. Aşağıda sizden 8 adet soruyu cevaplamanızı istiyoruz. Cevaplarınızı bu jupyter notebook üzerinden vermenizi istiyoruz. Bilgisayarınızda python çalıştırabilmek için [anaconda](https://www.anaconda.com/download/) kurulu olması gerekiyor.\n",
    "\n",
    " - [jupyter notebook nedir?](http://www.veridefteri.com/2017/10/30/jupyter-notebook-nedir-2/)\n",
    " - Her ne kadar tavsiye etmesek de, henüz Jupyter notebook hakkında yeterli bilginiz yoksa bir word dokumanı da hazırlayabilirsiniz.\n",
    "\n",
    "İlk iki soru temel python programlama üzerine olacaktır, geri kalan altı soru matematiksel düşünme yeteneği ile ilgili olacaktır."
   ]
  },
  {
   "cell_type": "code",
   "execution_count": null,
   "metadata": {},
   "outputs": [],
   "source": []
  },
  {
   "cell_type": "markdown",
   "metadata": {},
   "source": [
    "## Soru 1 \n",
    "\n",
    "Bu soruyu cevaplamak için  [Python ile Makine Öğrenmesine Giriş Pandas Kütüphanesi](https://www.veribilimi.co/2018/08/25/python-ile-makine-ogrenmesine-giris-pandas-kutuphanesi/) yazısını okumanız gerekebilir. Sizden istediğimiz aşağıdaki adresteki veriyi pandas kütüphanesi ile çekip, bazı sütunları silmenizi bekliyoruz.\n",
    " - \"https://raw.githubusercontent.com/unforgiventr/Facebook-DataLeak-TextMining/master/avocado.csv\"\n",
    "\n",
    "\n",
    "<img src=\"https://resmim.net/f/SbZH7q.png\" alt=\"HTML5 Icon\" width=\"800\" height=\"400\">\n",
    "\n",
    "Bu işlem gerçekleştiğinde, veriyi sadeleştirmiş olacaksınız. Aşağıdaki yazıdan faydalanabilirsiniz.\n",
    " - [Dropping Rows And Columns In pandas Dataframe](https://chrisalbon.com/python/data_wrangling/pandas_dropping_column_and_rows/)\n",
    " - [How to read a CSV file from a URL with Python?](https://stackoverflow.com/questions/16283799/how-to-read-a-csv-file-from-a-url-with-python)\n",
    "\n",
    "\n",
    "#### Açıklama\n",
    "Bu soruya nasıl cevap vereceğinizi şu aşamada bilmiyor olabilirsiniz. Bu gayet normal. Biz aslında burda python bilginizi değil, bilmediğiniz bir şeyi araştırarak kendi başınıza öğrenip öğrenemediğinizi ölçüyoruz.\n"
   ]
  },
  {
   "cell_type": "code",
   "execution_count": null,
   "metadata": {},
   "outputs": [],
   "source": []
  },
  {
   "cell_type": "markdown",
   "metadata": {},
   "source": [
    "## Soru 2\n",
    "\n",
    "Yukarıda oluşturduğunuz _sadeleştirilmiş_ pandas veri kümesine yeni bir satır girmeni istiyoruz. Girilecek satır verisi kullanıcıdan ınput komutu kullanılarak alınacaktır.\n",
    "\n",
    "\n",
    "- [Python Kullanıcıdan Veri Alma ( INPUT )](https://www.python.tc/python-kullanicidan-veri-alma-input/)\n",
    "- [Create pandas dataframe from string](https://stackoverflow.com/questions/50500135/create-pandas-dataframe-from-string)\n"
   ]
  },
  {
   "cell_type": "code",
   "execution_count": null,
   "metadata": {},
   "outputs": [],
   "source": []
  },
  {
   "cell_type": "markdown",
   "metadata": {},
   "source": [
    "### Soru 3\n",
    "Aklınızdan 1 ile $N$ arasında bir sayma sayısı tutup arkadaşlarınızdan bu sayıyı,\n",
    "$x \\in [1,N]$, tahmin etmesini istediğinizi düşünelim. $N=100$ olsun, tuttuğunuz sayı $x = 3$ olsun,\n",
    "\n",
    "- Ahmet, $x=1$ mi diye soruyor, siz hayır diyorsunuz. Daha sonra 2 mi diye soruyor, hayır diyorsunuz. Yine 1 arttırarak, $x=3$ mü diye sorduğunda, evet bildin diyorsunuz.\n",
    "- Mehmet, $x=50$ mi diyor ve hayır diyorsunuz.\n",
    "$x>50$ mi diye soruyor, hayır diyorsunuz. \n",
    "$x=25$ mi diyor, hayır diyorsunuz.\n",
    "$x>25$ mi diye soruyor, hayır diyorsunuz. \n",
    "Yine ikiye bölerek $x=12$ mi diyor, hayır diyorsunuz.\n",
    "$x>12$ diye soruyor, hayır diyorsunuz. \n",
    "$x=6$ mi diyor, hayır diyorsunuz. $x>6$ mı diyor, hayır diyorsunuz.\n",
    "3 mü dediğinde nihayet evet bildin diyorsunuz.\n",
    "\n",
    "Farklı $N$ ve $x$ değerleri düşünüldüğünde, kim daha mantıklı sorular sormuştur, nedenini açıklayınız."
   ]
  },
  {
   "cell_type": "code",
   "execution_count": null,
   "metadata": {},
   "outputs": [],
   "source": []
  },
  {
   "cell_type": "markdown",
   "metadata": {},
   "source": [
    "## Soru 4\n",
    "İstatistikçiler büyük bir yatırım yaparak,\n",
    "1936'daki ABD başkanlık seçiminde,\n",
    "araba sahiplerinin telefon numaralarını içeren bir rehberdeki kişileri telefonla arayıp hangi adayı desteklediklerini tek tek sordular. \n",
    "Kimin kazanacağını tahmin etmek istediler fakat yanıldılar. Burada yanlış yaptıkları şey ne olabilir?\n"
   ]
  },
  {
   "cell_type": "code",
   "execution_count": null,
   "metadata": {},
   "outputs": [],
   "source": []
  },
  {
   "cell_type": "markdown",
   "metadata": {},
   "source": [
    "## Soru 5\n",
    "\n",
    "$a$ ve $b$ tamsayı olmak üzere, $f(a,b) = c$ olduğunu göstermek için aşağıdaki gibi kare yerleştirme yöntemi kullanılıyorsa buradaki $f$ fonksiyonu nedir?\n",
    "\n",
    "<img src=\"https://raw.githubusercontent.com/uzay00/KaVe/master/2018/images/test/ekok.png\" alt=\"HTML5 Icon\" width=\"512\" height=\"256\">\n",
    "\n",
    "##### Açıklama\n",
    "Kenarları tamsayı olan bir dikdörtgenin içine, \n",
    "kenar uzunluğu, dikdörtgenin kısa kenarı kadar olan karelerden koyabildiğimiz kadar koyuyoruz. \n",
    "Kareleri koyduktan sonra içerde \n",
    "arda kalan küçük bir dikdörtgen varsa, küçük dikdörtgene de aynı kare koyma yöntemini uyguluyoruz. \n",
    "Daha içerde, hiç dikdörtgen kalmayana kadar aynı kare koyma yöntemini uygulamaya devam ediyoruz. Arda kalan dikdörtgen kalmadığında, elde ettiğimiz en küçük karenin kenar uzunluğu aradığımız \n",
    "$f(a,b) = c$ değeri oluyor."
   ]
  },
  {
   "cell_type": "code",
   "execution_count": null,
   "metadata": {},
   "outputs": [],
   "source": []
  },
  {
   "cell_type": "markdown",
   "metadata": {},
   "source": [
    "## Soru 6\n",
    "\n",
    "\n",
    "<img src=\"https://raw.githubusercontent.com/uzay00/KaVe/master/2018/images/test/noron.png\" alt=\"HTML5 Icon\" width=\"512\" height=\"256\">\n",
    "\n",
    "\n",
    "\n",
    "Aşağıdaki yapay sinir ağında, $w_1 = w_2 = 0.6$ ve $Q=1$ için \n",
    "_mantıksal_ _ve_ $(\\land)$ işlemi elde edilmektedir.Ağın çalışma prensibi şudur,\n",
    "girdi değerleri $x_1$ ve $x_2 $ bir $g(x_1 ,x_2) = x_1 \\times w_1 + x_2 \\times w_2$\n",
    "fonksiyonuna tabi tutulur. Eğer elde edilen değer $Q$'dan büyük eşitse $y =1$ olur, değilse $y =0$ olur,\n",
    "Kısaca,\n",
    "\\begin{align}\n",
    "g(x_1 ,x_2) \\geq Q \\Rightarrow y =1  \\nonumber \\\\\n",
    "g(x_1 ,x_2)  < Q \\Rightarrow y =0 \\nonumber\n",
    "\\end{align}\n",
    "\n",
    "<img src=\"https://raw.githubusercontent.com/uzay00/KaVe/master/2018/images/test/ve.png\" alt=\"HTML5 Icon\" width=\"512\" height=\"256\">\n",
    "\n",
    "\n",
    "\n",
    "Siz de, $w_1$, $w_2 $ ve $Q$ değerlerini değiştirerek _mantıksal_ _veya_  $(\\lor)$ işlemini gerçekleştiren\n",
    "yapay sinir ağını üretin. "
   ]
  },
  {
   "cell_type": "code",
   "execution_count": null,
   "metadata": {},
   "outputs": [],
   "source": []
  },
  {
   "cell_type": "markdown",
   "metadata": {},
   "source": [
    "## Soru 7\n",
    "Pedro Domingos, master algoritma adlı kitabında\n",
    "S-eğrisinin dünyadaki en önemli eğri olduğunu söyler. Kendisine göre mısır patlatırken bile \n",
    "S-eğrisinin nasıl işlediğini görebiliriz.\n",
    "\n",
    "\n",
    "![istenilen](https://raw.githubusercontent.com/uzay00/KaVe/master/2018/images/test/S-egrisi.png)\n",
    "\n",
    "\n",
    "\n",
    "\n",
    ">ilk başta hiçbir şey olmaz,\n",
    "daha sonra birkaç mısır patlar, \n",
    "ardından bir grup mısır patlar,\n",
    "daha sonra birden bire çoğu patlar,\n",
    "ardından birkaç tanesi daha patlar,\n",
    "ve sonunda mısırlar yemeğe hazır hale gelir.\n",
    "\n",
    "Sizce neden S-eğrisinin dünyadaki en önemli eğridir? Başka nerelerde S-eğrisini gözlemleyebiliriz?\n"
   ]
  },
  {
   "cell_type": "code",
   "execution_count": null,
   "metadata": {},
   "outputs": [],
   "source": []
  },
  {
   "cell_type": "markdown",
   "metadata": {},
   "source": [
    "## Soru 8\n",
    "Aşağıdaki basamak fonksiyonu ve üstel fonksiyon görülmektedir. \n",
    "Sizce S-eğrisinin bu fonksiyonlara göre ne gibi avantajları vardır.\n",
    "\n",
    "\n",
    "![istenilen](https://raw.githubusercontent.com/uzay00/KaVe/master/2018/images/test/basamak.png)\n",
    "\n",
    "\n",
    "\n"
   ]
  },
  {
   "cell_type": "code",
   "execution_count": null,
   "metadata": {},
   "outputs": [],
   "source": []
  }
 ],
 "metadata": {
  "kernelspec": {
   "display_name": "Python 3",
   "language": "python",
   "name": "python3"
  },
  "language_info": {
   "codemirror_mode": {
    "name": "ipython",
    "version": 3
   },
   "file_extension": ".py",
   "mimetype": "text/x-python",
   "name": "python",
   "nbconvert_exporter": "python",
   "pygments_lexer": "ipython3",
   "version": "3.6.4"
  }
 },
 "nbformat": 4,
 "nbformat_minor": 2
}
