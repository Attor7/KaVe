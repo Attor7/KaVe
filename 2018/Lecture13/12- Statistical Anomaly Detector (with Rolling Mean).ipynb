{
 "cells": [
  {
   "cell_type": "markdown",
   "metadata": {},
   "source": [
    "# Simple operations"
   ]
  },
  {
   "cell_type": "code",
   "execution_count": 1,
   "metadata": {},
   "outputs": [
    {
     "name": "stdout",
     "output_type": "stream",
     "text": [
      "[0, 1, 1, 1, 1, 4]\n",
      "Easy Example for window=2\n"
     ]
    }
   ],
   "source": [
    "# Importing the libraries\n",
    "import numpy as np\n",
    "import matplotlib.pyplot as plt\n",
    "import pandas as pd\n",
    "\n",
    "x = [0,1,1,1,1,4]\n",
    "print(x)\n",
    "ROLLING_WINDOW = 2\n",
    "print(\"Easy Example for window={}\".format(ROLLING_WINDOW))"
   ]
  },
  {
   "cell_type": "code",
   "execution_count": 2,
   "metadata": {},
   "outputs": [
    {
     "data": {
      "text/plain": [
       "[0]"
      ]
     },
     "execution_count": 2,
     "metadata": {},
     "output_type": "execute_result"
    }
   ],
   "source": [
    "# first ROLLING_WINDOW-1 items\n",
    "padding = x[:(ROLLING_WINDOW-1)]\n",
    "padding"
   ]
  },
  {
   "cell_type": "code",
   "execution_count": 3,
   "metadata": {},
   "outputs": [
    {
     "name": "stdout",
     "output_type": "stream",
     "text": [
      "   0\n",
      "0  0\n",
      "1  0\n",
      "2  1\n",
      "3  1\n",
      "4  1\n",
      "5  1\n",
      "6  4\n"
     ]
    }
   ],
   "source": [
    "# add padding\n",
    "x = pd.DataFrame(np.concatenate([padding, x]))\n",
    "print(x)"
   ]
  },
  {
   "cell_type": "code",
   "execution_count": 4,
   "metadata": {},
   "outputs": [
    {
     "name": "stdout",
     "output_type": "stream",
     "text": [
      "     0\n",
      "0  NaN\n",
      "1  0.0\n",
      "2  0.5\n",
      "3  1.0\n",
      "4  1.0\n",
      "5  1.0\n",
      "6  2.5\n"
     ]
    }
   ],
   "source": [
    "# Calculate rolling mean\n",
    "x = x.rolling(axis=0, window=ROLLING_WINDOW).mean()\n",
    "print(x)"
   ]
  },
  {
   "cell_type": "code",
   "execution_count": 5,
   "metadata": {},
   "outputs": [
    {
     "name": "stdout",
     "output_type": "stream",
     "text": [
      "[[0. ]\n",
      " [0.5]\n",
      " [1. ]\n",
      " [1. ]\n",
      " [1. ]\n",
      " [2.5]]\n"
     ]
    }
   ],
   "source": [
    "# remove padding\n",
    "x = x[(ROLLING_WINDOW-1):].values\n",
    "print(x)"
   ]
  },
  {
   "cell_type": "markdown",
   "metadata": {},
   "source": [
    "# Apply to Tensor Data"
   ]
  },
  {
   "cell_type": "code",
   "execution_count": 6,
   "metadata": {},
   "outputs": [],
   "source": [
    "########################################################\n",
    "X = np.array([\n",
    "          [[1,1,5],[1,1,1]],\n",
    "          [[2,2,5],[2,2,5]],\n",
    "          [[1,1,5],[1,1,5]],\n",
    "          [[100,100,5],[3,3,500]],\n",
    "          [[1,2,5],[3,4,5]],\n",
    "          [[2,2,5],[2,2,5]],\n",
    "          [[1,1,5],[1,1,5]],\n",
    "          [[1,2,5],[3,4,5]],\n",
    "          [[2,2,5],[2,2,5]],\n",
    "          [[1,1,5],[1,1,5]],\n",
    "          [[1,2,5],[3,4,5]],\n",
    "          [[2,2,5],[2,2,5]],\n",
    "          [[1,1,5],[1,1,5]],\n",
    "          [[1,1,5],[1,1,5]],\n",
    "          [[2,2,5],[2,2,5]],\n",
    "          [[1,1,5],[1,1,5]],\n",
    "          [[4,3,5],[2,1,5]]\n",
    "         ])\n",
    "ROLLING_WINDOW = 5"
   ]
  },
  {
   "cell_type": "code",
   "execution_count": 7,
   "metadata": {},
   "outputs": [
    {
     "data": {
      "text/plain": [
       "(17, 2, 3)"
      ]
     },
     "execution_count": 7,
     "metadata": {},
     "output_type": "execute_result"
    }
   ],
   "source": [
    "X.shape"
   ]
  },
  {
   "cell_type": "code",
   "execution_count": 8,
   "metadata": {},
   "outputs": [
    {
     "data": {
      "text/plain": [
       "array([[100, 100,   5],\n",
       "       [  3,   3, 500]])"
      ]
     },
     "execution_count": 8,
     "metadata": {},
     "output_type": "execute_result"
    }
   ],
   "source": [
    "# Known Anomaly\n",
    "X[3]"
   ]
  },
  {
   "cell_type": "code",
   "execution_count": 9,
   "metadata": {},
   "outputs": [
    {
     "data": {
      "text/plain": [
       "array([[[  1,   1,   5],\n",
       "        [  1,   1,   1]],\n",
       "\n",
       "       [[  2,   2,   5],\n",
       "        [  2,   2,   5]],\n",
       "\n",
       "       [[  1,   1,   5],\n",
       "        [  1,   1,   5]],\n",
       "\n",
       "       [[100, 100,   5],\n",
       "        [  3,   3, 500]]])"
      ]
     },
     "execution_count": 9,
     "metadata": {},
     "output_type": "execute_result"
    }
   ],
   "source": [
    "# first ROLLING_WINDOW-1 items as padding\n",
    "padding = X[:(ROLLING_WINDOW-1)]\n",
    "padding"
   ]
  },
  {
   "cell_type": "code",
   "execution_count": 10,
   "metadata": {},
   "outputs": [
    {
     "name": "stdout",
     "output_type": "stream",
     "text": [
      "(21, 2, 3)\n"
     ]
    }
   ],
   "source": [
    "# add padding\n",
    "X_add_padding = np.concatenate([padding, X])\n",
    "print(X_add_padding.shape)"
   ]
  },
  {
   "cell_type": "code",
   "execution_count": 11,
   "metadata": {},
   "outputs": [
    {
     "name": "stdout",
     "output_type": "stream",
     "text": [
      "             0   1   2    3   4   5   6    7   8   9  ...  11  12  13  14  15  \\\n",
      "major minor                                           ...                       \n",
      "0     0       1   2   1  100   1   2   1  100   1   2 ...   1   2   1   1   2   \n",
      "      1       1   2   1  100   1   2   1  100   2   2 ...   2   2   1   2   2   \n",
      "      2       5   5   5    5   5   5   5    5   5   5 ...   5   5   5   5   5   \n",
      "1     0       1   2   1    3   1   2   1    3   3   2 ...   3   2   1   3   2   \n",
      "      1       1   2   1    3   1   2   1    3   4   2 ...   4   2   1   4   2   \n",
      "      2       1   5   5  500   1   5   5  500   5   5 ...   5   5   5   5   5   \n",
      "\n",
      "             16  17  18  19  20  \n",
      "major minor                      \n",
      "0     0       1   1   2   1   4  \n",
      "      1       1   1   2   1   3  \n",
      "      2       5   5   5   5   5  \n",
      "1     0       1   1   2   1   2  \n",
      "      1       1   1   2   1   1  \n",
      "      2       5   5   5   5   5  \n",
      "\n",
      "[6 rows x 21 columns]\n",
      "17 days 2 samples (time-windows) 3 features (messages)\n"
     ]
    }
   ],
   "source": [
    "df = pd.Panel(X_add_padding).to_frame()\n",
    "print(df)\n",
    "print(\"{} days {} samples (time-windows) {} features (messages)\".format(*X.shape))"
   ]
  },
  {
   "cell_type": "code",
   "execution_count": 12,
   "metadata": {},
   "outputs": [
    {
     "data": {
      "text/html": [
       "<div>\n",
       "<style scoped>\n",
       "    .dataframe tbody tr th:only-of-type {\n",
       "        vertical-align: middle;\n",
       "    }\n",
       "\n",
       "    .dataframe tbody tr th {\n",
       "        vertical-align: top;\n",
       "    }\n",
       "\n",
       "    .dataframe thead th {\n",
       "        text-align: right;\n",
       "    }\n",
       "</style>\n",
       "<table border=\"1\" class=\"dataframe\">\n",
       "  <thead>\n",
       "    <tr style=\"text-align: right;\">\n",
       "      <th></th>\n",
       "      <th></th>\n",
       "      <th>0</th>\n",
       "      <th>1</th>\n",
       "      <th>2</th>\n",
       "      <th>3</th>\n",
       "      <th>4</th>\n",
       "      <th>5</th>\n",
       "      <th>6</th>\n",
       "      <th>7</th>\n",
       "      <th>8</th>\n",
       "      <th>9</th>\n",
       "      <th>...</th>\n",
       "      <th>11</th>\n",
       "      <th>12</th>\n",
       "      <th>13</th>\n",
       "      <th>14</th>\n",
       "      <th>15</th>\n",
       "      <th>16</th>\n",
       "      <th>17</th>\n",
       "      <th>18</th>\n",
       "      <th>19</th>\n",
       "      <th>20</th>\n",
       "    </tr>\n",
       "    <tr>\n",
       "      <th>major</th>\n",
       "      <th>minor</th>\n",
       "      <th></th>\n",
       "      <th></th>\n",
       "      <th></th>\n",
       "      <th></th>\n",
       "      <th></th>\n",
       "      <th></th>\n",
       "      <th></th>\n",
       "      <th></th>\n",
       "      <th></th>\n",
       "      <th></th>\n",
       "      <th></th>\n",
       "      <th></th>\n",
       "      <th></th>\n",
       "      <th></th>\n",
       "      <th></th>\n",
       "      <th></th>\n",
       "      <th></th>\n",
       "      <th></th>\n",
       "      <th></th>\n",
       "      <th></th>\n",
       "      <th></th>\n",
       "    </tr>\n",
       "  </thead>\n",
       "  <tbody>\n",
       "    <tr>\n",
       "      <th rowspan=\"3\" valign=\"top\">0</th>\n",
       "      <th>0</th>\n",
       "      <td>NaN</td>\n",
       "      <td>NaN</td>\n",
       "      <td>NaN</td>\n",
       "      <td>NaN</td>\n",
       "      <td>21.0</td>\n",
       "      <td>21.2</td>\n",
       "      <td>21.0</td>\n",
       "      <td>40.8</td>\n",
       "      <td>21.0</td>\n",
       "      <td>21.2</td>\n",
       "      <td>...</td>\n",
       "      <td>21.0</td>\n",
       "      <td>1.4</td>\n",
       "      <td>1.4</td>\n",
       "      <td>1.2</td>\n",
       "      <td>1.4</td>\n",
       "      <td>1.4</td>\n",
       "      <td>1.2</td>\n",
       "      <td>1.4</td>\n",
       "      <td>1.4</td>\n",
       "      <td>1.8</td>\n",
       "    </tr>\n",
       "    <tr>\n",
       "      <th>1</th>\n",
       "      <td>NaN</td>\n",
       "      <td>NaN</td>\n",
       "      <td>NaN</td>\n",
       "      <td>NaN</td>\n",
       "      <td>21.0</td>\n",
       "      <td>21.2</td>\n",
       "      <td>21.0</td>\n",
       "      <td>40.8</td>\n",
       "      <td>21.2</td>\n",
       "      <td>21.4</td>\n",
       "      <td>...</td>\n",
       "      <td>21.4</td>\n",
       "      <td>1.8</td>\n",
       "      <td>1.6</td>\n",
       "      <td>1.6</td>\n",
       "      <td>1.8</td>\n",
       "      <td>1.6</td>\n",
       "      <td>1.4</td>\n",
       "      <td>1.6</td>\n",
       "      <td>1.4</td>\n",
       "      <td>1.6</td>\n",
       "    </tr>\n",
       "    <tr>\n",
       "      <th>2</th>\n",
       "      <td>NaN</td>\n",
       "      <td>NaN</td>\n",
       "      <td>NaN</td>\n",
       "      <td>NaN</td>\n",
       "      <td>5.0</td>\n",
       "      <td>5.0</td>\n",
       "      <td>5.0</td>\n",
       "      <td>5.0</td>\n",
       "      <td>5.0</td>\n",
       "      <td>5.0</td>\n",
       "      <td>...</td>\n",
       "      <td>5.0</td>\n",
       "      <td>5.0</td>\n",
       "      <td>5.0</td>\n",
       "      <td>5.0</td>\n",
       "      <td>5.0</td>\n",
       "      <td>5.0</td>\n",
       "      <td>5.0</td>\n",
       "      <td>5.0</td>\n",
       "      <td>5.0</td>\n",
       "      <td>5.0</td>\n",
       "    </tr>\n",
       "    <tr>\n",
       "      <th rowspan=\"3\" valign=\"top\">1</th>\n",
       "      <th>0</th>\n",
       "      <td>NaN</td>\n",
       "      <td>NaN</td>\n",
       "      <td>NaN</td>\n",
       "      <td>NaN</td>\n",
       "      <td>1.6</td>\n",
       "      <td>1.8</td>\n",
       "      <td>1.6</td>\n",
       "      <td>2.0</td>\n",
       "      <td>2.0</td>\n",
       "      <td>2.2</td>\n",
       "      <td>...</td>\n",
       "      <td>2.4</td>\n",
       "      <td>2.2</td>\n",
       "      <td>1.8</td>\n",
       "      <td>2.0</td>\n",
       "      <td>2.2</td>\n",
       "      <td>1.8</td>\n",
       "      <td>1.6</td>\n",
       "      <td>1.8</td>\n",
       "      <td>1.4</td>\n",
       "      <td>1.4</td>\n",
       "    </tr>\n",
       "    <tr>\n",
       "      <th>1</th>\n",
       "      <td>NaN</td>\n",
       "      <td>NaN</td>\n",
       "      <td>NaN</td>\n",
       "      <td>NaN</td>\n",
       "      <td>1.6</td>\n",
       "      <td>1.8</td>\n",
       "      <td>1.6</td>\n",
       "      <td>2.0</td>\n",
       "      <td>2.2</td>\n",
       "      <td>2.4</td>\n",
       "      <td>...</td>\n",
       "      <td>2.8</td>\n",
       "      <td>2.6</td>\n",
       "      <td>2.0</td>\n",
       "      <td>2.4</td>\n",
       "      <td>2.6</td>\n",
       "      <td>2.0</td>\n",
       "      <td>1.8</td>\n",
       "      <td>2.0</td>\n",
       "      <td>1.4</td>\n",
       "      <td>1.2</td>\n",
       "    </tr>\n",
       "    <tr>\n",
       "      <th>2</th>\n",
       "      <td>NaN</td>\n",
       "      <td>NaN</td>\n",
       "      <td>NaN</td>\n",
       "      <td>NaN</td>\n",
       "      <td>102.4</td>\n",
       "      <td>103.2</td>\n",
       "      <td>103.2</td>\n",
       "      <td>202.2</td>\n",
       "      <td>103.2</td>\n",
       "      <td>104.0</td>\n",
       "      <td>...</td>\n",
       "      <td>104.0</td>\n",
       "      <td>5.0</td>\n",
       "      <td>5.0</td>\n",
       "      <td>5.0</td>\n",
       "      <td>5.0</td>\n",
       "      <td>5.0</td>\n",
       "      <td>5.0</td>\n",
       "      <td>5.0</td>\n",
       "      <td>5.0</td>\n",
       "      <td>5.0</td>\n",
       "    </tr>\n",
       "  </tbody>\n",
       "</table>\n",
       "<p>6 rows × 21 columns</p>\n",
       "</div>"
      ],
      "text/plain": [
       "             0   1   2   3      4      5      6      7      8      9  ...   \\\n",
       "major minor                                                           ...    \n",
       "0     0     NaN NaN NaN NaN   21.0   21.2   21.0   40.8   21.0   21.2 ...    \n",
       "      1     NaN NaN NaN NaN   21.0   21.2   21.0   40.8   21.2   21.4 ...    \n",
       "      2     NaN NaN NaN NaN    5.0    5.0    5.0    5.0    5.0    5.0 ...    \n",
       "1     0     NaN NaN NaN NaN    1.6    1.8    1.6    2.0    2.0    2.2 ...    \n",
       "      1     NaN NaN NaN NaN    1.6    1.8    1.6    2.0    2.2    2.4 ...    \n",
       "      2     NaN NaN NaN NaN  102.4  103.2  103.2  202.2  103.2  104.0 ...    \n",
       "\n",
       "                11   12   13   14   15   16   17   18   19   20  \n",
       "major minor                                                      \n",
       "0     0       21.0  1.4  1.4  1.2  1.4  1.4  1.2  1.4  1.4  1.8  \n",
       "      1       21.4  1.8  1.6  1.6  1.8  1.6  1.4  1.6  1.4  1.6  \n",
       "      2        5.0  5.0  5.0  5.0  5.0  5.0  5.0  5.0  5.0  5.0  \n",
       "1     0        2.4  2.2  1.8  2.0  2.2  1.8  1.6  1.8  1.4  1.4  \n",
       "      1        2.8  2.6  2.0  2.4  2.6  2.0  1.8  2.0  1.4  1.2  \n",
       "      2      104.0  5.0  5.0  5.0  5.0  5.0  5.0  5.0  5.0  5.0  \n",
       "\n",
       "[6 rows x 21 columns]"
      ]
     },
     "execution_count": 12,
     "metadata": {},
     "output_type": "execute_result"
    }
   ],
   "source": [
    "df.rolling(axis=1, window=ROLLING_WINDOW).mean()"
   ]
  },
  {
   "cell_type": "code",
   "execution_count": 13,
   "metadata": {},
   "outputs": [
    {
     "data": {
      "text/html": [
       "<div>\n",
       "<style scoped>\n",
       "    .dataframe tbody tr th:only-of-type {\n",
       "        vertical-align: middle;\n",
       "    }\n",
       "\n",
       "    .dataframe tbody tr th {\n",
       "        vertical-align: top;\n",
       "    }\n",
       "\n",
       "    .dataframe thead th {\n",
       "        text-align: right;\n",
       "    }\n",
       "</style>\n",
       "<table border=\"1\" class=\"dataframe\">\n",
       "  <thead>\n",
       "    <tr style=\"text-align: right;\">\n",
       "      <th></th>\n",
       "      <th></th>\n",
       "      <th>0</th>\n",
       "      <th>1</th>\n",
       "      <th>2</th>\n",
       "      <th>3</th>\n",
       "      <th>4</th>\n",
       "      <th>5</th>\n",
       "      <th>6</th>\n",
       "      <th>7</th>\n",
       "      <th>8</th>\n",
       "      <th>9</th>\n",
       "      <th>...</th>\n",
       "      <th>11</th>\n",
       "      <th>12</th>\n",
       "      <th>13</th>\n",
       "      <th>14</th>\n",
       "      <th>15</th>\n",
       "      <th>16</th>\n",
       "      <th>17</th>\n",
       "      <th>18</th>\n",
       "      <th>19</th>\n",
       "      <th>20</th>\n",
       "    </tr>\n",
       "    <tr>\n",
       "      <th>major</th>\n",
       "      <th>minor</th>\n",
       "      <th></th>\n",
       "      <th></th>\n",
       "      <th></th>\n",
       "      <th></th>\n",
       "      <th></th>\n",
       "      <th></th>\n",
       "      <th></th>\n",
       "      <th></th>\n",
       "      <th></th>\n",
       "      <th></th>\n",
       "      <th></th>\n",
       "      <th></th>\n",
       "      <th></th>\n",
       "      <th></th>\n",
       "      <th></th>\n",
       "      <th></th>\n",
       "      <th></th>\n",
       "      <th></th>\n",
       "      <th></th>\n",
       "      <th></th>\n",
       "      <th></th>\n",
       "    </tr>\n",
       "  </thead>\n",
       "  <tbody>\n",
       "    <tr>\n",
       "      <th rowspan=\"3\" valign=\"top\">0</th>\n",
       "      <th>0</th>\n",
       "      <td>NaN</td>\n",
       "      <td>NaN</td>\n",
       "      <td>NaN</td>\n",
       "      <td>NaN</td>\n",
       "      <td>-20.0</td>\n",
       "      <td>-19.2</td>\n",
       "      <td>-20.0</td>\n",
       "      <td>59.2</td>\n",
       "      <td>-20.0</td>\n",
       "      <td>-19.2</td>\n",
       "      <td>...</td>\n",
       "      <td>-20.0</td>\n",
       "      <td>0.6</td>\n",
       "      <td>-0.4</td>\n",
       "      <td>-0.2</td>\n",
       "      <td>0.6</td>\n",
       "      <td>-0.4</td>\n",
       "      <td>-0.2</td>\n",
       "      <td>0.6</td>\n",
       "      <td>-0.4</td>\n",
       "      <td>2.2</td>\n",
       "    </tr>\n",
       "    <tr>\n",
       "      <th>1</th>\n",
       "      <td>NaN</td>\n",
       "      <td>NaN</td>\n",
       "      <td>NaN</td>\n",
       "      <td>NaN</td>\n",
       "      <td>-20.0</td>\n",
       "      <td>-19.2</td>\n",
       "      <td>-20.0</td>\n",
       "      <td>59.2</td>\n",
       "      <td>-19.2</td>\n",
       "      <td>-19.4</td>\n",
       "      <td>...</td>\n",
       "      <td>-19.4</td>\n",
       "      <td>0.2</td>\n",
       "      <td>-0.6</td>\n",
       "      <td>0.4</td>\n",
       "      <td>0.2</td>\n",
       "      <td>-0.6</td>\n",
       "      <td>-0.4</td>\n",
       "      <td>0.4</td>\n",
       "      <td>-0.4</td>\n",
       "      <td>1.4</td>\n",
       "    </tr>\n",
       "    <tr>\n",
       "      <th>2</th>\n",
       "      <td>NaN</td>\n",
       "      <td>NaN</td>\n",
       "      <td>NaN</td>\n",
       "      <td>NaN</td>\n",
       "      <td>0.0</td>\n",
       "      <td>0.0</td>\n",
       "      <td>0.0</td>\n",
       "      <td>0.0</td>\n",
       "      <td>0.0</td>\n",
       "      <td>0.0</td>\n",
       "      <td>...</td>\n",
       "      <td>0.0</td>\n",
       "      <td>0.0</td>\n",
       "      <td>0.0</td>\n",
       "      <td>0.0</td>\n",
       "      <td>0.0</td>\n",
       "      <td>0.0</td>\n",
       "      <td>0.0</td>\n",
       "      <td>0.0</td>\n",
       "      <td>0.0</td>\n",
       "      <td>0.0</td>\n",
       "    </tr>\n",
       "    <tr>\n",
       "      <th rowspan=\"3\" valign=\"top\">1</th>\n",
       "      <th>0</th>\n",
       "      <td>NaN</td>\n",
       "      <td>NaN</td>\n",
       "      <td>NaN</td>\n",
       "      <td>NaN</td>\n",
       "      <td>-0.6</td>\n",
       "      <td>0.2</td>\n",
       "      <td>-0.6</td>\n",
       "      <td>1.0</td>\n",
       "      <td>1.0</td>\n",
       "      <td>-0.2</td>\n",
       "      <td>...</td>\n",
       "      <td>0.6</td>\n",
       "      <td>-0.2</td>\n",
       "      <td>-0.8</td>\n",
       "      <td>1.0</td>\n",
       "      <td>-0.2</td>\n",
       "      <td>-0.8</td>\n",
       "      <td>-0.6</td>\n",
       "      <td>0.2</td>\n",
       "      <td>-0.4</td>\n",
       "      <td>0.6</td>\n",
       "    </tr>\n",
       "    <tr>\n",
       "      <th>1</th>\n",
       "      <td>NaN</td>\n",
       "      <td>NaN</td>\n",
       "      <td>NaN</td>\n",
       "      <td>NaN</td>\n",
       "      <td>-0.6</td>\n",
       "      <td>0.2</td>\n",
       "      <td>-0.6</td>\n",
       "      <td>1.0</td>\n",
       "      <td>1.8</td>\n",
       "      <td>-0.4</td>\n",
       "      <td>...</td>\n",
       "      <td>1.2</td>\n",
       "      <td>-0.6</td>\n",
       "      <td>-1.0</td>\n",
       "      <td>1.6</td>\n",
       "      <td>-0.6</td>\n",
       "      <td>-1.0</td>\n",
       "      <td>-0.8</td>\n",
       "      <td>0.0</td>\n",
       "      <td>-0.4</td>\n",
       "      <td>-0.2</td>\n",
       "    </tr>\n",
       "    <tr>\n",
       "      <th>2</th>\n",
       "      <td>NaN</td>\n",
       "      <td>NaN</td>\n",
       "      <td>NaN</td>\n",
       "      <td>NaN</td>\n",
       "      <td>-101.4</td>\n",
       "      <td>-98.2</td>\n",
       "      <td>-98.2</td>\n",
       "      <td>297.8</td>\n",
       "      <td>-98.2</td>\n",
       "      <td>-99.0</td>\n",
       "      <td>...</td>\n",
       "      <td>-99.0</td>\n",
       "      <td>0.0</td>\n",
       "      <td>0.0</td>\n",
       "      <td>0.0</td>\n",
       "      <td>0.0</td>\n",
       "      <td>0.0</td>\n",
       "      <td>0.0</td>\n",
       "      <td>0.0</td>\n",
       "      <td>0.0</td>\n",
       "      <td>0.0</td>\n",
       "    </tr>\n",
       "  </tbody>\n",
       "</table>\n",
       "<p>6 rows × 21 columns</p>\n",
       "</div>"
      ],
      "text/plain": [
       "             0   1   2   3      4     5     6      7     8     9  ...     11  \\\n",
       "major minor                                                       ...          \n",
       "0     0     NaN NaN NaN NaN  -20.0 -19.2 -20.0   59.2 -20.0 -19.2 ...  -20.0   \n",
       "      1     NaN NaN NaN NaN  -20.0 -19.2 -20.0   59.2 -19.2 -19.4 ...  -19.4   \n",
       "      2     NaN NaN NaN NaN    0.0   0.0   0.0    0.0   0.0   0.0 ...    0.0   \n",
       "1     0     NaN NaN NaN NaN   -0.6   0.2  -0.6    1.0   1.0  -0.2 ...    0.6   \n",
       "      1     NaN NaN NaN NaN   -0.6   0.2  -0.6    1.0   1.8  -0.4 ...    1.2   \n",
       "      2     NaN NaN NaN NaN -101.4 -98.2 -98.2  297.8 -98.2 -99.0 ...  -99.0   \n",
       "\n",
       "              12   13   14   15   16   17   18   19   20  \n",
       "major minor                                               \n",
       "0     0      0.6 -0.4 -0.2  0.6 -0.4 -0.2  0.6 -0.4  2.2  \n",
       "      1      0.2 -0.6  0.4  0.2 -0.6 -0.4  0.4 -0.4  1.4  \n",
       "      2      0.0  0.0  0.0  0.0  0.0  0.0  0.0  0.0  0.0  \n",
       "1     0     -0.2 -0.8  1.0 -0.2 -0.8 -0.6  0.2 -0.4  0.6  \n",
       "      1     -0.6 -1.0  1.6 -0.6 -1.0 -0.8  0.0 -0.4 -0.2  \n",
       "      2      0.0  0.0  0.0  0.0  0.0  0.0  0.0  0.0  0.0  \n",
       "\n",
       "[6 rows x 21 columns]"
      ]
     },
     "execution_count": 13,
     "metadata": {},
     "output_type": "execute_result"
    }
   ],
   "source": [
    "df = df - df.rolling(axis=1, window=ROLLING_WINDOW).mean()\n",
    "df"
   ]
  },
  {
   "cell_type": "code",
   "execution_count": 14,
   "metadata": {},
   "outputs": [
    {
     "data": {
      "text/plain": [
       "(21, 2, 3)"
      ]
     },
     "execution_count": 14,
     "metadata": {},
     "output_type": "execute_result"
    }
   ],
   "source": [
    "X_reconstructed =  df.values.T.reshape(X_add_padding.shape)\n",
    "X_reconstructed.shape"
   ]
  },
  {
   "cell_type": "code",
   "execution_count": 15,
   "metadata": {},
   "outputs": [
    {
     "data": {
      "text/plain": [
       "(17, 2, 3)"
      ]
     },
     "execution_count": 15,
     "metadata": {},
     "output_type": "execute_result"
    }
   ],
   "source": [
    "# remove padding\n",
    "X_reconstructed = X_reconstructed[(ROLLING_WINDOW-1):]\n",
    "X_reconstructed.shape"
   ]
  },
  {
   "cell_type": "code",
   "execution_count": 16,
   "metadata": {},
   "outputs": [
    {
     "name": "stdout",
     "output_type": "stream",
     "text": [
      "\n",
      "Mean on axis 0\n",
      "\n",
      "[[ -4.51764706  -4.56470588   0.        ]\n",
      " [ -0.04705882  -0.09411765 -23.24705882]]\n",
      "\n",
      "Std on axis 0\n",
      "\n",
      "[[18.63179557 18.55335521  0.        ]\n",
      " [ 0.65987311  0.9077902  93.34070493]]\n"
     ]
    }
   ],
   "source": [
    "print(\"\\nMean on axis 0\\n\")\n",
    "M = X_reconstructed.mean(axis = 0)\n",
    "print(M)\n",
    "\n",
    "print(\"\\nStd on axis 0\\n\")\n",
    "S = X_reconstructed.std(axis = 0)\n",
    "print(S)"
   ]
  },
  {
   "cell_type": "code",
   "execution_count": 17,
   "metadata": {},
   "outputs": [],
   "source": [
    "day_idx, window_idx, message_idx = np.where(np.abs(X_reconstructed - M) > 3 * S)"
   ]
  },
  {
   "cell_type": "code",
   "execution_count": 18,
   "metadata": {},
   "outputs": [
    {
     "name": "stdout",
     "output_type": "stream",
     "text": [
      "\n",
      "Anomalies:\n",
      "[(3, 0, 0), (3, 0, 1), (3, 1, 2)]\n"
     ]
    }
   ],
   "source": [
    "print(\"\\nAnomalies:\")\n",
    "print(list(zip(day_idx, window_idx, message_idx)))"
   ]
  },
  {
   "cell_type": "code",
   "execution_count": 19,
   "metadata": {},
   "outputs": [
    {
     "data": {
      "text/plain": [
       "array([[1, 1, 5],\n",
       "       [1, 1, 1]])"
      ]
     },
     "execution_count": 19,
     "metadata": {},
     "output_type": "execute_result"
    }
   ],
   "source": [
    "X[0]"
   ]
  },
  {
   "cell_type": "markdown",
   "metadata": {},
   "source": [
    "# Object Oriented Coding"
   ]
  },
  {
   "cell_type": "code",
   "execution_count": 20,
   "metadata": {},
   "outputs": [],
   "source": [
    "\n",
    "class statistical_anomaly_detector():\n",
    "    def __init__(self, X, ROLLING_WINDOW = 5):\n",
    "        self.X = X\n",
    "        self.ROLLING_WINDOW = ROLLING_WINDOW\n",
    "        print(\"{} days {} samples (time-windows) {} features (messages)\".format(*self.X.shape))\n",
    "        \n",
    "    def fit_predict(self):\n",
    "        padding = self.X[:(self.ROLLING_WINDOW-1)]\n",
    "        X_add_padding = np.concatenate([padding, self.X])\n",
    "        df = pd.Panel(X_add_padding).to_frame()\n",
    "        \n",
    "        df.rolling(axis=1, window=self.ROLLING_WINDOW).mean()\n",
    "        df = df - df.rolling(axis=1, window=self.ROLLING_WINDOW).mean()\n",
    "        \n",
    "        X_reconstructed =  df.values.T.reshape(X_add_padding.shape)\n",
    "        # remove padding\n",
    "        X_reconstructed = X_reconstructed[(self.ROLLING_WINDOW-1):]\n",
    "        \n",
    "        self.M = X_reconstructed.mean(axis = 0)\n",
    "        self.S = X_reconstructed.std(axis = 0)\n",
    "        \n",
    "        day_idx, window_idx, message_idx = np.where(np.abs(X_reconstructed - self.M) > 3 * self.S)\n",
    "        return list(zip(day_idx, window_idx, message_idx))\n"
   ]
  },
  {
   "cell_type": "code",
   "execution_count": 21,
   "metadata": {},
   "outputs": [
    {
     "name": "stdout",
     "output_type": "stream",
     "text": [
      "17 days 2 samples (time-windows) 3 features (messages)\n"
     ]
    }
   ],
   "source": [
    "SAD = statistical_anomaly_detector(X)"
   ]
  },
  {
   "cell_type": "code",
   "execution_count": 22,
   "metadata": {},
   "outputs": [
    {
     "name": "stderr",
     "output_type": "stream",
     "text": [
      "/anaconda3/lib/python3.6/site-packages/ipykernel_launcher.py:1: DeprecationWarning: \n",
      "Panel is deprecated and will be removed in a future version.\n",
      "The recommended way to represent these types of 3-dimensional data are with a MultiIndex on a DataFrame, via the Panel.to_frame() method\n",
      "Alternatively, you can use the xarray package http://xarray.pydata.org/en/stable/.\n",
      "Pandas provides a `.to_xarray()` method to help automate this conversion.\n",
      "\n",
      "  \"\"\"Entry point for launching an IPython kernel.\n"
     ]
    },
    {
     "data": {
      "text/plain": [
       "[(3, 0, 0), (3, 0, 1), (3, 1, 2)]"
      ]
     },
     "execution_count": 22,
     "metadata": {},
     "output_type": "execute_result"
    }
   ],
   "source": [
    "SAD.fit_predict()"
   ]
  },
  {
   "cell_type": "code",
   "execution_count": null,
   "metadata": {},
   "outputs": [],
   "source": []
  }
 ],
 "metadata": {
  "kernelspec": {
   "display_name": "Python 3",
   "language": "python",
   "name": "python3"
  },
  "language_info": {
   "codemirror_mode": {
    "name": "ipython",
    "version": 3
   },
   "file_extension": ".py",
   "mimetype": "text/x-python",
   "name": "python",
   "nbconvert_exporter": "python",
   "pygments_lexer": "ipython3",
   "version": "3.6.4"
  }
 },
 "nbformat": 4,
 "nbformat_minor": 2
}
