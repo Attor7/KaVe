{
 "cells": [
  {
   "cell_type": "code",
   "execution_count": 90,
   "metadata": {},
   "outputs": [],
   "source": [
    "import pandas as pd\n",
    "import numpy as np\n",
    "from tqdm import tqdm\n",
    "tqdm.pandas(desc=\"progress-bar\")\n",
    "from gensim.models import Doc2Vec\n",
    "from sklearn import utils\n",
    "from sklearn.model_selection import train_test_split\n",
    "import gensim\n",
    "from sklearn.linear_model import LogisticRegression\n",
    "from gensim.models.doc2vec import TaggedDocument\n",
    "import re\n",
    "import nltk\n",
    "import seaborn as sns\n",
    "import matplotlib.pyplot as plt"
   ]
  },
  {
   "cell_type": "code",
   "execution_count": 91,
   "metadata": {},
   "outputs": [],
   "source": [
    "md=pd.read_excel(\"Milliyetdata.xlsx\")\n",
    "zd=pd.read_excel(\"Zaytungdata.xlsx\")\n",
    "X=pd.concat([md,zd])"
   ]
  },
  {
   "cell_type": "code",
   "execution_count": 92,
   "metadata": {},
   "outputs": [],
   "source": [
    "X.head()\n",
    "y = X['label'].values"
   ]
  },
  {
   "cell_type": "code",
   "execution_count": 93,
   "metadata": {},
   "outputs": [],
   "source": [
    "from gensim.models import doc2vec\n",
    "\n",
    "def label_sentences(corpus, label_type):\n",
    "    \"\"\"\n",
    "    Gensim's Doc2Vec implementation requires each document/paragraph to have a label associated with it.\n",
    "    We do this by using the TaggedDocument method. The format will be \"TRAIN_i\" or \"TEST_i\" where \"i\" is\n",
    "    a dummy index of the complaint narrative.\n",
    "    \"\"\"\n",
    "    labeled = []\n",
    "    for i, v in enumerate(corpus):\n",
    "        label = label_type + '_' + str(i)\n",
    "        labeled.append(doc2vec.TaggedDocument(v.split(), [label]))\n",
    "    return labeled"
   ]
  },
  {
   "cell_type": "code",
   "execution_count": 94,
   "metadata": {},
   "outputs": [],
   "source": [
    "X_train, X_test, y_train, y_test = train_test_split(X['Basliklar'], y, test_size=0.33,random_state=0)\n",
    "X_train = label_sentences(X_train, 'Train')\n",
    "X_test = label_sentences(X_test, 'Test')\n",
    "all_data = X_train + X_test"
   ]
  },
  {
   "cell_type": "code",
   "execution_count": 95,
   "metadata": {},
   "outputs": [
    {
     "data": {
      "text/plain": [
       "[TaggedDocument(words=[\"Türkiye'nin\", 'En', 'Güzel', 'Dayak', 'Yenilebilecek', '10', 'Yöresi'], tags=['Train_0']),\n",
       " TaggedDocument(words=['Son', 'dakika...', 'Kılıçdaroğlu', 've', 'Karamollaoğlu', 'görüşmesi', '1', 'saat', 'sürdü'], tags=['Train_1']),\n",
       " TaggedDocument(words=['Konuşulmayan', 'Bir', 'Yara:', 'Erkeklerde', 'Regl', 'Dönemi', 've', 'Sancıları'], tags=['Train_2']),\n",
       " TaggedDocument(words=['Milliyetçi', \"Zühtü'den,\", 'Hastayız', 'Sana', 'Cem', \"Uzan'a...\", 'Türk', 'Siyasi', 'Tarihinde', 'Öyle', 'ya', 'da', 'Böyle', 'İz', 'Bırakmış', 'Seçim', 'Şarkıları'], tags=['Train_3']),\n",
       " TaggedDocument(words=['Bakan', 'Soylu:', '8', 'bin', '526', \"YTS'nin\", \"Türkiye'ye\", 'girişi', 'engellendi'], tags=['Train_4']),\n",
       " TaggedDocument(words=['Son', 'dakika:', \"Sivas'ta\", 'heyecanlandıran', 'görüntü!', \"3'ü\", 'aynı', 'anda', 'görüntülendi'], tags=['Train_5']),\n",
       " TaggedDocument(words=['Eski', 'Başbakan', 'Tansu', \"Çiller'den\", 'yalanlama', 'geldi'], tags=['Train_6']),\n",
       " TaggedDocument(words=['Talep', 'patladı!', 'Satışları', 'yüzde', '83', 'arttı...'], tags=['Train_7']),\n",
       " TaggedDocument(words=['Süpermarkette', 'çok', 'fena', 'yakalandılar!'], tags=['Train_8']),\n",
       " TaggedDocument(words=['Gölden', 'feci', 'görüntüler', 'geliyor!'], tags=['Train_9']),\n",
       " TaggedDocument(words=['Köprüden', 'Önce', 'Son', 'Çıkış:', 'Çalıştığınız', 'Şirketin', 'Batmak', 'Üzere', 'Olduğunu', 'Nasıl', 'Anlarsınız?'], tags=['Train_10']),\n",
       " TaggedDocument(words=['Zeynep', 'Aktaş'], tags=['Train_11']),\n",
       " TaggedDocument(words=['Buzdolabına', 'Yerleşmekten,', 'Vücudu', 'Yoğurtla', 'Kaplamaya...', 'Her', 'Bütçeye', 'Uygun', 'Ekonomik', 'Serinleme', 'Yöntemleri'], tags=['Train_12']),\n",
       " TaggedDocument(words=['Yapılandırma', 'için', '30', 'Kasım', 'uyarısı'], tags=['Train_13']),\n",
       " TaggedDocument(words=['Enflasyonla', 'mücadelede', 'bir', 'sonraki', 'adım', 'ne', 'olsun?'], tags=['Train_14']),\n",
       " TaggedDocument(words=['İddaa', 'için', 'tek', 'teklif'], tags=['Train_15']),\n",
       " TaggedDocument(words=['TBMM', 'Başkanı', \"Yıldırım'dan\", 'önemli', 'açıklamalar'], tags=['Train_16']),\n",
       " TaggedDocument(words=['Sizi', 'Kıza', 'Götüren', '10', 'Temel', 'Müzik', 'Devi'], tags=['Train_17']),\n",
       " TaggedDocument(words=['Okulda', 'Yapacak', 'Daha', 'İyi', 'Bir', 'İşi', 'Olmayanlar', 'İçin:', 'Üniversite', 'Kulüpleri', 'Rehberi'], tags=['Train_18']),\n",
       " TaggedDocument(words=['Etrafta', 'Serbest', 'Salınan', 'Ergenler,', 'Servis', 'Trafiği', 've', 'Okulların', 'Açılmasıyla', 'Hayatımıza', 'Girecek', 'Diğer', 'Çirkinlikler...'], tags=['Train_19']),\n",
       " TaggedDocument(words=['Gerekirse', 'Evde', 'Leğene', 'Su', 'Doldurup', 'Ona', 'Girin', 'Ama', 'Buralardan', 'Uzak', 'Durun...', \"Türkiye'nin\", 'En', 'Berbat', '10', 'Tatil', 'Beldesi...'], tags=['Train_20']),\n",
       " TaggedDocument(words=['Esas', 'Eylül’de', 'Gideceksin...', 'Başbaşa', 'Kalmaya', 'Hevesli', 'Çiftler', 'İçin', 'Bu', 'Ara', 'İyice', 'Tenha', 'Olacak', 'Tatil', 'Beldeleri', 'Rehberi'], tags=['Train_21']),\n",
       " TaggedDocument(words=['Cumhurbaşkanı', 'Erdoğan:', 'Biz', 'buna', 'müsaade', 'etmeyiz'], tags=['Train_22']),\n",
       " TaggedDocument(words=['Güvenli', 'internet', 'hizmeti', '8', 'yılda', '6,3', 'milyon', 'aboneye', 'ulaştı'], tags=['Train_23']),\n",
       " TaggedDocument(words=['Son', 'dakika:', 'Araç', 'sahiplerini', 'ilgilendiriyor!', 'Motorin', 've', 'benzinde', 'indirim...'], tags=['Train_24']),\n",
       " TaggedDocument(words=['Sinemaya', 'Gönül', 'Verenler', '(ve', 'Mahsun', 'Kırmızıgül)', 'İçin:', 'Sizi', 'Oscar', 'Heykelciği', 'ile', 'Buluşturacak', '8', 'Tüyo...'], tags=['Train_25']),\n",
       " TaggedDocument(words=['Tek', 'tip', 'askerlik', 'nedir?'], tags=['Train_26']),\n",
       " TaggedDocument(words=['2', 'gündür', 'kayıptı!', 'İş', 'adamına', 'direksiyon', 'başında', 'kanlı', 'infaz...'], tags=['Train_27']),\n",
       " TaggedDocument(words=['Yeni', 'Başlayanlar', 've', 'Büyük', 'İhtimalle', 'Bitiremeyecek', 'Olanlar', 'İçin', 'Tez', 'Yazım', 'Kılavuzu'], tags=['Train_28']),\n",
       " TaggedDocument(words=['Son', 'dakika:', 'AK', \"Parti'den\", 'flaş', 'açıklama:', 'İstanbul', 've', 'Ankara', 'adaylarımızı', 'belirledik'], tags=['Train_29']),\n",
       " TaggedDocument(words=[\"Ankara'da\", 'sıcak', 'dakikalar!', 'Kritik', 'görüşme', 'başladı'], tags=['Train_30']),\n",
       " TaggedDocument(words=['Yakında', 'Askere', 'Gidecekler', 'İçin', 'Temel', 'Askerlik', 'Öncesi', 'Eğitimi...'], tags=['Train_31']),\n",
       " TaggedDocument(words=['Türk', 'Futbolu’nda', 'Fanatizmin', 'Hüsranla', 'Dolu', 'Tarihi'], tags=['Train_32']),\n",
       " TaggedDocument(words=['Neden', 'Aramıyor?'], tags=['Train_33']),\n",
       " TaggedDocument(words=['Türk', 'Rock', 'Müziğinin', 'Bol', \"Distortion'lı\", 'Tarihi...'], tags=['Train_34']),\n",
       " TaggedDocument(words=['T-Cetvelinden,', 'Tahta', 'Pergeline...', 'Öğrenci', 'Tımarında', 'Kullanılmış', 'Öğretmen', 'Materyallerine', 'Nostaljik', 'Bir', 'Bakış'], tags=['Train_35']),\n",
       " TaggedDocument(words=['Borsa', 'günün', 'ilk', 'yarısında', 'geriledi'], tags=['Train_36']),\n",
       " TaggedDocument(words=[\"Mersin'den\", \"Irak'a\", 'bakla', 'ihracatı'], tags=['Train_37']),\n",
       " TaggedDocument(words=['Büyükelçilerden', 'Cumhurbaşkanı', 'Erdoğan’a', 'güven', 'mektubu'], tags=['Train_38']),\n",
       " TaggedDocument(words=['Terörist', 'uçakta!'], tags=['Train_39']),\n",
       " TaggedDocument(words=[\"Türkiye'nin\", 'En', 'Kötü', '10', 'Meyhanesi...'], tags=['Train_40']),\n",
       " TaggedDocument(words=['Yabancı', 'ziyaretçi', 'sayısında', \"2019'da\", '50', 'milyon', 'rakamı', 'görülebilir'], tags=['Train_41']),\n",
       " TaggedDocument(words=['Esed', 'rejimi', 'Soçi', 'mutabakatını', 'ihlal', 'etmeyi', 'sürdürüyor'], tags=['Train_42']),\n",
       " TaggedDocument(words=['Bütün', 'Kış', 'Beygir', 'Gibi', 'Çalışanlar', 'İçin:', 'Hastalıktan', 'Uzak', 'Bir', 'Yaz', 'Tatili', 'Geçirme', 'Rehberi...'], tags=['Train_43']),\n",
       " TaggedDocument(words=['Cumhurbaşkanı', 'Yardımcısı', 'Oktay:', \"Hartum'da\", 'bir', 'Türk', 'bankası', 'şube', 'açacak'], tags=['Train_44']),\n",
       " TaggedDocument(words=['Ayrılık', 'Konuşmasını', 'Beceremeyenler', 'İçin:', '6', 'Aşamada', 'Onun', 'Sizden', 'Ayrılmasını', 'Sağlama', 'Rehberi'], tags=['Train_45']),\n",
       " TaggedDocument(words=[\"Paris'teki\", 'gösterilerde', 'sürpriz', 'isim!', 'Görüntüleri', 'sosyal', 'medya', 'hesabından', 'paylaştı'], tags=['Train_46']),\n",
       " TaggedDocument(words=['Numan', 'Kurtulmuş:', 'Af', 'tasarısı', 'seçimlerden', 'sonraya', 'kalabilir'], tags=['Train_47']),\n",
       " TaggedDocument(words=['TÜİK', 'Verilerine', 'Göre,', 'Çiftlerde', 'En', 'Sık', 'Rastlanan', 'Ayrılık', 'Nedenleri...'], tags=['Train_48']),\n",
       " TaggedDocument(words=['Son', 'dakika:', 'Sağlık', 'Bakanlığı', 'duyurdu!', 'Yeni', 'dönem', 'resmen', 'başlıyor'], tags=['Train_49']),\n",
       " TaggedDocument(words=['Kaz', 'çiftliklerinde', 'hummalı', 'çalışma'], tags=['Train_50']),\n",
       " TaggedDocument(words=['Her', 'Nedense', 'Toplu', 'Taşımayı', 'Konu', 'Edinmiş', 'En', 'İyi', '5', 'Şarkı'], tags=['Train_51']),\n",
       " TaggedDocument(words=['İYİ', 'Parti’nin', 'Balıkesir', 'adayı', 'belli', 'oldu'], tags=['Train_52']),\n",
       " TaggedDocument(words=['Cumhurbaşkanı', 'Erdoğan:', 'Stok', 'yapılan', 'depoları', 'basacağız'], tags=['Train_53']),\n",
       " TaggedDocument(words=['Cumhurbaşkanı', 'Erdoğan', '-', 'Bahçeli', 'görüşmesi', 'sonrası', 'AK', \"Parti'den\", 'ilk', 'açıklama'], tags=['Train_54']),\n",
       " TaggedDocument(words=['Bu', 'referandum', 'çok', 'başka!', \"İşviçre'de...\"], tags=['Train_55']),\n",
       " TaggedDocument(words=['Japonya,', \"ABD'den\", '100', 'F-35', 'daha', 'alıyor'], tags=['Train_56']),\n",
       " TaggedDocument(words=['Sözleşmeli', 'Öğretmenlik', 'sözlü', 'sınav', 'merkezleri', 'ne', 'zaman', 'açıklanacak?'], tags=['Train_57']),\n",
       " TaggedDocument(words=[\"Hollanda'da\", 'hükümet', 'ile', 'belediyeler', \"'burka\", \"yasağında'\", 'anlaşamıyor'], tags=['Train_58']),\n",
       " TaggedDocument(words=['Batan', \"Güneş'in\", 'doğması', 'iki', 'ay', 'sürecek'], tags=['Train_59']),\n",
       " TaggedDocument(words=['Papazın', \"Sepeti'nden\", 'Avrupa', 'Şampiyonluklarına...', 'Türk', 'Basketbolunun', 'Kimsenin', 'Çok', 'da', 'Bilmediği', 'Şanlı', 'Tarihi'], tags=['Train_60']),\n",
       " TaggedDocument(words=['Alınan', 'önlemler', 'sonuç', 'verdi!', 'İşte', 'yeni', 'fiyatı...'], tags=['Train_61']),\n",
       " TaggedDocument(words=['Tarımsal', 'üretim', 've', 'ihracat', 'desteklerle', 'büyüyecek'], tags=['Train_62']),\n",
       " TaggedDocument(words=['Karda', 'Yürüyüp', 'İzini', 'Belli', 'Etmeme', 'Sanatı:', 'İşyerinden', 'Sevgili', 'Yapmak...'], tags=['Train_63']),\n",
       " TaggedDocument(words=['Belgesel', 'Kuşağı:', 'Perdeler', 'Diyarı'], tags=['Train_64']),\n",
       " TaggedDocument(words=[\"''Bizim\", 'esas', 'iş', 'tekstil', \"üzerine...''\", 'Ya', 'da', 'Yeni', 'Başlayanlar', 'İçin', 'İstanbul', 'Taksicileri...'], tags=['Train_65']),\n",
       " TaggedDocument(words=['Son', 'dakika...', 'AB', 'liderleri,', 'Brexit', 'anlaşmasını', 'onayladı'], tags=['Train_66']),\n",
       " TaggedDocument(words=['Hürriyet', \"Gazetesi'ne\", 'saldırı', 'davasında', 'karar'], tags=['Train_67']),\n",
       " TaggedDocument(words=['Röportaj:', 'Bize', 'Yeniden', \"''Yananı\", 'Görür', \"Allah''\", 'Söyleten', 'Kadın...', 'Lin', 'Pesto', 'ile', 'Sizin', 'İçin', 'Konuştuk'], tags=['Train_68']),\n",
       " TaggedDocument(words=['Her', 'şey', 'anbean', 'kaydedildi!', 'Oyuncak', 'tabancayla...'], tags=['Train_69']),\n",
       " TaggedDocument(words=['Haftanın', 'Kitapları:', \"''Karamazov\", 'Kardeşler', '-', '2', '(Macera', 'devam', \"ediyor)'',\", \"''Sıradan\", 'Deterjanlarla', \"Dans'',\", \"''Özgüler\", 'Möble', '2014', \"Kataloğu''.\"], tags=['Train_70']),\n",
       " TaggedDocument(words=['World', 'Wide', 'Web', '25', 'Yaşında:', 'Peki', 'Hangi', 'İnternet', 'Sitesinden', 'Ne', 'Öğrendik?'], tags=['Train_71']),\n",
       " TaggedDocument(words=['En', 'büyük', 've', 'en', 'çok', 'ölüme', 'yol', 'açan', 'yangın', 'kontrol', 'altında'], tags=['Train_72']),\n",
       " TaggedDocument(words=[\"İstanbul'un\", '39', 'ilçesinin', '2019', 'bütçesi', 'onaylandı'], tags=['Train_73']),\n",
       " TaggedDocument(words=['Mümkünse', 'Emlakçı', 'Katili', 'Olmadan', 'Kiralık', 'Ev', 'Arama', 'Rehberi'], tags=['Train_74']),\n",
       " TaggedDocument(words=['Doğum', 'parası', 'yardımı', 'nasıl', 'alınır?'], tags=['Train_75']),\n",
       " TaggedDocument(words=[\"Güngören'de\", '4', 'katlı', 'bina', 'alev', 'alev', 'yandı'], tags=['Train_76']),\n",
       " TaggedDocument(words=['Ağzında', 'Laf', 'Durmayan', 'Sinsiden,', 'Derdi', 'Çilesi', 'Bitmeyen', 'Depresyon', 'Yayıcıya:', '7', 'Arkadaş', 'Tipi'], tags=['Train_77']),\n",
       " TaggedDocument(words=['Meral', 'Akşener:', 'Enflasyon', 'soğanla', 'mı', 'uçuyor?'], tags=['Train_78']),\n",
       " TaggedDocument(words=[\"Osmanlı'dan\", 'Günümüze,', 'Mezuniyet', 'Balolarının', 'Kanlı', 'Tarihi...'], tags=['Train_79']),\n",
       " TaggedDocument(words=['Haftanın', 'Kitabı:', 'Kuruşu', 'Kuruşuna', 'Üniversite', 'Giderleri', 'Rehberi'], tags=['Train_80']),\n",
       " TaggedDocument(words=['Son', 'dakika...', '3', 'ABD', 'askeri', 'öldürüldü!'], tags=['Train_81']),\n",
       " TaggedDocument(words=['İlk', 'Buluşmada', 'Dikkat', 'Edilmesi', 'Gereken', 'Hususlar'], tags=['Train_82']),\n",
       " TaggedDocument(words=['Patatesin', 'depo', 'çıkış', 'fiyatında', 'indirim'], tags=['Train_83']),\n",
       " TaggedDocument(words=['Winter', 'is', 'Coming:', 'Doğalgaza', 'Alternatif', 'Olarak', 'Her', 'Evde', 'Bulunabilecek', 'Düşük', 'Maliyetli', 'Yakacaklar...'], tags=['Train_84']),\n",
       " TaggedDocument(words=['Madem', 'İş', 'Bulamıyoruz', 'Bari', 'Teselli', 'Bulalım:', 'Kronik', 'İşsizler', 'İçin', 'Kendini', 'Avutma', 'Rehberi...'], tags=['Train_85']),\n",
       " TaggedDocument(words=['Güvenlik', 'güçlerine', '\"zırhlı\"', 'takviyesi'], tags=['Train_86']),\n",
       " TaggedDocument(words=[\"GAP'ta\", 'jeotermal', 'hamlesi'], tags=['Train_87']),\n",
       " TaggedDocument(words=['Ve', 'yakalandı!', '25', 'yıl', 'hapis', 'cezasıyla', 'aranıyordu...'], tags=['Train_88']),\n",
       " TaggedDocument(words=['Yeni', 'Evli', 'Çiftin', 'En', 'Yakınındaki', 'Karakterin', 'Hayata', 'Tutunma', 'Kılavuzu', '(Çözümlü,', 'konu', 'anlatımlı…)'], tags=['Train_89']),\n",
       " TaggedDocument(words=['3', 'Gün', 'Sonra', 'Sigaraya', 'Geri', 'Başlayıp', 'Sporu', 'Bırakacak', 'Olanlar', 'İçin:', 'Gerçekleştirilebilir,', 'Makul', 'Yeni', 'Yıl', 'Hedefleri'], tags=['Train_90']),\n",
       " TaggedDocument(words=['Trump', 'kendi', 'hükümetinin', 'küresel', 'ısınma', 'raporu', 'için', \"'İnanmıyorum'\", 'dedi'], tags=['Train_91']),\n",
       " TaggedDocument(words=['Süleyman', \"Soylu'dan\", \"'kadına\", 'yönelik', \"şiddet'\", 'açıklaması'], tags=['Train_92']),\n",
       " TaggedDocument(words=['Favori', 'Game', 'Of', 'Thrones', 'Karakterinize', 'Göre', 'Kişilik', 'Analiziniz', 'Ve', 'Yıldız', 'Falınız...'], tags=['Train_93']),\n",
       " TaggedDocument(words=['Son', 'dakika...', 'AK', \"Parti'nin\", 'adaylarını', 'açıklayacağı', 'yer', 've', 'tarih', 'belli', 'oldu!'], tags=['Train_94']),\n",
       " TaggedDocument(words=['MEB', 'hepsini', 'birleştirdi!', 'E', 'Okul', 'giriş', 'işlemleri', 'MEBBİS', 'çatısı', 'altında...'], tags=['Train_95']),\n",
       " TaggedDocument(words=[\"''Mezun\", 'olunca', 'ne', \"yapacaksın?''\", 'Sorusuna', 'Yanıt', 'Olarak', 'Verebileceğiniz', 'En', 'İnandırıcı', '6', 'Yalan...'], tags=['Train_96']),\n",
       " TaggedDocument(words=['Kamu', 'Spotu:', 'Sigara', 'Pişmanlıktır...', '(video)'], tags=['Train_97']),\n",
       " TaggedDocument(words=[\"''Lan\", 'ona', 'o', 'kadar', 'para', 'verilir', \"mi?''\", 'Dedirten', '7', 'Anlamsızca', 'Pahalı', 'Şey...'], tags=['Train_98']),\n",
       " TaggedDocument(words=['Yeni', 'Başlayanlar', 've', 'Bugüne', 'Dek', 'Şuursuzca', 'Binenler', 'İçin:', 'Sarı', 'Dolmuş', 'Gerçekleri!'], tags=['Train_99']),\n",
       " TaggedDocument(words=[\"İstanbul'da\", 'şehir', 'magandaları', 'dehşet', 'saçtı'], tags=['Train_100']),\n",
       " TaggedDocument(words=[\"Trabzon'un\", 'şehirden', 'kaçan', 'yabancıları,', \"Bi'\", 'yerlerde', 'Lucescu', 'Sesleri:', 'Muhtemelen', 'Bu', 'Yıl', 'da', 'Hasret', 'Kalmayacağımız', 'Süper', 'Lig', 'Klasikleri...'], tags=['Train_101']),\n",
       " TaggedDocument(words=['Tüm', 'Yönleriyle', 'Sapyoseksüellik:', 'Kimdir,', 'Necidir', 've', 'En', 'Önemlisi', 'Nasıl', 'Ayarlarız?'], tags=['Train_102']),\n",
       " TaggedDocument(words=['Haftanın', 'Kitapları:', \"'1998-2002\", 'Sağ', 'Tık', 'Save', 'As', 'Yapılan', 'Tüm', \"Upskirtler',\", \"'Emeklinin\", 'Dilemması:', 'BİM', 'mi', 'A101', \"mi?'\"], tags=['Train_103']),\n",
       " TaggedDocument(words=['Güncel', 'altın', 'fiyatları', 'ne', 'kadar', 'oldu?', 'Son', 'dakika', 'gram', 'altın', 've', 'çeyrek', 'altın...'], tags=['Train_104']),\n",
       " TaggedDocument(words=['Üvey', 'baba', 'dehşeti!', '2', 'yaşındaki', 'Esma', 'yoğun', 'bakımda…'], tags=['Train_105']),\n",
       " TaggedDocument(words=[\"Kadıköy'de\", 'inşaatta', 'kurtarma', 'operasyonu!'], tags=['Train_106']),\n",
       " TaggedDocument(words=['Kılıçdaroğlu', 'akademisyenlerin', 'gözaltına', 'alınmasını', 'eleştirdi!'], tags=['Train_107']),\n",
       " TaggedDocument(words=['Gidemediğiniz', 'Konserlere', 'Gitmiş', 'Gibi', 'Yapmanın', '10', 'Pratik', 'Yolu...'], tags=['Train_108']),\n",
       " TaggedDocument(words=['Ortalama', 'Bir', 'Düğünü', 'Minimum', 'Hasarla', 'Atlatma', 'Rehberi...'], tags=['Train_109']),\n",
       " TaggedDocument(words=['Adalar', 'için', 'teyp', 'özelliği', 'olan', 'elektrikli', 'fayton', 'üretti'], tags=['Train_110']),\n",
       " TaggedDocument(words=['Dalga', 'Geçeceksek', 'de', 'Bilinçli', 'Geçelim:', 'Yeni', 'Başlayanlar', 'İçin', 'Çakra', 'Muhabbeti...'], tags=['Train_111']),\n",
       " TaggedDocument(words=['Kuaförde', 'Huzuru', 'Yakalamak', 'İçin', 'Mesafeyi', 'Korumanız', 'Gereken', '5', 'Nevrotik', 'Tip'], tags=['Train_112']),\n",
       " TaggedDocument(words=[\"Mısır'da\", 'tekne', 'battı:', '5', 'ölü,', '20', 'yaralı'], tags=['Train_113']),\n",
       " TaggedDocument(words=['Dev', 'fuarı', '5', 'bin', 'kişi', 'ziyaret', 'etti'], tags=['Train_114']),\n",
       " TaggedDocument(words=['“Ne', 'yedin?”den', '“Kiminle', 'konuşuyorsun?”a…', 'İlişki', 'Seviyesini', 'Belirleyen', '4', 'Temel', 'Telefon', 'Konuşması'], tags=['Train_115']),\n",
       " TaggedDocument(words=['Son', 'dakika:', 'Ağı', 'çeken', 'balıkçılar', 'donup', 'kaldı!', 'Herkes', 'limana', 'koştu'], tags=['Train_116']),\n",
       " TaggedDocument(words=['Nihat', 'Ali', 'Özcan'], tags=['Train_117']),\n",
       " TaggedDocument(words=['Geri', 'sayım', 'başladı!', 'O', 'süre', '115', 'dakikaya', 'düşüyor...'], tags=['Train_118']),\n",
       " TaggedDocument(words=['Her', 'Derdimiz', 'Bittiyse', 'Biraz', 'da', 'Şuna', 'Kafa', 'Yoralım:', 'Uzaylıdan', 'Mesaj', 'Gelirse', 'Ne', 'Yapacağız?'], tags=['Train_119']),\n",
       " TaggedDocument(words=['İstenmeyen', 'Buluşmalardan', 'Kurtulmak', 'İçin:', 'Güncel', 'Müfredata', 'Uygun', '10', 'Sağlam', 'Bahane'], tags=['Train_120']),\n",
       " TaggedDocument(words=[\"Iğdır'da\", 'sınır', 'karakoluna', 'roketli', 'saldırı!'], tags=['Train_121']),\n",
       " TaggedDocument(words=['Biraz', 'Kül,', 'Biraz', 'Duman:', 'Yeni', 'Başlayanlar', 'İçin', 'Klasik', 'Türk', 'Müziği...'], tags=['Train_122']),\n",
       " TaggedDocument(words=['Ofis', 'Çalışanları', 'İçin:', '4', 'Adımda', 'Kolay', 've', 'Zevkli', 'Mobbing', 'Rehberi'], tags=['Train_123']),\n",
       " TaggedDocument(words=['Veliaht', 'Prens', 'hakkında', 'suç', 'duyurusu!'], tags=['Train_124']),\n",
       " TaggedDocument(words=['Yeni', 'iPhone', \"6'yı\", 'Sizin', 'İçin', 'İnceledik'], tags=['Train_125']),\n",
       " TaggedDocument(words=[\"California'daki\", 'yangının', 'bilançosu', 'artmaya', 'devam', 'ediyor'], tags=['Train_126']),\n",
       " TaggedDocument(words=['Düğün', 'Öncesi', 'Son', 'Rötuşlar:', 'Seçtiğiniz', 'Gelinlik', 'Modeline', 'En', 'Uygun', 'Damat', 'Adayını', 'Bulmak...'], tags=['Train_127']),\n",
       " TaggedDocument(words=['Yanı', 'Başınızdaki', 'Tehlike:', 'Yaz', 'Aşkını', 'Kışa', 'Uzatmak'], tags=['Train_128']),\n",
       " TaggedDocument(words=['Onlar', 'da', 'Stardı', 'Bebeyim:', 'Magazin', 'Dünyamızda', 'Şiddetin', 'Yakın', 'Tarihi'], tags=['Train_129']),\n",
       " TaggedDocument(words=['Aşırı', 'Bilimsel', 'Makale:', 'Aşk', 'Beyine', 'Ne', 'Eder?'], tags=['Train_130']),\n",
       " TaggedDocument(words=[\"Gelibolu'da\", 'otomobille', 'drift', 'yapan', 'sürücüye', 'para', 'cezası'], tags=['Train_131']),\n",
       " TaggedDocument(words=['Fiyatının', '5', 'TL', 'Olması', 'Dışında,', 'Sahte', 'İçkiyi', 'Gerçeğinden', 'Nasıl', 'Ayırt', 'Edebiliriz?'], tags=['Train_132']),\n",
       " TaggedDocument(words=['Son', 'dakika:', 'Bakan', 'müjdeyi', 'verdi!', 'Milyonlarca', 'liralık', 'kaynak', 'geliyor...'], tags=['Train_133']),\n",
       " TaggedDocument(words=['İçinizi', 'Kemiren', 'Şüphe:', 'Modern', 'Bir', 'Ayıyla', 'Çıkıyor', 'Olabilir', 'miyim?'], tags=['Train_134']),\n",
       " TaggedDocument(words=['Seda', \"Tripkolic'ten,\", 'Çek', 'Git', 'Bebeğim', \"Musa'ya...\", 'Bir', 'Neslin', 'Ergenliğine', '(ve', \"Mahalle'deki\", 'Internet', \"Cafe'ye)\", 'Damgasını', 'Vuranlar'], tags=['Train_135']),\n",
       " TaggedDocument(words=['7', 'Adımda', 'Kolay', 've', 'Zevkli', 'Kendini', 'İşten', 'Attırma', 'Rehberi'], tags=['Train_136']),\n",
       " TaggedDocument(words=['İlişkide', 'Halledemediğimiz', 'Mesele:', 'Kıskançlık', '(Ya', 'da', 'halk', 'arasındaki', 'adıyla', \"'O\", 'kızı/çocuğu', 'neden', \"ekledin!')\"], tags=['Train_137']),\n",
       " TaggedDocument(words=['Çevre', 'korumaya', '34,4', 'milyar', 'lira', 'harcandı'], tags=['Train_138']),\n",
       " TaggedDocument(words=['Lüks', 'yatlara', '12', 'tankerlik', 'yakıt', 'ikmali'], tags=['Train_139']),\n",
       " TaggedDocument(words=[\"İstanbul'da\", 'dehşet', 'görüntüler,', 'defalarca', 'ateş', 'etti!', 'İşte', 'saniye', 'saniye', 'o', 'anlar...'], tags=['Train_140']),\n",
       " TaggedDocument(words=['ABD,', \"'Kaşıkçı\", \"cinayetine'\", 'rağmen', 'Suudi', \"Arabistan'a\", 'destek', 'sözü', 'verdi'], tags=['Train_141']),\n",
       " TaggedDocument(words=[\"Bakırköy'de\", 'akılalmaz', 'olay!', 'Bahçeye', 'uçtu'], tags=['Train_142']),\n",
       " TaggedDocument(words=['Son', 'Dakika...', 'İçişleri', 'Bakanlığı', 'duyurdu!', 'Gri', 'listedeki', 'terörist', 'etkisiz', 'hale', 'getirildi'], tags=['Train_143']),\n",
       " TaggedDocument(words=['Son', 'dakika...Mersin', 'Büyükşehir', 'Belediye', 'Başkanı', 'istifa', 'etti!', 'İlk', 'tepki', 'geldi...'], tags=['Train_144']),\n",
       " TaggedDocument(words=['Temel', \"Karamollaoğlu'ndan\", '\"yerelde', 'ittifak\"', 'açıklaması'], tags=['Train_145']),\n",
       " TaggedDocument(words=['Sanal', 'dolandırıcıların', '\"Efsane', 'Cuma\"', 'oyunu'], tags=['Train_146']),\n",
       " TaggedDocument(words=['Koca', 'Marvel', 'Evreni’ni', 'Spiderman’dan', 'İbaret', 'Sananlar', 'İçin:', 'Gün', 'Yüzü', 'Görmemiş', 'Diğer', 'Kahramanlar...'], tags=['Train_147']),\n",
       " TaggedDocument(words=['Olduğunuzdan', 'Daha', 'Akıllı', 'Gibi', 'Görünmenin', 'En', 'Pratik', '10', 'Yolu'], tags=['Train_148']),\n",
       " TaggedDocument(words=['En', 'Ufak', 'Ortak', 'Yönünüz', 'Olmayan', 'Biriyle', 'Yılların', 'Kankasıymış', 'Gibi', 'Görünme', 'Sanatı:', 'Ofiste', 'Kadın', 'Dostluğu'], tags=['Train_149']),\n",
       " TaggedDocument(words=['Ünlü', 'Veya', 'Yarı', 'Ünlünün', 'En', 'Yakınındaki', 'Karakterin', 'Hayata', 'Tutunma', 'Kılavuzu'], tags=['Train_150']),\n",
       " TaggedDocument(words=['Son', 'dakika:', 'Milyonlarca', 'çalışanı', 'ilgilendiriyor!', 'Kullanılmayan', 'yıllık', 'izinlerin...'], tags=['Train_151']),\n",
       " TaggedDocument(words=['Yeni', 'Türk', 'Yapımı', 'Oyun', 'Geliyor', ':', 'Future', 'Army'], tags=['Train_152']),\n",
       " TaggedDocument(words=['Fantastik', 'Canavarlar:', \"Grindelwald'ın\", 'Suçları', '(Yargılanacaksınız!)'], tags=['Train_153']),\n",
       " TaggedDocument(words=['Adaylık', 'için', 'görevinden', 'ayrılanlara', 'müjde!', \"TBMM'de\", 'kabul', 'edilerek', 'kanunlaştı...'], tags=['Train_154']),\n",
       " TaggedDocument(words=['Bakan', 'Albayrak:', \"''Devletin\", 'kasası', 'tarihinde', 'belki', 'hiç', 'olmadığı', 'kadar', \"güçlü...''\"], tags=['Train_155']),\n",
       " TaggedDocument(words=['AK', \"Parti'nin\", '\"TBMM\\'nin', 'çalışma', 'gündemi', 've', 'saatlerine\"', 'ilişkin', 'grup', 'önerisi', 'kabul', 'edildi'], tags=['Train_156']),\n",
       " TaggedDocument(words=['Mahalle', 'Yanarken', 'Saçını', 'Tarayan', 'Siz', 'Olun:', 'Sinir', 'Sistemi', 'Yorgun', 'Düşenler', 'İçin', 'Gündemden', 'Uzak', 'Kalma', 'Rehberi...'], tags=['Train_157']),\n",
       " TaggedDocument(words=['Son', 'dakika...', 'AA:', 'Rus', 'uçakları,', 'ÖSO', 'cephe', 'hatlarını', 'vurdu!'], tags=['Train_158']),\n",
       " TaggedDocument(words=['Çek', 'Cumhuriyeti’nden', 'Ülkemize', 'Gelmiş', 'En', 'İyi', '4', 'Şey…'], tags=['Train_159']),\n",
       " TaggedDocument(words=['Gülmenin', 'Aşırı', 'Bilimsel', 've', 'Zerre', 'Komik', 'Olmayan', 'Anatomisi:', 'Neden', 'Gülüyoruz?'], tags=['Train_160']),\n",
       " TaggedDocument(words=['Çağın', 'Vebası:', 'Stajyer', 'Etkileme', 'Saplantısı...', 'Belirtiler', 'Nelerdir?', 'Nasıl', 'Tedavi', 'Edilir?'], tags=['Train_161']),\n",
       " TaggedDocument(words=['Yaz', 'Aşklarının,', 'Fakbadiliklerin', 've', \"''Takılıyoruz\", 'öyle', \"yaa''ların\", 'Can', 'Düşmanı:', \"''Biz\", 'şimdi', \"neyiz?''\"], tags=['Train_162']),\n",
       " TaggedDocument(words=['Olacak', 'Daha', 'İyi', 'Bir', 'Şey', 'Bulamayanlar', 'İçin:', 'Gerçek', 'Bir', 'İstanbullu', 'Olma', 'Rehberi'], tags=['Train_163']),\n",
       " TaggedDocument(words=['Dolar/TL,', '5,2810', 'seviyesinde', 'işlem', 'görüyor'], tags=['Train_164']),\n",
       " TaggedDocument(words=['Akar,', 'Rus', 'mevkidaşı', 'Şoygu', 'ile', 'görüştü'], tags=['Train_165']),\n",
       " TaggedDocument(words=['Aldatmanın', 'Aşırı', 'Bilimsel', 'Analizi:', 'Neden', 'Yapıyoruz?', 'Fıtratımız', 'mı', 'Çokeşli', 'Yoksa', 'Sadece', 'Şerefsiz', 'miyiz?'], tags=['Train_166']),\n",
       " TaggedDocument(words=['Kaybedecek', 'Fazla', 'Vakti', 'Olmayanlar', 'İçin:', 'Türkçe', 'Pop', 'Desteğiyle', '5', 'Günde', 'Ayrılık', 'Acısını', 'Atlatma', 'Rehberi...'], tags=['Train_167']),\n",
       " TaggedDocument(words=[\"'Hudeyde\", 'limanındaki', 'faaliyetler', 'yarıya', \"indi'\"], tags=['Train_168']),\n",
       " TaggedDocument(words=[\"Yılbaşı'ndan\", 'Tıp', \"Bayramı'na,\", 'Eski', 'Sevgiliye', 'Mesaj', 'Atılabilecek', 'Özel', 'Günler', 'Sıralı', 'Tam', 'Listesi', '(Örnekli,', 'konu', 'anlatımlı...)'], tags=['Train_169']),\n",
       " TaggedDocument(words=['Türk', 'Siyasi', 'Tarihinde', 'Öyle', 'ya', 'da', 'Böyle', 'İz', 'Bırakmış', 'Seçim', 'Şarkıları', '(Bırakmaz', 'Olasıcalar...)'], tags=['Train_170']),\n",
       " TaggedDocument(words=['Hırsızlık', 'şüphelileri,', \"'otelde\", 'yer', \"var'\", 'denilerek', 'yakalandı'], tags=['Train_171']),\n",
       " TaggedDocument(words=[\"Uludağ'ı\", 'gezmek', 'görmek', 'isteyen', 'turistler', 'teleferikte', 'uzun', 'kuyruklar', 'oluşturdu'], tags=['Train_172']),\n",
       " TaggedDocument(words=['O', 'Ses', 'Türkiye', 'sahnesine', 'damga', 'vuran', 'isim!', 'Gülce', 'Kahtalı...'], tags=['Train_173']),\n",
       " TaggedDocument(words=['Başka', 'Derdiniz', 'Yokmuşcasına:', 'Sonbahar', 'Depresyonu', 'İle', 'Etkin', 'Mücadele', 'Rehberi'], tags=['Train_174']),\n",
       " TaggedDocument(words=['Çevrenizdeki', 'Ömür', 'Törpüsü', 'Çiftleri', 'Tanıma', 've', 'Mümkünse', 'Korunma', 'Rehberi'], tags=['Train_175']),\n",
       " TaggedDocument(words=['Otomotiv', \"Dünyası'nın\", 'Skandallarla', 'Dolu', 'Tarihçesi...'], tags=['Train_176']),\n",
       " TaggedDocument(words=['Kotralar', 'yurt', 'dışından', 'bile', 'rağbet', 'görüyor'], tags=['Train_177']),\n",
       " TaggedDocument(words=['Düğün', 'Sezonu', 'Başlarken:', 'Gelinin', 'En', 'Yakın', 'Arkadaşının', 'Hayatta', 'Kalma', 'Rehberi...'], tags=['Train_178']),\n",
       " TaggedDocument(words=['Bakan', \"Pekcan'dan\", 'flaş', 'açıklamalar'], tags=['Train_179']),\n",
       " TaggedDocument(words=['Borsa', 'haftaya', 'yükselişle', 'başladı'], tags=['Train_180']),\n",
       " TaggedDocument(words=['Finallerden', 'Önce', 'Son', 'Çıkış:', 'Bahar', 'Şenlikleri...'], tags=['Train_181']),\n",
       " TaggedDocument(words=['\"Matruşka', 'yöntemi,', 'devre', 'mülkte', 'mağdur', 'sayısını', 'artırıyor\"'], tags=['Train_182']),\n",
       " TaggedDocument(words=['Borsa,', 'günün', 'ilk', 'yarısında', 'yükseldi'], tags=['Train_183']),\n",
       " TaggedDocument(words=['Borsa,', 'günün', 'ilk', 'yarısında', 'geriledi'], tags=['Train_184']),\n",
       " TaggedDocument(words=['Bahçeli', 'talimat', 'verdi!', 'Tüm', 'illere', 'gönderiliyor...'], tags=['Train_185']),\n",
       " TaggedDocument(words=['Alman', 'basınından', 'flaş', 'iddia!', 'Prens', 'Selman', 'o', 'şirketle', 'anlaşmış'], tags=['Train_186']),\n",
       " TaggedDocument(words=['Küresel', 'piyasalar,', 'Rusya-Ukrayna', 'gerilimine', 'odaklandı'], tags=['Train_187']),\n",
       " TaggedDocument(words=['Kapital', '3.', \"Cilt'ten,\", 'Aşiretler', \"Raporu'na...\", '14', \"Şubat'ta\", 'Sevgiliye', 'Hediye', 'Edilebilecek', 'Birbirinden', 'Anlamlı', '7', 'Kitap'], tags=['Train_188']),\n",
       " TaggedDocument(words=['Elbise', 'Giyme', 'Söz', 'Olur,', 'Kot', 'Giyme', 'Az', 'Olur:', 'İlk', 'Buluşma', 'İçin', 'Doğru', 'Kombini', 'Bulma', 'Rehberi...'], tags=['Train_189']),\n",
       " TaggedDocument(words=['Dolar', 'bugün', 'kaç', 'lira?', '27', 'Kasım', 'dolarda', 'son', 'durum...'], tags=['Train_190']),\n",
       " TaggedDocument(words=['MSB', 'sözleşmeli', 'personel', 'alımı', 'başvuruları', 'nasıl', 'yapılır?'], tags=['Train_191']),\n",
       " TaggedDocument(words=['Bekar', 'Evine', 'Çöken', 'Anne', 'İle', 'Birlikte', 'Yaşama', 'Kılavuzu...'], tags=['Train_192']),\n",
       " TaggedDocument(words=['Son', 'dakika:', 'Maviş', 'Banu,', \"FETÖ'cü\", 'Tarık', \"Toros'un\", 'eşi', 'çıktı'], tags=['Train_193']),\n",
       " TaggedDocument(words=['Çocuklar', 'siperde!'], tags=['Train_194']),\n",
       " TaggedDocument(words=['Son', 'dakika...Cumhurbaşkanı', \"Erdoğan'dan\", 'İstanbul', 'açıklaması'], tags=['Train_195']),\n",
       " TaggedDocument(words=['Lokomotifin', 'en', 'kritik', 'parçasına', 'milli', 'imza'], tags=['Train_196']),\n",
       " TaggedDocument(words=['AK', \"Parti'de\", 'kritik', '3', 'gün!'], tags=['Train_197']),\n",
       " TaggedDocument(words=['Dışişleri', 'Bakanı', 'Çavuşoğlu,', 'Kanadalı', 'mevkidaşıyla', 'görüştü'], tags=['Train_198']),\n",
       " TaggedDocument(words=['George', 'R.', 'R.', 'Martin', 'Öldürmeden', 'Önce', 'İzlenmesi', 'Gereken', '5', 'Game', 'of', 'Thrones', 'Karakteri'], tags=['Train_199']),\n",
       " TaggedDocument(words=['6', 'aylık', 'bebekten', 'çok', 'acı', 'haber'], tags=['Train_200']),\n",
       " TaggedDocument(words=['Araştırma', 'Dosyası:', 'Finaller', 'Nasıl', 'Geçiyor', 'Gençler?', \"ODTÜ'den\", 'Gümüşhane', \"Üniversitesi'ne\", 'Sizin', 'İçin', 'İnceledik...'], tags=['Train_201']),\n",
       " TaggedDocument(words=['Köprüden', 'Önce', 'Son', 'Çıkış:', 'İlişkiyi', 'Daha', 'Başlamadan', 'Bitirme', 'Rehberi'], tags=['Train_202']),\n",
       " TaggedDocument(words=[\"Brahma'sı,\", \"Shiva'sı,\", \"Kali'si\", 've', 'Diğer', 'Gözleri', 'Sürmeli', 'Tipleriyle...', 'Yeni', 'Başlayanlar', 'İçin', 'Hint', 'Mitolojisi'], tags=['Train_203']),\n",
       " TaggedDocument(words=['ABD', 'Senatosu', 'harekete', 'geçti!', 'Suudi', 'Arabistan', 'için', 'son', 'yaklaşıyor...'], tags=['Train_204']),\n",
       " TaggedDocument(words=['Türkiye-Katar', 'arasında', 'imzalar', 'atıldı'], tags=['Train_205']),\n",
       " TaggedDocument(words=['Yeni', 'Başlayanlar', 'İçin', 'Dubai', 'ya', 'da', 'Şeriatın', '50', 'Tonu...'], tags=['Train_206']),\n",
       " TaggedDocument(words=['Bernardo', 'Bertolucci', 'kimdir?'], tags=['Train_207']),\n",
       " TaggedDocument(words=['Kayak', 'merkezlerinde', 'sezon', 'açılmadan', 'yüzde', '70', 'doluluk'], tags=['Train_208']),\n",
       " TaggedDocument(words=['BBVA:', \"Türkiye'ye\", 'tamamen', 'sadığız'], tags=['Train_209']),\n",
       " TaggedDocument(words=['Mutsuzluktan', 'Ölecek', 'Dahi', 'Olsanız', 'Ele', 'Güne', 'Karşı', 'Çok', 'Eğleniyor', 'Gibi', 'Görünme', 'Rehberi...'], tags=['Train_210']),\n",
       " TaggedDocument(words=[\"Kerkük'teki\", 'Kayseri', \"Çarşısı'nda\", 'çıkan', 'yangında', 'milyar', 'dolarlık', 'altın', 'eridi'], tags=['Train_211']),\n",
       " TaggedDocument(words=[\"EGM'den\", \"'hız\", 'tespit', \"silahı'\", 'açıklaması'], tags=['Train_212']),\n",
       " TaggedDocument(words=['Diriliş', 'Ertuğrul', '125.', 'bölüm', '2.', 'fragmanı', 'yayınlandı!'], tags=['Train_213']),\n",
       " TaggedDocument(words=['Game', 'of', 'Thrones', 'Beklemekten', 'Sıkılanlar', 'İçin:', 'Entrikasıyla,', 'Gayrimeşru', 'Seksiyle', 'Yunan', 'Mitolojisi...'], tags=['Train_214']),\n",
       " TaggedDocument(words=['Yeni', 'Başlayanlar', 've', 'Amatörler', 'İçin', '5', 'Adımda', 'Uzman', 'Komplo', 'Teorisyeni', 'Olma', 'Rehberi'], tags=['Train_215']),\n",
       " TaggedDocument(words=[\"İran'daki\", 'trafik', 'kazalarında', 'günde', '44', 'kişi', 'ölüyor'], tags=['Train_216']),\n",
       " TaggedDocument(words=['Reyhanlı', 'saldırısını', 'planlayan', 'Yusuf', 'Nazik', 'için', 'istenen', 'ceza!'], tags=['Train_217']),\n",
       " TaggedDocument(words=['Son', 'dakika:', \"Sakarya'da\", 'vatandaşlar', 'buldu!', 'Etrafı', 'hemen', 'korumaya', 'alındı…'], tags=['Train_218']),\n",
       " TaggedDocument(words=['Son', 'dakika:', \"Antalya'da\", 'hareketli', 'dakikalar!', 'Etkisiz', 'hale', 'getirildi'], tags=['Train_219']),\n",
       " TaggedDocument(words=['ABD-Meksika', 'sınırı', 'göçmen', 'konvoyu', 'nedeniyle', 'kapatıldı'], tags=['Train_220']),\n",
       " TaggedDocument(words=['Her', 'Yerdeler,', 'Peki', 'Ne', 'İşe', 'Yarıyorlar?', 'Dayı’dan,', 'Kayınço’ya...', 'Akrabalarımızı', 'Tanıyalım'], tags=['Train_221']),\n",
       " TaggedDocument(words=['GS-FB', 'Gerginliği', 'Nasıl', 'Başladı?', \"1920'lerde\", \"İstanbul'da\", 'En', 'Populer', 'Spor', 'Hangisiydi?', 'Türk', 'Spor', 'Tarihine', 'Dair', 'Gereksiz', 'Bilgiler...'], tags=['Train_222']),\n",
       " TaggedDocument(words=['Okulda', 'korkutan', 'yangın!', 'Eğitime', 'bir', 'gün', 'ara', 'verildi'], tags=['Train_223']),\n",
       " TaggedDocument(words=['Eceler,', 'Ertanlar,', 'Almancılar', 've', 'Diğerleri:', 'Yazlık', 'Sitelerin', 'Değişmeyen', 'İlk', \"11'i…\"], tags=['Train_224']),\n",
       " TaggedDocument(words=['Mutluluğun', 'Aşırı', 'Bilimsel', 'Formülü:', 'Bir', 'sen,', 'bir', 'ben,', 'bir', 'de', 'işte', 'dopamin,', 'endorfin', 'falan...'], tags=['Train_225']),\n",
       " TaggedDocument(words=['Son', 'dakika...', 'TSK', 'açıkladı!', 'Teröristlere', 'ağır', 'darbe'], tags=['Train_226']),\n",
       " TaggedDocument(words=['Son', 'Dakika...', 'İçişleri', 'Bakanlığı', 'duyurdu!', 'Gri', 'listedeki', 'terörist', 'etkisiz', 'hale', 'getirildi'], tags=['Train_227']),\n",
       " TaggedDocument(words=['Dev', 'market', 'zincirine', 'vurgun', 'şoku'], tags=['Train_228']),\n",
       " TaggedDocument(words=['Kaçıranlar', 've', 'Yeniden', 'Boynuzlanmak', 'İsteyenler', 'İçin:', 'Eski', 'Sevgiliye', 'Bir', 'Şans', 'Daha', 'Vermek...'], tags=['Train_229']),\n",
       " TaggedDocument(words=['İnsanoğlu:', 'Yardımsever', 'mi?', 'Zalim', 'mi?', 'Ne', 'ayak?'], tags=['Train_230']),\n",
       " TaggedDocument(words=['Hayatına', 'Biraz', 'Renk', 've', 'Dertsiz', 'Başına', 'Dert', 'Arayanlar', 'İçin:', 'Karakterinize', 'Göre', 'Doğru', 'Kedi', 'Cinsini', 'Seçme', 'Rehberi'], tags=['Train_231']),\n",
       " TaggedDocument(words=['Uzatmalı', 'Sevgiliden,', 'Şirket', 'Çekilişinde', 'Çıkan', 'Patrona...', 'Hedef', 'Kitleye', 'Göre', 'Yılbaşı', 'Hediyesi', 'Seçme', 'Rehberi'], tags=['Train_232']),\n",
       " TaggedDocument(words=['İnceleme:', 'Alışveriş', 'Merkezlerimiz', 'Zombi', 'İstilasına', 'Ne', 'Kadar', 'Hazır?'], tags=['Train_233']),\n",
       " TaggedDocument(words=['Dev', 'market', 'zincirine', 'vurgun', 'şoku'], tags=['Train_234']),\n",
       " TaggedDocument(words=['Yeni', \"Türkiye'nin\", 'Bilim', 'Yuvası', \"TÜBİTAK'ın\", 'Yakın', 'Zamanda', 'Tanıtacağı', '7', 'Dev', 'Proje...'], tags=['Train_235']),\n",
       " TaggedDocument(words=['Kendi', 'OT', 'Derginizi', 'Kendiniz', 'Yapın:', 'Evdeki', 'Malzemelerle', 'Kolay', 've', 'Pratik', 'Popüler', 'Edebiyat', 'Dergisi', 'Hazırlama', 'Rehberi...'], tags=['Train_236']),\n",
       " TaggedDocument(words=['Mümkünse', 'Birlikte', 'İçmemeniz', 'Gereken', '14', 'Kişi'], tags=['Train_237']),\n",
       " TaggedDocument(words=['ABD', 'sınırına', 'dayandılar!', 'Dev', 'protesto'], tags=['Train_238']),\n",
       " TaggedDocument(words=['Hamile', 'Hemşireden,', 'Profesyonel', 'Refakatçiye...', 'Hastaneye', 'Yattığınızda', 'Dikkat', 'Etmeniz', 'Gereken', 'Tehlikeli', 'Karakterler'], tags=['Train_239']),\n",
       " TaggedDocument(words=['İşsizleri', 'Tanıma,', 'Koruma', 've', 'Hayata', 'Bağlama', 'Rehberi'], tags=['Train_240']),\n",
       " TaggedDocument(words=['Yeni', 'Başlayanlar', 've', 'Başlayıp', 'da', 'İyi', 'Sallayamayanlar', 'İçin', '19', 'Maddede', 'Kahve', 'Falı...'], tags=['Train_241']),\n",
       " TaggedDocument(words=['AK', 'Parti', '20', 'ilin', 'belediye', 'başkan', 'adayını', 'açıklandı'], tags=['Train_242']),\n",
       " TaggedDocument(words=['WannaCry', 'Virüsünden', 'Korunma', 'Rehberi', '(300', 'Dolar', 'bugün', 'nerden', 'baksaaan...)'], tags=['Train_243']),\n",
       " TaggedDocument(words=['Son', 'dakika...', 'Dünya', 'devinden', 'flaş', 'karar!', '5', 'fabrikasını', 'kapatıyor'], tags=['Train_244']),\n",
       " TaggedDocument(words=['Seks', 'Hayatınıza', 'Bir', 'İhtimal', 'Olumlu', 'Katkıda', 'Bulunabilecek', '10', 'Ürün'], tags=['Train_245']),\n",
       " TaggedDocument(words=['Savaşın', 'ayak', 'sesleri!', 'Rus', 'savaş', 'uçakları', 'havalandı...'], tags=['Train_246']),\n",
       " TaggedDocument(words=['Depresyonla,', 'Dikkat', 'Dağınıklığıyla', 'Yeterince', 'Prim', 'Yapamayanlar', 'İçin:', 'Aşırı', 'Ender', 'Görülen', 'Nöro-Psikolojik', 'Hastalıklar'], tags=['Train_247']),\n",
       " TaggedDocument(words=['Yasemin', 'Allen', 'kaç', 'yaşında?'], tags=['Train_248']),\n",
       " TaggedDocument(words=['Son', 'dakika:', \"YSK'dan\", 'çok', 'önemli', 'açıklama!', 'Son', 'tarih', '1', 'Aralık...'], tags=['Train_249']),\n",
       " TaggedDocument(words=['İYİ', 'Parti’nin', 'Balıkesir', 'adayı', 'belli', 'oldu'], tags=['Train_250']),\n",
       " TaggedDocument(words=['Çok', 'acı', 'haber!', \"'Dur'\", 'ihtarına', 'uymayan', 'araç', 'polislere', 'çarptı'], tags=['Train_251']),\n",
       " TaggedDocument(words=['1915', 'Çanakkale', \"Köprüsü'nde\", 'kazı', 've', 'kazık', 'çalışmaları', 'tamamlandı'], tags=['Train_252']),\n",
       " TaggedDocument(words=['Yeni', 'Başlayanlar', 'İçin:', 'Kedi'], tags=['Train_253']),\n",
       " TaggedDocument(words=['8', 'Kolay', 'Adımda', 'Eski', 'Sevgilinizin', 'Yeni', 'Kız', 'Arkadaşını', 'İtibarsızlaştırmak...'], tags=['Train_254']),\n",
       " TaggedDocument(words=['Sizin', 'İçin', 'Ele', 'Geçirdiğimiz', '10', 'Final', 'Sorusu', '(En', 'az', '3', 'tanesi', 'garanti)'], tags=['Train_255']),\n",
       " TaggedDocument(words=['Türkiye-Katar', 'arasında', 'imzalar', 'atıldı'], tags=['Train_256']),\n",
       " TaggedDocument(words=['FIFA,', 'Hakem', 'Tartışmalarına', 'Son', 'Vermek', 'İçin', 'Devreye', 'Alınan', 'VAR', 'Sisteminin', 'Nasıl', 'Olup', 'da', 'Daha', 'Fazla', 'Tartışmaya', 'Yol', 'Açtığını', 'İncelemek', 'Üzere', \"Türkiye'ye\", 'Heyet', 'Gönderiyor...'], tags=['Train_257']),\n",
       " TaggedDocument(words=['Evden', 'Eve', 'Nakliyatta', 'Zafere', 'Giden', '4', 'Yol'], tags=['Train_258']),\n",
       " TaggedDocument(words=['Düşüş', 'sürüyor!', '140', 'milyar', 'doların', 'altına', 'geriledi...'], tags=['Train_259']),\n",
       " TaggedDocument(words=['Dışişleri', 'Bakanı', \"Çavuşoğlu'ndan\", 'flaş', 'Kaşıkçı', 'açıklaması'], tags=['Train_260']),\n",
       " TaggedDocument(words=['Ayağı', 'kırıldı', 'arazide', 'mahsur', 'kaldı!', 'Korku', 'dolu', 'anlar'], tags=['Train_261']),\n",
       " TaggedDocument(words=['Karşılaştırma:', 'Sonbahar', 'mı', 'Yaz', 'mı?', '(Tabii', 'ki', 'sonbahar', 'lan', 'manyak', 'mısın?)'], tags=['Train_262']),\n",
       " TaggedDocument(words=['THY,', \"Boeing'e\", '3', 'adet', 'kargo', 'uçağı', 'siparişini', 'verdi'], tags=['Train_263']),\n",
       " TaggedDocument(words=['4', 'bin', 'yıllık', 'mezar', 'bulundu!', 'Kimin', 'olduğu', 'ortaya', 'çıktı...'], tags=['Train_264']),\n",
       " TaggedDocument(words=['Evlilikte', 'Cinsellik:', 'Ne', 'Gerek', 'Var?'], tags=['Train_265']),\n",
       " TaggedDocument(words=['Kim', 'Olduğunuzu', 'Bir', 'de', 'Bizden', 'Öğrenin:', 'İzlediğiniz', 'Diziden', 'Karakter', 'Analizi...'], tags=['Train_266']),\n",
       " TaggedDocument(words=['Sadece', '10', 'dakika', 'yetti!', 'Cadde', 've', 'sokaklar...'], tags=['Train_267']),\n",
       " TaggedDocument(words=[\"TBMM'de\", 'kritik', 'görüşme', '1', 'saat', 'sürdü!'], tags=['Train_268']),\n",
       " TaggedDocument(words=['Adalet', 'Bakanı', \"Gül'den\", \"'Demirtaş'\", 'açıklaması:', 'Halen', 'derdesttir'], tags=['Train_269']),\n",
       " TaggedDocument(words=['Bu', 'liseden', 'mezun', 'olana', '2', 'bin', 'doların', 'üzerinde', 'maaş!'], tags=['Train_270']),\n",
       " TaggedDocument(words=['MHP', \"Antalya'da\", 'kampa', 'giriyor'], tags=['Train_271']),\n",
       " TaggedDocument(words=['Akşener:', \"'Kesin\", 'bir', 'dille', \"açıklanmalı'\"], tags=['Train_272']),\n",
       " TaggedDocument(words=['Meral', \"Akşener'den\", 'ittifak', 'açıklaması!'], tags=['Train_273']),\n",
       " TaggedDocument(words=['İmarı', 'Var', 'mı?', 'Kaç', 'Vesaitle', 'Gidilir?', \"NASA'nın\", 'Yeni', 'Keşfettiği', \"'Yaşama\", \"Elverişli'\", '9', 'Gezegeni', 'Sizin', 'İçin', 'İnceledik'], tags=['Train_274']),\n",
       " TaggedDocument(words=['Son', 'dakika...', \"CHP'den\", 'Saadet', 'Partisi', 'açıklaması'], tags=['Train_275']),\n",
       " TaggedDocument(words=['Lahana', 'çiftçinin', 'yüzünü', 'güldürdü'], tags=['Train_276']),\n",
       " TaggedDocument(words=['Bir', 'annenin', 'yaşayabileceği', 'en', 'büyük', 'acı!', 'Yürek', 'burkan', 'anlar'], tags=['Train_277']),\n",
       " TaggedDocument(words=['İçinde', 'Rahatça', 'Basen', 'Büyütebileceğimiz', 'Tekstil', 'Mucizeleri:', 'Kışlıklarımızı', 'Tanıyalım'], tags=['Train_278']),\n",
       " TaggedDocument(words=['Ortalama', 'Bir', 'Düğünün', 'Değişmez', 'İlk', \"11'i...\"], tags=['Train_279']),\n",
       " TaggedDocument(words=['Bayramda', 'Sizi', 'Bekleyen', '10', 'Büyük', 'Tehlike...', \"(IŞİD'i\", 'falan', 'da', 'saysan', '11', 'aslında)'], tags=['Train_280']),\n",
       " TaggedDocument(words=['Derbide', 'Kaybeden', 'Taraf', 'Olmak', 'Artık', 'Çok', 'Kolay:', '14', 'Süper', 'Bahane', 'İle', 'Takımınız', 'Aslında', 'Neden', 'Kaybetti?'], tags=['Train_281']),\n",
       " TaggedDocument(words=['Son', 'dakika...', \"Sivas'ta\", 'iki', 'yolcu', 'treni', 'kafa', 'kafaya', 'çarpıştı!', 'Yaralılar', 'var'], tags=['Train_282']),\n",
       " TaggedDocument(words=['İddaa', 'ihalesi', 'düzenleniyor'], tags=['Train_283']),\n",
       " TaggedDocument(words=['Kedi,', 'Köpek,', 'At', 've', 'Güvercin:', 'Büyük', 'İhtimalle', 'Senden', 'Benden', 'Akıllı', 'Olan', 'Hayvanlar', '-', 'Bölüm', '2'], tags=['Train_284']),\n",
       " TaggedDocument(words=['Binali', 'Yıldırım:', '\"PTT\\'nin', 'önü', 'açık,', 'daha', 'büyük', 'işler', 'yapabilir\"'], tags=['Train_285']),\n",
       " TaggedDocument(words=['İlk', 'Yurtdışı', 'Tatilinde', 'Çek', \"Cumhuriyeti'ni\", 'Görmek', 'İçin', '5', 'İyi', 'Neden'], tags=['Train_286']),\n",
       " TaggedDocument(words=['Yeni', 'Başlayanlar', 've', 'Kafası', 'İyi', 'Olduğundan', 'Hiçbir', 'Şey', 'Hatırlamayanlar', 'İçin:', 'AMSTERDAM'], tags=['Train_287']),\n",
       " TaggedDocument(words=['Son', 'dakika...', 'Cemal', 'Kaşıkçı', 'cinayeti', 'ile', 'ilgili', 'iki', 'lüks', 'villada', 'arama!'], tags=['Train_288']),\n",
       " TaggedDocument(words=[\"Türkiye'nin\", 'ilk', 'tropikal', 'meyvesine', 'tescil'], tags=['Train_289']),\n",
       " TaggedDocument(words=['Son', 'dakika...', 'İran’da', '6.3', 'büyüklüğünde', 'deprem'], tags=['Train_290']),\n",
       " TaggedDocument(words=['7’den', '70’e', 'Her', 'Yaştan', 'Kadınla', 'İletişim', 'Kurmanızı', 'Sağlayacak', '10', 'Dizi'], tags=['Train_291']),\n",
       " TaggedDocument(words=['Yeni', 'Başlayanlar', 'ya', 'da', 'Heves', 'Edenler', 'İçin', 'Home', 'Office', 'Çalışma', 'Rehberi'], tags=['Train_292']),\n",
       " TaggedDocument(words=['Cumhurbaşkanı', \"Erdoğan'dan\", \"AİHM'in\", 'Demirtaş', 'kararına', 'sert', 'tepki'], tags=['Train_293']),\n",
       " TaggedDocument(words=['Kariyerinin', 'Başındaki', 'Beyaz', 'Yakalılar', 'İçin:', '3', 'Kuruş', 'Maaşla', 'Kaliteli', 'Yaşıyormuş', 'Gibi', 'Yapma', 'Rehberi'], tags=['Train_294']),\n",
       " TaggedDocument(words=['Sahadaki', 'Kaosun', 'Televizyona', 'Yansıması:', \"%100'ünden,\", \"Beyaz'ı,\", \"Derin'ine\", 'Futbol', 'Programlarımız...'], tags=['Train_295']),\n",
       " TaggedDocument(words=[\"'UFO\", 'yıldırımla', 'şarj', \"oldu!'\"], tags=['Train_296']),\n",
       " TaggedDocument(words=['Yakışıklı', 'Olmayan', 'Erkekler', 'İçin', 'Kışlık', 'Stil', 'Önerileri:', 'Ne', 'Giymeli,', 'Nasıl', 'Etmeli?'], tags=['Train_297']),\n",
       " TaggedDocument(words=[\"Türk-İş'ten\", '\"asgari', 'ücretten', 'vergi', 'alınmasın\"', 'talebi'], tags=['Train_298']),\n",
       " TaggedDocument(words=[\"''Ee\", 'yok', 'mu', 'hala', \"birileri?''\", 'Sorusuna', 'Karşı', 'Etkili', 'Savunma', 'Teknikleri', '(ya', 'da', 'Düğün', 'Sezonunu', 'Katil', 'Olmadan', 'Atlatma', 'Rehberi...)'], tags=['Train_299']),\n",
       " TaggedDocument(words=['Çizgili', 'Baba', 'Tişörtünden,', 'Gladyatör', 'Sandaletlerine:', 'Bu', 'Yıl', 'da', 'Görmeye', 'Doyamayacağımız', '10', 'Yazlık', 'Kıyafet'], tags=['Train_300']),\n",
       " TaggedDocument(words=[\"Panama'dan\", \"Malta'ya...\", 'Minimum', 'Ekonomik', 'Maliyetle', 'Maksimum', 'Kriz', 'Çıkarılabilecek', 'Dış', 'Mihraklar'], tags=['Train_301']),\n",
       " TaggedDocument(words=['Hastalıklarına', 'Göre', 'Anne', 'Ayırt', 'Etme', 'Rehberi'], tags=['Train_302']),\n",
       " TaggedDocument(words=['Oscar', 'Ödülleri', 'Öncesi', 'Bahisseverlere', 'Bomba', 'Tüyolar...'], tags=['Train_303']),\n",
       " TaggedDocument(words=['Kıvılcım', 'Ural', 'kimdir?'], tags=['Train_304']),\n",
       " TaggedDocument(words=['Ekonomiyi', 'Protesto', 'Amaçlı', 'Fırlatılabilecek', 'Alternatif', 'Esnaf', 'Araç-Gereçleri...', '(Yazar', 'kasa', 'yemez', 'artık', 'evet)'], tags=['Train_305']),\n",
       " TaggedDocument(words=[\"''Abi\", 'çok', 'kafa', 'kızsın', 'sen', \"ya''\", 'Gazıyla', 'Gelen', 'Sinsi', 'Tehlike:', 'Cümle', 'Karşı', 'Cins', 'Tarafından', \"''Kardo''\", 'Olarak', 'Çağırılmak...'], tags=['Train_306']),\n",
       " TaggedDocument(words=['İçişleri', 'Bakanlığı,', 'Kamusal', 'Alanlardaki', 'Başıboş', 'Çocuk', 'Terörüyle', 'Etkin', 'Mücadele', 'İçin', 'Düğmeye', 'Bastı'], tags=['Train_307']),\n",
       " TaggedDocument(words=['Denge', 'Bilekliğinden', 'Ekmek', 'Makinesine...', 'Son', '20', 'Yılda', 'Yapılmış', 'En', 'Lüzumsuz', '7', 'Harcama'], tags=['Train_308']),\n",
       " TaggedDocument(words=['Cumhurbaşkanı', 'Erdoğan:', \"''Halbuki\", 'bir', 'Beyoğlu,', 'Fatih,', 'Bağcılar,', 'Zeytinburnu', 'öyle', 'mi?', 'AK', 'Partili', 'belediyeler', 'sayesinde', 'buraların', 'kaymağını', 'artık', 'Suriyeliler', 'yiyor,', 'Arap', 'kardeşlerimiz', \"yiyor...''\"], tags=['Train_309']),\n",
       " TaggedDocument(words=['MİLGEM', 've', 'Atak', 'ihracatı', 'sonrası', \"Pakistan'a\", 'çıkarma'], tags=['Train_310']),\n",
       " TaggedDocument(words=['Çalışmakla', 'Çalışmamak', 'Arasındaki', 'O', 'Kadar', 'da', 'İnce', 'Olmayan', 'Çizgi:', 'Tüm', 'Yönleriyle', 'Freelance', 'Çalışmak...'], tags=['Train_311']),\n",
       " TaggedDocument(words=['Gümrük', 'Genel', \"Tebliği'nde\", 'değişiklik'], tags=['Train_312']),\n",
       " TaggedDocument(words=['Gamze', 'Özçelik', 'kimdir?'], tags=['Train_313']),\n",
       " TaggedDocument(words=['Hamsi', 'iki', 'ayda', '1,6', 'milyon', 'dolar', 'kazandırdı'], tags=['Train_314']),\n",
       " TaggedDocument(words=['Kara', \"Kuvvetleri'nde\", 'operasyon!', '51', 'kişi', 'hakkında', 'gözaltı', 'kararı'], tags=['Train_315']),\n",
       " TaggedDocument(words=['Olimpiyatların', 'Bilinmeyen', '(Bilinmesi', 'de', 'Pek', 'Gerekmeyen)', 'Gizli', 'Tarihçesi...'], tags=['Train_316']),\n",
       " TaggedDocument(words=['Çin’de', 'bebeklerin', 'genetiğinin', 'değiştirildiği', 'iddiasına', 'soruşturma'], tags=['Train_317']),\n",
       " TaggedDocument(words=['Son', 'dakika...', 'Almanya', \"Rusya'ya\", 'seslendi:', '\"Hemen', 'bırakın!\"'], tags=['Train_318']),\n",
       " TaggedDocument(words=['Saadet', \"Partisi'ne\", 'haciz', 'yollayan', 'Fatih', 'Erbakan', 'yeni', 'partisinin', 'ismini', 'açıkladı!'], tags=['Train_319']),\n",
       " TaggedDocument(words=['Kimse', 'Sevemez', 'Seni', 'Benim', 'Kadar'], tags=['Train_320']),\n",
       " TaggedDocument(words=[\"Beştepe'ye\", 'gelmişti!', 'Fena', 'yakalandı'], tags=['Train_321']),\n",
       " TaggedDocument(words=['İlk', 'Kez', 'Eve', 'Çıkacak', 'Öğrenciler', 'İçin:', 'Mahalle', 'Bakkalına', 'Dozunda', 'Yaltaklanma', 've', 'Veresiye', 'Konusunu', 'Bağlama', 'Rehberi'], tags=['Train_322']),\n",
       " TaggedDocument(words=[\"''Snowboard'la\", '2', 'Poz', 'Vericez', 'Diye', 'O', 'Kadar', 'Masrafa', 'Değer', \"mi?''\", 'Diyenler', 'İçin:', 'Kış', 'Tatiline', 'Motive', 'Olma', 'Rehberi'], tags=['Train_323']),\n",
       " TaggedDocument(words=['AND', 'PASTEL', 'bitmeyen', 'cuma', 'kampanyasıyla', '19', 'Milyon', 'TL', 'ciro', 'elde', 'etti'], tags=['Train_324']),\n",
       " TaggedDocument(words=[\"Gaziantep'te\", 'eve', 'baskın!', 'İçeriden', \"4'ü\", 'kadın,', '93', 'kişi', 'çıktı'], tags=['Train_325']),\n",
       " TaggedDocument(words=['Duyan', 'bankaya', 'koşmuştu!', 'İlk', 'ödeme', 'tarihi', 'belli', 'oldu'], tags=['Train_326']),\n",
       " TaggedDocument(words=[\"Tosuncuk'un\", 'yeni', 'görüntüleri', 'ortaya', 'çıktı'], tags=['Train_327']),\n",
       " TaggedDocument(words=['CHP', 've', 'İYİ', 'Parti', 'arasında', 'ittifak', 'trafiği!'], tags=['Train_328']),\n",
       " TaggedDocument(words=['Test:', \"2017'de\", 'Gündemden', 'Ne', 'Kadar', 'Uzağa', 'Kaçabildiniz?'], tags=['Train_329']),\n",
       " TaggedDocument(words=['4', 'trilyon', 'dolarlık', 'sektör', 'fuarına', '\"HAK\"', 'damga', 'vuracak'], tags=['Train_330']),\n",
       " TaggedDocument(words=['\"Altınları', 'hocaya', 'okutalım\"', 'diyerek', 'dolandırmışlar'], tags=['Train_331']),\n",
       " TaggedDocument(words=['Bayramda', 'Akraba', 'Sorularına', 'Ne', 'Kadar', 'Hazırsınız?', 'Çözümlü,', 'Konu', 'Anlatımlı', 'Soru', 'Bankası'], tags=['Train_332']),\n",
       " TaggedDocument(words=['KPSS', 'önlisans', 'sonuçları', 'için', 'geri', 'sayım!', 'Sonuçların', 'açıklanacağı', 'tarih...'], tags=['Train_333']),\n",
       " TaggedDocument(words=[\"Ankara'da\", 'çok', 'tehlikeli', 'yolculuk!', 'Anbean', 'yansıdı'], tags=['Train_334']),\n",
       " TaggedDocument(words=['Noter', \"Ücreti'nden\", 'Emlakçı', \"Komisyonu'na...\", 'Miktarından', 'Bağımsız', 'Olarak', 'İçimize', 'Oturan', 'Harcamalar...'], tags=['Train_335']),\n",
       " TaggedDocument(words=['Bir', 'anda', 'etrafı', 'sarıldı!', 'Görenler', 'büyük', 'şaşkınlık', 'yaşadı...'], tags=['Train_336']),\n",
       " TaggedDocument(words=[\"Türkiye'de\", 'düzenlenen', 'F1', 'yarışları', \"İstanbul'un\", 'hangi', 'bölgesinde', 'yapılmıştır?'], tags=['Train_337']),\n",
       " TaggedDocument(words=['Çok', 'konuşulan', 'davetle', 'ilgili', 'Bahçeli', 'kararını', 'verdi!'], tags=['Train_338']),\n",
       " TaggedDocument(words=['İndirim', 'Döneminde', 'Hayatta', 'Kalma', 've', 'Zafere', 'Ulaşma', 'Rehberi'], tags=['Train_339']),\n",
       " TaggedDocument(words=['Borsa', 'güne', 'yatay', 'başladı'], tags=['Train_340']),\n",
       " TaggedDocument(words=['Beyin', 'Hakkında', 'Doğru', 'Bildiğimiz', 'Yanlışlar', '(Evet', 'o', 'yüzde', '10', 'olayı', 'da...)'], tags=['Train_341']),\n",
       " TaggedDocument(words=['AİHM', 'Demirtaş', 'serbest', 'bırakılsın', 'kararı', 'verdi'], tags=['Train_342']),\n",
       " TaggedDocument(words=['Yeni', 'Başlayanlar', 'İçin', 'Köpekle', '(O', 'Yoksa', 'da', 'Erkek', 'Arkadaşla)', 'Birlikte', 'Yaşama', 'Kılavuzu...'], tags=['Train_343']),\n",
       " TaggedDocument(words=['Odin,', 'Thor', 've', 'Diğer', 'Taş', 'Gibi', 'Tanrılarıyla:', 'Yeni', 'Başlayanlar', 'İçin', 'İskandinav', 'Mitolojisi...'], tags=['Train_344']),\n",
       " TaggedDocument(words=['Son', 'dakika...', \"Çavuşoğlu'ndan\", 'flaş', 'Kaşıkçı', 'açıklaması:', '7', 'dakika', 'içinde...'], tags=['Train_345']),\n",
       " TaggedDocument(words=['Ülke', 'Ülke', 'Vize', 'Alma', 'Rehberi', '(Siz', 'gene', 'çok', 'güvenmeyin', 'de)...'], tags=['Train_346']),\n",
       " TaggedDocument(words=['Son', 'dakika...AK', \"Parti'de\", 'adayların', 'açıklanacağı', 'tarih', 'belli', 'oldu'], tags=['Train_347']),\n",
       " TaggedDocument(words=['Sinema', 'Tarihinde', 'O', 'Kadar', 'da', 'İz', 'Bırakamayan', 'Edebiyat', 'Uyarlamaları'], tags=['Train_348']),\n",
       " TaggedDocument(words=['Son', 'dakika:', \"İstanbul'da\", 'askeri', 'helikopter', 'düştü!', 'Kahreden', 'detay...'], tags=['Train_349']),\n",
       " TaggedDocument(words=[\"Çad'dan\", \"İsrail'e\", '40', 'yıl', 'sonra', 'ilk', 'ziyaret'], tags=['Train_350']),\n",
       " TaggedDocument(words=['Hamsi', 'bollaştı', 'balık', 'fiyatları', 'düştü'], tags=['Train_351']),\n",
       " TaggedDocument(words=[\"Yufka'dan\", 'Tel', \"Süpürge'ye,\", 'Her', 'Evde', 'Bulunan', 'Günlük', 'Sıradan', 'Objelerle', 'Cinsel', 'Hayatınıza', 'Renk', 'Katma', 'Rehberi...'], tags=['Train_352']),\n",
       " TaggedDocument(words=['Memleket', 'Ziyaretini', 'Mümkünse', '72', 'Saatten', 'Uzun', 'Tutmamak', 'İçin', '6', 'İyi', 'Neden'], tags=['Train_353']),\n",
       " TaggedDocument(words=['Şehitlere', 'veda...'], tags=['Train_354']),\n",
       " TaggedDocument(words=['\"KOBİ\\'ler', 'krizlerin', 'atlatılmasında', 'yüzde', '100', 'rol', 'oynuyor\"'], tags=['Train_355']),\n",
       " TaggedDocument(words=['Hala', 'Bir', 'Şekilde', 'Üzerinden', 'Prim', 'Yapabileceğiniz', '10', 'Eski', 'Çizgi', 'Film'], tags=['Train_356']),\n",
       " TaggedDocument(words=['Ailemizden', 'Duyduğumuz', '7', 'Masum', 'Yalan', 've', 'Hayatımızı', 'Karartma', 'Biçimleri'], tags=['Train_357']),\n",
       " TaggedDocument(words=['Kılıçdaroğlu:', 'Öğretmen', 'maaşı', 'en', 'az', '6', 'bin', 'TL', 'olmalı'], tags=['Train_358']),\n",
       " TaggedDocument(words=['Güneri', 'Cıvaoğlu'], tags=['Train_359']),\n",
       " TaggedDocument(words=[\"'Dev\", 'Peluş', \"Ayı'ya\", 'Şükredesiniz', 'Diye:', 'Birbirinden', 'Berbat', '10', 'Sevgililer', 'Günü', 'Hediyesi...'], tags=['Train_360']),\n",
       " TaggedDocument(words=['Kapalı', 'bariyerden', 'geçmeye', 'çalıştı!', 'Trenin', 'altında', 'kaldı'], tags=['Train_361']),\n",
       " TaggedDocument(words=['Playstation', 'oyunu', 'sırasında', 'mikrofon', 'açık', 'kaldı,', 'tecavüz', 'ortaya', 'çıktı'], tags=['Train_362']),\n",
       " TaggedDocument(words=[\"İzmir'de\", 'terör', 'operasyonu:', '20', 'gözaltı'], tags=['Train_363']),\n",
       " TaggedDocument(words=['Karga,', 'Yunus,', 'Arı', 've', 'Büyük', 'İhtimalle', 'Senden', 'Benden', 'Akıllı', 'Olan', 'Diğer', 'Hayvanlar...'], tags=['Train_364']),\n",
       " TaggedDocument(words=['Depresyonla,', 'Dikkat', 'Dağınıklığıyla', 'Yeterince', 'Prim', 'Yapamayanlar', 'İçin:', 'Aşırı', 'Ender', 'Görülen', 'Nöro-Psikolojik', 'Hastalıklar', '(Vol.', '2)'], tags=['Train_365']),\n",
       " TaggedDocument(words=['YDS', 'sınav', 'giriş', 'belgesi', 'nasıl', 'alınır?', 'YDS/3', 'giriş', 'yerleri'], tags=['Train_366']),\n",
       " TaggedDocument(words=['TBMM', 'Başkanı', 'Binali', 'Yıldırım:', 'Halledeceğiz!'], tags=['Train_367']),\n",
       " TaggedDocument(words=['Gülfim', 'Abla', 'ile', 'Göz', 'Göze', 'Diz', 'Dize...'], tags=['Train_368']),\n",
       " TaggedDocument(words=['Meksika', 'açıklarında', '5.5', 'büyüklüğünde', 'deprem'], tags=['Train_369']),\n",
       " TaggedDocument(words=['Motosiklet', 'yolun', 'karşısına', 'geçenlere', 'çarptı:', '1', 'ölü,', '3', 'yaralı'], tags=['Train_370']),\n",
       " TaggedDocument(words=['Türk', \"Futbolu'nda\", 'Derbilerin', 'Kanlı', 'Bıçaklı', 'Tarihi'], tags=['Train_371']),\n",
       " TaggedDocument(words=['TEST:', \"İstanbul'un\", 'Gece', 'Hayatı', 'Sizden', 'mi', 'Sorulur?', 'Değilse', 'Kimden', 'Sorulur?'], tags=['Train_372']),\n",
       " TaggedDocument(words=['Önümüzdeki', '8', \"Mart'ı\", 'da', 'Sağ', 'Salim', 'Görmek', 'İsteyen', 'Kadınlar', 'İçin', 'Kolay', 've', 'Pratik', 'Hayatta', 'Kalma', 'Rehberi'], tags=['Train_373']),\n",
       " TaggedDocument(words=['Elinden', 'Daha', 'İyisi', 'Gelmeyenler', 'İçin:', '7', 'Adımda', 'Instagram', 'Ünlüsü', 'Olma', 'Rehberi...'], tags=['Train_374']),\n",
       " TaggedDocument(words=['Kimsenin', 'Bombalamaya', 'Tenezzül', 'Etmeyeceği,', 'Ortalık', 'Karışıkken', 'Sığınılabilecek', 'Bölgeler', 'Rehberi'], tags=['Train_375']),\n",
       " TaggedDocument(words=['Cumhurbaşkanı', 'Erdoğan', 'duyurdu:', 'İSEDAK', 'Milli', 'Koordinasyon', 'Komitesi', 'kuruldu'], tags=['Train_376']),\n",
       " TaggedDocument(words=[\"CHP'nin\", 'adaylarını', 'açıklayacağı', 'tarih', 'belli', 'oldu'], tags=['Train_377']),\n",
       " TaggedDocument(words=['Arap', 'Prensler', 'partide', 'dağıttı!'], tags=['Train_378']),\n",
       " TaggedDocument(words=['Çan', 'Eğirdi', 'Bizi:', '“O', 'dersten', 'neden', 'kaldık?”', 'Dosyası...'], tags=['Train_379']),\n",
       " TaggedDocument(words=['Afrika’ya', 'gitti', 'hayatı', 'bir', 'anda', 'değişti'], tags=['Train_380']),\n",
       " TaggedDocument(words=['2.', 'Sınıf', 've', 'Üzeri', 'Öğrenciler', 'İçin:', 'Yurttan', 'Eve', 'Çıkma', 'Konusunda', 'Aileyi', 'İkna', 'Etmenin', '5', 'Yolu'], tags=['Train_381']),\n",
       " TaggedDocument(words=['2', 'bin', 'yıllık', 'Herkül', 'kabartmasına', 'çirkin', 'saldırı'], tags=['Test_0']),\n",
       " TaggedDocument(words=['İzleyecek', 'Bir', 'Şey', 'Bulamayanlar', 'İçin:', 'The', 'Good', \"Doctor'dan\", 'Room', \"104'e\", 'Fırından', 'Taze', 'Çıkan', 'Diziler...'], tags=['Test_1']),\n",
       " TaggedDocument(words=['Dukan’a', 'Uyup', 'Gut', 'Olmak', 'Mı,', 'Karatay’a', 'İnanıp', 'Çaya', 'Tereyağı', 'Katmak', 'Mı?', 'Efendi', 'Gibi', 'Yaz', 'Rejimine', 'Girme', 'Rehberi...'], tags=['Test_2']),\n",
       " TaggedDocument(words=['Yeterince', 'Zengin,', 'Çekici', 've', 'Zeki', 'Olmayanlar', 'İçin', 'Kampüste', 'Cool', 'Görünme', 'Rehberi'], tags=['Test_3']),\n",
       " TaggedDocument(words=['Yeni', 'Başlayacaklar', 've', 'Sadece', \"''Neymiş\", 'lan', 'bu', 'kadar', 'muhabbeti', \"dönüyor?''\", 'Diye', 'Merak', 'Edenler', 'İçin:', 'Fİ'], tags=['Test_4']),\n",
       " TaggedDocument(words=['Sosyal', 'Medyada', 'Marka', 'İletişimi,', 'Mevlana', 'Hazretleri', 've', 'Osmanbey', 'Sucukları'], tags=['Test_5']),\n",
       " TaggedDocument(words=['Meteorolojiden', 'yeni', 'uyarı!', 'Cuma', 'gününe', 'kadar', 'etkili', 'olacak'], tags=['Test_6']),\n",
       " TaggedDocument(words=['Yürekler', 'ağza', 'geldi!', 'Yerin', 'bin', 'metre', 'üstünde…'], tags=['Test_7']),\n",
       " TaggedDocument(words=['Yaman', 'Törüner'], tags=['Test_8']),\n",
       " TaggedDocument(words=['Son', 'dakika...', 'THY', 'gelecek', 'yıl', '2', 'bin', '600', 'personel', 'alacak'], tags=['Test_9']),\n",
       " TaggedDocument(words=['Kısmetse', 'Ağustos', 'Sonunu', 'Göremeden', 'Hayatımızdan', 'Sonsuza', 'Dek', 'Çıkacak', '7', 'Yaz', 'Dizisi...'], tags=['Test_10']),\n",
       " TaggedDocument(words=['Trump:', 'Brexit', 'Anlaşması', 'ABD-İngiltere', 'ticaretini', 'tehdit', 'ediyor'], tags=['Test_11']),\n",
       " TaggedDocument(words=['Bodrum', 'mandalinası', 'cips', 've', 'lokum', 'oldu'], tags=['Test_12']),\n",
       " TaggedDocument(words=['Sevgili', 'Kavgasından', 'Boktan', 'Müziklere...', 'Parayla', 'Rezil', 'Olma', 'Sanatı', 'Olarak', 'Yaz', 'Tatili'], tags=['Test_13']),\n",
       " TaggedDocument(words=['Ne', 'Demek', 'İstiyorlar?', 'Niye', 'Saçma', 'Sapan', 'Konuşuyorlar:', 'A’dan', 'Z’ye', '2.', 'El', 'Araba', 'İlanları', 'Sözlüğü...'], tags=['Test_14']),\n",
       " TaggedDocument(words=['Son', 'dakika...', 'İstanbullular', 'dikkat!', 'Seferler', 'iptal', 'edildi...'], tags=['Test_15']),\n",
       " TaggedDocument(words=['William', 'Wallace’dan', 'Bu', 'Yana', 'İskoç', 'Seven', 'Bünyelerin', 'Yeni', 'Gözdesi:', 'Scottish', 'Fold'], tags=['Test_16']),\n",
       " TaggedDocument(words=['Türk', 'Dil', 'Kurumu', 'İçin', 'Alternatif', 'Sözcük', 'Tanımı', 'Önerileri'], tags=['Test_17']),\n",
       " TaggedDocument(words=['Yarıyıl', 'tatili', 'ne', 'zaman', 'başlıyor?', 'MEB', '15', 'tatilin', 'başlangıcını', 'duyurdu...'], tags=['Test_18']),\n",
       " TaggedDocument(words=[\"Muğla'da\", 'yetiştirilen', 'alabalığa', 'yabancı', 'ilgisi'], tags=['Test_19']),\n",
       " TaggedDocument(words=['Palyaçoya', 'Hallenenler,', 'Yutulmak', 'İsteyenler', 've', 'Diğerleri...', \"''Oha\", 'bu', 'da', 'mı', \"varmış?!''\", 'Dedirten', 'Fetişler,', 'Fetişlerimiz'], tags=['Test_20']),\n",
       " TaggedDocument(words=['Saatler', 've', 'Yüzlerce', 'Lira', 'Harcayarak', 'Çirkinleşme', 'Sanatı:', 'Düğün', 'Öncesi', 'Kuaföre', 'Gitmek'], tags=['Test_21']),\n",
       " TaggedDocument(words=['9.', 'Boğaziçi', 'Zirvesi', 'başladı'], tags=['Test_22']),\n",
       " TaggedDocument(words=['Türk', 'Futbolu’nun', 'O', 'Kadar', 'da', 'Şanlı', 'Olmayan', 'Avrupa', 'Kupaları', 'Tarihi'], tags=['Test_23']),\n",
       " TaggedDocument(words=['Edebiyata', 'Oynayanından,', 'Bodoslama', 'Dalanına...', \"DM'den\", 'Yürüyenlerimizi', 'Tanıyalım'], tags=['Test_24']),\n",
       " TaggedDocument(words=['Son', 'dakika...', 'AK', 'Parti', 'Antalya', 'adayını', 'açıkladı'], tags=['Test_25']),\n",
       " TaggedDocument(words=['Son', 'dakika...', 'CHP', 'Öztürk', \"Yılmaz'ı\", 'ihraç', 'etti'], tags=['Test_26']),\n",
       " TaggedDocument(words=['Putin,', \"Ukrayna'nın\", 'savaşa', 'hazır', 'olmasından', 'endişeli'], tags=['Test_27']),\n",
       " TaggedDocument(words=['Devlet', 'desteğiyle', 'yılda', '60', 'ton', 'bal', 'üretiyor'], tags=['Test_28']),\n",
       " TaggedDocument(words=['Bir', 'Karın', 'Ağrısı', 'Olarak', 'Uzak', 'Mesafe', 'İlişkisi:', 'Yürür', 'mü?', 'Nasıl', 'Yürür?', 'Telefonu', 'Niye', 'Kapalı?!'], tags=['Test_29']),\n",
       " TaggedDocument(words=['Futbol', 'Muhabbetinden', 'Geri', 'Kalmamak', 'İçin', 'Ezberinizde', 'Bulunması', 'Gereken', '11', 'Pratik', 'Kalıp'], tags=['Test_30']),\n",
       " TaggedDocument(words=['BM', \"Libya'nın\", 'güneyindeki', 'saldırıyı', 'kınadı'], tags=['Test_31']),\n",
       " TaggedDocument(words=[\"MHP'nin\", 'Antalya', 'kampı', 'yarın', 'başlıyor'], tags=['Test_32']),\n",
       " TaggedDocument(words=['Kırmızı', 'Dondan,', 'Parfümden', 'İkrah', 'Edenler', 'İçin', 'Alternatif', 'Yılbaşı', 'Hediyeleri...'], tags=['Test_33']),\n",
       " TaggedDocument(words=[\"İran'da\", 'yüzlerce', 'üst', 'düzey', 'yetkili', 'istifa', 'etti'], tags=['Test_34']),\n",
       " TaggedDocument(words=['Son', 'Dakika...', 'İçişleri', 'Bakanlığı', 'duyurdu!', 'Gri', 'listedeki', 'terörist', 'etkisiz', 'hale', 'getirildi'], tags=['Test_35']),\n",
       " TaggedDocument(words=['Mutlaka', 'Bilinmesi', 've', 'İzlenmiş', 'Gibi', 'Yapılması', 'Gereken', '10', 'Film'], tags=['Test_36']),\n",
       " TaggedDocument(words=['İlk', 'Buluşmada', 'Kesinlikle', 'Sipariş', 'Etmemeniz', 'Gereken', '5', 'Yemek'], tags=['Test_37']),\n",
       " TaggedDocument(words=['Aydın-Denizli', 'Otoyolu', 'Projesi', 'ihalesi'], tags=['Test_38']),\n",
       " TaggedDocument(words=['Gurbet', 'Elde', 'Başınıza', 'İş', 'Açmayın:', 'Sık', 'Kullandığımız', 'El-Kol', 'Hareketlerinin', 'Dünyanın', 'Geri', 'Kalanındaki', 'Mealleri...'], tags=['Test_39']),\n",
       " TaggedDocument(words=['Raf', 'Ömrü', 'Maksimum', '1', 'Yıl', 'Olan', 'Birbirinden', 'Tırt', '8', 'Arkadaşlık', 'Grubu...'], tags=['Test_40']),\n",
       " TaggedDocument(words=['İyice', 'Ürkek', 'Ceylana', 'Bağlayanlar', 'İçin:', 'Travma', 'Sonrası', 'Stres', 'Bozukluğu', 'Nedir?', 'Nasıl', 'Başa', 'Çıkarız?'], tags=['Test_41']),\n",
       " TaggedDocument(words=['Dağdan', 'vurdular!'], tags=['Test_42']),\n",
       " TaggedDocument(words=['Onlara', 'Ne', 'Kaçırdıklarını', 'Gösterin:', 'Her', 'Tarza', 'Uygun', '10', 'Mezuniyet', 'Balosu', 'Kreasyonu...'], tags=['Test_43']),\n",
       " TaggedDocument(words=['Henüz', 'yaptırmayanlar', 'dikkat!', 'Haftaya', 'cuma', 'son...'], tags=['Test_44']),\n",
       " TaggedDocument(words=['Her', 'Terör', 'Saldırısından', 'Sonra', 'Ansızın', 'Sosyal', 'Medyada', 'Beliren', '8', 'Değişik', 'Tip'], tags=['Test_45']),\n",
       " TaggedDocument(words=['Trump', 'açık', 'açık', 'tehdit', 'etti!'], tags=['Test_46']),\n",
       " TaggedDocument(words=['Son', 'dakika…', 'İçişleri', 'Bakanlığı:', '1', 'haftada', '18', 'teröristin', 'etkisiz', 'hale', 'getirildi'], tags=['Test_47']),\n",
       " TaggedDocument(words=['Elden', 'Duyacağınıza', 'Bizden', 'Duyun:', 'En', 'Geç', '2', 'Ay', 'İçinde', 'Terk', 'Edileceğinizi', 'Gösteren', 'Temel', 'İşaretler'], tags=['Test_48']),\n",
       " TaggedDocument(words=[\"Ankara'yı\", 'Sevme', 'Sürecinde', 'Geçilen', '6', 'Evre', '(Tabii', 'böyle', 'bir', 'şey', 'mümkünse)...'], tags=['Test_49']),\n",
       " TaggedDocument(words=['Son', 'dakika...', 'Cumhurbaşkanı', 'Erdoğan', 'o', 'isimleri', 'yarın', 'açıklayacak'], tags=['Test_50']),\n",
       " TaggedDocument(words=['Soğan', 'fiyatları', 'ucuzladı'], tags=['Test_51']),\n",
       " TaggedDocument(words=['İlk', 'İhanetten,', \"''Sadece\", 'fön', \"lütfen''e...\", 'Kuaförünüzle', 'Ayrılık', 'Vaktinin', 'Geldiğini', 'Gösteren', '6', 'Temel', 'İşaret'], tags=['Test_52']),\n",
       " TaggedDocument(words=['Feci', 'kaza!', 'Otomobil', 'takla', 'atarak', 'durdu'], tags=['Test_53']),\n",
       " TaggedDocument(words=['Hala', 'Kavgasını', 'Etmeyen', 'Varsa', 'Diye:', 'Önümüzdeki', 'Yıllarda', \"WhatsApp'a\", 'Eklenecek', 'Olan', '8', 'Yeni', 'Özellik'], tags=['Test_54']),\n",
       " TaggedDocument(words=['O', 'ülke', \"Türkiye'den\", 'binlerce', 'işçi', 'alacak!', 'Detaylar', 'bugün', 'açıklandı'], tags=['Test_55']),\n",
       " TaggedDocument(words=['Son', 'Dakika...', \"Rusya'ya\", 'peş', 'peşe', 'uyarılar!', 'Kerç', \"Boğazı'ndaki...\"], tags=['Test_56']),\n",
       " TaggedDocument(words=[\"Rusya'dan\", 'çok', 'konuşulacak', 'Kırım', 'hamlesi!', 'Buraya', 'inşa', 'ettiler'], tags=['Test_57']),\n",
       " TaggedDocument(words=['34.', 'İSEDAK', 'Zirvesi', 'için', 'geri', 'sayım', 'başladı'], tags=['Test_58']),\n",
       " TaggedDocument(words=['Aleme', 'Maskara', 'Olmanın', '16', 'Farklı', 'Yolu:', \"Facebook'ta\", 'Tanışmak', 'İçin', 'Atılan', 'İlk', 'Mesajlar...'], tags=['Test_59']),\n",
       " TaggedDocument(words=['Dostluğun', 'Ateşle', 'İmtihanı:', 'Kız', 'Kıza', 'Tatile', 'Gitmek...'], tags=['Test_60']),\n",
       " TaggedDocument(words=[\"‘'Müjde!\", 'Baba', 'Oluyosun!’’', 'Cümlesinden', 'Çocuğu', 'Kucağınıza', 'Alana', 'Kadar', 'Aşmanız', 'Gereken', '5', 'Kritik', 'Evre...'], tags=['Test_61']),\n",
       " TaggedDocument(words=['Evliliğin', 'İlk', 'Yılını', 'Kazasız', 'Belasız', 'Atlatmak', 'İçin', 'Bilmeniz', 'Gereken', '5', 'Temel', 'Kural'], tags=['Test_62']),\n",
       " TaggedDocument(words=['Türk', 'Futbol', 'Kültürüne', 'Tribün', 'Dili', 'Üzerinden', 'Retrospektif', 'Bir', 'Bak..', 'Şaka', 'Şaka...', 'En', 'Naifinden', 'En', \"Analıbacılı'sına\", 'Geleneksel', 'Tribün', 'Tezahüratlarımız'], tags=['Test_63']),\n",
       " TaggedDocument(words=['9', 'Adımda', 'Kolay', 've', 'Pratik', 'Ortadoğu', 'Uzmanı', 'Olma', 'Rehberi...'], tags=['Test_64']),\n",
       " TaggedDocument(words=[\"Batman'da\", 'teröristlerle', 'çatışma!', '1', 'polis', 'şehit', 'oldu'], tags=['Test_65']),\n",
       " TaggedDocument(words=['Bakan', \"Pakdemirli'den\", 'öğrencilere', 'kart', 've', 'hediye'], tags=['Test_66']),\n",
       " TaggedDocument(words=['Ortalama', '300', 'Arkadaşı', 'Olanlar', 'İçin', \"Facebook'ta\", 'Bayram', 'Mesajı', 'Beğendirme', 'Taktikleri...'], tags=['Test_67']),\n",
       " TaggedDocument(words=['Ölü', 'Japon', 'Balığından,', 'CanKan', 'Albümüne...', 'Alınmış', 'En', 'Kötü', 'Doğumgünü', 'Hediyeleri'], tags=['Test_68']),\n",
       " TaggedDocument(words=['Tatil', 'cennetini', 'ayağa', 'kaldıran', 'olay!', 'İrlandalı', 'kadın', 'turist', 'dehşeti', 'yaşadı'], tags=['Test_69']),\n",
       " TaggedDocument(words=['Çevrenizdekileri', 'Mümkün', 'Mertebe', 'Kendinizden', 'Tiksindirmeden', 'Çocuk', 'Sahibi', 'Olma', 'Rehberi'], tags=['Test_70']),\n",
       " TaggedDocument(words=[\"AB'de\", 'internet', 'kullanıcılarının', 'yüzde', \"68'i\", 'sanal', 'alışveriş', 'yapıyor'], tags=['Test_71']),\n",
       " TaggedDocument(words=['Son', 'dakika...', 'Kılıçdaroğlu', 'ile', 'görüşen', 'İnce:', \"İstanbul'a\", 'sandık', 'konulmazsa...'], tags=['Test_72']),\n",
       " TaggedDocument(words=['Boya', 'Yerine', 'Karınca', 'Kullanandan,', 'Tuvale', 'Kusana...', 'Ne', 'Bok', 'Yiyeceğini', 'Şaşırmış', 'Ressamlarımızı', 'Tanıyalım...'], tags=['Test_73']),\n",
       " TaggedDocument(words=['Son', 'dakika...', 'Orta', 'Amerika', 'ülkesinde', 'deprem'], tags=['Test_74']),\n",
       " TaggedDocument(words=['Sevgililer', \"Günü'nde\", 'Mümkün', 'Mertebe', 'Uzak', 'Durulması', 'Gereken', '10', 'Yer'], tags=['Test_75']),\n",
       " TaggedDocument(words=['Yarı', 'Yıl', 'Tatili', 'Aldatmacası:', 'Üniversite', 'Öğrencilerini', 'Memlekette', 'Bekleyen', '7', 'Büyük', 'Tehlike...'], tags=['Test_76']),\n",
       " TaggedDocument(words=['Cumhurbaşkanı', 'Yardımcısı', 'Oktay:', 'Sudan', 'ile', 'iyi', 'bir', 'yoldayız'], tags=['Test_77']),\n",
       " TaggedDocument(words=[\"'Cinsiyetçi!'\", 'Damgalarınızı', 'Hazırlayın:', 'Kadın', 'Beyni', 've', 'Erkek', 'Beyni', 'Arasındaki', 'Temel', 'Farklar'], tags=['Test_78']),\n",
       " TaggedDocument(words=['Göbeği', 'İçeri', 'Çekerken', 'Daha', 'Az', 'Komik', 'Görünmenizi', 'Sağlayacak', '5', 'Diyet'], tags=['Test_79']),\n",
       " TaggedDocument(words=['Yeni', 'Başlayanlar', 'İçin', '(Pısst!', 'Sana', 'diyoruz', 'çömez):', \"Eskişehir'de\", 'Öğrenci', 'Olmak'], tags=['Test_80']),\n",
       " TaggedDocument(words=['Son', 'dakika:', 'Kılıçdaroğlu', 'ile', 'Karamollaoğlu', 'arasında', 'kritik', 'görüşme!'], tags=['Test_81']),\n",
       " TaggedDocument(words=['Yollarda', 'karla', 'mücadeleye', 'sıkı', 'takip'], tags=['Test_82']),\n",
       " TaggedDocument(words=['Yeni', 'Başlayanlar', 'İçin:', 'Sorgulama...', \"Sokrates'ten\", \"Marx'a\", 'Felsefe', 'Dünyasının', 'Sektöründe', 'Lider', 'İsimleri', '(Vol', '1)'], tags=['Test_83']),\n",
       " TaggedDocument(words=['Meteoroloji', 'uyarmıştı!', 'Kent', 'beyaza', 'büründü'], tags=['Test_84']),\n",
       " TaggedDocument(words=['Dünyanın', 'En', 'İlgi', 'Çekici', 'Amatör', 'Futbol', 'Turnuvası', 'World', 'Football', \"Week'te\", 'Yapılacak', '10', 'Şey'], tags=['Test_85']),\n",
       " TaggedDocument(words=['Son', 'dakika...', 'Ve', 'ilk', 'fotoğraflar', 'geldi!', 'Bulana', 'kadar', 'asla', 'durmayacağız'], tags=['Test_86']),\n",
       " TaggedDocument(words=['Alemin', 'Derdi', 'Sizi', 'Gerdiğinde:', 'Ayrılık', 'Acısı', 'Çeken', 'Yakın', 'Arkadaşı', 'Teselli', 'Etme', 'Rehberi...'], tags=['Test_87']),\n",
       " TaggedDocument(words=[\"TMO'dan\", 'çiftçiye', '\"alım', 'fiyatı\"', 'müjdesi'], tags=['Test_88']),\n",
       " TaggedDocument(words=['Engelli', 'memur', 'alımı', 'ne', 'zaman?', 'ÖSYM', 'tarihi', 'açıkladı...'], tags=['Test_89']),\n",
       " TaggedDocument(words=['Pelin', 'Akil', 'hangi', 'dizilerde', 'oynadı?'], tags=['Test_90']),\n",
       " TaggedDocument(words=['Belediye', 'Başkanı', 'çileden', 'çıktı!', \"'Görevden\", \"alın...'\"], tags=['Test_91']),\n",
       " TaggedDocument(words=['Günde', '10', 'tane', 'üretiyorlar!', 'Fiyatı', '5', 'lira...'], tags=['Test_92']),\n",
       " TaggedDocument(words=['Türkiye', 'de', \"Mars'a\", 'insan', 'yollamak', 'için', 'çalışmalara', 'başladı...'], tags=['Test_93']),\n",
       " TaggedDocument(words=['Gelişen', 'ülke', 'para', 'birimleri', 'düştü'], tags=['Test_94']),\n",
       " TaggedDocument(words=['Son', 'dakika:', 'Cemal', \"Kaşıkçı'nın\", 'ölümüne', 'ilişkin', 'çok', 'konuşulacak', 'açıklamalar!'], tags=['Test_95']),\n",
       " TaggedDocument(words=['15', \"Şubat'ı\", 'da', 'Çift', 'Olarak', 'Görmek', 'İsteyenler', 'İçin', 'Dikkat', 'Edilmesi', 'Gereken', '5', 'Hayati', 'Husus'], tags=['Test_96']),\n",
       " TaggedDocument(words=['İlla', 'Dışarı', 'Çıkası', 'Olanlar', 'İçin', 'Alternatif', 'Yılbaşı', 'Programı', 'Önerileri'], tags=['Test_97']),\n",
       " TaggedDocument(words=['Euro', 'Muro', 'Bana', 'Koymaz', 'Diyenler', 'İçin:', 'Sevgiliyle', 'Yurt', 'Dışı', 'Tatili', 'Yapma', 'Rehberi...'], tags=['Test_98']),\n",
       " TaggedDocument(words=['Türkiye,', 'Bangladeş', 'pazarına', 'açılmaya', 'hazırlanıyor'], tags=['Test_99']),\n",
       " TaggedDocument(words=['İsmail', \"YK'dan\", 'Grup', \"Tillo'ya...\", 'Milli', 'Takım', 'İçin', 'Yapılmış', '7', 'Berbat', 'Şarkı', 've', 'Sorumluluları...'], tags=['Test_100']),\n",
       " TaggedDocument(words=['Hafta', 'Sonu', 'Şansı', 'Yaver', 'Gidecekler', 'İçin:', 'Burçlara', 'Göre', 'Tek', 'Gecelik', 'İlişki', 'Rehberi...'], tags=['Test_101']),\n",
       " TaggedDocument(words=['Gün', 'Onun', 'Günü:', 'Yılbaşı', 've', 'Kırmızı', 'Don', 'Dosyası...'], tags=['Test_102']),\n",
       " TaggedDocument(words=['Cumhurbaşkanı', 'Erdoğan', 'Ülke', 'Dışındayken', 'Yapılabilecek', 'Ufak', 'Şımarıklıklar...'], tags=['Test_103']),\n",
       " TaggedDocument(words=['Evimizdeki', 'Düşman:', 'Kombi...', 'Ehlileştirme', 've', 'Tasarruf', 'Bilinci', 'Kazandırma', 'Rehberi...'], tags=['Test_104']),\n",
       " TaggedDocument(words=['TBMM', 'Başkanı', 'Yıldırım:', 'Dayanışmayla', 'halledeceğiz'], tags=['Test_105']),\n",
       " TaggedDocument(words=['Halil', 'Sezai...', 'Acı', 'çekiyor...'], tags=['Test_106']),\n",
       " TaggedDocument(words=[\"Diyarbakır'da\", 'iki', 'ilçede', 'büyük', 'operasyon!'], tags=['Test_107']),\n",
       " TaggedDocument(words=['Katılmak', 'İçin', '5', 'Kere', 'Düşüneceğiniz', '5', 'Festival'], tags=['Test_108']),\n",
       " TaggedDocument(words=['Masterchef', 'Murat', 'kimdir?'], tags=['Test_109']),\n",
       " TaggedDocument(words=['Donla', 'Suya', 'Girilebilecek', 'En', 'Güzel', '5', 'Mekan'], tags=['Test_110']),\n",
       " TaggedDocument(words=['Akıllara', 'durgunluk', 'veren', 'olay!', 'Erkek', 'arkadaşıyla', 'tartışınca...'], tags=['Test_111']),\n",
       " TaggedDocument(words=['Yağmur', 'Duası', 'Yerine', 'Geçen', 'Fönden,', 'Tatili', 'Bekleyen', 'Regle…', 'Kadın', 'Olmanın', 'Gereği', 'Standart', 'Bahtsızlıklar'], tags=['Test_112']),\n",
       " TaggedDocument(words=['Ülkede', 'Gerçekten', 'Boktan', 'Bir', 'Şeyler', 'Olduğunu', 'Anlamamızı', 'Sağlayan', '5', 'Temel', 'İşaret'], tags=['Test_113']),\n",
       " TaggedDocument(words=['Futbol', 'Sezonunu', 'Minimum', 'Hasarla', 'Atlatmak', 'İçin', 'Uzak', 'Durmanız', 'Gereken', '10', 'Kişi'], tags=['Test_114']),\n",
       " TaggedDocument(words=['İzmir', 'adayı', 'Nihat', \"Zeybekçi'den\", 'ilk', 'açıklama'], tags=['Test_115']),\n",
       " TaggedDocument(words=['Sayılı', 'günler', 'kaldı!', '715', 'lira', 'cezası', 'var...'], tags=['Test_116']),\n",
       " TaggedDocument(words=['Haftanın', 'Kitapları:', \"'...Ve\", 'Susam', 'Taneleri', 'Vardı', \"Klavyede',\", \"'Tutunur\", 'Gibi', \"Olanlar',\", \"'Pişmaniye\", \"Günlükleri'...\"], tags=['Test_117']),\n",
       " TaggedDocument(words=['Araştırma', 'Dosyası:', 'Tarihe', 'Damga', 'Vurmuş', 'Kimi', 'Ünlülerin', 'Ölmeden', 'Önceki', 'Son', 'Sözleri', '(Bazısı', 'baya', 'tırt)'], tags=['Test_118']),\n",
       " TaggedDocument(words=[\"'Çingene\", \"Kızı'\", 'mozaiğinin', 'kayıp', 'parçaları', \"Türkiye'ye\", 'getirildi'], tags=['Test_119']),\n",
       " TaggedDocument(words=['Evlilik', 'Arefesindeki', 'Çiftler', 'İçin:', 'Birbirinizi', 'Boğacak', 'Kıvama', 'Gelmeden', 'Ev', 'Kurma', 'Rehberi'], tags=['Test_120']),\n",
       " TaggedDocument(words=['Binlerce', 'Yürek', 'Tek', 'Bir', 'Soru:', 'Tatile', 'Giderken', 'Evcil', 'Hayvanımı', 'Nereye', 'Bırakırım?'], tags=['Test_121']),\n",
       " TaggedDocument(words=['Karşı', 'Cinse', 'Selam', 'Bile', 'Veremeyenler', 'İçin:', 'Konuşma', 'Gerektirmeyen', '10', 'Enfes', 'Alternatif'], tags=['Test_122']),\n",
       " TaggedDocument(words=['Kronik', 'Alerjikten,', 'Park', \"Selfie'cisine...\", 'Baharın', 'Gelmesiyle', 'Bir', 'Anda', 'Ortalıkta', 'Beliren', 'Tipler'], tags=['Test_123']),\n",
       " TaggedDocument(words=[\"Osmanlı'dan\", 'Günümüze', 'Bir', 'Ramazan', 'Geleneği:', 'Ortamlarda', 'Oruç', 'Tutuyor', 'Gibi', 'Görünme', 'Sanatı'], tags=['Test_124']),\n",
       " TaggedDocument(words=['Son', 'dakika...', 'Bakanlık', 'açıkladı!', 'LGS', 'tarihi', 'belli', 'oldu'], tags=['Test_125']),\n",
       " TaggedDocument(words=['Gangnam', 'Style', 'Öncesi', 'Ülkemizin', 'Atlattığı', 'Benzer', 'Badireler'], tags=['Test_126']),\n",
       " TaggedDocument(words=['Çiçeği', 'Burnunda', 'Babalar', 'İçin:', 'Bebek', 'Bakım', 'Kılavuzu...'], tags=['Test_127']),\n",
       " TaggedDocument(words=['Instagram', 'Sayesinde', 'Kısa', 'Sürede', 'Yedi', 'Sülalenize', 'Yetecek', 'Kadar', 'Beddua', 'Alma', 'Rehberi'], tags=['Test_128']),\n",
       " TaggedDocument(words=['Bilim', '-', 'Okullar', 'Açılırken', 'Yaklaşan', 'Açık', 'Tehlike:', 'Ergenler!', '(Neden', 'böyleler?', 'Nasıl', 'başa', 'çıkarız?)'], tags=['Test_129']),\n",
       " TaggedDocument(words=['Son', 'dakika...', 'Veliaht', 'Prens', 'hakkında', 'suç', 'duyurusu!'], tags=['Test_130']),\n",
       " TaggedDocument(words=[\"''Amaaan\", 'şimdi', 'eve', 'gidip', 'kim', 'yemek', \"yapacak?''\", 'şeklinde', 'düşünen', 'takipçilerimizi', 'diğerlerinden', 'bi', 'tık', 'daha', 'fazla', 'seviyoruz,', 'dürüst', 'olalım...'], tags=['Test_131']),\n",
       " TaggedDocument(words=[\"İstanbul'un\", 'En', 'Kötü', '10', 'Köftecisi'], tags=['Test_132']),\n",
       " TaggedDocument(words=[\"Myanmar'dan\", 'kaçan', '93', 'Arakanlı', 'Müslümanı', 'taşıyan', 'tekne', 'durduruldu'], tags=['Test_133']),\n",
       " TaggedDocument(words=['Adanalı', 'tatlıyı', 'ayaküstü', 'yiyor'], tags=['Test_134']),\n",
       " TaggedDocument(words=['Standart', 'Instagram', 'Fotoğraflarına', 'Yapılan', 'Standart', 'Yorumlar', 've', 'Türkçe', 'Mealleri'], tags=['Test_135']),\n",
       " TaggedDocument(words=['O', 'Son', '5', '(Hadi', 'bilemedin', '25)', 'Kiloyu', 'Asla', 'Veremeyenler', 'İçin:', 'Toplumsal', 'Baskıyla', 'Mücadele', 'Rehberi'], tags=['Test_136']),\n",
       " TaggedDocument(words=['2', 'gündür', 'kayıptı!', 'İş', 'adamına', 'direksiyon', 'başında', 'kanlı', 'infaz...'], tags=['Test_137']),\n",
       " TaggedDocument(words=['Kafanızı', 'Kurcalayan', 'Soru:', 'Bu', 'Çocuk', 'Beni', 'Eve', 'mi', 'Atmaya', 'Çalışıyor?', '(E', 'Yani...)'], tags=['Test_138']),\n",
       " TaggedDocument(words=['Altın', 'fiyatları', 'ne', 'kadar?', \"Kapalıçarşı'da\", 'çeyrek', 've', 'gram', 'altın', 'fiyatları...'], tags=['Test_139']),\n",
       " TaggedDocument(words=['Yeni', 'Başlayanlar', 've', 'Bir', 'Gün', 'Başlamayı', 'Umanlar', 'İçin:', 'Kız', 'Arkadaşın', 'Çevresindeki', '6', 'Tehlikeli', 'Karakter'], tags=['Test_140']),\n",
       " TaggedDocument(words=['Akıbeti', 'merak', 'ediliyordu!', 'Ve', 'kiralandı...'], tags=['Test_141']),\n",
       " TaggedDocument(words=['On', 'Numara', 'sonuçları', 'belli', 'oldu!', '(On', 'Numara', 'sonuç', 'sorgulama', 'ekranı)'], tags=['Test_142']),\n",
       " TaggedDocument(words=['Karşılaştırma:', 'Evde', 'Hayvan', 'Beslemek', 'vs', 'Bebek', 'Beslemek...', 'Hangisi', 'Daha', 'Mantıklı?'], tags=['Test_143']),\n",
       " TaggedDocument(words=['AÖF', 'sonuçları', 'hangi', 'tarihte', 'açıklanacak?', '2018', 'AÖF', 'soru', 'kitapçığı', 've', 'cevap', 'anahtarı'], tags=['Test_144']),\n",
       " TaggedDocument(words=['Ortalama', '4', 'Seneyi', 'Birlikte', 'Geçirdiğimiz', 'Cins', 'Cins', 'Tiplere', 'Son', 'Veda:', 'Mezuniyet', 'Baloları'], tags=['Test_145']),\n",
       " TaggedDocument(words=['Millet', 'kıraathanelerinde', 'unutulmaya', 'yüz', 'tutmuş', 'gelenek', 've', 'göreneklerimiz', 'yaşatılmaya', 'devam', 'ediyor...'], tags=['Test_146']),\n",
       " TaggedDocument(words=['Üşenenler', 've', 'Yarın', 'Öbürgün', 'Ekranda', 'Rezil', 'Olmak', 'İstemeyenler', 'İçin:', 'Klasik', 'Kitapların', 'Tek', 'Cümlelik', 'Özetleri...'], tags=['Test_147']),\n",
       " TaggedDocument(words=['Belgesel', 'Kuşağı:', 'Bebekler', 'Diyarı'], tags=['Test_148']),\n",
       " TaggedDocument(words=['Playstation', 'oyunu', 'sırasında', 'mikrofon', 'açık', 'kaldı,', 'tecavüz', 'ortaya', 'çıktı'], tags=['Test_149']),\n",
       " TaggedDocument(words=[\"'Kötülükleri,\", 'sporun', 'gücüyle', \"yeneceğiz'\"], tags=['Test_150']),\n",
       " TaggedDocument(words=['Sokak', 'Kedilerinden,', 'Arkası', 'Flu', 'Dayıoğluna...', 'Profesyonel', 'Fotoğrafçılığa', 'Giden', 'Çileli', 'Yolun', '5', 'Temel', 'Aşaması'], tags=['Test_151']),\n",
       " TaggedDocument(words=['Bundan', 'da', 'Eksik', 'Kalmadık', 'Aynen:', 'Antik', \"Yunan'dan\", \"Ortaçağ'a\", 'Kadın', 'Filozoflar...'], tags=['Test_152']),\n",
       " TaggedDocument(words=['Öğrenciler,', 'Bekarlar', 've', 'Aşırı', 'Fakir', 'Evliller', 'İçin:', '(Neredeyse)', \"İstanbul'da\", '500', 'TL', 've', 'Altı', 'Kiralık', 'Daireler...'], tags=['Test_153']),\n",
       " TaggedDocument(words=['Taksici', 'Telefonundan,', 'En', 'Son', 'Model', \"iPhone'a...\", 'Cep', 'Telefonunuza', 'Göre', 'Karakter', 'Analiziniz'], tags=['Test_154']),\n",
       " TaggedDocument(words=['Cinayet', 'anı', 'kamerada!', 'Defalarca', 'bıçakladı...'], tags=['Test_155']),\n",
       " TaggedDocument(words=['Kılıçdaroğlu', '-', 'İnce', 'görüşmesinin', 'saati', 'belli', 'oldu'], tags=['Test_156']),\n",
       " TaggedDocument(words=['Ne', 'İzlemeli?', 'Nasıl', 'İzlemeli?', 'Yeni', 'Dizi', 'Sezonunda', 'Hayatta', 'Kalma', 'Rehberi...'], tags=['Test_157']),\n",
       " TaggedDocument(words=['İyi', 'Bir', 'Esnafın', 'Sahip', 'Olması', 'Gereken', '5', 'Temel', 'Özellik'], tags=['Test_158']),\n",
       " TaggedDocument(words=['AK', \"Parti'nin\", 'adayları', 'arasında', 'gösterilen', 'isim:', 'İzmir', 'mahallenin', 'en', 'güzel', 'kızı,', 'kim', 'istemez'], tags=['Test_159']),\n",
       " TaggedDocument(words=['Krize', 'Hazırlanın:', 'Doğalgaz', 'Kesilirse', 'Evimizde', 'Kullanabileceğimiz', 'Düşük', 'Maliyetli', 'Yakacaklar', 'Listesi'], tags=['Test_160']),\n",
       " TaggedDocument(words=['KYK', 'taahhütname', 'onayı', 'nasıl', 'yapılır?', 'KYK', 'o', 'süreyi', 'uzattı'], tags=['Test_161']),\n",
       " TaggedDocument(words=['Şşş', 'Tamam', 'Sakin,', 'Biz', 'Varız:', 'Sevgiliden', 'Ayrıldıktan', 'Sonra', 'Hayatta', 'Kalma', 'Rehberi...'], tags=['Test_162']),\n",
       " TaggedDocument(words=['14', \"Şubat'a\", 'Yalnız', 'Girecekler', 'İçin', 'Hayatta', 'Kalma', 'Rehberi...'], tags=['Test_163']),\n",
       " TaggedDocument(words=['Saç', 'Rengini', 'Açtırıp', \"Yattara'ya\", 'Dönmekten,', 'Takma', 'Tırnaklara...', 'Potansiyel', 'Yaz', 'Aşkı', 'Katilleri'], tags=['Test_164']),\n",
       " TaggedDocument(words=['2', 'Ekmek', 'Satmak', 'İçin', 'Bakkalınız', 'da', 'Darth', 'Vader', 'Maskesi', 'Taktığına', 'Göre:', 'Star', 'Wars', 'Çılgınlığından', 'Korunma', 'Yolları'], tags=['Test_165']),\n",
       " TaggedDocument(words=[\"Türkiye'de\", 'düzenlenen', 'F1', 'yarışları', \"İstanbul'un\", 'hangi', 'bölgesinde', 'yapılmıştır?'], tags=['Test_166']),\n",
       " TaggedDocument(words=['Her', 'Tatil', 'Dönüşü', \"'Benim\", 'ne', 'işim', 'var', 'lan', 'bu', \"şehirde?'\", 'Diyenler', 'İçin:', 'Kırsalda', 'Hayatta', 'Kalma', 'Rehberi'], tags=['Test_167']),\n",
       " TaggedDocument(words=['Kovulan', 'İlk', 'Hoca', 'Ahmet', 'Nazif', \"Bey'den,\", 'Hamza', \"Hamzaoğlu'na:\", 'Türkiye’de', 'Teknik', 'Direktörlüğün', 'Kanlı', 'Tarihi…'], tags=['Test_168']),\n",
       " TaggedDocument(words=['Kan', 'donduran', 'olay!', 'Görenler', 'hemen...'], tags=['Test_169']),\n",
       " TaggedDocument(words=['34.', 'İSEDAK', 'Zirvesi', 'başladı'], tags=['Test_170']),\n",
       " TaggedDocument(words=['Lise', 'öğrencileri', 'uçak', 'kaçırdı!'], tags=['Test_171']),\n",
       " TaggedDocument(words=['Bir', 'Türlü', 'Ölemeyen', '100', 'Yaşındaki', \"Prof'tan\", 'Küfürbaz', 'Kantinciye...', 'Kampüsün', 'Öğrenci', 'Olmayan', 'Demirbaşları'], tags=['Test_172']),\n",
       " TaggedDocument(words=['İlişkiyi', 'Minimum', 'Hasarla', 'Sonlandırmanızı', 'Sağlayacak', '5', 'Temel', 'Kalıp'], tags=['Test_173']),\n",
       " TaggedDocument(words=['Uzmanlar', 'Uyarıyor:', 'Şeyma', \"Subaşı'nın\", 'Nafakasını', 'Fazla', 'Düşünmek', 'Kronik', 'Uykusuzluğa', 'Neden', 'Olabilir...'], tags=['Test_174']),\n",
       " TaggedDocument(words=['Hayatta', 'Kalma', 'Şansınızı', 'Yükseltmek', 'İçin', 'Bilmeniz', 'Gereken', '5', 'Temel', 'Trafik', 'Kuralı'], tags=['Test_175']),\n",
       " TaggedDocument(words=[\"Stalker'ın\", 'El', 'Rehberi:', \"Facebook'tan\", 'girip,', \"Linkedin'den\", 'Çıkarak', 'İnsan', 'Tanıma', 'Sanatı...'], tags=['Test_176']),\n",
       " TaggedDocument(words=['Yapacak', 'Daha', 'İyi', 'Bir', 'Şeyiniz', 'Yoksa:', 'Bu', 'Yazı', 'da', 'Bir', 'Şekilde', 'Atlatmanızı', 'Sağlayacak', 'Netflix', 'Dizileri...'], tags=['Test_177']),\n",
       " TaggedDocument(words=['Suriye', 'konulu', 'garantörler', 'toplantısına', 'Mistura', 'da', 'katılacak'], tags=['Test_178']),\n",
       " TaggedDocument(words=['Türkiye', \"Mogadişu'daki\", 'terör', 'saldırısını', 'kınadı'], tags=['Test_179']),\n",
       " TaggedDocument(words=['Son', 'dakika:', 'İnternet', 'sitesinden', 'uyardı!', 'İstanbul...'], tags=['Test_180']),\n",
       " TaggedDocument(words=['İstanbul’un', 'göbeğinde', 'genç', 'kıza', 'ahlaksız', 'teklif!'], tags=['Test_181']),\n",
       " TaggedDocument(words=['Son', 'dakika...', 'Rusya,', 'Ukrayna', 'savaş', 'gemilerini', 'vurdu!'], tags=['Test_182']),\n",
       " TaggedDocument(words=['TSK', 'açıkladı!', 'Teröristlere', 'ağır', 'darbe'], tags=['Test_183']),\n",
       " TaggedDocument(words=['Cumhurbaşkanı', 'Erdoğan', 'talimatı', 'verdi:', 'Hızlandırın…'], tags=['Test_184']),\n",
       " TaggedDocument(words=['TBMM', 'Başkanı', 'Yıldırım:', 'Desteğinize', 'güveniyoruz'], tags=['Test_185']),\n",
       " TaggedDocument(words=['Son', 'dakika...', 'Resmi', 'Gazete', 'yayımladı!', 'İşsizlik', 'sigortası...'], tags=['Test_186']),\n",
       " TaggedDocument(words=['Son', 'dakika...', 'Cumhurbaşkanı', 'Erdoğan', '-', 'Bahçeli', 'görüşmesi', 'sona', 'erdi'], tags=['Test_187']),\n",
       " TaggedDocument(words=['Son', 'dakika:', 'Milyonlarca', 'veli', 've', 'öğrenciyi', 'ilgilendiriyor!', 'İlk', 'adım', 'atıldı...'], tags=['Test_188'])]"
      ]
     },
     "execution_count": 95,
     "metadata": {},
     "output_type": "execute_result"
    }
   ],
   "source": [
    "all_data"
   ]
  },
  {
   "cell_type": "code",
   "execution_count": 96,
   "metadata": {},
   "outputs": [
    {
     "data": {
      "text/plain": [
       "571"
      ]
     },
     "execution_count": 96,
     "metadata": {},
     "output_type": "execute_result"
    }
   ],
   "source": [
    "len(all_data)"
   ]
  },
  {
   "cell_type": "code",
   "execution_count": 97,
   "metadata": {},
   "outputs": [
    {
     "data": {
      "text/plain": [
       "[TaggedDocument(words=[\"Türkiye'nin\", 'En', 'Güzel', 'Dayak', 'Yenilebilecek', '10', 'Yöresi'], tags=['Train_0']),\n",
       " TaggedDocument(words=['Son', 'dakika...', 'Kılıçdaroğlu', 've', 'Karamollaoğlu', 'görüşmesi', '1', 'saat', 'sürdü'], tags=['Train_1'])]"
      ]
     },
     "execution_count": 97,
     "metadata": {},
     "output_type": "execute_result"
    }
   ],
   "source": [
    "all_data[:2]"
   ]
  },
  {
   "cell_type": "code",
   "execution_count": 98,
   "metadata": {},
   "outputs": [
    {
     "name": "stderr",
     "output_type": "stream",
     "text": [
      "100%|██████████| 571/571 [00:00<00:00, 635939.35it/s]\n"
     ]
    }
   ],
   "source": [
    "model_dbow = Doc2Vec(dm=0, vector_size=300, negative=5, min_count=1, alpha=0.065, min_alpha=0.065)\n",
    "model_dbow.build_vocab([x for x in tqdm(all_data)])"
   ]
  },
  {
   "cell_type": "code",
   "execution_count": 99,
   "metadata": {},
   "outputs": [
    {
     "name": "stderr",
     "output_type": "stream",
     "text": [
      "100%|██████████| 571/571 [00:00<00:00, 688005.63it/s]\n",
      "100%|██████████| 571/571 [00:00<00:00, 680576.18it/s]\n",
      "100%|██████████| 571/571 [00:00<00:00, 550056.86it/s]\n",
      "100%|██████████| 571/571 [00:00<00:00, 692982.52it/s]\n",
      "100%|██████████| 571/571 [00:00<00:00, 1083686.69it/s]\n",
      "100%|██████████| 571/571 [00:00<00:00, 1189740.48it/s]\n",
      "100%|██████████| 571/571 [00:00<00:00, 1038122.06it/s]\n",
      "100%|██████████| 571/571 [00:00<00:00, 1098096.10it/s]\n",
      "100%|██████████| 571/571 [00:00<00:00, 1160342.82it/s]\n",
      "100%|██████████| 571/571 [00:00<00:00, 1076864.92it/s]\n",
      "100%|██████████| 571/571 [00:00<00:00, 465399.84it/s]\n",
      "100%|██████████| 571/571 [00:00<00:00, 867734.63it/s]\n",
      "100%|██████████| 571/571 [00:00<00:00, 1108772.03it/s]\n",
      "100%|██████████| 571/571 [00:00<00:00, 510758.71it/s]\n",
      "100%|██████████| 571/571 [00:00<00:00, 705849.57it/s]\n",
      "100%|██████████| 571/571 [00:00<00:00, 945125.33it/s]\n",
      "100%|██████████| 571/571 [00:00<00:00, 257937.27it/s]\n",
      "100%|██████████| 571/571 [00:00<00:00, 733296.87it/s]\n",
      "100%|██████████| 571/571 [00:00<00:00, 256968.62it/s]\n",
      "100%|██████████| 571/571 [00:00<00:00, 687808.04it/s]\n",
      "100%|██████████| 571/571 [00:00<00:00, 784457.12it/s]\n",
      "100%|██████████| 571/571 [00:00<00:00, 606315.84it/s]\n",
      "100%|██████████| 571/571 [00:00<00:00, 304043.11it/s]\n",
      "100%|██████████| 571/571 [00:00<00:00, 691981.39it/s]\n",
      "100%|██████████| 571/571 [00:00<00:00, 291356.15it/s]\n",
      "100%|██████████| 571/571 [00:00<00:00, 477747.37it/s]\n",
      "100%|██████████| 571/571 [00:00<00:00, 856255.84it/s]\n",
      "100%|██████████| 571/571 [00:00<00:00, 426147.26it/s]\n",
      "100%|██████████| 571/571 [00:00<00:00, 882442.00it/s]\n",
      "100%|██████████| 571/571 [00:00<00:00, 239231.60it/s]\n"
     ]
    },
    {
     "name": "stdout",
     "output_type": "stream",
     "text": [
      "CPU times: user 1.28 s, sys: 104 ms, total: 1.38 s\n",
      "Wall time: 1.36 s\n"
     ]
    }
   ],
   "source": [
    "%%time\n",
    "for epoch in range(30):\n",
    "    model_dbow.train(utils.shuffle([x for x in tqdm(all_data)]), total_examples=len(all_data), epochs=1)\n",
    "    model_dbow.alpha -= 0.002\n",
    "    model_dbow.min_alpha = model_dbow.alpha"
   ]
  },
  {
   "cell_type": "code",
   "execution_count": 100,
   "metadata": {},
   "outputs": [],
   "source": [
    "def get_vectors(model, corpus_size, vectors_size, vectors_type):\n",
    "    \"\"\"\n",
    "    Get vectors from trained doc2vec model\n",
    "    :param doc2vec_model: Trained Doc2Vec model\n",
    "    :param corpus_size: Size of the data\n",
    "    :param vectors_size: Size of the embedding vectors\n",
    "    :param vectors_type: Training or Testing vectors\n",
    "    :return: list of vectors\n",
    "    \"\"\"\n",
    "    vectors = np.zeros((corpus_size, vectors_size))\n",
    "    for i in range(0, corpus_size):\n",
    "        prefix = vectors_type + '_' + str(i)\n",
    "        vectors[i] = model.docvecs[prefix]\n",
    "    return vectors"
   ]
  },
  {
   "cell_type": "code",
   "execution_count": 101,
   "metadata": {},
   "outputs": [],
   "source": [
    "train_vectors_dbow = get_vectors(model_dbow, len(X_train), 300, 'Train')\n",
    "test_vectors_dbow = get_vectors(model_dbow, len(X_test), 300, 'Test')"
   ]
  },
  {
   "cell_type": "code",
   "execution_count": 102,
   "metadata": {},
   "outputs": [
    {
     "data": {
      "text/plain": [
       "array([[ 0.018843  , -0.01812262, -0.07639009, ...,  0.02901048,\n",
       "         0.17719154,  0.0171526 ],\n",
       "       [ 0.01546618, -0.0122502 , -0.06078761, ...,  0.03007164,\n",
       "         0.1415481 ,  0.01028639],\n",
       "       [ 0.01882833, -0.02040868, -0.0823302 , ...,  0.03604029,\n",
       "         0.1875869 ,  0.02652048],\n",
       "       ...,\n",
       "       [ 0.02414415, -0.02694131, -0.10801335, ...,  0.04572523,\n",
       "         0.2490195 ,  0.02713842],\n",
       "       [ 0.01469331, -0.02067408, -0.08500143, ...,  0.03447942,\n",
       "         0.19175951,  0.0191939 ],\n",
       "       [ 0.03875469, -0.03060996, -0.12518758, ...,  0.0475631 ,\n",
       "         0.28686318,  0.03196498]])"
      ]
     },
     "execution_count": 102,
     "metadata": {},
     "output_type": "execute_result"
    }
   ],
   "source": [
    "train_vectors_dbow"
   ]
  },
  {
   "cell_type": "code",
   "execution_count": 103,
   "metadata": {},
   "outputs": [
    {
     "data": {
      "text/plain": [
       "LogisticRegression(C=1.0, class_weight=None, dual=False, fit_intercept=True,\n",
       "          intercept_scaling=1, max_iter=100, multi_class='multinomial',\n",
       "          n_jobs=None, penalty='l2', random_state=None, solver='lbfgs',\n",
       "          tol=0.0001, verbose=0, warm_start=False)"
      ]
     },
     "execution_count": 103,
     "metadata": {},
     "output_type": "execute_result"
    }
   ],
   "source": [
    "from sklearn.linear_model import LogisticRegression\n",
    "\n",
    "logreg = LogisticRegression(multi_class='multinomial', solver = 'lbfgs')\n",
    "logreg.fit(train_vectors_dbow, y_train)"
   ]
  },
  {
   "cell_type": "code",
   "execution_count": 104,
   "metadata": {},
   "outputs": [
    {
     "data": {
      "text/plain": [
       "0.783068783068783"
      ]
     },
     "execution_count": 104,
     "metadata": {},
     "output_type": "execute_result"
    }
   ],
   "source": [
    "logreg.score(test_vectors_dbow, y_test)"
   ]
  },
  {
   "cell_type": "code",
   "execution_count": 105,
   "metadata": {},
   "outputs": [],
   "source": [
    "model_dbow.save('d2v_model_dbow.doc2vec')"
   ]
  },
  {
   "cell_type": "markdown",
   "metadata": {},
   "source": [
    "Distributed Memory\n",
    "\n",
    "Distributed Memory (DM) acts as a memory that remembers what is missing from the current context — or as the topic of the paragraph. While the word vectors represent the concept of a word, the document vector intends to represent the concept of a document.\n",
    "We again instantiate a Doc2Vec model with a vector size with 100 words and iterating over the training corpus 30 times."
   ]
  },
  {
   "cell_type": "code",
   "execution_count": 106,
   "metadata": {},
   "outputs": [
    {
     "name": "stderr",
     "output_type": "stream",
     "text": [
      "100%|██████████| 571/571 [00:00<00:00, 685445.79it/s]\n"
     ]
    }
   ],
   "source": [
    "model_dm = Doc2Vec(dm=1, dm_mean=1, vector_size=300, window=10, negative=5, min_count=1, workers=5, alpha=0.065, min_alpha=0.065)\n",
    "model_dm.build_vocab([x for x in tqdm(all_data)])"
   ]
  },
  {
   "cell_type": "code",
   "execution_count": 107,
   "metadata": {},
   "outputs": [
    {
     "name": "stderr",
     "output_type": "stream",
     "text": [
      "100%|██████████| 571/571 [00:00<00:00, 532565.62it/s]\n",
      "100%|██████████| 571/571 [00:00<00:00, 722022.18it/s]\n",
      "100%|██████████| 571/571 [00:00<00:00, 1064894.43it/s]\n",
      "100%|██████████| 571/571 [00:00<00:00, 1086144.03it/s]\n",
      "100%|██████████| 571/571 [00:00<00:00, 574327.96it/s]\n",
      "100%|██████████| 571/571 [00:00<00:00, 615984.46it/s]\n",
      "100%|██████████| 571/571 [00:00<00:00, 1337212.50it/s]\n",
      "100%|██████████| 571/571 [00:00<00:00, 725302.12it/s]\n",
      "100%|██████████| 571/571 [00:00<00:00, 1023919.45it/s]\n",
      "100%|██████████| 571/571 [00:00<00:00, 1050876.52it/s]\n",
      "100%|██████████| 571/571 [00:00<00:00, 923976.69it/s]\n",
      "100%|██████████| 571/571 [00:00<00:00, 1079777.99it/s]\n",
      "100%|██████████| 571/571 [00:00<00:00, 921133.69it/s]\n",
      "100%|██████████| 571/571 [00:00<00:00, 874387.58it/s]\n",
      "100%|██████████| 571/571 [00:00<00:00, 498739.61it/s]\n",
      "100%|██████████| 571/571 [00:00<00:00, 1236421.06it/s]\n",
      "100%|██████████| 571/571 [00:00<00:00, 481009.76it/s]\n",
      "100%|██████████| 571/571 [00:00<00:00, 1274586.26it/s]\n",
      "100%|██████████| 571/571 [00:00<00:00, 624823.27it/s]\n",
      "100%|██████████| 571/571 [00:00<00:00, 544801.54it/s]\n",
      "100%|██████████| 571/571 [00:00<00:00, 426754.74it/s]\n",
      "100%|██████████| 571/571 [00:00<00:00, 677304.18it/s]\n",
      "100%|██████████| 571/571 [00:00<00:00, 683684.72it/s]\n",
      "100%|██████████| 571/571 [00:00<00:00, 513056.47it/s]\n",
      "100%|██████████| 571/571 [00:00<00:00, 888004.30it/s]\n",
      "100%|██████████| 571/571 [00:00<00:00, 1030971.84it/s]\n",
      "100%|██████████| 571/571 [00:00<00:00, 1221912.03it/s]\n",
      "100%|██████████| 571/571 [00:00<00:00, 957979.03it/s]\n",
      "100%|██████████| 571/571 [00:00<00:00, 319880.80it/s]\n",
      "100%|██████████| 571/571 [00:00<00:00, 1263824.58it/s]"
     ]
    },
    {
     "name": "stdout",
     "output_type": "stream",
     "text": [
      "CPU times: user 1.53 s, sys: 107 ms, total: 1.64 s\n",
      "Wall time: 1.64 s\n"
     ]
    },
    {
     "name": "stderr",
     "output_type": "stream",
     "text": [
      "\n"
     ]
    }
   ],
   "source": [
    "%%time\n",
    "for epoch in range(30):\n",
    "    model_dm.train(utils.shuffle([x for x in tqdm(all_data)]), total_examples=len(all_data), epochs=1)\n",
    "    model_dm.alpha -= 0.002\n",
    "    model_dm.min_alpha = model_dm.alpha"
   ]
  },
  {
   "cell_type": "code",
   "execution_count": 108,
   "metadata": {},
   "outputs": [],
   "source": [
    "train_vectors_dm = get_vectors(model_dm, len(X_train), 300, 'Train')\n",
    "test_vectors_dm = get_vectors(model_dm, len(X_test), 300, 'Test')"
   ]
  },
  {
   "cell_type": "code",
   "execution_count": 109,
   "metadata": {},
   "outputs": [
    {
     "data": {
      "text/plain": [
       "LogisticRegression(C=1.0, class_weight=None, dual=False, fit_intercept=True,\n",
       "          intercept_scaling=1, max_iter=100, multi_class='multinomial',\n",
       "          n_jobs=None, penalty='l2', random_state=None, solver='lbfgs',\n",
       "          tol=0.0001, verbose=0, warm_start=False)"
      ]
     },
     "execution_count": 109,
     "metadata": {},
     "output_type": "execute_result"
    }
   ],
   "source": [
    "logreg.fit(train_vectors_dm, y_train)"
   ]
  },
  {
   "cell_type": "code",
   "execution_count": 110,
   "metadata": {},
   "outputs": [
    {
     "data": {
      "text/plain": [
       "0.6613756613756614"
      ]
     },
     "execution_count": 110,
     "metadata": {},
     "output_type": "execute_result"
    }
   ],
   "source": [
    "logreg.score(test_vectors_dm, y_test)"
   ]
  },
  {
   "cell_type": "code",
   "execution_count": 111,
   "metadata": {},
   "outputs": [],
   "source": [
    "model_dm.save('d2v_model_dm.doc2vec')"
   ]
  },
  {
   "cell_type": "code",
   "execution_count": 112,
   "metadata": {},
   "outputs": [],
   "source": [
    "# model_dbow = Doc2Vec.load('d2v_model_dbow.doc2vec')\n",
    "# model_dm = Doc2Vec.load('d2v_model_dm.doc2vec')\n",
    "model_dbow.delete_temporary_training_data(keep_doctags_vectors=True, keep_inference=True)\n",
    "model_dm.delete_temporary_training_data(keep_doctags_vectors=True, keep_inference=True)"
   ]
  },
  {
   "cell_type": "code",
   "execution_count": 113,
   "metadata": {},
   "outputs": [],
   "source": [
    "def get_concat_vectors(model1,model2, corpus_size, vectors_size, vectors_type):\n",
    "    vectors = np.zeros((corpus_size, vectors_size))\n",
    "    for i in range(0, corpus_size):\n",
    "        prefix = vectors_type + '_' + str(i)\n",
    "        vectors[i] = np.append(model1.docvecs[prefix],model2.docvecs[prefix])\n",
    "    return vectors"
   ]
  },
  {
   "cell_type": "code",
   "execution_count": 114,
   "metadata": {},
   "outputs": [],
   "source": [
    "train_vecs_dbow_dm = get_concat_vectors(model_dbow,model_dm, len(X_train), 600, 'Train')\n",
    "test_vecs_dbow_dm = get_concat_vectors(model_dbow,model_dm, len(X_test), 600, 'Test')"
   ]
  },
  {
   "cell_type": "code",
   "execution_count": 115,
   "metadata": {},
   "outputs": [
    {
     "name": "stdout",
     "output_type": "stream",
     "text": [
      "CPU times: user 18.2 ms, sys: 2.92 ms, total: 21.2 ms\n",
      "Wall time: 20.3 ms\n"
     ]
    },
    {
     "name": "stderr",
     "output_type": "stream",
     "text": [
      "/anaconda3/lib/python3.6/site-packages/sklearn/linear_model/logistic.py:433: FutureWarning: Default solver will be changed to 'lbfgs' in 0.22. Specify a solver to silence this warning.\n",
      "  FutureWarning)\n"
     ]
    }
   ],
   "source": [
    "%%time\n",
    "logreg = LogisticRegression()\n",
    "logreg.fit(train_vecs_dbow_dm, y_train)"
   ]
  },
  {
   "cell_type": "code",
   "execution_count": 116,
   "metadata": {},
   "outputs": [
    {
     "data": {
      "text/plain": [
       "0.7936507936507936"
      ]
     },
     "execution_count": 116,
     "metadata": {},
     "output_type": "execute_result"
    }
   ],
   "source": [
    "logreg.score(test_vecs_dbow_dm, y_test)"
   ]
  },
  {
   "cell_type": "code",
   "execution_count": 123,
   "metadata": {},
   "outputs": [
    {
     "name": "stderr",
     "output_type": "stream",
     "text": [
      "/anaconda3/lib/python3.6/site-packages/gensim/matutils.py:737: FutureWarning: Conversion of the second argument of issubdtype from `int` to `np.signedinteger` is deprecated. In future, it will be treated as `np.int64 == np.dtype(int).type`.\n",
      "  if np.issubdtype(vec.dtype, np.int):\n"
     ]
    },
    {
     "ename": "KeyError",
     "evalue": "\"tag 'Kiminle' not seen in training corpus/invalid\"",
     "output_type": "error",
     "traceback": [
      "\u001b[0;31m---------------------------------------------------------------------------\u001b[0m",
      "\u001b[0;31mKeyError\u001b[0m                                  Traceback (most recent call last)",
      "\u001b[0;32m<ipython-input-123-e9a8b99109ab>\u001b[0m in \u001b[0;36m<module>\u001b[0;34m\u001b[0m\n\u001b[0;32m----> 1\u001b[0;31m \u001b[0mmodel_dbow\u001b[0m\u001b[0;34m.\u001b[0m\u001b[0mdocvecs\u001b[0m\u001b[0;34m.\u001b[0m\u001b[0msimilarity\u001b[0m\u001b[0;34m(\u001b[0m\u001b[0;34m\"Train_115\"\u001b[0m\u001b[0;34m,\u001b[0m\u001b[0;34m'Kiminle'\u001b[0m\u001b[0;34m)\u001b[0m\u001b[0;34m\u001b[0m\u001b[0m\n\u001b[0m",
      "\u001b[0;32m/anaconda3/lib/python3.6/site-packages/gensim/models/keyedvectors.py\u001b[0m in \u001b[0;36msimilarity\u001b[0;34m(self, d1, d2)\u001b[0m\n\u001b[1;32m   1717\u001b[0m \u001b[0;34m\u001b[0m\u001b[0m\n\u001b[1;32m   1718\u001b[0m         \"\"\"\n\u001b[0;32m-> 1719\u001b[0;31m         \u001b[0;32mreturn\u001b[0m \u001b[0mdot\u001b[0m\u001b[0;34m(\u001b[0m\u001b[0mmatutils\u001b[0m\u001b[0;34m.\u001b[0m\u001b[0munitvec\u001b[0m\u001b[0;34m(\u001b[0m\u001b[0mself\u001b[0m\u001b[0;34m[\u001b[0m\u001b[0md1\u001b[0m\u001b[0;34m]\u001b[0m\u001b[0;34m)\u001b[0m\u001b[0;34m,\u001b[0m \u001b[0mmatutils\u001b[0m\u001b[0;34m.\u001b[0m\u001b[0munitvec\u001b[0m\u001b[0;34m(\u001b[0m\u001b[0mself\u001b[0m\u001b[0;34m[\u001b[0m\u001b[0md2\u001b[0m\u001b[0;34m]\u001b[0m\u001b[0;34m)\u001b[0m\u001b[0;34m)\u001b[0m\u001b[0;34m\u001b[0m\u001b[0m\n\u001b[0m\u001b[1;32m   1720\u001b[0m \u001b[0;34m\u001b[0m\u001b[0m\n\u001b[1;32m   1721\u001b[0m     \u001b[0;32mdef\u001b[0m \u001b[0mn_similarity\u001b[0m\u001b[0;34m(\u001b[0m\u001b[0mself\u001b[0m\u001b[0;34m,\u001b[0m \u001b[0mds1\u001b[0m\u001b[0;34m,\u001b[0m \u001b[0mds2\u001b[0m\u001b[0;34m)\u001b[0m\u001b[0;34m:\u001b[0m\u001b[0;34m\u001b[0m\u001b[0m\n",
      "\u001b[0;32m/anaconda3/lib/python3.6/site-packages/gensim/models/keyedvectors.py\u001b[0m in \u001b[0;36m__getitem__\u001b[0;34m(self, index)\u001b[0m\n\u001b[1;32m   1529\u001b[0m                 \u001b[0;32mreturn\u001b[0m \u001b[0mself\u001b[0m\u001b[0;34m.\u001b[0m\u001b[0mvectors_docs\u001b[0m\u001b[0;34m[\u001b[0m\u001b[0mself\u001b[0m\u001b[0;34m.\u001b[0m\u001b[0m_int_index\u001b[0m\u001b[0;34m(\u001b[0m\u001b[0mindex\u001b[0m\u001b[0;34m,\u001b[0m \u001b[0mself\u001b[0m\u001b[0;34m.\u001b[0m\u001b[0mdoctags\u001b[0m\u001b[0;34m,\u001b[0m \u001b[0mself\u001b[0m\u001b[0;34m.\u001b[0m\u001b[0mmax_rawint\u001b[0m\u001b[0;34m)\u001b[0m\u001b[0;34m]\u001b[0m\u001b[0;34m\u001b[0m\u001b[0m\n\u001b[1;32m   1530\u001b[0m             \u001b[0;32mreturn\u001b[0m \u001b[0mvstack\u001b[0m\u001b[0;34m(\u001b[0m\u001b[0;34m[\u001b[0m\u001b[0mself\u001b[0m\u001b[0;34m[\u001b[0m\u001b[0mi\u001b[0m\u001b[0;34m]\u001b[0m \u001b[0;32mfor\u001b[0m \u001b[0mi\u001b[0m \u001b[0;32min\u001b[0m \u001b[0mindex\u001b[0m\u001b[0;34m]\u001b[0m\u001b[0;34m)\u001b[0m\u001b[0;34m\u001b[0m\u001b[0m\n\u001b[0;32m-> 1531\u001b[0;31m         \u001b[0;32mraise\u001b[0m \u001b[0mKeyError\u001b[0m\u001b[0;34m(\u001b[0m\u001b[0;34m\"tag '%s' not seen in training corpus/invalid\"\u001b[0m \u001b[0;34m%\u001b[0m \u001b[0mindex\u001b[0m\u001b[0;34m)\u001b[0m\u001b[0;34m\u001b[0m\u001b[0m\n\u001b[0m\u001b[1;32m   1532\u001b[0m \u001b[0;34m\u001b[0m\u001b[0m\n\u001b[1;32m   1533\u001b[0m     \u001b[0;32mdef\u001b[0m \u001b[0m__contains__\u001b[0m\u001b[0;34m(\u001b[0m\u001b[0mself\u001b[0m\u001b[0;34m,\u001b[0m \u001b[0mindex\u001b[0m\u001b[0;34m)\u001b[0m\u001b[0;34m:\u001b[0m\u001b[0;34m\u001b[0m\u001b[0m\n",
      "\u001b[0;31mKeyError\u001b[0m: \"tag 'Kiminle' not seen in training corpus/invalid\""
     ]
    }
   ],
   "source": [
    "model_dbow.docvecs.similarity(\"Train_115\",'Kiminle')"
   ]
  },
  {
   "cell_type": "code",
   "execution_count": null,
   "metadata": {},
   "outputs": [],
   "source": []
  }
 ],
 "metadata": {
  "kernelspec": {
   "display_name": "Python 3",
   "language": "python",
   "name": "python3"
  },
  "language_info": {
   "codemirror_mode": {
    "name": "ipython",
    "version": 3
   },
   "file_extension": ".py",
   "mimetype": "text/x-python",
   "name": "python",
   "nbconvert_exporter": "python",
   "pygments_lexer": "ipython3",
   "version": "3.6.4"
  }
 },
 "nbformat": 4,
 "nbformat_minor": 2
}
