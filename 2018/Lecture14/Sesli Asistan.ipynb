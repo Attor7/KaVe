{
 "cells": [
  {
   "cell_type": "code",
   "execution_count": 4,
   "metadata": {
    "scrolled": true
   },
   "outputs": [
    {
     "name": "stdout",
     "output_type": "stream",
     "text": [
      "Merhaba Emre, Senin için ne yapabilirim\n",
      "Say something!\n",
      "Ne Dediğini Anlamadım\n",
      "Say something!\n",
      "You said: kendini kapat\n",
      "Görüşürüz\n"
     ]
    }
   ],
   "source": [
    "import speech_recognition as sr\n",
    "from time import ctime\n",
    "import time\n",
    "import os\n",
    "from gtts import gTTS\n",
    "import selenium\n",
    "from selenium import webdriver\n",
    "import pyowm\n",
    "\n",
    "owm = pyowm.OWM('6d2488e99a77273a6af8aeb3d7a88bd2') \n",
    " \n",
    "def speak(audioString):\n",
    "    print(audioString)\n",
    "    tts = gTTS(text=audioString, lang='tr')\n",
    "    tts.save(\"audio.mp3\")\n",
    "    os.system(\"audio.mp3\")\n",
    "\n",
    "def recordAudio():\n",
    "    # Record Audio\n",
    "    r = sr.Recognizer()\n",
    "    with sr.Microphone() as source:\n",
    "        print(\"Say something!\")\n",
    "        audio = r.listen(source)\n",
    " \n",
    "    # Speech recognition using Google Speech Recognition\n",
    "    data = \"\"\n",
    "    try:\n",
    "        # Uses the default API key\n",
    "        # To use another API key: `r.recognize_google(audio, key=\"GOOGLE_SPEECH_RECOGNITION_API_KEY\")`\n",
    "        data = r.recognize_google(audio, language='tr-tr')\n",
    "        data = data.lower()\n",
    "        print(\"You said: \" + data)\n",
    "    except sr.UnknownValueError:\n",
    "        print(\"Ne Dediğini Anlamadım\")\n",
    "    except sr.RequestError as e:\n",
    "        print(\"Could not request results from Google Speech Recognition service; {0}\".format(e))\n",
    "        \n",
    "    return data\n",
    "\n",
    "\n",
    "nasilsincumeleleri = [\"nasılsın\",\"naber\",\"ne haber\",\"napıyorsun\",\"nasıl gidiyor\",\"naber\"] #Burası için özel birşey oluşturulacak\n",
    "iltifat = [\"mükemmelsin\",\"çok iyisin\",\"mükemmel\",\"efsane\",\"saol\",\"teşekkürler\"]\n",
    "saat = [\"saat\",\"kaç\",\"saat kaç\",\"kaç saat\"] #burası içinde\n",
    "\n",
    "def kavi(data):\n",
    "    if data in nasilsincumeleleri:\n",
    "        speak(\"iyiyim sen\")\n",
    "    if data in saat:\n",
    "        speak(ctime())\n",
    "    if data in iltifat:\n",
    "        speak(\"Teşekkür Ederim, Beni Utandırıyorsun\")\n",
    "    if \"nerede\" in data:\n",
    "        data = data.split()\n",
    "        location = data[0] #sondan bir öncekiler olmalı\n",
    "        speak(\"Bekle Emre Sana \" + location +\" in nerede olduğunu göstereceğim\")\n",
    "        driver = webdriver.Chrome('C:/Users/yemre/Desktop/chromedriver.exe')  # Optional argument, if not specified will search path.\n",
    "        driver.get(\"https://www.google.com/maps/place/\" + location + \"/&amp;\");\n",
    "        time.sleep(15)\n",
    "        driver.quit()\n",
    "    if \"çal\" in data:\n",
    "        global driverx\n",
    "        data = data.split()\n",
    "        parcaismi = \"\"\n",
    "        for i in data[:-1]:\n",
    "            parcaismi = parcaismi + i\n",
    "        speak(\"Bekle Emre Senin için \"+ parcaismi + \" yi çalıyorum\")\n",
    "        driverx = webdriver.Chrome('C:/Users/yemre/Desktop/chromedriver.exe')# Optional argument, if not specified will search path.\n",
    "        driverx.get(\"https://www.youtube.com/results?search_query=\"+parcaismi);\n",
    "        select_element = driverx.find_elements_by_xpath('//*[@id=\"video-title\"]')\n",
    "        for option in select_element:\n",
    "            option.find_element_by_xpath('//*[@id=\"video-title\"]').click()\n",
    "            break\n",
    "    if \"şarkıyı kapat\" in data:\n",
    "        driverx.quit()\n",
    "    if \"nedir\" in data:\n",
    "        data = data.split()\n",
    "        soru = \"\"\n",
    "        for i in data[:-1]:\n",
    "            soru = soru +\"+\"+ i\n",
    "        drivery = webdriver.Chrome('C:/Users/yemre/Desktop/chromedriver.exe')# Optional argument, if not specified will search path.\n",
    "        drivery.get(\"http://www.wikizeroo.net/wiki/tr/\"+soru);\n",
    "        select_element = drivery.find_elements_by_xpath('//*[@id=\"mw-content-text\"]/div[1]/p[1]')\n",
    "        for option in select_element:\n",
    "            x = option.find_element_by_xpath('//*[@id=\"mw-content-text\"]/div[1]/p[1]').text\n",
    "        if x == None:\n",
    "            speak(\"Bunun hakkında birşey bulamadım\")\n",
    "        else:\n",
    "            speak(\"Vikipedia'dan bulduklarıma göre\")\n",
    "            speak(x)\n",
    "        time.sleep(5)\n",
    "    if \"hava durumu\" in data:\n",
    "        speak(\"Neresi için Hava Durumu Öğrenmek istiyorsun?\")\n",
    "        time.sleep(4)\n",
    "        data2 = recordAudio()\n",
    "        if data2[0] == \"i\":\n",
    "            data2 = \"istanbul\"\n",
    "        observation = owm.weather_at_place(\"{},TR\".format(data2))\n",
    "        w = observation.get_weather()\n",
    "        detailstat = w.get_detailed_status()\n",
    "        tempature = w.get_temperature('celsius')[\"temp\"]\n",
    "        if detailstat == \"light rain\":\n",
    "            detailstat = \"hafif yağmurlu\"\n",
    "        speak(\"{} için Hava {} ve {} derece\".format(data2,detailstat,tempature))\n",
    "        time.sleep(4)\n",
    "    if \"not al\" in data:\n",
    "        data = data[7:]\n",
    "        print(data)\n",
    "        file = open(\"notlar.txt\",\"w\")\n",
    "        file.write(str(data.encode(\"utf-8\")))\n",
    "        file.close()\n",
    "        speak(\"Not aldım\")\n",
    "        time.sleep(2)\n",
    "    if \"notları oku\" in data:\n",
    "        file = open(\"notlar.txt\",\"r\")\n",
    "        speak(\"Notların şu şekilde\")\n",
    "        speak(file.read()[2:-1])\n",
    "        speak(\"notların bu kadar\")\n",
    "        time.sleep(3)\n",
    "    if \"müzik listeleri\" in data:\n",
    "        speak(\"Hangisini çalayım? Mutlu mu, Normal mi? Depresif mi?\")\n",
    "        time.sleep(3)\n",
    "        data2 = recordAudio()\n",
    "        driverx = webdriver.Chrome('C:/Users/yemre/Desktop/chromedriver.exe')\n",
    "        if data2 == \"mutlu\":\n",
    "            driverx.get(\"https://www.youtube.com/watch?v=uwT2kmral3A&start_radio=1&list=RDMMuwT2kmral3A\");\n",
    "        if data2 == \"normal\":\n",
    "            driverx.get(\"https://www.youtube.com/watch?v=wJGcwEv7838&start_radio=1&list=RDwJGcwEv7838\");\n",
    "        if data2 == \"depresif\":\n",
    "            driverx.get(\"https://www.youtube.com/watch?v=N3oCS85HvpY&start_radio=1&list=RDN3oCS85HvpY\");\n",
    "        return driverx\n",
    "time.sleep(2)\n",
    "speak(\"Merhaba Emre, Senin için ne yapabilirim\")\n",
    "while 1:\n",
    "    data = recordAudio()\n",
    "    if \"kendini kapat\" in data:\n",
    "        speak(\"Görüşürüz\")\n",
    "        break\n",
    "    else:\n",
    "        kavi(data)"
   ]
  },
  {
   "cell_type": "code",
   "execution_count": 2,
   "metadata": {},
   "outputs": [],
   "source": [
    "#Hava Durumu Ekle (Halledildi.)\n",
    "#Yol Durumu \n",
    "#Mail Okuma / Yazma **\n",
    "#Favori Playlist ekle ve çaldırma (Halledildi.)\n",
    "#Güvenli mod \n",
    "#Kendi içerisinde takvim yap\n",
    "#Duygularımıza göre film,şarkı vb. önerme\n",
    "#haberleri çek / "
   ]
  },
  {
   "cell_type": "code",
   "execution_count": 1,
   "metadata": {},
   "outputs": [],
   "source": [
    "#pip install gTTS\n",
    "#pip install pyaudio\n",
    "#pip install SpeechRecognition"
   ]
  },
  {
   "cell_type": "code",
   "execution_count": 6,
   "metadata": {},
   "outputs": [
    {
     "name": "stdout",
     "output_type": "stream",
     "text": [
      "iyiyim sen\n"
     ]
    }
   ],
   "source": [
    "speak(\"iyiyim sen\")"
   ]
  },
  {
   "cell_type": "code",
   "execution_count": 8,
   "metadata": {},
   "outputs": [
    {
     "name": "stdout",
     "output_type": "stream",
     "text": [
      "selam\n"
     ]
    }
   ],
   "source": [
    "from gtts import gTTS\n",
    "x = input()\n",
    "tts = gTTS(text=x, lang='tr')"
   ]
  },
  {
   "cell_type": "code",
   "execution_count": 10,
   "metadata": {},
   "outputs": [
    {
     "data": {
      "text/plain": [
       "32512"
      ]
     },
     "execution_count": 10,
     "metadata": {},
     "output_type": "execute_result"
    }
   ],
   "source": [
    "from gtts import gTTS\n",
    "tts = gTTS('hello')\n",
    "tts.save('hello.mp3')\n",
    "os.system(\"hello.mp3\")"
   ]
  },
  {
   "cell_type": "code",
   "execution_count": 11,
   "metadata": {},
   "outputs": [
    {
     "data": {
      "text/plain": [
       "32512"
      ]
     },
     "execution_count": 11,
     "metadata": {},
     "output_type": "execute_result"
    }
   ],
   "source": [
    "os.system(\"hello.mp3\")"
   ]
  },
  {
   "cell_type": "code",
   "execution_count": 19,
   "metadata": {},
   "outputs": [],
   "source": [
    "from pygame import mixer # Load the required library\n",
    "\n",
    "\n",
    "mixer.init()\n",
    "mixer.music.load('audio.mp3')\n",
    "mixer.music.play()"
   ]
  },
  {
   "cell_type": "code",
   "execution_count": 20,
   "metadata": {},
   "outputs": [],
   "source": [
    "def speak(audioString):\n",
    "    print(audioString)\n",
    "    tts = gTTS(text=audioString, lang='tr')\n",
    "    tts.save(\"audio.mp3\")\n",
    "    mixer.init()\n",
    "    mixer.music.load('audio.mp3')\n",
    "    mixer.music.play()"
   ]
  },
  {
   "cell_type": "code",
   "execution_count": 21,
   "metadata": {},
   "outputs": [
    {
     "name": "stdout",
     "output_type": "stream",
     "text": [
      "merhaba naber gelsene\n",
      "merhaba naber gelsene\n"
     ]
    }
   ],
   "source": [
    "x = input()\n",
    "speak(x)"
   ]
  },
  {
   "cell_type": "code",
   "execution_count": 22,
   "metadata": {},
   "outputs": [
    {
     "name": "stdout",
     "output_type": "stream",
     "text": [
      "\n",
      "evinde huzurla kitap okusun diye, sokakta kartopu oynadigi icin bir manyak bicaklamasin diye, \n",
      "trafikte koruma arabasi tarafindan yolun disina atilmasin diye, evladi hurafeler/safsatalarla dolu egitim \n",
      "anlayisinin kurbani olmasin diye, etek giydigi icin tecavuze ugramasin diye, \n",
      "kopegi/kedisi disarida rahatca dolasabilsin diye, durakta beklerken bomba ile havaya ucmasin diye, \n",
      "her gun eklenen yeni vergilerle dusen alim gucunun yaninda bir de kendi ulkesinde dusman gorulmesin diye; \n",
      "en azindan verdigi verginin karsiligini saglik/egitim \n",
      "hizmetleri ile alacagina emin olacak diye ve daha buna benzer binlerce sebep yuzunden gidiyor.\n"
     ]
    }
   ],
   "source": [
    "goc = \"\"\"\n",
    "evinde huzurla kitap okusun diye, sokakta kartopu oynadigi icin bir manyak bicaklamasin diye, \n",
    "trafikte koruma arabasi tarafindan yolun disina atilmasin diye, evladi hurafeler/safsatalarla dolu egitim \n",
    "anlayisinin kurbani olmasin diye, etek giydigi icin tecavuze ugramasin diye, \n",
    "kopegi/kedisi disarida rahatca dolasabilsin diye, durakta beklerken bomba ile havaya ucmasin diye, \n",
    "her gun eklenen yeni vergilerle dusen alim gucunun yaninda bir de kendi ulkesinde dusman gorulmesin diye; \n",
    "en azindan verdigi verginin karsiligini saglik/egitim \n",
    "hizmetleri ile alacagina emin olacak diye ve daha buna benzer binlerce sebep yuzunden gidiyor.\"\"\"\n",
    "\n",
    "speak(goc)"
   ]
  },
  {
   "cell_type": "code",
   "execution_count": null,
   "metadata": {},
   "outputs": [],
   "source": []
  }
 ],
 "metadata": {
  "kernelspec": {
   "display_name": "Python 3",
   "language": "python",
   "name": "python3"
  },
  "language_info": {
   "codemirror_mode": {
    "name": "ipython",
    "version": 3
   },
   "file_extension": ".py",
   "mimetype": "text/x-python",
   "name": "python",
   "nbconvert_exporter": "python",
   "pygments_lexer": "ipython3",
   "version": "3.6.8"
  }
 },
 "nbformat": 4,
 "nbformat_minor": 2
}
