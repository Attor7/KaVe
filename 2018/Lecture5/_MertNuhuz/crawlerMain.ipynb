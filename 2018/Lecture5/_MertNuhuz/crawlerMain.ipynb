{
 "cells": [
  {
   "cell_type": "code",
   "execution_count": 1,
   "metadata": {},
   "outputs": [],
   "source": [
    "import tweepy\n",
    "import nltk\n",
    "import os\n",
    "import matplotlib.pyplot as plt"
   ]
  },
  {
   "cell_type": "code",
   "execution_count": 2,
   "metadata": {},
   "outputs": [],
   "source": [
    "auth = tweepy.OAuthHandler(\"-------\")\n",
    "auth.set_access_token(\"--\", \"----\")\n",
    "\n",
    "api = tweepy.API(auth)"
   ]
  },
  {
   "cell_type": "code",
   "execution_count": 3,
   "metadata": {
    "scrolled": true
   },
   "outputs": [],
   "source": [
    "tweets = []\n",
    "fetched_tweets = api.search(q = 'eksi', count = 100, lang = \"tr\")\n",
    "# parsing tweets one by one\n"
   ]
  },
  {
   "cell_type": "code",
   "execution_count": 4,
   "metadata": {},
   "outputs": [],
   "source": [
    "for tweet in fetched_tweets:\n",
    "    tweets.append(tweet.text)\n",
    "    if \"beykoz\" in (tweet.user.location).lower() or \"beykoz\" in (tweet.text).lower():\n",
    "        print(tweet.user.location)\n",
    "        print(classify(tweet.text))\n",
    "    else:\n",
    "        continue\n",
    "    \n",
    "def remove_duplicates(l):\n",
    "    return list(set(l))\n",
    "tweets = remove_duplicates(tweets)"
   ]
  },
  {
   "cell_type": "code",
   "execution_count": 5,
   "metadata": {},
   "outputs": [],
   "source": [
    "def cleanTweets(tweets):\n",
    "    clean_data = []\n",
    "    for tweet in tweets:\n",
    "        item = ' '.join(word.lower() for word in tweet.split() if not word.startswith('#') and not word.startswith('@') and not word.startswith('http') and not word.startswith('RT') and not word.startswith('i̇'))\n",
    "        if item == \"\" or item == \"RT\":\n",
    "            continue\n",
    "        clean_data.append(item)\n",
    "    return clean_data\n",
    "\n",
    "def getTrainData():\n",
    "\tpositives, negatives, traindata = [], [], []\n",
    "\tfor filename in os.listdir(\"train\"):\n",
    "\t    if filename == \"positives.txt\":\n",
    "\t\t    with open('train/'+filename) as f:\n",
    "\t\t\t    positives = [(tweet, 'pos') for tweet in f.readlines()]\n",
    "\t    if filename == \"negatives.txt\":\n",
    "\t\t    with open('train/'+filename) as f:\n",
    "\t\t\t    negatives = [(tweet, 'neg') for tweet in f.readlines()]\n",
    "\n",
    "\tfor (words, sentiment) in negatives + positives:\n",
    "\t\twords_filtered = [e for e in words.split() if len(e) > 2]\n",
    "\t\ttraindata.append((words_filtered, sentiment))\n",
    "\tprint(len(positives))\n",
    "\tprint(len(negatives))\n",
    "    \n",
    "\treturn traindata\n",
    "\n",
    "def export(filename, data, p):\n",
    "    with open(filename, p) as output:\n",
    "    \tfor line in data:\n",
    "        \toutput.write(line)\n",
    "            \n",
    "def get_words_in_tweets(tweets):\n",
    "    all_words = []\n",
    "    for (words, sentiment) in tweets:\n",
    "        all_words.extend(words)\n",
    "    return all_words\n",
    "\n",
    "def get_word_features(wordlist):\n",
    "    wordlist = nltk.FreqDist(wordlist)\n",
    "    word_features = wordlist.keys()\n",
    "    return word_features\n",
    "\n",
    "def extract_features(document):\n",
    "    document_words = set(document)\n",
    "    features = {}\n",
    "    for word in word_features:\n",
    "        features[word] = (word in document_words)\n",
    "    return features"
   ]
  },
  {
   "cell_type": "code",
   "execution_count": 6,
   "metadata": {},
   "outputs": [
    {
     "name": "stdout",
     "output_type": "stream",
     "text": [
      "93\n",
      "90\n"
     ]
    }
   ],
   "source": [
    "data = getTrainData()\n",
    "word_features = get_word_features(get_words_in_tweets(data))\n",
    "allsetlength = int((len(data)/10)*8)\n",
    "training_set = nltk.classify.apply_features(extract_features, data[:allsetlength])\n",
    "test_set = data[allsetlength:]\n",
    "classifier = nltk.NaiveBayesClassifier.train(training_set)"
   ]
  },
  {
   "cell_type": "code",
   "execution_count": 7,
   "metadata": {},
   "outputs": [],
   "source": [
    "def classify(tweet):\n",
    "\treturn (classifier.classify(extract_features(tweet.split())))"
   ]
  },
  {
   "cell_type": "code",
   "execution_count": 39,
   "metadata": {
    "scrolled": false
   },
   "outputs": [
    {
     "name": "stdout",
     "output_type": "stream",
     "text": [
      "neg\n",
      "genelde kız tarafları: süslü püslü kızlar, takım elbiseli saçlarını yalatmış gibi ıslak olan beyler yoora'nın tarafı: şampiy…\n",
      "neg\n",
      "- planlı çalışıcam, ders yapıcam, düzgün bir birey olucam. 'ertesi gün - ya amına kodumun öğretmeni yine eksi atmı…\n",
      "pos\n",
      "hayat sana ekşi limonlar sunuyorsa, sen de çiğ köfte ye! neden limonata yapasın ki bence.\n",
      "neg\n",
      "ekşi maya artı sayı şeşüdü dogmacılık\n",
      "pos\n",
      "çinli'lerin taşı su ile deldiklerinde gösterdikleri sabır ; kibrit çöplerinden tasarlayıp yapılan bu maket ve asırl…\n",
      "neg\n",
      "evet öyle ama bunu direk tubayla alakalandırmak saçma.ünlülerin çoğu zaten o gece hayatını yaşıyor.tub…\n",
      "neg\n",
      "- metin şen; ali koç açıklama yapacak, aykut’un yardımcı antrenörleri ile alakalı - tamam başkan, biz ne yapabiliriz? -…\n",
      "neg\n",
      "- başkanım buda mı olmaz? bakın aykut burda insanları üzüyormuş, neden insanları üzdün kocaman diye algı yaparız..…\n",
      "neg\n",
      "i̇slam'da ekonomi dersimiz bu hafta da yunus ekşi hocamızla dolu dolu geçiyor. kaynak kitabımız mete gündo…\n",
      "neg\n",
      "kök üç eksi iki 💜\n",
      "neg\n",
      "i̇lk 2 günde, bin 640 bilet satıldı. türk hava türk hava yolları genel müdürü bilal ekşi, i̇stanbul yeni havalimanı'…\n",
      "neg\n",
      "yanlış yapan adının yanına eksi koysun\n",
      "neg\n",
      "cumhurbaşkanı erdoğan isparta'da konuşuyor. diyor ki '2002 yılında milli gelir 3.000 dolardı.şimdi 10 binin üzerinde\"de…\n",
      "neg\n",
      "yoğurt mayaladım hemen anın haritasını çıkarayım da bereketli mi olacak ekşi mi olacak kaymak tutacak mı öğreneyim ne diyorsunuz\n",
      "neg\n",
      "kök üç eksi iki 💜\n",
      "neg\n",
      "ekşi sözlük “popüler kültürün esir aldığı oyunculuk mecramızda kutupta yaz gibi kendisi. olağanüstü güzel. olağanüs…\n",
      "neg\n",
      "stüdyo iştirakçilerinden elinar thornsteinn da sabahları mutfağa girip ekşi maya ekmek yapıyormuş.\n",
      "neg\n",
      "hocam taraf tarafa toplayalim olmazsa bir tarafı eksi ile çarprız olmaz mi\n",
      "pos\n",
      "demedi demeyin ekşi mayalı ekmek gibisi yok ben yaptım 😋\n",
      "neg\n",
      "100 euro telefon ve internet. 50 euro çesitli sigortaları. ne yedik, ne içdik, ne gezip tozduk, ne e…\n",
      "neg\n",
      "benim ayranın ekşi diyen,hiç bir insan gördünüzmü?\n",
      "neg\n",
      "soruyu hazırlayan ekşi sözlük yazarı olsa gerek😡\n",
      "neg\n",
      "hocam artan kur bir çok firmanın faaliyet gelirlerini ciddi eksi yazdırmaktadır,daha fazla erimeden b…\n",
      "neg\n",
      "bir uygulama indirdim eksi resimleri getireyim dedim twitterdaki bütün takipçilerimin profil resmini indirdi 😊\n",
      "pos\n",
      "o kitaplara inananlar'da aynı düşünceyi kuran için taşıyor,kimse ayranım ekşi demezki.\n",
      "neg\n",
      "i̇co şunu hatırladım bi anda 2 dak bitmişti ekşi 20 yazdı sanirim 😁\n",
      "pos\n",
      "bunu okurken, geçen senelerde tolga'nın ekşi mayasını her sabah aynı saatte beslemek için tartı ve unla birlikte of…\n",
      "pos\n",
      "sen dahalen tutdurmuşun, açıkca sana hesabı yazılı gönderdim. bu hesabı milyar insan internetde görüyo…\n",
      "neg\n",
      "az once bir marketler zincirinden aldim kendisini.. eksi mayali ekmek..takribi 400 gram civari.. fiyati mi? sudan ucuz! 6.5…\n",
      "neg\n",
      "geçen sezon bir sistemin içine kolayca adapte olup fark yaratan gençler, şu an topu domine edip kendilerini gösterm…\n",
      "neg\n",
      "yazar mısınız sizin desteğinizin bu tagda olmaması büyük eksi.\n",
      "pos\n",
      "i liked a video şey dermişim | i̇lk buluşmada ne yapılmaz, ekşi sözlük, miss turkey, nicki\n",
      "pos\n",
      "thy genel müdürü bilal ekşi, \"biletler hızla tükeniyor. i̇lk 2 gün satılan bilet sayısı 1640. promosyon fiyatlarına…\n",
      "neg\n",
      "tarafsız,bağımsız medya diye yalandan kuduran doğan medyacıların sıra ile chp den vekil oldukları aşikar..bu kadar da mand…\n",
      "neg\n",
      "evet, enteresan eksilerimiz çoğaldıkça, varlığımızın süresi ve varlık(larımız) çoğalıyor. küllerimizden doğmak gibi…\n",
      "neg\n",
      "misal ben.üçkağıtçının tekiyim.i̇nsanların yüzüne yalaka, arkasından kuyusunu kazarım.yalanlar söylerim.menfaatçiyim…\n",
      "pos\n",
      "türk hava yolları genel müdürü bilal ekşi, i̇stanbul yeni havalimanı'ndan yapılacak tarifeli seferlerde ilk 2 gün, bin…\n",
      "neg\n",
      "ekşi sözlük “popüler kültürün esir aldığı oyunculuk mecramızda kutupta yaz gibi kendisi. olağanüstü güzel. olağanüstü yeten…\n",
      "neg\n",
      "soğukluğa bağlı eksi kaç ?\n",
      "neg\n",
      "limon olma kız o ekşi, şöyle tatlı bişey ol 😂\n",
      "neg\n",
      "i̇lk 2 günde, bin 640 bilet satıldı. türk hava türk hava yolları genel müdürü bilal ekşi, i̇stanbul yeni havalimanı'ndan yapı…\n",
      "neg\n",
      "misi der ki: \"adı ekşili köfte olan bir yemeğin ekşi olmaması insanı üzüyor.\"\n",
      "neg\n",
      "buyrun benim 37 - oğuz aksaç ekşi sözlük'te via\n",
      "neg\n",
      "kazık yemişsiniz... ankara'da…\n",
      "neg\n",
      "şu ekşi sözlük denen çöplükte aykut kocaman hakkında atıp tutan yavşak kitlenin de tam kalıbına tüküreyim. aynı ezbere savlar…\n",
      "pos\n",
      "sen sandım..\n",
      "pos\n",
      "canım aşırı derecede nar istiyor. böyle ekşi ekşi olacak, kaşık kaşık yiyeceğim. 🤤🤤 narsadım.\n",
      "neg\n",
      "i̇lk 2 günde, bin 640 bilet satıldı. türk hava türk hava yolları genel müdürü bilal ekşi, i̇stanbul yeni havalimanı'…\n",
      "neg\n",
      "- metin şen; ali koç açıklama yapacak, aykut’un yardımcı antrenörleri ile alakalı - tamam başkan, biz ne yapabilir…\n",
      "pos\n",
      "batuhan eksi adam degildir eyv\n",
      "neg\n",
      "ekşi sözlük'te yazılanları bir görseniz : )\n",
      "neg\n",
      "i̇yi şeyler inandığında, daha iyi şeyler sabrettiğinde, en iyi…\n",
      "neg\n",
      "az once bir marketler zincirinden aldim kendisini.. eksi mayali ekmek..takribi 400 gram civari.. fiyati mi? sudan u…\n",
      "neg\n",
      "evet, enteresan eksilerimiz çoğaldıkça, varlığımızın süresi ve varlık(larımız) çoğalıyor. küllerimizden…\n",
      "pos\n",
      "yeniden camel softa başladım beni bekle ekşi sözlük\n",
      "neg\n",
      "eksi 1 malum kişi mi hocam?\n"
     ]
    }
   ],
   "source": [
    "tweets = cleanTweets(tweets)\n",
    "posList = []\n",
    "negList = []\n",
    "for tweet in tweets:\n",
    "    if classify(tweet) == \"pos\":\n",
    "        posList.append(tweet)\n",
    "        print(\"pos\")\n",
    "        print(tweet)\n",
    "    else:\n",
    "        print(\"neg\")\n",
    "        print(tweet)\n",
    "        negList.append(tweet)\n",
    "\n",
    "TotalSehir = len(posList) + len(negList)\n",
    "TotalPos = len(posList)\n",
    "TotalNeg = len(negList)\n",
    "    "
   ]
  },
  {
   "cell_type": "code",
   "execution_count": 40,
   "metadata": {
    "scrolled": false
   },
   "outputs": [
    {
     "data": {
      "image/png": "[encoded data removed]",
      "text/plain": [
       "<Figure size 432x288 with 1 Axes>"
      ]
     },
     "metadata": {},
     "output_type": "display_data"
    }
   ],
   "source": [
    "labels = 'Negatif Yorumlar', 'Pozitif Yorumlar' #pastadaki başlıkları tanımlıyoruz.\n",
    "sizes = [TotalNeg, TotalPos] #pastada gözükecek verileri tanımlıyoruz.\n",
    "\n",
    "fig1, ax1 = plt.subplots()\n",
    "ax1.pie(sizes, labels=labels, autopct='%1.1f%%',\n",
    "        shadow=True, startangle=90)\n",
    "ax1.axis('equal')\n",
    "plt.title(\"İSKİ Twitter Sosyal Analizi\") \n",
    "plt.show() #oluşturduğumuz pastayı çıktı alıyoruz."
   ]
  },
  {
   "cell_type": "code",
   "execution_count": null,
   "metadata": {},
   "outputs": [],
   "source": []
  },
  {
   "cell_type": "code",
   "execution_count": null,
   "metadata": {},
   "outputs": [],
   "source": []
  }
 ],
 "metadata": {
  "kernelspec": {
   "display_name": "Python 3",
   "language": "python",
   "name": "python3"
  },
  "language_info": {
   "codemirror_mode": {
    "name": "ipython",
    "version": 3
   },
   "file_extension": ".py",
   "mimetype": "text/x-python",
   "name": "python",
   "nbconvert_exporter": "python",
   "pygments_lexer": "ipython3",
   "version": "3.6.5"
  }
 },
 "nbformat": 4,
 "nbformat_minor": 2
}
