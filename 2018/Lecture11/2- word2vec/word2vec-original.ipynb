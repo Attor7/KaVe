{
 "cells": [
  {
   "cell_type": "code",
   "execution_count": 1,
   "metadata": {},
   "outputs": [],
   "source": [
    "import numpy as np\n",
    "from gensim.models import Word2Vec\n",
    "from sklearn.manifold import TSNE\n",
    "import matplotlib.pyplot as plt"
   ]
  },
  {
   "cell_type": "code",
   "execution_count": 2,
   "metadata": {},
   "outputs": [],
   "source": [
    "f = open('hurriyet.txt', 'r', encoding='utf8')\n",
    "text = f.read()\n",
    "t_list = text.split('\\n')\n",
    "\n",
    "corpus = []\n",
    "\n",
    "for cumle in t_list:\n",
    "    corpus.append(cumle.split())"
   ]
  },
  {
   "cell_type": "code",
   "execution_count": 3,
   "metadata": {},
   "outputs": [
    {
     "data": {
      "text/plain": [
       "['gösterilerde',\n",
       " 'fitnecilere',\n",
       " 'ölüm',\n",
       " 'münafıklara',\n",
       " 'ölüm',\n",
       " 'abd',\n",
       " 'ye',\n",
       " 'ölüm',\n",
       " 'ingiltere',\n",
       " 'ye',\n",
       " 'ölüm',\n",
       " 'sloganları',\n",
       " 'atıldı']"
      ]
     },
     "execution_count": 3,
     "metadata": {},
     "output_type": "execute_result"
    }
   ],
   "source": [
    "corpus[1]"
   ]
  },
  {
   "cell_type": "code",
   "execution_count": 4,
   "metadata": {},
   "outputs": [
    {
     "data": {
      "text/plain": [
       "['dini',\n",
       " 'lider',\n",
       " 'ali',\n",
       " 'hamaney',\n",
       " 've',\n",
       " 'cumhurbaşkanı',\n",
       " 'mahmud',\n",
       " 'ahmedinejad',\n",
       " 'ı',\n",
       " 'destekleyen',\n",
       " 'iranlılar',\n",
       " 'son',\n",
       " 'olaylarda',\n",
       " 'yeğeni',\n",
       " 'öldürülen',\n",
       " 'mir',\n",
       " 'hüseyin',\n",
       " 'musevi',\n",
       " 'başta',\n",
       " 'olmak',\n",
       " 'üzere',\n",
       " 'muhalefet',\n",
       " 'liderlerini',\n",
       " 'kınadılar']"
      ]
     },
     "execution_count": 4,
     "metadata": {},
     "output_type": "execute_result"
    }
   ],
   "source": [
    "corpus[2]"
   ]
  },
  {
   "cell_type": "code",
   "execution_count": 5,
   "metadata": {},
   "outputs": [
    {
     "data": {
      "text/plain": [
       "['musevi', 'ye', 'ölüm', 've', 'idam', 'idam', 'sloganları', 'duyuldu']"
      ]
     },
     "execution_count": 5,
     "metadata": {},
     "output_type": "execute_result"
    }
   ],
   "source": [
    "corpus[3]"
   ]
  },
  {
   "cell_type": "code",
   "execution_count": 6,
   "metadata": {},
   "outputs": [],
   "source": [
    "# KElime vektorleri 100 uzunlugunda\n",
    "# merkezdeki kelimenin sag ve solunda +5,-5 kelimeye bakiyor\n",
    "# min_count=5 nadir kelimeleri ele\n",
    "# sg=1 skip-gram\n",
    "\n",
    "model = Word2Vec(corpus, size=100, window=5, min_count=5, sg=1)"
   ]
  },
  {
   "cell_type": "code",
   "execution_count": 7,
   "metadata": {},
   "outputs": [
    {
     "data": {
      "text/plain": [
       "array([-0.36462143, -0.38830596,  0.26988643, -0.27215576,  0.2341427 ,\n",
       "       -0.03362577, -0.48559093,  0.3601364 , -0.30657098, -0.5123659 ,\n",
       "       -0.47606128,  0.29752094, -0.4137513 , -0.02053691,  0.5544686 ,\n",
       "        0.4081733 , -0.07683045,  0.43792936, -0.09326597,  0.02479693,\n",
       "        0.03613878,  0.16529572, -0.04990215,  0.13615526,  0.8868815 ,\n",
       "        0.43706536, -0.21906143,  0.05642978,  0.15691859, -0.38237095,\n",
       "        0.32835498, -0.11960306, -0.17681828,  0.04355223, -0.25242493,\n",
       "       -0.15190363,  0.11589528,  0.01305245, -0.0685661 , -0.2716164 ,\n",
       "       -0.04361263,  0.23187816, -0.03237191,  0.3261483 ,  0.42832282,\n",
       "       -0.05474127, -0.33762234,  0.3479393 ,  0.57010955,  0.10724081,\n",
       "        0.6032939 ,  0.6638579 ,  0.79311275, -0.51720345,  0.12875192,\n",
       "       -0.03237448, -0.1975702 ,  0.33414656,  0.13749894,  0.52267104,\n",
       "       -0.13289878, -0.14279938, -0.18851309, -0.25916725, -0.17416865,\n",
       "       -0.3393732 ,  0.3360576 , -0.5254897 , -0.09546148, -0.13159938,\n",
       "       -0.3952413 ,  0.3230911 ,  0.03671077, -0.39379063,  0.5463874 ,\n",
       "        0.12670097, -0.10837482, -0.46101063, -0.7760277 , -0.22264741,\n",
       "        0.08187088,  0.525733  , -0.06168342,  0.17793164,  0.22366576,\n",
       "       -0.03034898,  0.057141  ,  0.25898457,  0.03033123, -0.04941113,\n",
       "       -0.7170016 , -0.57893586,  0.08365756, -0.134337  , -0.06064164,\n",
       "        0.40503603, -0.21912825,  0.5852205 , -0.10395861, -0.16985887],\n",
       "      dtype=float32)"
      ]
     },
     "execution_count": 7,
     "metadata": {},
     "output_type": "execute_result"
    }
   ],
   "source": [
    "model.wv['ankara']"
   ]
  },
  {
   "cell_type": "code",
   "execution_count": 8,
   "metadata": {},
   "outputs": [
    {
     "data": {
      "text/plain": [
       "[('twitter', 0.759550929069519),\n",
       " ('facebook', 0.7376952171325684),\n",
       " ('paylaşım', 0.7359690070152283),\n",
       " ('whatsapp', 0.7221964597702026),\n",
       " ('internete', 0.7123515605926514),\n",
       " ('twıtter', 0.7069236040115356),\n",
       " ('video', 0.7042967081069946),\n",
       " ('sayfasına', 0.6863290071487427),\n",
       " ('internette', 0.6861578226089478),\n",
       " ('site', 0.6856927871704102)]"
      ]
     },
     "execution_count": 8,
     "metadata": {},
     "output_type": "execute_result"
    }
   ],
   "source": [
    "model.wv.most_similar('youtube')"
   ]
  },
  {
   "cell_type": "markdown",
   "metadata": {},
   "source": [
    "# Modeli kaydetmek"
   ]
  },
  {
   "cell_type": "code",
   "execution_count": 9,
   "metadata": {},
   "outputs": [],
   "source": [
    "model.save('word2vec.model')"
   ]
  },
  {
   "cell_type": "code",
   "execution_count": 10,
   "metadata": {},
   "outputs": [],
   "source": [
    "model = Word2Vec.load('word2vec.model')"
   ]
  },
  {
   "cell_type": "code",
   "execution_count": 11,
   "metadata": {},
   "outputs": [],
   "source": [
    "def closestwords_tsneplot(model, word):\n",
    "    word_vectors = np.empty((0,100))\n",
    "    word_labels = [word]\n",
    "    \n",
    "    close_words = model.wv.most_similar(word)\n",
    "    \n",
    "    word_vectors = np.append(word_vectors, np.array([model.wv[word]]), axis=0)\n",
    "    \n",
    "    for w, _ in close_words:\n",
    "        word_labels.append(w)\n",
    "        word_vectors = np.append(word_vectors, np.array([model.wv[w]]), axis=0)\n",
    "        \n",
    "    tsne = TSNE(random_state=0)\n",
    "    Y = tsne.fit_transform(word_vectors)\n",
    "    \n",
    "    x_coords = Y[:, 0]\n",
    "    y_coords = Y[:, 1]\n",
    "    \n",
    "    plt.scatter(x_coords, y_coords)\n",
    "    \n",
    "    for label, x, y in zip(word_labels, x_coords, y_coords):\n",
    "        plt.annotate(label, xy=(x, y), xytext=(5, -2), textcoords='offset points')\n",
    "        \n",
    "    plt.show()"
   ]
  },
  {
   "cell_type": "code",
   "execution_count": 12,
   "metadata": {},
   "outputs": [
    {
     "data": {
      "image/png": "[encoded data removed]",
      "text/plain": [
       "<matplotlib.figure.Figure at 0x11468bf28>"
      ]
     },
     "metadata": {},
     "output_type": "display_data"
    }
   ],
   "source": [
    "closestwords_tsneplot(model, 'mu')"
   ]
  },
  {
   "cell_type": "code",
   "execution_count": 13,
   "metadata": {},
   "outputs": [
    {
     "data": {
      "image/png": "[encoded data removed]",
      "text/plain": [
       "<matplotlib.figure.Figure at 0x1a639e2080>"
      ]
     },
     "metadata": {},
     "output_type": "display_data"
    }
   ],
   "source": [
    "closestwords_tsneplot(model, 'uzay')"
   ]
  },
  {
   "cell_type": "code",
   "execution_count": 14,
   "metadata": {},
   "outputs": [
    {
     "data": {
      "image/png": "[encoded data removed]",
      "text/plain": [
       "<matplotlib.figure.Figure at 0x1181c4a20>"
      ]
     },
     "metadata": {},
     "output_type": "display_data"
    }
   ],
   "source": [
    "closestwords_tsneplot(model, 'erkek')"
   ]
  },
  {
   "cell_type": "code",
   "execution_count": 15,
   "metadata": {},
   "outputs": [
    {
     "data": {
      "image/png": "[encoded data removed]",
      "text/plain": [
       "<matplotlib.figure.Figure at 0x1a6f3224a8>"
      ]
     },
     "metadata": {},
     "output_type": "display_data"
    }
   ],
   "source": [
    "closestwords_tsneplot(model, 'pazartesi')"
   ]
  },
  {
   "cell_type": "code",
   "execution_count": 16,
   "metadata": {},
   "outputs": [
    {
     "data": {
      "image/png": "[encoded data removed]",
      "text/plain": [
       "<matplotlib.figure.Figure at 0x1126a2278>"
      ]
     },
     "metadata": {},
     "output_type": "display_data"
    }
   ],
   "source": [
    "closestwords_tsneplot(model, 'kasım')"
   ]
  },
  {
   "cell_type": "code",
   "execution_count": 18,
   "metadata": {},
   "outputs": [
    {
     "name": "stderr",
     "output_type": "stream",
     "text": [
      "/anaconda3/lib/python3.6/site-packages/ipykernel_launcher.py:1: DeprecationWarning: Call to deprecated `most_similar` (Method will be removed in 4.0.0, use self.wv.most_similar() instead).\n",
      "  \"\"\"Entry point for launching an IPython kernel.\n"
     ]
    },
    {
     "data": {
      "text/plain": [
       "[('yarın', 0.7467525601387024)]"
      ]
     },
     "execution_count": 18,
     "metadata": {},
     "output_type": "execute_result"
    }
   ],
   "source": [
    "model.most_similar(positive=['akşam', 'bugün'], negative=['sabah'], topn=1)"
   ]
  },
  {
   "cell_type": "code",
   "execution_count": 19,
   "metadata": {},
   "outputs": [
    {
     "name": "stderr",
     "output_type": "stream",
     "text": [
      "/anaconda3/lib/python3.6/site-packages/ipykernel_launcher.py:1: DeprecationWarning: Call to deprecated `most_similar` (Method will be removed in 4.0.0, use self.wv.most_similar() instead).\n",
      "  \"\"\"Entry point for launching an IPython kernel.\n"
     ]
    },
    {
     "data": {
      "text/plain": [
       "[('önce', 0.7487465739250183)]"
      ]
     },
     "execution_count": 19,
     "metadata": {},
     "output_type": "execute_result"
    }
   ],
   "source": [
    "model.most_similar(positive=['akşam', 'sonra'], negative=['sabah'], topn=1)"
   ]
  },
  {
   "cell_type": "code",
   "execution_count": 21,
   "metadata": {},
   "outputs": [
    {
     "name": "stderr",
     "output_type": "stream",
     "text": [
      "/anaconda3/lib/python3.6/site-packages/ipykernel_launcher.py:1: DeprecationWarning: Call to deprecated `most_similar` (Method will be removed in 4.0.0, use self.wv.most_similar() instead).\n",
      "  \"\"\"Entry point for launching an IPython kernel.\n"
     ]
    },
    {
     "data": {
      "text/plain": [
       "[('annesi', 0.638787567615509),\n",
       " ('babası', 0.6345763206481934),\n",
       " ('babasını', 0.6200233101844788),\n",
       " ('ablası', 0.6090593338012695),\n",
       " ('eşim', 0.5984176397323608)]"
      ]
     },
     "execution_count": 21,
     "metadata": {},
     "output_type": "execute_result"
    }
   ],
   "source": [
    "model.most_similar(positive=['anne', 'baba'], negative=['kadın'], topn=5)"
   ]
  },
  {
   "cell_type": "code",
   "execution_count": 22,
   "metadata": {},
   "outputs": [
    {
     "name": "stderr",
     "output_type": "stream",
     "text": [
      "/anaconda3/lib/python3.6/site-packages/ipykernel_launcher.py:1: DeprecationWarning: Call to deprecated `most_similar` (Method will be removed in 4.0.0, use self.wv.most_similar() instead).\n",
      "  \"\"\"Entry point for launching an IPython kernel.\n"
     ]
    },
    {
     "data": {
      "text/plain": [
       "[('suçsuz', 0.5845060348510742)]"
      ]
     },
     "execution_count": 22,
     "metadata": {},
     "output_type": "execute_result"
    }
   ],
   "source": [
    "model.most_similar(positive=['iyi', 'suçlu'], negative=['kötü'], topn=1)"
   ]
  },
  {
   "cell_type": "code",
   "execution_count": null,
   "metadata": {},
   "outputs": [],
   "source": []
  }
 ],
 "metadata": {
  "kernelspec": {
   "display_name": "Python 3",
   "language": "python",
   "name": "python3"
  },
  "language_info": {
   "codemirror_mode": {
    "name": "ipython",
    "version": 3
   },
   "file_extension": ".py",
   "mimetype": "text/x-python",
   "name": "python",
   "nbconvert_exporter": "python",
   "pygments_lexer": "ipython3",
   "version": "3.6.4"
  }
 },
 "nbformat": 4,
 "nbformat_minor": 2
}
