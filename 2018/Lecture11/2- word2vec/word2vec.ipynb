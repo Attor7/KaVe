{
 "cells": [
  {
   "cell_type": "markdown",
   "metadata": {},
   "source": [
    "Read [link](https://medium.freecodecamp.org/how-to-get-started-with-word2vec-and-then-how-to-make-it-work-d0a2fca9dad3)"
   ]
  },
  {
   "cell_type": "code",
   "execution_count": 109,
   "metadata": {},
   "outputs": [],
   "source": [
    "import numpy as np\n",
    "import pandas as pd\n",
    "from gensim.models import Word2Vec\n",
    "from sklearn.manifold import TSNE\n",
    "import matplotlib.pyplot as plt\n",
    "import re"
   ]
  },
  {
   "cell_type": "code",
   "execution_count": 69,
   "metadata": {},
   "outputs": [
    {
     "data": {
      "text/plain": [
       "['a', 'acaba', 'altı', 'altmış', 'ama']"
      ]
     },
     "execution_count": 69,
     "metadata": {},
     "output_type": "execute_result"
    }
   ],
   "source": [
    "# Turkish Stopwords\n",
    "with open('turkce-stop-words.txt') as file:  \n",
    "    stw = file.read() \n",
    "stw = stw.split()\n",
    "stw = [s.lower() for s in stw] \n",
    "stw[:5]"
   ]
  },
  {
   "cell_type": "code",
   "execution_count": 117,
   "metadata": {},
   "outputs": [
    {
     "data": {
      "text/plain": [
       "['uzman',\n",
       " 'uyarıyor',\n",
       " 'şeyma',\n",
       " 'subaşın',\n",
       " 'nafaka',\n",
       " 'faz',\n",
       " 'düşünmek',\n",
       " 'kronik',\n",
       " 'uykusuzluk',\n",
       " 'ne',\n",
       " 'olabilir']"
      ]
     },
     "execution_count": 117,
     "metadata": {},
     "output_type": "execute_result"
    }
   ],
   "source": [
    "from snowballstemmer import stemmer\n",
    "kokbul1 = stemmer('turkish')\n",
    "metin = \"Uzmanlar Uyarıyor Şeyma Subaşınin Nafakasını Fazla Düşünmek Kronik Uykusuzluğa Neden Olabilir\"\n",
    "metin = re.sub(r'[^\\w\\s]','',metin)\n",
    "\n",
    "metin = txt.split()\n",
    "kelimeler = [kelime.lower() for kelime in kokbul1.stemWords(metin) if kelime not in stw]\n",
    "kelimeler"
   ]
  },
  {
   "cell_type": "code",
   "execution_count": 119,
   "metadata": {},
   "outputs": [],
   "source": [
    "f = open('hurriyet.txt', 'r', encoding='utf8')\n",
    "text = f.read()\n",
    "t_list = text.split('\\n')\n",
    "\n",
    "corpus = []\n",
    "\n",
    "for metin in t_list:\n",
    "    metin = re.sub(r'[^\\w\\s]','',metin)\n",
    "    kelimeler = [kelime.lower() for kelime in kokbul1.stemWords(metin.split()) if kelime not in stw]\n",
    "    corpus.append(kelimeler)"
   ]
  },
  {
   "cell_type": "code",
   "execution_count": 120,
   "metadata": {},
   "outputs": [
    {
     "data": {
      "text/plain": [
       "['gösteri',\n",
       " 'fitneci',\n",
       " 'öl',\n",
       " 'münafık',\n",
       " 'öl',\n",
       " 'abd',\n",
       " 'öl',\n",
       " 'ingilter',\n",
       " 'öl',\n",
       " 'slogan',\n",
       " 'atıl']"
      ]
     },
     "execution_count": 120,
     "metadata": {},
     "output_type": "execute_result"
    }
   ],
   "source": [
    "corpus[1]"
   ]
  },
  {
   "cell_type": "code",
   "execution_count": 121,
   "metadata": {},
   "outputs": [
    {
     "data": {
      "text/plain": [
       "['t',\n",
       " 'lider',\n",
       " 'ali',\n",
       " 'hamaney',\n",
       " 'cumhurbaşka',\n",
       " 'mahmudu',\n",
       " 'ahmedinejadı',\n",
       " 'destekleye',\n",
       " 'iranlı',\n",
       " 'son',\n",
       " 'olay',\n",
       " 'yeğe',\n",
       " 'öldürüle',\n",
       " 'mir',\n",
       " 'hüsey',\n",
       " 'musev',\n",
       " 'baş',\n",
       " 'üzer',\n",
       " 'muhalefet',\n",
       " 'lider',\n",
       " 'kınadı']"
      ]
     },
     "execution_count": 121,
     "metadata": {},
     "output_type": "execute_result"
    }
   ],
   "source": [
    "corpus[2]"
   ]
  },
  {
   "cell_type": "code",
   "execution_count": 122,
   "metadata": {},
   "outputs": [
    {
     "data": {
      "text/plain": [
       "['musev', 'öl', 'ida', 'ida', 'slogan', 'duyul']"
      ]
     },
     "execution_count": 122,
     "metadata": {},
     "output_type": "execute_result"
    }
   ],
   "source": [
    "corpus[3]"
   ]
  },
  {
   "cell_type": "code",
   "execution_count": 123,
   "metadata": {},
   "outputs": [],
   "source": [
    "# KElime vektorleri 100 uzunlugunda\n",
    "# merkezdeki kelimenin sag ve solunda +5,-5 kelimeye bakiyor\n",
    "# min_count=5 nadir kelimeleri ele\n",
    "# sg=1 skip-gram\n",
    "\n",
    "model = Word2Vec(corpus, size=100, window=5, min_count=5, sg=1)"
   ]
  },
  {
   "cell_type": "code",
   "execution_count": 124,
   "metadata": {},
   "outputs": [
    {
     "data": {
      "text/plain": [
       "[('interne', 0.7474668025970459),\n",
       " ('twitter', 0.7082403898239136),\n",
       " ('yayınlamas', 0.7008506059646606),\n",
       " ('link', 0.6920303106307983),\n",
       " ('twıtter', 0.6869251728057861),\n",
       " ('liveleak', 0.6787548065185547),\n",
       " ('videos', 0.6645441055297852),\n",
       " ('ileti', 0.6626025438308716),\n",
       " ('sansürsüz', 0.662102222442627),\n",
       " ('weibo', 0.6554743051528931)]"
      ]
     },
     "execution_count": 124,
     "metadata": {},
     "output_type": "execute_result"
    }
   ],
   "source": [
    "model.wv.most_similar('youtube')"
   ]
  },
  {
   "cell_type": "markdown",
   "metadata": {},
   "source": [
    "# Modeli kaydetmek"
   ]
  },
  {
   "cell_type": "code",
   "execution_count": 126,
   "metadata": {},
   "outputs": [],
   "source": [
    "model.save('word2vec.model')"
   ]
  },
  {
   "cell_type": "code",
   "execution_count": 127,
   "metadata": {},
   "outputs": [],
   "source": [
    "model = Word2Vec.load('word2vec.model')"
   ]
  },
  {
   "cell_type": "code",
   "execution_count": 128,
   "metadata": {},
   "outputs": [],
   "source": [
    "def closestwords_tsneplot(model, word):\n",
    "    word_vectors = np.empty((0,100))\n",
    "    word_labels = [word]\n",
    "    \n",
    "    close_words = model.wv.most_similar(word)\n",
    "    \n",
    "    word_vectors = np.append(word_vectors, np.array([model.wv[word]]), axis=0)\n",
    "    \n",
    "    for w, _ in close_words:\n",
    "        word_labels.append(w)\n",
    "        word_vectors = np.append(word_vectors, np.array([model.wv[w]]), axis=0)\n",
    "        \n",
    "    tsne = TSNE(random_state=0)\n",
    "    Y = tsne.fit_transform(word_vectors)\n",
    "    \n",
    "    x_coords = Y[:, 0]\n",
    "    y_coords = Y[:, 1]\n",
    "    \n",
    "    plt.scatter(x_coords, y_coords)\n",
    "    \n",
    "    for label, x, y in zip(word_labels, x_coords, y_coords):\n",
    "        plt.annotate(label, xy=(x, y), xytext=(5, -2), textcoords='offset points')\n",
    "        \n",
    "    plt.show()"
   ]
  },
  {
   "cell_type": "code",
   "execution_count": 129,
   "metadata": {},
   "outputs": [
    {
     "data": {
      "image/png": "[encoded data removed]",
      "text/plain": [
       "<matplotlib.figure.Figure at 0x1a4d8eadd8>"
      ]
     },
     "metadata": {},
     "output_type": "display_data"
    }
   ],
   "source": [
    "closestwords_tsneplot(model, 'uzay')"
   ]
  },
  {
   "cell_type": "code",
   "execution_count": 130,
   "metadata": {},
   "outputs": [
    {
     "data": {
      "image/png": "[encoded data removed]",
      "text/plain": [
       "<matplotlib.figure.Figure at 0x1a4492d278>"
      ]
     },
     "metadata": {},
     "output_type": "display_data"
    }
   ],
   "source": [
    "closestwords_tsneplot(model, 'erkek')"
   ]
  },
  {
   "cell_type": "code",
   "execution_count": 131,
   "metadata": {},
   "outputs": [
    {
     "data": {
      "image/png": "[encoded data removed]",
      "text/plain": [
       "<matplotlib.figure.Figure at 0x1a4492d0f0>"
      ]
     },
     "metadata": {},
     "output_type": "display_data"
    }
   ],
   "source": [
    "closestwords_tsneplot(model, 'pazartesi')"
   ]
  },
  {
   "cell_type": "code",
   "execution_count": 132,
   "metadata": {},
   "outputs": [
    {
     "data": {
      "text/plain": [
       "[('stresli', 0.6585512161254883)]"
      ]
     },
     "execution_count": 132,
     "metadata": {},
     "output_type": "execute_result"
    }
   ],
   "source": [
    "model.wv.most_similar(positive=['akşam', 'bugün'], negative=['sabah'], topn=1)"
   ]
  },
  {
   "cell_type": "code",
   "execution_count": 133,
   "metadata": {},
   "outputs": [
    {
     "data": {
      "text/plain": [
       "[('oğl', 0.7321794033050537),\n",
       " ('bap', 0.7023342847824097),\n",
       " ('babas', 0.7017528414726257),\n",
       " ('oğlu', 0.6833693981170654),\n",
       " ('annes', 0.6789007186889648)]"
      ]
     },
     "execution_count": 133,
     "metadata": {},
     "output_type": "execute_result"
    }
   ],
   "source": [
    "model.wv.most_similar(positive=['anne', 'baba'], negative=['kadın'], topn=5)"
   ]
  },
  {
   "cell_type": "code",
   "execution_count": 135,
   "metadata": {},
   "outputs": [
    {
     "data": {
      "text/plain": [
       "[('mucize', 0.5597928166389465)]"
      ]
     },
     "execution_count": 135,
     "metadata": {},
     "output_type": "execute_result"
    }
   ],
   "source": [
    "model.wv.most_similar(positive=['iyi', 'suçlu'], negative=['kötü'], topn=1)"
   ]
  },
  {
   "cell_type": "markdown",
   "metadata": {},
   "source": [
    "# Metin isleme"
   ]
  },
  {
   "cell_type": "code",
   "execution_count": 136,
   "metadata": {},
   "outputs": [],
   "source": [
    "txt1 = \"futbol basketbol hareket koşu yüzmek\"\n",
    "txt2 = \"spor koş bisikler\"\n",
    "\n",
    "txt3 = \"siyaset politika seçim propaganda\"\n",
    "txt4 = \"siyasi politik sandık\""
   ]
  },
  {
   "cell_type": "code",
   "execution_count": 137,
   "metadata": {},
   "outputs": [],
   "source": [
    "def getVec(txt):\n",
    "    metin = txt.split()\n",
    "    kelimeler = [kelime.lower() for kelime in kokbul1.stemWords(metin) if kelime not in stw]\n",
    "    \n",
    "    vec = np.zeros(100)\n",
    "    for kelime in kelimeler:\n",
    "        try:\n",
    "            vec = vec + model.wv[kelime]\n",
    "        except:\n",
    "            print(\"{} not in vocabulary\".format(kelime))\n",
    "    return vec"
   ]
  },
  {
   "cell_type": "code",
   "execution_count": 138,
   "metadata": {},
   "outputs": [
    {
     "name": "stdout",
     "output_type": "stream",
     "text": [
      "bisik not in vocabulary\n"
     ]
    }
   ],
   "source": [
    "vec1 = getVec(txt1)\n",
    "vec2 = getVec(txt2)\n",
    "vec3 = getVec(txt3)\n",
    "vec4 = getVec(txt4)"
   ]
  },
  {
   "cell_type": "code",
   "execution_count": 139,
   "metadata": {},
   "outputs": [],
   "source": [
    "dataDict = {'vec1':vec1,'vec2':vec2,'vec3':vec3,'vec4':vec4}\n",
    "df = pd.DataFrame.from_dict(dataDict)"
   ]
  },
  {
   "cell_type": "code",
   "execution_count": 140,
   "metadata": {},
   "outputs": [
    {
     "data": {
      "text/html": [
       "<div>\n",
       "<style scoped>\n",
       "    .dataframe tbody tr th:only-of-type {\n",
       "        vertical-align: middle;\n",
       "    }\n",
       "\n",
       "    .dataframe tbody tr th {\n",
       "        vertical-align: top;\n",
       "    }\n",
       "\n",
       "    .dataframe thead th {\n",
       "        text-align: right;\n",
       "    }\n",
       "</style>\n",
       "<table border=\"1\" class=\"dataframe\">\n",
       "  <thead>\n",
       "    <tr style=\"text-align: right;\">\n",
       "      <th></th>\n",
       "      <th>vec1</th>\n",
       "      <th>vec2</th>\n",
       "      <th>vec3</th>\n",
       "      <th>vec4</th>\n",
       "    </tr>\n",
       "  </thead>\n",
       "  <tbody>\n",
       "    <tr>\n",
       "      <th>vec1</th>\n",
       "      <td>1.000000</td>\n",
       "      <td>0.739416</td>\n",
       "      <td>0.423863</td>\n",
       "      <td>0.340295</td>\n",
       "    </tr>\n",
       "    <tr>\n",
       "      <th>vec2</th>\n",
       "      <td>0.739416</td>\n",
       "      <td>1.000000</td>\n",
       "      <td>0.346029</td>\n",
       "      <td>0.317990</td>\n",
       "    </tr>\n",
       "    <tr>\n",
       "      <th>vec3</th>\n",
       "      <td>0.423863</td>\n",
       "      <td>0.346029</td>\n",
       "      <td>1.000000</td>\n",
       "      <td>0.807687</td>\n",
       "    </tr>\n",
       "    <tr>\n",
       "      <th>vec4</th>\n",
       "      <td>0.340295</td>\n",
       "      <td>0.317990</td>\n",
       "      <td>0.807687</td>\n",
       "      <td>1.000000</td>\n",
       "    </tr>\n",
       "  </tbody>\n",
       "</table>\n",
       "</div>"
      ],
      "text/plain": [
       "          vec1      vec2      vec3      vec4\n",
       "vec1  1.000000  0.739416  0.423863  0.340295\n",
       "vec2  0.739416  1.000000  0.346029  0.317990\n",
       "vec3  0.423863  0.346029  1.000000  0.807687\n",
       "vec4  0.340295  0.317990  0.807687  1.000000"
      ]
     },
     "execution_count": 140,
     "metadata": {},
     "output_type": "execute_result"
    }
   ],
   "source": [
    "df.corr()"
   ]
  },
  {
   "cell_type": "code",
   "execution_count": 141,
   "metadata": {},
   "outputs": [],
   "source": [
    "txt1 = \"\"\"Kazanmak için gelmiştik ama ne yazık ki bu olmadı. \n",
    "Futbolda böyle şeyler olabiliyor. 1. dakikadan 90. dakikaya kadar herkes elinden \n",
    "gelen mücadeleyi verdi ama şu an önümüzde Avrupa Ligi opsiyonumuz var. \n",
    "Orada da elimizden geleni yapacağız. \n",
    "Taraftarımızla birlikte nasıl oynadığımızı herkes biliyor. \n",
    "Porto'yu evimizde yenmek istiyoruz.\"\"\"\n",
    "\n",
    "txt2 = \"\"\"\n",
    "Fenerbahçe’yle yarın oynayacakları maçı değerlendiren Hajrovic, \n",
    "\"Genel olarak bu şehri çok seviyorum. Bu şehirde bana saygı duyuyorlar. \n",
    "Fenerbahçe’nin Türkiye’de ligde zor durumda olduğunu biliyoruz. \n",
    "Belli kaliteleri var ve zorlanacağız fakat kazanmak istiyoruz. \n",
    "Fenerbahçe seyircisi önünde oynayacak. Olumsuz bir durumda olsalar da belli bir kaliteleri var. \n",
    "İyi maç çıkarmaya çalışacaklar ve bizim de tedbirli olmamız gerekiyor. \n",
    "Biz bu grupta gereken başarıyı gösterdik ve buna devam edeceğiz.\" şeklinde konuştu.\n",
    "\"\"\"\n",
    "\n",
    "txt3 = \"\"\"\n",
    "Yeni arayüzün beta sürümünü test eden kullanıcılar, kamera uygulamasında önemli \n",
    "bir değişiklik gördüler. Samsung yeni kullanıcı arayüzünde kamera uygulamasında video \n",
    "çekim özelliğini iPhone ile benzer şekilde ayrı bir mod haline getiriyor.\n",
    "\"\"\"\n",
    "\n",
    "txt4 = \"\"\"\n",
    "Özellikle telefonları biraz eskimeye başlayan Android kullanıcılarının en çok beklediği gelişme günceleme. \n",
    "Samsung, oldukça yüksek adetlerde sattığı Galaxy A5 2017, Galaxy A8 2018 ve Galaxy S7’ye yeni güncellemelerini \n",
    "yayınladı. \n",
    "Android güvenlik güncelleştirmesi olan bu güncellemeler, telefonu güncel tehditlerden koruyor.\n",
    "\"\"\""
   ]
  },
  {
   "cell_type": "code",
   "execution_count": 142,
   "metadata": {},
   "outputs": [
    {
     "name": "stdout",
     "output_type": "stream",
     "text": [
      "olmadı. not in vocabulary\n",
      "olabiliyor. not in vocabulary\n",
      "1. not in vocabulary\n",
      "90. not in vocabulary\n",
      "var. not in vocabulary\n",
      "yapacağız. not in vocabulary\n",
      "biliyor. not in vocabulary\n",
      "porto'yu not in vocabulary\n",
      "istiyoruz. not in vocabulary\n",
      "fenerbahçe’yle not in vocabulary\n",
      "hajrovic, not in vocabulary\n",
      "\"genel not in vocabulary\n",
      "seviyorum. not in vocabulary\n",
      "bu not in vocabulary\n",
      "duyuyorlar. not in vocabulary\n",
      "fenerbahçe’n not in vocabulary\n",
      "türkiye’ not in vocabulary\n",
      "biliyoruz. not in vocabulary\n",
      "istiyoruz. not in vocabulary\n",
      "oynayacak. not in vocabulary\n",
      "var. not in vocabulary\n",
      "i̇yi not in vocabulary\n",
      "gerekiyor. not in vocabulary\n",
      "biz not in vocabulary\n",
      "edeceğiz.\" not in vocabulary\n",
      "konuştu. not in vocabulary\n",
      "ye not in vocabulary\n",
      "arayüz not in vocabulary\n",
      "sürüm not in vocabulary\n",
      "kullanıcılar, not in vocabulary\n",
      "gördüler. not in vocabulary\n",
      "samsungu not in vocabulary\n",
      "arayüz not in vocabulary\n",
      "mod not in vocabulary\n",
      "getiriyor. not in vocabulary\n",
      "eskime not in vocabulary\n",
      "günceleme. not in vocabulary\n",
      "samsung, not in vocabulary\n",
      "a5 not in vocabulary\n",
      "2017, not in vocabulary\n",
      "a8 not in vocabulary\n",
      "2018 not in vocabulary\n",
      "s7’ye not in vocabulary\n",
      "yayınladı. not in vocabulary\n",
      "güncelleştirmes not in vocabulary\n",
      "güncellemeler, not in vocabulary\n",
      "koruyor. not in vocabulary\n"
     ]
    }
   ],
   "source": [
    "vec1 = getVec(txt1)\n",
    "vec2 = getVec(txt2)\n",
    "vec3 = getVec(txt3)\n",
    "vec4 = getVec(txt4)"
   ]
  },
  {
   "cell_type": "code",
   "execution_count": 143,
   "metadata": {},
   "outputs": [],
   "source": [
    "dataDict = {'vec1':vec1,'vec2':vec2,'vec3':vec3,'vec4':vec4}\n",
    "df = pd.DataFrame.from_dict(dataDict)"
   ]
  },
  {
   "cell_type": "code",
   "execution_count": 144,
   "metadata": {},
   "outputs": [
    {
     "data": {
      "text/html": [
       "<div>\n",
       "<style scoped>\n",
       "    .dataframe tbody tr th:only-of-type {\n",
       "        vertical-align: middle;\n",
       "    }\n",
       "\n",
       "    .dataframe tbody tr th {\n",
       "        vertical-align: top;\n",
       "    }\n",
       "\n",
       "    .dataframe thead th {\n",
       "        text-align: right;\n",
       "    }\n",
       "</style>\n",
       "<table border=\"1\" class=\"dataframe\">\n",
       "  <thead>\n",
       "    <tr style=\"text-align: right;\">\n",
       "      <th></th>\n",
       "      <th>vec1</th>\n",
       "      <th>vec2</th>\n",
       "      <th>vec3</th>\n",
       "      <th>vec4</th>\n",
       "    </tr>\n",
       "  </thead>\n",
       "  <tbody>\n",
       "    <tr>\n",
       "      <th>vec1</th>\n",
       "      <td>1.000000</td>\n",
       "      <td>0.908422</td>\n",
       "      <td>0.755859</td>\n",
       "      <td>0.833113</td>\n",
       "    </tr>\n",
       "    <tr>\n",
       "      <th>vec2</th>\n",
       "      <td>0.908422</td>\n",
       "      <td>1.000000</td>\n",
       "      <td>0.788803</td>\n",
       "      <td>0.843758</td>\n",
       "    </tr>\n",
       "    <tr>\n",
       "      <th>vec3</th>\n",
       "      <td>0.755859</td>\n",
       "      <td>0.788803</td>\n",
       "      <td>1.000000</td>\n",
       "      <td>0.892051</td>\n",
       "    </tr>\n",
       "    <tr>\n",
       "      <th>vec4</th>\n",
       "      <td>0.833113</td>\n",
       "      <td>0.843758</td>\n",
       "      <td>0.892051</td>\n",
       "      <td>1.000000</td>\n",
       "    </tr>\n",
       "  </tbody>\n",
       "</table>\n",
       "</div>"
      ],
      "text/plain": [
       "          vec1      vec2      vec3      vec4\n",
       "vec1  1.000000  0.908422  0.755859  0.833113\n",
       "vec2  0.908422  1.000000  0.788803  0.843758\n",
       "vec3  0.755859  0.788803  1.000000  0.892051\n",
       "vec4  0.833113  0.843758  0.892051  1.000000"
      ]
     },
     "execution_count": 144,
     "metadata": {},
     "output_type": "execute_result"
    }
   ],
   "source": [
    "df.corr()"
   ]
  },
  {
   "cell_type": "code",
   "execution_count": 149,
   "metadata": {},
   "outputs": [],
   "source": [
    "metin = \"Uzmanlar Uyarıyor Şeyma .. 0 8 Subaşı'nin Nafakasını Fazla Düşünmek Kronik Uykusuzluğa Neden Olabilir\"\n",
    "metin = re.sub(r'[^\\w\\s]','',metin)"
   ]
  },
  {
   "cell_type": "code",
   "execution_count": 150,
   "metadata": {},
   "outputs": [
    {
     "data": {
      "text/plain": [
       "'Uzmanlar Uyarıyor Şeyma  0 8 Subaşınin Nafakasını Fazla Düşünmek Kronik Uykusuzluğa Neden Olabilir'"
      ]
     },
     "execution_count": 150,
     "metadata": {},
     "output_type": "execute_result"
    }
   ],
   "source": [
    "metin"
   ]
  },
  {
   "cell_type": "code",
   "execution_count": null,
   "metadata": {},
   "outputs": [],
   "source": []
  }
 ],
 "metadata": {
  "kernelspec": {
   "display_name": "Python 3",
   "language": "python",
   "name": "python3"
  },
  "language_info": {
   "codemirror_mode": {
    "name": "ipython",
    "version": 3
   },
   "file_extension": ".py",
   "mimetype": "text/x-python",
   "name": "python",
   "nbconvert_exporter": "python",
   "pygments_lexer": "ipython3",
   "version": "3.6.4"
  }
 },
 "nbformat": 4,
 "nbformat_minor": 2
}
