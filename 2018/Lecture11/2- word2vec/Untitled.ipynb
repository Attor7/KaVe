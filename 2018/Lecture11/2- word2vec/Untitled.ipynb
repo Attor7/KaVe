{
 "cells": [
  {
   "cell_type": "code",
   "execution_count": 96,
   "metadata": {},
   "outputs": [],
   "source": [
    "import numpy as np\n",
    "import pandas as pd\n",
    "from gensim.models import Word2Vec\n",
    "from sklearn.manifold import TSNE\n",
    "import matplotlib.pyplot as plt\n",
    "import re"
   ]
  },
  {
   "cell_type": "code",
   "execution_count": 97,
   "metadata": {},
   "outputs": [
    {
     "data": {
      "text/plain": [
       "['a', 'acaba', 'altı', 'altmış', 'ama']"
      ]
     },
     "execution_count": 97,
     "metadata": {},
     "output_type": "execute_result"
    }
   ],
   "source": [
    "# Turkish Stopwords\n",
    "with open('turkce-stop-words.txt') as file:  \n",
    "    stw = file.read() \n",
    "stw = stw.split()\n",
    "stw = [s.lower() for s in stw] \n",
    "stw[:5]"
   ]
  },
  {
   "cell_type": "code",
   "execution_count": 98,
   "metadata": {},
   "outputs": [],
   "source": [
    "from snowballstemmer import stemmer\n",
    "kokbul1 = stemmer('turkish')"
   ]
  },
  {
   "cell_type": "code",
   "execution_count": 99,
   "metadata": {},
   "outputs": [],
   "source": [
    "f = open('deneme.txt', 'r', encoding='utf8')\n",
    "text = f.read()\n",
    "t_list = text.split('\\n')\n",
    "\n",
    "corpus = []\n",
    "\n",
    "for metin in t_list:\n",
    "    metin = re.sub(r'[^\\w\\s]','',metin)\n",
    "    kelimeler = [kelime.lower() for kelime in kokbul1.stemWords(metin.split()) if kelime not in stw]\n",
    "    corpus.append(kelimeler)"
   ]
  },
  {
   "cell_type": "code",
   "execution_count": 100,
   "metadata": {},
   "outputs": [
    {
     "data": {
      "text/plain": [
       "[['yıldız', 'gezege', 'uzay', 'araç', 'dünya'],\n",
       " ['eee', 'rrrr', 'tttt', 'evre', 'yyy', 'oooo', 'hhhh'],\n",
       " ['dünya', 'atmosfer', 'dış', 'uzay', 'enerji', 'biçim', 'içere', 'büt'],\n",
       " ['gök',\n",
       "  'cisim',\n",
       "  'ara',\n",
       "  'yer',\n",
       "  'ala',\n",
       "  'evre',\n",
       "  'ağırlıklı',\n",
       "  'hidroje',\n",
       "  'hely',\n",
       "  'oluşa'],\n",
       " ['yıldız', 'gezege', 'evre', 'araç', 'dünya'],\n",
       " ['eee', 'rrrr', 'tttt', 'uzay', 'yyy', 'oooo', 'hhhh'],\n",
       " ['dünya', 'atmosfer', 'dış', 'evre', 'enerji', 'biçim', 'içere', 'büt'],\n",
       " ['gök',\n",
       "  'cisim',\n",
       "  'ara',\n",
       "  'yer',\n",
       "  'ala',\n",
       "  'uzay',\n",
       "  'ağırlıklı',\n",
       "  'hidroje',\n",
       "  'hely',\n",
       "  'oluşa'],\n",
       " ['öte', 'evre', 'büyük', 'gökcisim', 'aynı', 'zama'],\n",
       " ['öte', 'uzay', 'büyük', 'gökcisim', 'aynı', 'zama'],\n",
       " ['baz', 'galaksi', 'evre', 'araç', 'dünya'],\n",
       " ['baz', 'galaksi', 'uzay', 'araç', 'dünya'],\n",
       " ['ala', 'rrrr', 'içere', 'evre', 'enerji', 'biçim', 'dünya', 'büt'],\n",
       " ['ala', 'rrrr', 'içere', 'uzay', 'enerji', 'biçim', 'dünya', 'büt']]"
      ]
     },
     "execution_count": 100,
     "metadata": {},
     "output_type": "execute_result"
    }
   ],
   "source": [
    "corpus"
   ]
  },
  {
   "cell_type": "code",
   "execution_count": 101,
   "metadata": {},
   "outputs": [],
   "source": [
    "model = Word2Vec(corpus, size=40, window=1, min_count=3, sg=1)"
   ]
  },
  {
   "cell_type": "code",
   "execution_count": 102,
   "metadata": {},
   "outputs": [
    {
     "data": {
      "text/plain": [
       "<gensim.models.word2vec.Word2Vec at 0x1a1ae29160>"
      ]
     },
     "execution_count": 102,
     "metadata": {},
     "output_type": "execute_result"
    }
   ],
   "source": [
    "model"
   ]
  },
  {
   "cell_type": "code",
   "execution_count": 103,
   "metadata": {},
   "outputs": [
    {
     "data": {
      "text/plain": [
       "[('içere', 0.24752357602119446),\n",
       " ('dünya', 0.2307063192129135),\n",
       " ('büt', 0.14815442264080048),\n",
       " ('evre', 0.12828125059604645),\n",
       " ('rrrr', 0.12624122202396393),\n",
       " ('enerji', 0.098637655377388),\n",
       " ('biçim', 0.08359900861978531),\n",
       " ('araç', 0.02110220491886139),\n",
       " ('ala', -0.2171531319618225)]"
      ]
     },
     "execution_count": 103,
     "metadata": {},
     "output_type": "execute_result"
    }
   ],
   "source": [
    "model.wv.most_similar('uzay')"
   ]
  },
  {
   "cell_type": "code",
   "execution_count": 104,
   "metadata": {},
   "outputs": [],
   "source": [
    "def closestwords_tsneplot(model, word):\n",
    "    word_vectors = np.empty((0,40))\n",
    "    word_labels = [word]\n",
    "    \n",
    "    close_words = model.wv.most_similar(word)\n",
    "    \n",
    "    word_vectors = np.append(word_vectors, np.array([model.wv[word]]), axis=0)\n",
    "    \n",
    "    for w, _ in close_words:\n",
    "        word_labels.append(w)\n",
    "        word_vectors = np.append(word_vectors, np.array([model.wv[w]]), axis=0)\n",
    "        \n",
    "    tsne = TSNE(random_state=0)\n",
    "    Y = tsne.fit_transform(word_vectors)\n",
    "    \n",
    "    x_coords = Y[:, 0]\n",
    "    y_coords = Y[:, 1]\n",
    "    \n",
    "    plt.scatter(x_coords, y_coords)\n",
    "    \n",
    "    for label, x, y in zip(word_labels, x_coords, y_coords):\n",
    "        plt.annotate(label, xy=(x, y), xytext=(5, -2), textcoords='offset points')\n",
    "        \n",
    "    plt.show()"
   ]
  },
  {
   "cell_type": "code",
   "execution_count": 105,
   "metadata": {},
   "outputs": [
    {
     "data": {
      "image/png": "[encoded data removed]",
      "text/plain": [
       "<matplotlib.figure.Figure at 0x1a19c91c88>"
      ]
     },
     "metadata": {},
     "output_type": "display_data"
    }
   ],
   "source": [
    "closestwords_tsneplot(model, 'uzay')"
   ]
  },
  {
   "cell_type": "code",
   "execution_count": 107,
   "metadata": {},
   "outputs": [],
   "source": [
    "from gensim.test.utils import common_texts, get_tmpfile\n",
    "from gensim.models import Word2Vec"
   ]
  },
  {
   "cell_type": "code",
   "execution_count": 108,
   "metadata": {},
   "outputs": [],
   "source": [
    "model = Word2Vec(common_texts, size=100, window=5, min_count=1, workers=4)"
   ]
  },
  {
   "cell_type": "code",
   "execution_count": 115,
   "metadata": {},
   "outputs": [
    {
     "data": {
      "text/plain": [
       "<gensim.models.word2vec.Word2VecVocab at 0x1a19d53898>"
      ]
     },
     "execution_count": 115,
     "metadata": {},
     "output_type": "execute_result"
    }
   ],
   "source": [
    "model.vocabulary"
   ]
  },
  {
   "cell_type": "code",
   "execution_count": 116,
   "metadata": {},
   "outputs": [
    {
     "name": "stderr",
     "output_type": "stream",
     "text": [
      "/anaconda3/lib/python3.6/site-packages/ipykernel_launcher.py:4: DeprecationWarning: Call to deprecated `iter` (Attribute will be removed in 4.0.0, use self.epochs instead).\n",
      "  after removing the cwd from sys.path.\n"
     ]
    },
    {
     "data": {
      "text/plain": [
       "(1, 30)"
      ]
     },
     "execution_count": 116,
     "metadata": {},
     "output_type": "execute_result"
    }
   ],
   "source": [
    "sentences = [[\"cat\", \"say\", \"meow\"], [\"dog\", \"say\", \"woof\"]]\n",
    "model = Word2Vec(min_count=1)\n",
    "model.build_vocab(sentences) \n",
    "model.train(sentences, total_examples=model.corpus_count, epochs=model.iter)"
   ]
  },
  {
   "cell_type": "code",
   "execution_count": 118,
   "metadata": {},
   "outputs": [
    {
     "data": {
      "text/plain": [
       "[('meow', 0.024364227429032326),\n",
       " ('dog', -0.016982432454824448),\n",
       " ('woof', -0.10650789737701416),\n",
       " ('say', -0.21089118719100952)]"
      ]
     },
     "execution_count": 118,
     "metadata": {},
     "output_type": "execute_result"
    }
   ],
   "source": [
    "model.wv.most_similar('cat')"
   ]
  },
  {
   "cell_type": "code",
   "execution_count": null,
   "metadata": {},
   "outputs": [],
   "source": []
  }
 ],
 "metadata": {
  "kernelspec": {
   "display_name": "Python 3",
   "language": "python",
   "name": "python3"
  },
  "language_info": {
   "codemirror_mode": {
    "name": "ipython",
    "version": 3
   },
   "file_extension": ".py",
   "mimetype": "text/x-python",
   "name": "python",
   "nbconvert_exporter": "python",
   "pygments_lexer": "ipython3",
   "version": "3.6.4"
  }
 },
 "nbformat": 4,
 "nbformat_minor": 2
}
