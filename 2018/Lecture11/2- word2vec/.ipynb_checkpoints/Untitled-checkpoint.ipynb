{
 "cells": [
  {
   "cell_type": "code",
   "execution_count": 76,
   "metadata": {},
   "outputs": [],
   "source": [
    "import numpy as np\n",
    "import pandas as pd\n",
    "from gensim.models import Word2Vec\n",
    "from sklearn.manifold import TSNE\n",
    "import matplotlib.pyplot as plt\n",
    "import re"
   ]
  },
  {
   "cell_type": "code",
   "execution_count": 77,
   "metadata": {},
   "outputs": [
    {
     "data": {
      "text/plain": [
       "['a', 'acaba', 'altı', 'altmış', 'ama']"
      ]
     },
     "execution_count": 77,
     "metadata": {},
     "output_type": "execute_result"
    }
   ],
   "source": [
    "# Turkish Stopwords\n",
    "with open('turkce-stop-words.txt') as file:  \n",
    "    stw = file.read() \n",
    "stw = stw.split()\n",
    "stw = [s.lower() for s in stw] \n",
    "stw[:5]"
   ]
  },
  {
   "cell_type": "code",
   "execution_count": 78,
   "metadata": {},
   "outputs": [],
   "source": [
    "from snowballstemmer import stemmer\n",
    "kokbul1 = stemmer('turkish')"
   ]
  },
  {
   "cell_type": "code",
   "execution_count": 79,
   "metadata": {},
   "outputs": [],
   "source": [
    "f = open('deneme.txt', 'r', encoding='utf8')\n",
    "text = f.read()\n",
    "t_list = text.split('\\n')\n",
    "\n",
    "corpus = []\n",
    "\n",
    "for metin in t_list:\n",
    "    metin = re.sub(r'[^\\w\\s]','',metin)\n",
    "    kelimeler = [kelime.lower() for kelime in kokbul1.stemWords(metin.split()) if kelime not in stw]\n",
    "    corpus.append(kelimeler)"
   ]
  },
  {
   "cell_type": "code",
   "execution_count": 80,
   "metadata": {},
   "outputs": [
    {
     "data": {
      "text/plain": [
       "[['yıldız', 'gezege', 'uzay', 'araç', 'dünya'],\n",
       " ['eee', 'rrrr', 'tttt', 'evre', 'yyy', 'oooo', 'hhhh'],\n",
       " ['dünya', 'atmosfer', 'dış', 'uzay', 'enerji', 'biçim', 'içere', 'büt'],\n",
       " ['gök',\n",
       "  'cisim',\n",
       "  'ara',\n",
       "  'yer',\n",
       "  'ala',\n",
       "  'evre',\n",
       "  'ağırlıklı',\n",
       "  'hidroje',\n",
       "  'hely',\n",
       "  'oluşa'],\n",
       " ['yıldız', 'gezege', 'evre', 'araç', 'dünya'],\n",
       " ['eee', 'rrrr', 'tttt', 'uzay', 'yyy', 'oooo', 'hhhh'],\n",
       " ['dünya', 'atmosfer', 'dış', 'evre', 'enerji', 'biçim', 'içere', 'büt'],\n",
       " ['gök',\n",
       "  'cisim',\n",
       "  'ara',\n",
       "  'yer',\n",
       "  'ala',\n",
       "  'uzay',\n",
       "  'ağırlıklı',\n",
       "  'hidroje',\n",
       "  'hely',\n",
       "  'oluşa'],\n",
       " ['öte', 'evre', 'büyük', 'gökcisim', 'aynı', 'zama'],\n",
       " ['öte', 'uzay', 'büyük', 'gökcisim', 'aynı', 'zama'],\n",
       " ['baz', 'galaksi', 'evre', 'araç', 'dünya'],\n",
       " ['baz', 'galaksi', 'uzay', 'araç', 'dünya'],\n",
       " ['eee', 'rrrr', 'tttt', 'evre', 'enerji', 'biçim', 'içere', 'büt'],\n",
       " ['eee', 'rrrr', 'tttt', 'uzay', 'enerji', 'biçim', 'içere', 'büt']]"
      ]
     },
     "execution_count": 80,
     "metadata": {},
     "output_type": "execute_result"
    }
   ],
   "source": [
    "corpus"
   ]
  },
  {
   "cell_type": "code",
   "execution_count": 81,
   "metadata": {},
   "outputs": [],
   "source": [
    "model = Word2Vec(corpus, size=10, window=1, min_count=3, sg=1)"
   ]
  },
  {
   "cell_type": "code",
   "execution_count": 82,
   "metadata": {},
   "outputs": [
    {
     "data": {
      "text/plain": [
       "<gensim.models.word2vec.Word2Vec at 0x1a19963898>"
      ]
     },
     "execution_count": 82,
     "metadata": {},
     "output_type": "execute_result"
    }
   ],
   "source": [
    "model"
   ]
  },
  {
   "cell_type": "code",
   "execution_count": 83,
   "metadata": {},
   "outputs": [
    {
     "data": {
      "text/plain": [
       "[('içere', 0.3092727065086365),\n",
       " ('rrrr', 0.28149545192718506),\n",
       " ('dünya', 0.22750990092754364),\n",
       " ('evre', 0.1019599586725235),\n",
       " ('tttt', 0.09696055948734283),\n",
       " ('biçim', 0.06791955232620239),\n",
       " ('araç', 0.018650054931640625),\n",
       " ('büt', -0.07830152660608292),\n",
       " ('enerji', -0.13956297934055328),\n",
       " ('eee', -0.4320976734161377)]"
      ]
     },
     "execution_count": 83,
     "metadata": {},
     "output_type": "execute_result"
    }
   ],
   "source": [
    "model.wv.most_similar('uzay')"
   ]
  },
  {
   "cell_type": "code",
   "execution_count": 84,
   "metadata": {},
   "outputs": [],
   "source": [
    "def closestwords_tsneplot(model, word):\n",
    "    word_vectors = np.empty((0,40))\n",
    "    word_labels = [word]\n",
    "    \n",
    "    close_words = model.wv.most_similar(word)\n",
    "    \n",
    "    word_vectors = np.append(word_vectors, np.array([model.wv[word]]), axis=0)\n",
    "    \n",
    "    for w, _ in close_words:\n",
    "        word_labels.append(w)\n",
    "        word_vectors = np.append(word_vectors, np.array([model.wv[w]]), axis=0)\n",
    "        \n",
    "    tsne = TSNE(random_state=0)\n",
    "    Y = tsne.fit_transform(word_vectors)\n",
    "    \n",
    "    x_coords = Y[:, 0]\n",
    "    y_coords = Y[:, 1]\n",
    "    \n",
    "    plt.scatter(x_coords, y_coords)\n",
    "    \n",
    "    for label, x, y in zip(word_labels, x_coords, y_coords):\n",
    "        plt.annotate(label, xy=(x, y), xytext=(5, -2), textcoords='offset points')\n",
    "        \n",
    "    plt.show()"
   ]
  },
  {
   "cell_type": "code",
   "execution_count": 85,
   "metadata": {},
   "outputs": [
    {
     "data": {
      "image/png": "[encoded data removed]",
      "text/plain": [
       "<matplotlib.figure.Figure at 0x1a199630b8>"
      ]
     },
     "metadata": {},
     "output_type": "display_data"
    }
   ],
   "source": [
    "closestwords_tsneplot(model, 'uzay')"
   ]
  },
  {
   "cell_type": "code",
   "execution_count": null,
   "metadata": {},
   "outputs": [],
   "source": []
  },
  {
   "cell_type": "code",
   "execution_count": null,
   "metadata": {},
   "outputs": [],
   "source": []
  }
 ],
 "metadata": {
  "kernelspec": {
   "display_name": "Python 3",
   "language": "python",
   "name": "python3"
  },
  "language_info": {
   "codemirror_mode": {
    "name": "ipython",
    "version": 3
   },
   "file_extension": ".py",
   "mimetype": "text/x-python",
   "name": "python",
   "nbconvert_exporter": "python",
   "pygments_lexer": "ipython3",
   "version": "3.6.4"
  }
 },
 "nbformat": 4,
 "nbformat_minor": 2
}
