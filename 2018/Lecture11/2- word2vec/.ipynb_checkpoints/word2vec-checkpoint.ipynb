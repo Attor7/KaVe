{
 "cells": [
  {
   "cell_type": "code",
   "execution_count": 38,
   "metadata": {},
   "outputs": [],
   "source": [
    "import numpy as np\n",
    "import pandas as pd\n",
    "from gensim.models import Word2Vec\n",
    "from sklearn.manifold import TSNE\n",
    "import matplotlib.pyplot as plt"
   ]
  },
  {
   "cell_type": "code",
   "execution_count": 69,
   "metadata": {},
   "outputs": [
    {
     "data": {
      "text/plain": [
       "['a', 'acaba', 'altı', 'altmış', 'ama']"
      ]
     },
     "execution_count": 69,
     "metadata": {},
     "output_type": "execute_result"
    }
   ],
   "source": [
    "# Turkish Stopwords\n",
    "with open('turkce-stop-words.txt') as file:  \n",
    "    stw = file.read() \n",
    "stw = stw.split()\n",
    "stw = [s.lower() for s in stw] \n",
    "stw[:5]"
   ]
  },
  {
   "cell_type": "code",
   "execution_count": 73,
   "metadata": {},
   "outputs": [
    {
     "data": {
      "text/plain": [
       "['uzman', 'uyarıyor', 'şeyma', 'subaşın', 'nafaka']"
      ]
     },
     "execution_count": 73,
     "metadata": {},
     "output_type": "execute_result"
    }
   ],
   "source": [
    "from snowballstemmer import stemmer\n",
    "kokbul1 = stemmer('turkish')\n",
    "txt = \"Uzmanlar Uyarıyor Şeyma Subaşınin Nafakasını Fazla Düşünmek Kronik Uykusuzluğa Neden Olabilir\"\n",
    "\n",
    "metin = txt.split()\n",
    "kelimeler = [kelime.lower() for kelime in kokbul1.stemWords(metin) if kelime not in stw]\n",
    "kelimeler[:5]"
   ]
  },
  {
   "cell_type": "code",
   "execution_count": 79,
   "metadata": {},
   "outputs": [],
   "source": [
    "f = open('hurriyet.txt', 'r', encoding='utf8')\n",
    "text = f.read()\n",
    "t_list = text.split('\\n')\n",
    "\n",
    "corpus = []\n",
    "\n",
    "for metin in t_list:\n",
    "    kelimeler = [kelime.lower() for kelime in kokbul1.stemWords(metin.split()) if kelime not in stw]\n",
    "    corpus.append(kelimeler)"
   ]
  },
  {
   "cell_type": "code",
   "execution_count": 80,
   "metadata": {},
   "outputs": [
    {
     "data": {
      "text/plain": [
       "['gösteri',\n",
       " 'fitneci',\n",
       " 'öl',\n",
       " 'münafık',\n",
       " 'öl',\n",
       " 'abd',\n",
       " 'öl',\n",
       " 'ingilter',\n",
       " 'öl',\n",
       " 'slogan',\n",
       " 'atıl']"
      ]
     },
     "execution_count": 80,
     "metadata": {},
     "output_type": "execute_result"
    }
   ],
   "source": [
    "corpus[1]"
   ]
  },
  {
   "cell_type": "code",
   "execution_count": 81,
   "metadata": {},
   "outputs": [
    {
     "data": {
      "text/plain": [
       "['t',\n",
       " 'lider',\n",
       " 'ali',\n",
       " 'hamaney',\n",
       " 'cumhurbaşka',\n",
       " 'mahmudu',\n",
       " 'ahmedinejadı',\n",
       " 'destekleye',\n",
       " 'iranlı',\n",
       " 'son',\n",
       " 'olay',\n",
       " 'yeğe',\n",
       " 'öldürüle',\n",
       " 'mir',\n",
       " 'hüsey',\n",
       " 'musev',\n",
       " 'baş',\n",
       " 'üzer',\n",
       " 'muhalefet',\n",
       " 'lider',\n",
       " 'kınadı']"
      ]
     },
     "execution_count": 81,
     "metadata": {},
     "output_type": "execute_result"
    }
   ],
   "source": [
    "corpus[2]"
   ]
  },
  {
   "cell_type": "code",
   "execution_count": 82,
   "metadata": {},
   "outputs": [
    {
     "data": {
      "text/plain": [
       "['musev', 'öl', 'ida', 'ida', 'slogan', 'duyul']"
      ]
     },
     "execution_count": 82,
     "metadata": {},
     "output_type": "execute_result"
    }
   ],
   "source": [
    "corpus[3]"
   ]
  },
  {
   "cell_type": "code",
   "execution_count": 83,
   "metadata": {},
   "outputs": [],
   "source": [
    "# KElime vektorleri 100 uzunlugunda\n",
    "# merkezdeki kelimenin sag ve solunda +5,-5 kelimeye bakiyor\n",
    "# min_count=5 nadir kelimeleri ele\n",
    "# sg=1 skip-gram\n",
    "\n",
    "model = Word2Vec(corpus, size=100, window=5, min_count=5, sg=1)"
   ]
  },
  {
   "cell_type": "code",
   "execution_count": 86,
   "metadata": {},
   "outputs": [
    {
     "data": {
      "text/plain": [
       "[('interne', 0.7687987089157104),\n",
       " ('twitter', 0.7024799585342407),\n",
       " ('video', 0.6766893863677979),\n",
       " ('twıtter', 0.6766653060913086),\n",
       " ('link', 0.6740261316299438),\n",
       " ('facebook', 0.6711618900299072),\n",
       " ('yayınlamas', 0.6673158407211304),\n",
       " ('yasaklanabilecek', 0.6668673753738403),\n",
       " ('internet', 0.6652664542198181),\n",
       " ('whatsapp', 0.6638635396957397)]"
      ]
     },
     "execution_count": 86,
     "metadata": {},
     "output_type": "execute_result"
    }
   ],
   "source": [
    "model.wv.most_similar('youtube')"
   ]
  },
  {
   "cell_type": "markdown",
   "metadata": {},
   "source": [
    "# Modeli kaydetmek"
   ]
  },
  {
   "cell_type": "code",
   "execution_count": 87,
   "metadata": {},
   "outputs": [],
   "source": [
    "model.save('word2vec.model')"
   ]
  },
  {
   "cell_type": "code",
   "execution_count": 88,
   "metadata": {},
   "outputs": [],
   "source": [
    "model = Word2Vec.load('word2vec.model')"
   ]
  },
  {
   "cell_type": "code",
   "execution_count": 89,
   "metadata": {},
   "outputs": [],
   "source": [
    "def closestwords_tsneplot(model, word):\n",
    "    word_vectors = np.empty((0,100))\n",
    "    word_labels = [word]\n",
    "    \n",
    "    close_words = model.wv.most_similar(word)\n",
    "    \n",
    "    word_vectors = np.append(word_vectors, np.array([model.wv[word]]), axis=0)\n",
    "    \n",
    "    for w, _ in close_words:\n",
    "        word_labels.append(w)\n",
    "        word_vectors = np.append(word_vectors, np.array([model.wv[w]]), axis=0)\n",
    "        \n",
    "    tsne = TSNE(random_state=0)\n",
    "    Y = tsne.fit_transform(word_vectors)\n",
    "    \n",
    "    x_coords = Y[:, 0]\n",
    "    y_coords = Y[:, 1]\n",
    "    \n",
    "    plt.scatter(x_coords, y_coords)\n",
    "    \n",
    "    for label, x, y in zip(word_labels, x_coords, y_coords):\n",
    "        plt.annotate(label, xy=(x, y), xytext=(5, -2), textcoords='offset points')\n",
    "        \n",
    "    plt.show()"
   ]
  },
  {
   "cell_type": "code",
   "execution_count": 91,
   "metadata": {},
   "outputs": [
    {
     "data": {
      "image/png": "[encoded data removed]",
      "text/plain": [
       "<matplotlib.figure.Figure at 0x1a45c1fb38>"
      ]
     },
     "metadata": {},
     "output_type": "display_data"
    }
   ],
   "source": [
    "closestwords_tsneplot(model, 'uzay')"
   ]
  },
  {
   "cell_type": "code",
   "execution_count": 92,
   "metadata": {},
   "outputs": [
    {
     "data": {
      "image/png": "[encoded data removed]",
      "text/plain": [
       "<matplotlib.figure.Figure at 0x1a45c1fba8>"
      ]
     },
     "metadata": {},
     "output_type": "display_data"
    }
   ],
   "source": [
    "closestwords_tsneplot(model, 'erkek')"
   ]
  },
  {
   "cell_type": "code",
   "execution_count": 93,
   "metadata": {},
   "outputs": [
    {
     "data": {
      "image/png": "[encoded data removed]",
      "text/plain": [
       "<matplotlib.figure.Figure at 0x1a45c1fa20>"
      ]
     },
     "metadata": {},
     "output_type": "display_data"
    }
   ],
   "source": [
    "closestwords_tsneplot(model, 'pazartesi')"
   ]
  },
  {
   "cell_type": "code",
   "execution_count": 95,
   "metadata": {},
   "outputs": [
    {
     "data": {
      "text/plain": [
       "[('çehre', 0.6600202322006226)]"
      ]
     },
     "execution_count": 95,
     "metadata": {},
     "output_type": "execute_result"
    }
   ],
   "source": [
    "model.wv.most_similar(positive=['akşam', 'bugün'], negative=['sabah'], topn=1)"
   ]
  },
  {
   "cell_type": "code",
   "execution_count": 19,
   "metadata": {},
   "outputs": [
    {
     "data": {
      "text/plain": [
       "[('babası', 0.6243816018104553),\n",
       " ('ablası', 0.6032775044441223),\n",
       " ('annesi', 0.602586030960083),\n",
       " ('oğul', 0.6020326614379883),\n",
       " ('eşim', 0.6017829179763794)]"
      ]
     },
     "execution_count": 19,
     "metadata": {},
     "output_type": "execute_result"
    }
   ],
   "source": [
    "model.wv.most_similar(positive=['anne', 'baba'], negative=['kadın'], topn=5)"
   ]
  },
  {
   "cell_type": "code",
   "execution_count": 97,
   "metadata": {},
   "outputs": [
    {
     "data": {
      "text/plain": [
       "[('affet', 0.5595946311950684)]"
      ]
     },
     "execution_count": 97,
     "metadata": {},
     "output_type": "execute_result"
    }
   ],
   "source": [
    "model.wv.most_similar(positive=['iyi', 'suçlu'], negative=['kötü'], topn=1)"
   ]
  },
  {
   "cell_type": "markdown",
   "metadata": {},
   "source": [
    "# Metin isleme"
   ]
  },
  {
   "cell_type": "code",
   "execution_count": 98,
   "metadata": {},
   "outputs": [],
   "source": [
    "txt1 = \"futbol basketbol hareket koşu yüzmek\"\n",
    "txt2 = \"spor koş bisikler\"\n",
    "\n",
    "txt3 = \"siyaset politika seçim propaganda\"\n",
    "txt4 = \"siyasi politik sandık\""
   ]
  },
  {
   "cell_type": "code",
   "execution_count": 99,
   "metadata": {},
   "outputs": [],
   "source": [
    "def getVec(txt):\n",
    "    metin = txt.split()\n",
    "    kelimeler = [kelime.lower() for kelime in kokbul1.stemWords(metin) if kelime not in stw]\n",
    "    \n",
    "    vec = np.zeros(100)\n",
    "    for kelime in kelimeler:\n",
    "        try:\n",
    "            vec = vec + model.wv[kelime]\n",
    "        except:\n",
    "            print(\"{} not in vocabulary\".format(kelime))\n",
    "    return vec"
   ]
  },
  {
   "cell_type": "code",
   "execution_count": 100,
   "metadata": {},
   "outputs": [
    {
     "name": "stdout",
     "output_type": "stream",
     "text": [
      "bisik not in vocabulary\n"
     ]
    }
   ],
   "source": [
    "vec1 = getVec(txt1)\n",
    "vec2 = getVec(txt2)\n",
    "vec3 = getVec(txt3)\n",
    "vec4 = getVec(txt4)"
   ]
  },
  {
   "cell_type": "code",
   "execution_count": 101,
   "metadata": {},
   "outputs": [],
   "source": [
    "dataDict = {'vec1':vec1,'vec2':vec2,'vec3':vec3,'vec4':vec4}\n",
    "df = pd.DataFrame.from_dict(dataDict)"
   ]
  },
  {
   "cell_type": "code",
   "execution_count": 102,
   "metadata": {},
   "outputs": [
    {
     "data": {
      "text/html": [
       "<div>\n",
       "<style scoped>\n",
       "    .dataframe tbody tr th:only-of-type {\n",
       "        vertical-align: middle;\n",
       "    }\n",
       "\n",
       "    .dataframe tbody tr th {\n",
       "        vertical-align: top;\n",
       "    }\n",
       "\n",
       "    .dataframe thead th {\n",
       "        text-align: right;\n",
       "    }\n",
       "</style>\n",
       "<table border=\"1\" class=\"dataframe\">\n",
       "  <thead>\n",
       "    <tr style=\"text-align: right;\">\n",
       "      <th></th>\n",
       "      <th>vec1</th>\n",
       "      <th>vec2</th>\n",
       "      <th>vec3</th>\n",
       "      <th>vec4</th>\n",
       "    </tr>\n",
       "  </thead>\n",
       "  <tbody>\n",
       "    <tr>\n",
       "      <th>vec1</th>\n",
       "      <td>1.000000</td>\n",
       "      <td>0.722973</td>\n",
       "      <td>0.439464</td>\n",
       "      <td>0.349590</td>\n",
       "    </tr>\n",
       "    <tr>\n",
       "      <th>vec2</th>\n",
       "      <td>0.722973</td>\n",
       "      <td>1.000000</td>\n",
       "      <td>0.383832</td>\n",
       "      <td>0.389028</td>\n",
       "    </tr>\n",
       "    <tr>\n",
       "      <th>vec3</th>\n",
       "      <td>0.439464</td>\n",
       "      <td>0.383832</td>\n",
       "      <td>1.000000</td>\n",
       "      <td>0.785290</td>\n",
       "    </tr>\n",
       "    <tr>\n",
       "      <th>vec4</th>\n",
       "      <td>0.349590</td>\n",
       "      <td>0.389028</td>\n",
       "      <td>0.785290</td>\n",
       "      <td>1.000000</td>\n",
       "    </tr>\n",
       "  </tbody>\n",
       "</table>\n",
       "</div>"
      ],
      "text/plain": [
       "          vec1      vec2      vec3      vec4\n",
       "vec1  1.000000  0.722973  0.439464  0.349590\n",
       "vec2  0.722973  1.000000  0.383832  0.389028\n",
       "vec3  0.439464  0.383832  1.000000  0.785290\n",
       "vec4  0.349590  0.389028  0.785290  1.000000"
      ]
     },
     "execution_count": 102,
     "metadata": {},
     "output_type": "execute_result"
    }
   ],
   "source": [
    "df.corr()"
   ]
  },
  {
   "cell_type": "code",
   "execution_count": 103,
   "metadata": {},
   "outputs": [],
   "source": [
    "txt1 = \"\"\"Kazanmak için gelmiştik ama ne yazık ki bu olmadı. \n",
    "Futbolda böyle şeyler olabiliyor. 1. dakikadan 90. dakikaya kadar herkes elinden \n",
    "gelen mücadeleyi verdi ama şu an önümüzde Avrupa Ligi opsiyonumuz var. \n",
    "Orada da elimizden geleni yapacağız. \n",
    "Taraftarımızla birlikte nasıl oynadığımızı herkes biliyor. \n",
    "Porto'yu evimizde yenmek istiyoruz.\"\"\"\n",
    "\n",
    "txt2 = \"\"\"\n",
    "Fenerbahçe’yle yarın oynayacakları maçı değerlendiren Hajrovic, \n",
    "\"Genel olarak bu şehri çok seviyorum. Bu şehirde bana saygı duyuyorlar. \n",
    "Fenerbahçe’nin Türkiye’de ligde zor durumda olduğunu biliyoruz. \n",
    "Belli kaliteleri var ve zorlanacağız fakat kazanmak istiyoruz. \n",
    "Fenerbahçe seyircisi önünde oynayacak. Olumsuz bir durumda olsalar da belli bir kaliteleri var. \n",
    "İyi maç çıkarmaya çalışacaklar ve bizim de tedbirli olmamız gerekiyor. \n",
    "Biz bu grupta gereken başarıyı gösterdik ve buna devam edeceğiz.\" şeklinde konuştu.\n",
    "\"\"\"\n",
    "\n",
    "txt3 = \"\"\"\n",
    "Yeni arayüzün beta sürümünü test eden kullanıcılar, kamera uygulamasında önemli \n",
    "bir değişiklik gördüler. Samsung yeni kullanıcı arayüzünde kamera uygulamasında video \n",
    "çekim özelliğini iPhone ile benzer şekilde ayrı bir mod haline getiriyor.\n",
    "\"\"\""
   ]
  },
  {
   "cell_type": "code",
   "execution_count": null,
   "metadata": {},
   "outputs": [],
   "source": []
  }
 ],
 "metadata": {
  "kernelspec": {
   "display_name": "Python 3",
   "language": "python",
   "name": "python3"
  },
  "language_info": {
   "codemirror_mode": {
    "name": "ipython",
    "version": 3
   },
   "file_extension": ".py",
   "mimetype": "text/x-python",
   "name": "python",
   "nbconvert_exporter": "python",
   "pygments_lexer": "ipython3",
   "version": "3.6.4"
  }
 },
 "nbformat": 4,
 "nbformat_minor": 2
}
