{
 "cells": [
  {
   "cell_type": "markdown",
   "metadata": {},
   "source": [
    "![Figure/bilgisayim.png](Figure/bilgisayim.png)\n",
    "\n",
    "Yukarıdaki bildiri özeti 23-25 Mart 2018 tarihinde [Uluslararası Bilim ve Eğitim Kongresinde](http://ubek-icse.com) sunulacaktır."
   ]
  },
  {
   "cell_type": "markdown",
   "metadata": {},
   "source": [
    "# Çocuklar ve Gençler için Yapay Zeka Eğitimi\n",
    " - https://uzay00.github.io/kahve/orta.html\n",
    "\n",
    "\n",
    "\n",
    "### Bilgisayım ve Algoritmik Düşünceye Giriş\n",
    "\n",
    " - https://uzay00.github.io/kahve/dersler/yapayzeka/ders6/Bilgisayim.nb.html\n",
    " - **Gradyan Inis algoritmasi** \n",
    "\n",
    "<p align=\"center\">\n",
    "  <img src=\"Figure/gradyan.jpg\" width=\"600\"/>\n",
    "</p>\n",
    " > **Makine Öğrenmesi**, Öğrenmek hatayı minimize eden paramtereleri bulmaktır!! \n",
    " \n",
    "Yapay Öğrenme, bir anlamda optimizasyon problemidir.\n",
    " - [Part 1](https://ml.berkeley.edu/blog/2016/11/06/tutorial-1/) The basics of machine learning - regression, cost functions, and gradient descent.\n",
    " - [Ödev](https://uzay00.github.io/kahve/dersler/yapayzeka/ders7/programlama.html) Ekte R dili ile $Hata(\\theta) = \\theta^2 + 5$ fonksiyonunu minimum yapan $\\theta$ değeri gradyan iniş ile bulunuyor. Siz de python ile $Hata(w) = (w-3)^2 + 5$ fonksiyonunu minimum yapan $w$ değerini gradyan iniş ile bulun.\n",
    " \n",
    " \n"
   ]
  },
  {
   "cell_type": "code",
   "execution_count": 10,
   "metadata": {},
   "outputs": [
    {
     "data": {
      "image/png": "[encoded data removed]",
      "text/plain": [
       "<matplotlib.figure.Figure at 0x112d1b048>"
      ]
     },
     "metadata": {},
     "output_type": "display_data"
    }
   ],
   "source": [
    "##############################################################################################\n",
    "# This code is written as a homework after the first week of Sariyer Akademi Yapay Zeka II\n",
    "# by participant Salih Kasim Benli\n",
    "###########################################################################################\n",
    "# Notes:\n",
    "#      you may use gradient descent and plotting python file \n",
    "#      with just changing the number that is worked on, \n",
    "#      the starting number, iteration number, missout function and its derivative, \n",
    "#      and also alpha. unfortunately i cannot find a way to automatically take derivative.\n",
    "############################################################################################importings\n",
    "import matplotlib.pyplot as plt\n",
    "import numpy as np\n",
    "#star is the number that is worked on\n",
    "star=100\n",
    "#definitions of missing and differentiation functions\n",
    "def missout(w):\n",
    "    return ((w-3)**2)+5\n",
    "def diff(w):\n",
    "    return 2*w-6\n",
    "#number of loops\n",
    "iteration=20\n",
    "#starting number\n",
    "startnum=94\n",
    "#definition of gradient descent function\n",
    "def gradientdescent(number):\n",
    "    alpha=0.025 #descent rate\n",
    "    w=[startnum] #making startnum the first element of list\n",
    "    for i in range(iteration):\n",
    "        w.append(w[i]-alpha*diff(w[i])) #appending other elements to list\n",
    "    return w\n",
    "t1=np.arange(-star,star+1,1) #using numpy, creating a interval to plot. interval goes from minus star(the number worked on) to star plus one to neglect the effect of the number 0. it is ascending 1 by 1.\n",
    "drawmiss = list() #created in order to plot\n",
    "drawbase= list() #created in order to plot\n",
    "for i in gradientdescent(star):\n",
    "    drawmiss.append(missout(i)) #finding y components of graph\n",
    "for i in range(-star,star+1):\n",
    "    drawbase.append(missout(i)) #finding base of graph to see points clearly as in r\n",
    "plt.plot(t1,drawbase,\"k\") #plotting base\n",
    "plt.plot(gradientdescent(star), drawmiss, \"k\", color='red') #plotting points and making connections between them\n",
    "plt.plot(gradientdescent(star), drawmiss, \"o\", color='blue') #making points more distinguishable\n",
    "plt.show() #showing final graph.\n",
    "#created with love, SKB"
   ]
  },
  {
   "cell_type": "markdown",
   "metadata": {},
   "source": [
    "### NetLogo Modelleri : \n",
    "Netlogo ile programlamaya giriş https://ccl.northwestern.edu/netlogo/docs/programming.html\n",
    " - [1 Boyutlu Hücresel Otomata](http://www.netlogoweb.org/launch#http://www.netlogoweb.org/assets/modelslib/Sample%20Models/Computer%20Science/Cellular%20Automata/CA%201D%20Elementary.nlogo)\n",
    "  - Kural 110 \n",
    "<BR>\n",
    " - [Game of Life](http://www.netlogoweb.org/launch#http://www.netlogoweb.org/assets/modelslib/Sample%20Models/Computer%20Science/Cellular%20Automata/Life.nlogo)\n",
    "  - IF komsu_sayısı = 3   THEN doğum\n",
    "  - IF komsu_sayısı = 2,3 THEN doğum\n",
    "  - ELSE ölüm\n",
    " - Venus-Fly-Trap Modeli\n",
    "\n"
   ]
  },
  {
   "cell_type": "code",
   "execution_count": 1,
   "metadata": {},
   "outputs": [
    {
     "data": {
      "text/html": [
       "<iframe width=\"560\" height=\"315\" src=\"https://www.youtube.com/embed/aNXhyPj-RsM\" frameborder=\"0\" allow=\"autoplay; encrypted-media\" allowfullscreen></iframe>"
      ],
      "text/plain": [
       "<IPython.core.display.HTML object>"
      ]
     },
     "execution_count": 1,
     "metadata": {},
     "output_type": "execute_result"
    }
   ],
   "source": [
    "from IPython.display import HTML\n",
    "HTML('<iframe width=\"560\" height=\"315\" src=\"https://www.youtube.com/embed/aNXhyPj-RsM\" frameborder=\"0\" allow=\"autoplay; encrypted-media\" allowfullscreen></iframe>')"
   ]
  },
  {
   "cell_type": "markdown",
   "metadata": {},
   "source": [
    "https://www.youtube.com/watch?v=aNXhyPj-RsM\n",
    "\n",
    "Farenin beynindeki mutluluk merkezine uyarıcı bağlanmış, eğer kafesteki kaldıraca basarsa, farenin beynine ödül anlamına gelen bir sinyal gidiyor.\n",
    "Fare şan eseri o kola dokunuyor ve ilk ödülünü alıyor. Devamında aralıksız o kola basıyor. O kadar ki yemeği, içmeyi unutuyor. Bunun sonucunda da ölüyor.\n",
    "Bu Çin'de 3 gün aralıksız bilgisayar oyunu oynayıp ölen insanları hatırlatıyor.\n",
    "Benim ilgimi çeken şey ise, bilgisayımın burada da en basit haliyle karşımıza çıkması. \"Eğer düğmeye basarsan, mutluluk merkezine sinyali alırsın.\" Bilgisayim her herde.\n",
    "Tabi diğer önemli şey ise, zihnimizin savunmasız ve ele geçirilebilir olduğu gerçeği."
   ]
  },
  {
   "cell_type": "code",
   "execution_count": 2,
   "metadata": {},
   "outputs": [
    {
     "data": {
      "text/html": [
       "<iframe width=\"560\" height=\"315\" src=\"https://www.youtube.com/embed/zsXP8qeFF6A\" frameborder=\"0\" allow=\"autoplay; encrypted-media\" allowfullscreen></iframe>"
      ],
      "text/plain": [
       "<IPython.core.display.HTML object>"
      ]
     },
     "execution_count": 2,
     "metadata": {},
     "output_type": "execute_result"
    }
   ],
   "source": [
    "HTML('<iframe width=\"560\" height=\"315\" src=\"https://www.youtube.com/embed/zsXP8qeFF6A\" frameborder=\"0\" allow=\"autoplay; encrypted-media\" allowfullscreen></iframe>')"
   ]
  },
  {
   "cell_type": "markdown",
   "metadata": {},
   "source": [
    "https://www.youtube.com/watch?v=zsXP8qeFF6A\n",
    "\n",
    "1den 9a kadar rakamlar kısa bir süre gösteriliyor, sonra karartılıyor ve hem insanlardan hem de şempanzelerden sayıları sırasıyla doğru bir biçimde işaretlemeleri isteniyor.\n",
    "Bilgi depolanacak, işlenecek ve hatırlanacak. Bu konuda insanların daha iyi olmasını beklesek de, sonuç şempanzelerin ezici üstünlüğü oluyor.\n",
    "Peki neden? Yoksa şempanzeler bizden daha mı zeki? Yoksa bizi bu hayatta daha başarılı kılan şey, bireysel zekamızdan çok kollektif zekamız yani kültürümüz mü?\n",
    "\n",
    "> “Sapiens” kitabının yazarı Y. Noah Harari’nin dediği gibi yalıtılmış bir yerde bir insan ve bir maynunu tek başına bırakırsanız, hayatta kalabilen maymun olacaktır. Sayı 10 insan ve 10 maymun olduğunda, başarı yine maymunlarındır. Ama sayı 1000 ya da çok daha fazla olduğunda ortaya koyabildikleri üstün karmaşık işbirliği ile insanoğlunun zaferine tanık oluruz. Daha fazlasi için: http://peyderpey.net/2015/10/isbirligi-ve-din-uzerine/\n",
    "\n",
    "## Python ile Dinamik Sistemlere Giriş\n",
    " - https://uzay00.github.io/kahve/dersler/yapayzeka/ders9/\n",
    " \n",
    "### Python'a hızlı giriş\n",
    " - https://perso.limsi.fr/pointal/_media/python:cours:mementopython3-english.pdf\n",
    " - http://ehmatthes.github.io/pcc/cheatsheets/README.html\n",
    " \n",
    "\n",
    "#### Hastalık Yayılım Modeli\n",
    "\n",
    "$$\n",
    "\\frac{dI}{dt} = k (M- I) I\n",
    "$$"
   ]
  },
  {
   "cell_type": "code",
   "execution_count": 3,
   "metadata": {},
   "outputs": [],
   "source": [
    "%matplotlib inline\n",
    "%run 'hastalık.py'"
   ]
  },
  {
   "cell_type": "markdown",
   "metadata": {},
   "source": [
    "### Karar alma süreci\n",
    "Yukarıdaki s-eğrisini karar alma süreçlerinde kullanıyoruz.\n",
    "\n",
    "<p align=\"center\">\n",
    "  <img src=\"Figure/sEgrisi.jpg\" width=\"600\"/>\n",
    "</p>\n",
    "\n",
    "S-Eğrisine Güzellemeler \n",
    "<p align=\"center\">\n",
    "  <img src=\"Figure/SEgrisi2.png\" width=\"500\"/>\n",
    "</p>\n"
   ]
  },
  {
   "cell_type": "markdown",
   "metadata": {},
   "source": [
    "# Python ile Sosyal Simülasyon\n",
    " - https://github.com/uzay00/KaVe/blob/master/Ders1/Social%20Simulation.ipynb\n",
    "\n",
    "# Python Scikit-learn kütüphanesi ile Makine Öğrenmesi\n",
    " - https://github.com/uzay00/KaVe/blob/master/Ders1/Agents%20and%20Artificial%20Intelligence.ipynb"
   ]
  },
  {
   "cell_type": "markdown",
   "metadata": {},
   "source": [
    "\n",
    "# Agent Based Modeling\n",
    "Complexity arises from simplicity, \n",
    "> so it is our job to do reverse engineering and making the complex simple again :)\n",
    "\n",
    "Nobel laureate Philip Anderson said: \"**More is different!**\". German scientist and engineer Jochen Fromm:\n",
    " - one water molecule is not fluid \n",
    " - one gold atom is not metallic \n",
    " - one neuron is not conscious \n",
    " - one amino acid is not alive\n",
    "> \"Emergence\" describes the ability of individual components of a large system to work together to give rise to dramatic and diverse behaviour. (Read more at: https://phys.org/news/2014-10-remarkable-simplicity-complexity.html#jCp )\n",
    "\n",
    "\n",
    "#### Agent\n",
    "<p align=\"center\">\n",
    "  <img src=\"Figure/agent.png\" width=\"750\"/>\n",
    "</p>\n",
    "\n",
    "#### Structure generates behavior\n",
    "<p align=\"center\">\n",
    "  <img src=\"Figure/structure.png\" width=\"750\"/>\n",
    "</p>\n",
    "\n",
    "#### Generative Social Science\n",
    "<p align=\"center\">\n",
    "  <img src=\"Figure/GSS.png\" width=\"750\"/>\n",
    "</p>\n",
    "\n",
    "\n",
    "### Organizasyon\n",
    "\n",
    "> Geometri bilmeyen giremez\n",
    "\n",
    "Platon'un Akademisinin girişinde yazan yazı\n",
    "\n",
    "\n",
    "#### Ağ Analizi\n",
    "https://github.com/uzay00/CMPE232/tree/master/Lecture1\n",
    "\n",
    "\n",
    "\n",
    "\n"
   ]
  },
  {
   "cell_type": "markdown",
   "metadata": {},
   "source": [
    "## Machine Learning Crash Course (Reading)\n",
    "\n",
    " - [Part 1](https://ml.berkeley.edu/blog/2016/11/06/tutorial-1/) The basics of machine learning - regression, cost functions, and gradient descent.\n",
    " - [Part 2](https://ml.berkeley.edu/blog/2016/12/24/tutorial-2/) Perceptrons, logistic regression, and SVMs\n",
    " - [Part 3](https://ml.berkeley.edu/blog/2017/02/04/tutorial-3/) Neural networks\n",
    " - [Part 4](https://ml.berkeley.edu/blog/2017/07/13/tutorial-4/) The Bias-Variance Dilemma \n",
    " - [Part 5](https://ml.berkeley.edu/blog/2017/12/26/tutorial-5/) Decision Trees and Ensemble Models Decision Trees\n",
    " \n",
    " - https://www.kaggle.com/startupsci/titanic-data-science-solutions \n",
    " \n",
    "## Machine Learning Online Video Lecture\n",
    " - https://www.coursera.org/specializations/data-science-python\n",
    " - https://courses.edx.org/courses/course-v1:ColumbiaX+BAMM.101x+2T2017/course/\n",
    " - https://courses.edx.org/courses/course-v1:UCSanDiegoX+DSE200x+2T2017/course/\n",
    " - https://www.udemy.com/machinelearning/\n",
    "\n",
    "\n",
    "\n",
    "\n",
    "#### Artificial Intelligence\n",
    "<p align=\"center\">\n",
    "  <img src=\"Figure/ML.png\" width=\"750\"/>\n",
    "</p>\n",
    "\n",
    "#### Python ile Makine Öğrenmesi \n",
    "https://s3.amazonaws.com/assets.datacamp.com/blog_assets/Scikit_Learn_Cheat_Sheet_Python.pdf\n",
    "\n",
    "#### 18 yaş üstü katılımcılara film önerisi\n",
    "Black Mirror 4. Sezon 4. Bölüm: Hang the DJ"
   ]
  },
  {
   "cell_type": "code",
   "execution_count": 4,
   "metadata": {},
   "outputs": [
    {
     "data": {
      "text/html": [
       "<iframe width=\"560\" height=\"315\" src=\"https://www.youtube.com/embed/e5N_Tq1EtRQ\" frameborder=\"0\" allow=\"autoplay; encrypted-media\" allowfullscreen></iframe>"
      ],
      "text/plain": [
       "<IPython.core.display.HTML object>"
      ]
     },
     "execution_count": 4,
     "metadata": {},
     "output_type": "execute_result"
    }
   ],
   "source": [
    "HTML('<iframe width=\"560\" height=\"315\" src=\"https://www.youtube.com/embed/e5N_Tq1EtRQ\" frameborder=\"0\" allow=\"autoplay; encrypted-media\" allowfullscreen></iframe>')"
   ]
  },
  {
   "cell_type": "code",
   "execution_count": null,
   "metadata": {
    "collapsed": true
   },
   "outputs": [],
   "source": []
  }
 ],
 "metadata": {
  "kernelspec": {
   "display_name": "Python 3",
   "language": "python",
   "name": "python3"
  },
  "language_info": {
   "codemirror_mode": {
    "name": "ipython",
    "version": 3
   },
   "file_extension": ".py",
   "mimetype": "text/x-python",
   "name": "python",
   "nbconvert_exporter": "python",
   "pygments_lexer": "ipython3",
   "version": "3.6.4"
  }
 },
 "nbformat": 4,
 "nbformat_minor": 2
}
