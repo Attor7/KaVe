{
 "cells": [
  {
   "cell_type": "markdown",
   "metadata": {},
   "source": [
    "![Figure/bilgisayim.png](Figure/bilgisayim.png)\n",
    "\n",
    "Yukarıdaki bildiri özeti 23-25 Mart 2018 tarihinde [Uluslararası Bilim ve Eğitim Kongresinde](http://ubek-icse.com) sunulacaktır."
   ]
  },
  {
   "cell_type": "markdown",
   "metadata": {},
   "source": [
    "# Çocuklar ve Gençler için Yapay Zeka Eğitimi\n",
    " - https://uzay00.github.io/kahve/orta.html\n",
    "\n",
    "\n",
    "\n",
    "### Bilgisayım ve Algoritmik Düşünceye Giriş\n",
    "\n",
    " - https://uzay00.github.io/kahve/dersler/yapayzeka/ders6/Bilgisayim.nb.html\n",
    " \n",
    "### NetLogo Modelleri : \n",
    "Netlogo ile programlamaya giriş https://ccl.northwestern.edu/netlogo/docs/programming.html\n",
    " - [1 Boyutlu Hücresel Otomata](http://www.netlogoweb.org/launch#http://www.netlogoweb.org/assets/modelslib/Sample%20Models/Computer%20Science/Cellular%20Automata/CA%201D%20Elementary.nlogo)\n",
    "  - Kural 110 \n",
    "<BR>\n",
    " - [Game of Life](http://www.netlogoweb.org/launch#http://www.netlogoweb.org/assets/modelslib/Sample%20Models/Computer%20Science/Cellular%20Automata/Life.nlogo)\n",
    "  - IF komsu_sayısı = 3   THEN doğum\n",
    "  - IF komsu_sayısı = 2,3 THEN doğum\n",
    "  - ELSE ölüm\n",
    " - Venus-Fly-Trap Modeli\n"
   ]
  },
  {
   "cell_type": "code",
   "execution_count": 7,
   "metadata": {},
   "outputs": [
    {
     "data": {
      "text/html": [
       "<iframe width=\"560\" height=\"315\" src=\"https://www.youtube.com/embed/aNXhyPj-RsM\" frameborder=\"0\" allow=\"autoplay; encrypted-media\" allowfullscreen></iframe>"
      ],
      "text/plain": [
       "<IPython.core.display.HTML object>"
      ]
     },
     "execution_count": 7,
     "metadata": {},
     "output_type": "execute_result"
    }
   ],
   "source": [
    "from IPython.display import HTML\n",
    "HTML('<iframe width=\"560\" height=\"315\" src=\"https://www.youtube.com/embed/aNXhyPj-RsM\" frameborder=\"0\" allow=\"autoplay; encrypted-media\" allowfullscreen></iframe>')"
   ]
  },
  {
   "cell_type": "markdown",
   "metadata": {},
   "source": [
    "https://www.youtube.com/watch?v=aNXhyPj-RsM\n",
    "\n",
    "Farenin beynindeki mutluluk merkezine uyarıcı bağlanmış, eğer kafesteki kaldıraca basarsa, farenin beynine ödül anlamına gelen bir sinyal gidiyor.\n",
    "Fare şan eseri o kola dokunuyor ve ilk ödülünü alıyor. Devamında aralıksız o kola basıyor. O kadar ki yemeği, içmeyi unutuyor. Bunun sonucunda da ölüyor.\n",
    "Bu Çin'de 3 gün aralıksız bilgisayar oyunu oynayıp ölen insanları hatırlatıyor.\n",
    "Benim ilgimi çeken şey ise, bilgisayımın burada da en basit haliyle karşımıza çıkması. \"Eğer düğmeye basarsan, mutluluk merkezine sinyali alırsın.\" Bilgisayim her herde.\n",
    "Tabi diğer önemli şey ise, zihnimizin savunmasız ve ele geçirilebilir olduğu gerçeği."
   ]
  },
  {
   "cell_type": "code",
   "execution_count": 8,
   "metadata": {},
   "outputs": [
    {
     "data": {
      "text/html": [
       "<iframe width=\"560\" height=\"315\" src=\"https://www.youtube.com/embed/zsXP8qeFF6A\" frameborder=\"0\" allow=\"autoplay; encrypted-media\" allowfullscreen></iframe>"
      ],
      "text/plain": [
       "<IPython.core.display.HTML object>"
      ]
     },
     "execution_count": 8,
     "metadata": {},
     "output_type": "execute_result"
    }
   ],
   "source": [
    "HTML('<iframe width=\"560\" height=\"315\" src=\"https://www.youtube.com/embed/zsXP8qeFF6A\" frameborder=\"0\" allow=\"autoplay; encrypted-media\" allowfullscreen></iframe>')"
   ]
  },
  {
   "cell_type": "markdown",
   "metadata": {},
   "source": [
    "https://www.youtube.com/watch?v=zsXP8qeFF6A\n",
    "\n",
    "1den 9a kadar rakamlar kısa bir süre gösteriliyor, sonra karartılıyor ve hem insanlardan hem de şempanzelerden sayıları sırasıyla doğru bir biçimde işaretlemeleri isteniyor.\n",
    "Bilgi depolanacak, işlenecek ve hatırlanacak. Bu konuda insanların daha iyi olmasını beklesek de, sonuç şempanzelerin ezici üstünlüğü oluyor.\n",
    "Peki neden? Yoksa şempanzeler bizden daha mı zeki? Yoksa bizi bu hayatta daha başarılı kılan şey, bireysel zekamızdan çok kollektif zekamız yani kültürümüz mü?\n",
    "\n",
    "## Python ile Dinamik Sistemlere Giriş\n",
    " - https://uzay00.github.io/kahve/dersler/yapayzeka/ders9/\n",
    " \n",
    "### Python'a hızlı giriş\n",
    " - https://perso.limsi.fr/pointal/_media/python:cours:mementopython3-english.pdf\n",
    " - http://ehmatthes.github.io/pcc/cheatsheets/README.html\n",
    " \n",
    "\n",
    "#### Hastalık Yayılım Modeli\n",
    "\n",
    "$$\n",
    "\\frac{dI}{dt} = k (M- I) I\n",
    "$$"
   ]
  },
  {
   "cell_type": "code",
   "execution_count": 39,
   "metadata": {},
   "outputs": [
    {
     "data": {
      "image/png": "[encoded data removed]",
      "text/plain": [
       "<matplotlib.figure.Figure at 0x1141986a0>"
      ]
     },
     "metadata": {},
     "output_type": "display_data"
    }
   ],
   "source": [
    "%matplotlib inline\n",
    "%run 'hastalık.py'"
   ]
  },
  {
   "cell_type": "markdown",
   "metadata": {},
   "source": [
    "\n",
    "# Agent Based Modeling\n",
    "Complexity arises from simplicity, so it is our job to do reverse engineering and making the complex simple again :)\n",
    "\n",
    "Nobel laureate Philip Anderson said: \"**More is different!**\". German scientist and engineer Jochen Fromm:\n",
    " - one water molecule is not fluid \n",
    " - one gold atom is not metallic \n",
    " - one neuron is not conscious \n",
    " - one amino acid is not alive\n",
    "> \"Emergence\" describes the ability of individual components of a large system to work together to give rise to dramatic and diverse behaviour. (Read more at: https://phys.org/news/2014-10-remarkable-simplicity-complexity.html#jCp )\n",
    "\n",
    "\n",
    "#### Agent\n",
    "<p align=\"center\">\n",
    "  <img src=\"Figure/agent.png\" width=\"750\"/>\n",
    "</p>\n",
    "\n",
    "#### Structure generates behavior\n",
    "<p align=\"center\">\n",
    "  <img src=\"Figure/structure.png\" width=\"750\"/>\n",
    "</p>\n",
    "\n",
    "#### Generative Social Science\n",
    "<p align=\"center\">\n",
    "  <img src=\"Figure/GSS.png\" width=\"750\"/>\n",
    "</p>\n",
    "\n",
    "\n",
    "### Organizasyon\n",
    "\n",
    "> Geometri bilmeyen giremez\n",
    "\n",
    "Platon'un Akademisinin girişinde yazan yazı\n",
    "\n",
    "\n",
    "#### Ağ Analizi\n",
    "https://github.com/uzay00/CMPE232/tree/master/Lecture1\n",
    "\n",
    "\n",
    "\n",
    "\n",
    "## Machine Learning Crash Course (Reading)\n",
    "\n",
    " - [Part 1](https://ml.berkeley.edu/blog/2016/11/06/tutorial-1/) The basics of machine learning - regression, cost functions, and gradient descent.\n",
    " - [Part 2](https://ml.berkeley.edu/blog/2016/12/24/tutorial-2/) Perceptrons, logistic regression, and SVMs\n",
    " - [Part 3](https://ml.berkeley.edu/blog/2017/02/04/tutorial-3/) Neural networks\n",
    " - [Part 4](https://ml.berkeley.edu/blog/2017/07/13/tutorial-4/) The Bias-Variance Dilemma \n",
    " - [Part 5](https://ml.berkeley.edu/blog/2017/12/26/tutorial-5/) Decision Trees and Ensemble Models Decision Trees\n",
    " \n",
    " - https://www.kaggle.com/startupsci/titanic-data-science-solutions \n",
    " \n",
    "## Machine Learning Online Video Lecture\n",
    " - https://www.coursera.org/specializations/data-science-python\n",
    " - https://courses.edx.org/courses/course-v1:ColumbiaX+BAMM.101x+2T2017/course/\n",
    " - https://courses.edx.org/courses/course-v1:UCSanDiegoX+DSE200x+2T2017/course/\n",
    " - https://www.udemy.com/machinelearning/\n",
    "\n",
    "\n",
    "\n",
    "\n",
    "#### Artificial Intelligence\n",
    "<p align=\"center\">\n",
    "  <img src=\"Figure/ML.png\" width=\"750\"/>\n",
    "</p>"
   ]
  },
  {
   "cell_type": "code",
   "execution_count": null,
   "metadata": {
    "collapsed": true
   },
   "outputs": [],
   "source": []
  }
 ],
 "metadata": {
  "kernelspec": {
   "display_name": "Python 3",
   "language": "python",
   "name": "python3"
  },
  "language_info": {
   "codemirror_mode": {
    "name": "ipython",
    "version": 3
   },
   "file_extension": ".py",
   "mimetype": "text/x-python",
   "name": "python",
   "nbconvert_exporter": "python",
   "pygments_lexer": "ipython3",
   "version": "3.6.1"
  }
 },
 "nbformat": 4,
 "nbformat_minor": 2
}
