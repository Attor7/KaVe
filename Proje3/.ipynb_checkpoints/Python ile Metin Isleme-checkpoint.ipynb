{
 "cells": [
  {
   "cell_type": "markdown",
   "metadata": {},
   "source": [
    "## Veri Bilimine Giris\n",
    "- https://www.kaggle.com/kanncaa1/data-sciencetutorial-for-beginners\n",
    " \n",
    "\n",
    "## Makine Ogrenmesine Giris\n",
    " - https://colab.research.google.com/drive/1t7DwPvKZN1mIoiOOHDLHVG9xifGxrJES\n",
    " \n",
    " \n",
    "---"
   ]
  },
  {
   "cell_type": "markdown",
   "metadata": {},
   "source": [
    "# Metin Isleme\n",
    "\n",
    " - Bu ornek kod ve veri icin su dersten yararlanilmistir: https://www.udemy.com/machinelearning/"
   ]
  },
  {
   "cell_type": "code",
   "execution_count": 1,
   "metadata": {},
   "outputs": [
    {
     "data": {
      "text/html": [
       "<div>\n",
       "<style scoped>\n",
       "    .dataframe tbody tr th:only-of-type {\n",
       "        vertical-align: middle;\n",
       "    }\n",
       "\n",
       "    .dataframe tbody tr th {\n",
       "        vertical-align: top;\n",
       "    }\n",
       "\n",
       "    .dataframe thead th {\n",
       "        text-align: right;\n",
       "    }\n",
       "</style>\n",
       "<table border=\"1\" class=\"dataframe\">\n",
       "  <thead>\n",
       "    <tr style=\"text-align: right;\">\n",
       "      <th></th>\n",
       "      <th>Review</th>\n",
       "      <th>Liked</th>\n",
       "    </tr>\n",
       "  </thead>\n",
       "  <tbody>\n",
       "    <tr>\n",
       "      <th>0</th>\n",
       "      <td>Wow... Loved this place.</td>\n",
       "      <td>1</td>\n",
       "    </tr>\n",
       "    <tr>\n",
       "      <th>1</th>\n",
       "      <td>Crust is not good.</td>\n",
       "      <td>0</td>\n",
       "    </tr>\n",
       "    <tr>\n",
       "      <th>2</th>\n",
       "      <td>Not tasty and the texture was just nasty.</td>\n",
       "      <td>0</td>\n",
       "    </tr>\n",
       "    <tr>\n",
       "      <th>3</th>\n",
       "      <td>Stopped by during the late May bank holiday of...</td>\n",
       "      <td>1</td>\n",
       "    </tr>\n",
       "    <tr>\n",
       "      <th>4</th>\n",
       "      <td>The selection on the menu was great and so wer...</td>\n",
       "      <td>1</td>\n",
       "    </tr>\n",
       "    <tr>\n",
       "      <th>5</th>\n",
       "      <td>Now I am getting angry and I want my damn pho.</td>\n",
       "      <td>0</td>\n",
       "    </tr>\n",
       "    <tr>\n",
       "      <th>6</th>\n",
       "      <td>Honeslty it didn't taste THAT fresh.)</td>\n",
       "      <td>0</td>\n",
       "    </tr>\n",
       "  </tbody>\n",
       "</table>\n",
       "</div>"
      ],
      "text/plain": [
       "                                              Review  Liked\n",
       "0                           Wow... Loved this place.      1\n",
       "1                                 Crust is not good.      0\n",
       "2          Not tasty and the texture was just nasty.      0\n",
       "3  Stopped by during the late May bank holiday of...      1\n",
       "4  The selection on the menu was great and so wer...      1\n",
       "5     Now I am getting angry and I want my damn pho.      0\n",
       "6              Honeslty it didn't taste THAT fresh.)      0"
      ]
     },
     "execution_count": 1,
     "metadata": {},
     "output_type": "execute_result"
    }
   ],
   "source": [
    "# Importing the libraries\n",
    "import numpy as np\n",
    "import matplotlib.pyplot as plt\n",
    "import pandas as pd\n",
    "\n",
    "# Importing the dataset\n",
    "dataset = pd.read_csv('Restaurant_Reviews.tsv', delimiter = '\\t', quoting = 3)\n",
    "dataset.head(7)"
   ]
  },
  {
   "cell_type": "code",
   "execution_count": 2,
   "metadata": {},
   "outputs": [],
   "source": [
    "pd.read_csv?"
   ]
  },
  {
   "cell_type": "code",
   "execution_count": 3,
   "metadata": {},
   "outputs": [
    {
     "data": {
      "text/plain": [
       "0                     Wow... Loved this place.\n",
       "1                           Crust is not good.\n",
       "2    Not tasty and the texture was just nasty.\n",
       "Name: Review, dtype: object"
      ]
     },
     "execution_count": 3,
     "metadata": {},
     "output_type": "execute_result"
    }
   ],
   "source": [
    "dataset.Review[0:3]"
   ]
  },
  {
   "cell_type": "code",
   "execution_count": 4,
   "metadata": {},
   "outputs": [
    {
     "name": "stdout",
     "output_type": "stream",
     "text": [
      "Wow... Loved this place.   -->   1\n",
      "Crust is not good.   -->   0\n",
      "Not tasty and the texture was just nasty.   -->   0\n"
     ]
    }
   ],
   "source": [
    "for i in range(3):\n",
    "    print(dataset.Review[i], \"  -->  \", dataset.Liked[i])"
   ]
  },
  {
   "cell_type": "code",
   "execution_count": 5,
   "metadata": {},
   "outputs": [],
   "source": [
    "# Cleaning the texts\n",
    "import re\n",
    "import nltk\n",
    "#nltk.download('stopwords')\n",
    "from nltk.corpus import stopwords\n",
    "from nltk.stem.porter import PorterStemmer"
   ]
  },
  {
   "cell_type": "code",
   "execution_count": 6,
   "metadata": {},
   "outputs": [
    {
     "data": {
      "text/plain": [
       "'Wow<><><><>Loved<>this<>place<>'"
      ]
     },
     "execution_count": 6,
     "metadata": {},
     "output_type": "execute_result"
    }
   ],
   "source": [
    "# harf olmayan her seyden kurtularak ilk reviewi yaz\n",
    "review = re.sub('[^a-zA-Z]', '<>', dataset['Review'][0])\n",
    "review"
   ]
  },
  {
   "cell_type": "code",
   "execution_count": 7,
   "metadata": {},
   "outputs": [
    {
     "data": {
      "text/plain": [
       "'Wow    Loved this place '"
      ]
     },
     "execution_count": 7,
     "metadata": {},
     "output_type": "execute_result"
    }
   ],
   "source": [
    "review = re.sub('[^a-zA-Z]', ' ', dataset['Review'][0])\n",
    "review"
   ]
  },
  {
   "cell_type": "code",
   "execution_count": 8,
   "metadata": {},
   "outputs": [
    {
     "data": {
      "text/plain": [
       "'wow    loved this place '"
      ]
     },
     "execution_count": 8,
     "metadata": {},
     "output_type": "execute_result"
    }
   ],
   "source": [
    "review = review.lower()\n",
    "review"
   ]
  },
  {
   "cell_type": "code",
   "execution_count": 9,
   "metadata": {},
   "outputs": [
    {
     "data": {
      "text/plain": [
       "['wow', 'loved', 'this', 'place']"
      ]
     },
     "execution_count": 9,
     "metadata": {},
     "output_type": "execute_result"
    }
   ],
   "source": [
    "review = review.split()\n",
    "review"
   ]
  },
  {
   "cell_type": "markdown",
   "metadata": {},
   "source": [
    "# Stopwordsden kurtul"
   ]
  },
  {
   "cell_type": "code",
   "execution_count": 10,
   "metadata": {},
   "outputs": [],
   "source": [
    "ps = PorterStemmer()\n",
    "anlamsiz = set(stopwords.words('english')) # Stopwords = anlamsiz kelimeler"
   ]
  },
  {
   "cell_type": "code",
   "execution_count": 11,
   "metadata": {},
   "outputs": [
    {
     "data": {
      "text/plain": [
       "['wow', 'love', 'place']"
      ]
     },
     "execution_count": 11,
     "metadata": {},
     "output_type": "execute_result"
    }
   ],
   "source": [
    "review = [ps.stem(word) for word in review if not word in anlamsiz]\n",
    "review"
   ]
  },
  {
   "cell_type": "code",
   "execution_count": 12,
   "metadata": {},
   "outputs": [
    {
     "data": {
      "text/plain": [
       "'wow love place'"
      ]
     },
     "execution_count": 12,
     "metadata": {},
     "output_type": "execute_result"
    }
   ],
   "source": [
    "review = ' '.join(review)\n",
    "review"
   ]
  },
  {
   "cell_type": "markdown",
   "metadata": {},
   "source": [
    "# Corpus olustur\n"
   ]
  },
  {
   "cell_type": "code",
   "execution_count": 13,
   "metadata": {},
   "outputs": [
    {
     "data": {
      "text/plain": [
       "1000"
      ]
     },
     "execution_count": 13,
     "metadata": {},
     "output_type": "execute_result"
    }
   ],
   "source": [
    "n = len(dataset)\n",
    "n"
   ]
  },
  {
   "cell_type": "code",
   "execution_count": 14,
   "metadata": {},
   "outputs": [],
   "source": [
    "corpus = []\n",
    "for i in range(n):\n",
    "    review = re.sub('[^a-zA-Z]', ' ', dataset['Review'][i])\n",
    "    review = review.lower()\n",
    "    review = review.split()\n",
    "    ps = PorterStemmer()\n",
    "    review = [ps.stem(word) for word in review if not word in set(stopwords.words('english'))]\n",
    "    review = ' '.join(review)\n",
    "    corpus.append(review)"
   ]
  },
  {
   "cell_type": "code",
   "execution_count": 15,
   "metadata": {},
   "outputs": [
    {
     "data": {
      "text/plain": [
       "0                     Wow... Loved this place.\n",
       "1                           Crust is not good.\n",
       "2    Not tasty and the texture was just nasty.\n",
       "Name: Review, dtype: object"
      ]
     },
     "execution_count": 15,
     "metadata": {},
     "output_type": "execute_result"
    }
   ],
   "source": [
    "# islenmeden once\n",
    "dataset.Review[0:3]"
   ]
  },
  {
   "cell_type": "code",
   "execution_count": 16,
   "metadata": {},
   "outputs": [
    {
     "data": {
      "text/plain": [
       "['wow love place', 'crust good', 'tasti textur nasti']"
      ]
     },
     "execution_count": 16,
     "metadata": {},
     "output_type": "execute_result"
    }
   ],
   "source": [
    "# islendikten sonra\n",
    "corpus[:3]"
   ]
  },
  {
   "cell_type": "code",
   "execution_count": 17,
   "metadata": {},
   "outputs": [],
   "source": [
    "# Creating the Bag of Words model\n",
    "from sklearn.feature_extraction.text import CountVectorizer\n",
    "cv = CountVectorizer(max_features = 1500)\n",
    "X = cv.fit_transform(corpus).toarray()\n",
    "y = dataset.iloc[:, -1].values"
   ]
  },
  {
   "cell_type": "code",
   "execution_count": 18,
   "metadata": {},
   "outputs": [
    {
     "data": {
      "text/plain": [
       "array([[0, 0, 0, ..., 0, 0, 0],\n",
       "       [0, 0, 0, ..., 0, 0, 0],\n",
       "       [0, 0, 0, ..., 0, 0, 0],\n",
       "       ...,\n",
       "       [0, 0, 0, ..., 0, 0, 0],\n",
       "       [0, 0, 0, ..., 0, 0, 0],\n",
       "       [0, 0, 0, ..., 0, 0, 0]], dtype=int64)"
      ]
     },
     "execution_count": 18,
     "metadata": {},
     "output_type": "execute_result"
    }
   ],
   "source": [
    "X"
   ]
  },
  {
   "cell_type": "code",
   "execution_count": 19,
   "metadata": {},
   "outputs": [
    {
     "data": {
      "text/plain": [
       "(1000, 1500)"
      ]
     },
     "execution_count": 19,
     "metadata": {},
     "output_type": "execute_result"
    }
   ],
   "source": [
    "X.shape"
   ]
  },
  {
   "cell_type": "code",
   "execution_count": 20,
   "metadata": {},
   "outputs": [],
   "source": [
    "cv2 = CountVectorizer(vocabulary=['hot', 'cold', 'old'])\n",
    "quotes = ['I want hot dog', 'very cold here', 'Hello World', 'old good days, old, old older']"
   ]
  },
  {
   "cell_type": "code",
   "execution_count": 21,
   "metadata": {},
   "outputs": [
    {
     "name": "stdout",
     "output_type": "stream",
     "text": [
      "{'hot': 0, 'cold': 1, 'old': 2}\n"
     ]
    }
   ],
   "source": [
    "# tokenize and build vocab\n",
    "cv2.fit(quotes)\n",
    "# summarize\n",
    "print(cv2.vocabulary_)"
   ]
  },
  {
   "cell_type": "code",
   "execution_count": 22,
   "metadata": {},
   "outputs": [
    {
     "data": {
      "text/plain": [
       "array([[1, 0, 0],\n",
       "       [0, 1, 0],\n",
       "       [0, 0, 0],\n",
       "       [0, 0, 3]])"
      ]
     },
     "execution_count": 22,
     "metadata": {},
     "output_type": "execute_result"
    }
   ],
   "source": [
    "# encode document\n",
    "vq = cv2.transform(quotes)\n",
    "vq.toarray()"
   ]
  },
  {
   "cell_type": "code",
   "execution_count": 23,
   "metadata": {},
   "outputs": [
    {
     "data": {
      "text/plain": [
       "array([[0, 1, 1]])"
      ]
     },
     "execution_count": 23,
     "metadata": {},
     "output_type": "execute_result"
    }
   ],
   "source": [
    "text = [\"Old but not cold\"]\n",
    "cv2.transform(text).toarray()"
   ]
  },
  {
   "cell_type": "code",
   "execution_count": 24,
   "metadata": {},
   "outputs": [
    {
     "name": "stdout",
     "output_type": "stream",
     "text": [
      "{'the': 7, 'quick': 6, 'brown': 0, 'fox': 2, 'jumped': 3, 'over': 5, 'lazy': 4, 'dog': 1}\n"
     ]
    }
   ],
   "source": [
    "from sklearn.feature_extraction.text import TfidfVectorizer\n",
    "# list of text documents\n",
    "text = [\"The quick brown fox jumped over the lazy dog.\", \"The dog.\", \"The fox\"]\n",
    "# create the transform\n",
    "vectorizer = TfidfVectorizer()\n",
    "# tokenize and build vocab\n",
    "vectorizer.fit(text)\n",
    "# summarize\n",
    "print(vectorizer.vocabulary_)"
   ]
  },
  {
   "cell_type": "code",
   "execution_count": 25,
   "metadata": {},
   "outputs": [
    {
     "name": "stdout",
     "output_type": "stream",
     "text": [
      "[1.69314718 1.28768207 1.28768207 1.69314718 1.69314718 1.69314718\n",
      " 1.69314718 1.        ]\n"
     ]
    }
   ],
   "source": [
    "print(vectorizer.idf_)"
   ]
  },
  {
   "cell_type": "code",
   "execution_count": 26,
   "metadata": {},
   "outputs": [
    {
     "name": "stdout",
     "output_type": "stream",
     "text": [
      "(1, 8)\n",
      "[[0.36388646 0.27674503 0.27674503 0.36388646 0.36388646 0.36388646\n",
      "  0.36388646 0.42983441]]\n"
     ]
    }
   ],
   "source": [
    "# encode document\n",
    "vector = vectorizer.transform([text[0]])\n",
    "# summarize encoded vector\n",
    "print(vector.shape)\n",
    "print(vector.toarray())"
   ]
  },
  {
   "cell_type": "code",
   "execution_count": 27,
   "metadata": {},
   "outputs": [
    {
     "data": {
      "text/plain": [
       "{'brown': 1.6931471805599454,\n",
       " 'dog': 1.2876820724517808,\n",
       " 'fox': 1.2876820724517808,\n",
       " 'jumped': 1.6931471805599454,\n",
       " 'lazy': 1.6931471805599454,\n",
       " 'over': 1.6931471805599454,\n",
       " 'quick': 1.6931471805599454,\n",
       " 'the': 1.0}"
      ]
     },
     "execution_count": 27,
     "metadata": {},
     "output_type": "execute_result"
    }
   ],
   "source": [
    "dict(zip(vectorizer.get_feature_names(), vectorizer.idf_))"
   ]
  },
  {
   "cell_type": "markdown",
   "metadata": {},
   "source": [
    "# Tum Kod"
   ]
  },
  {
   "cell_type": "code",
   "execution_count": 32,
   "metadata": {},
   "outputs": [
    {
     "name": "stdout",
     "output_type": "stream",
     "text": [
      "confusion_matrix:\n",
      " [[55 42]\n",
      " [12 91]]\n",
      "accuracy_score:  0.73\n"
     ]
    }
   ],
   "source": [
    "# Importing the libraries\n",
    "import numpy as np\n",
    "import matplotlib.pyplot as plt\n",
    "import pandas as pd\n",
    "\n",
    "# Importing the dataset\n",
    "dataset = pd.read_csv('Restaurant_Reviews.tsv', delimiter = '\\t', quoting = 3)\n",
    "\n",
    "# Cleaning the texts\n",
    "import re\n",
    "import nltk\n",
    "#nltk.download('stopwords')\n",
    "from nltk.corpus import stopwords\n",
    "from nltk.stem.porter import PorterStemmer\n",
    "corpus = []\n",
    "for i in range(0, 1000):\n",
    "    review = re.sub('[^a-zA-Z]', ' ', dataset['Review'][i])\n",
    "    review = review.lower()\n",
    "    review = review.split()\n",
    "    ps = PorterStemmer()\n",
    "    review = [ps.stem(word) for word in review if not word in set(stopwords.words('english'))]\n",
    "    review = ' '.join(review)\n",
    "    corpus.append(review)\n",
    "\n",
    "# Creating the Bag of Words model\n",
    "from sklearn.feature_extraction.text import CountVectorizer\n",
    "cv = CountVectorizer(max_features = 1500)\n",
    "X = cv.fit_transform(corpus).toarray()\n",
    "y = dataset.iloc[:, -1].values\n",
    "\n",
    "# Splitting the dataset into the Training set and Test set\n",
    "from sklearn.model_selection import train_test_split\n",
    "X_train, X_test, y_train, y_test = train_test_split(X, y, test_size = 0.20, random_state = 0)\n",
    "\n",
    "# Fitting Naive Bayes to the Training set\n",
    "from sklearn.naive_bayes import GaussianNB\n",
    "classifier = GaussianNB()\n",
    "classifier.fit(X_train, y_train)\n",
    "\n",
    "# Predicting the Test set results\n",
    "y_pred = classifier.predict(X_test)\n",
    "\n",
    "# Making the Confusion Matrix\n",
    "from sklearn.metrics import confusion_matrix, accuracy_score\n",
    "cm = confusion_matrix(y_test, y_pred)\n",
    "print(\"confusion_matrix:\\n\", cm)\n",
    "print(\"accuracy_score: \", accuracy_score(y_test, y_pred))"
   ]
  },
  {
   "cell_type": "code",
   "execution_count": 31,
   "metadata": {},
   "outputs": [
    {
     "name": "stdout",
     "output_type": "stream",
     "text": [
      "confusion_matrix:\n",
      " [[76 21]\n",
      " [37 66]]\n",
      "accuracy_score:  0.71\n"
     ]
    }
   ],
   "source": [
    "# Fitting Logistic Regression to the Training set\n",
    "from sklearn.linear_model import LogisticRegression\n",
    "classifier = LogisticRegression(random_state = 0)\n",
    "classifier.fit(X_train, y_train)\n",
    "\n",
    "# Predicting the Test set results\n",
    "y_pred = classifier.predict(X_test)\n",
    "\n",
    "# Making the Confusion Matrix\n",
    "from sklearn.metrics import confusion_matrix, accuracy_score\n",
    "cm = confusion_matrix(y_test, y_pred)\n",
    "print(\"confusion_matrix:\\n\", cm)\n",
    "print(\"accuracy_score: \", accuracy_score(y_test, y_pred))"
   ]
  },
  {
   "cell_type": "code",
   "execution_count": 33,
   "metadata": {},
   "outputs": [
    {
     "name": "stdout",
     "output_type": "stream",
     "text": [
      "Iteration 1, loss = 0.69991404\n",
      "Iteration 2, loss = 0.69980740\n",
      "Iteration 3, loss = 0.69964833\n",
      "Iteration 4, loss = 0.69944994\n",
      "Iteration 5, loss = 0.69923223\n",
      "Iteration 6, loss = 0.69899730\n",
      "Iteration 7, loss = 0.69876183\n",
      "Iteration 8, loss = 0.69851880\n",
      "Iteration 9, loss = 0.69827539\n",
      "Iteration 10, loss = 0.69802227\n",
      "Iteration 11, loss = 0.69777449\n",
      "Iteration 12, loss = 0.69752192\n",
      "Iteration 13, loss = 0.69727723\n",
      "Iteration 14, loss = 0.69702605\n",
      "Iteration 15, loss = 0.69679059\n",
      "Iteration 16, loss = 0.69653214\n",
      "Iteration 17, loss = 0.69628576\n",
      "Iteration 18, loss = 0.69604629\n",
      "Iteration 19, loss = 0.69580643\n",
      "Iteration 20, loss = 0.69555737\n",
      "Iteration 21, loss = 0.69530771\n",
      "Iteration 22, loss = 0.69506792\n",
      "Iteration 23, loss = 0.69482589\n",
      "Iteration 24, loss = 0.69458039\n",
      "Iteration 25, loss = 0.69435104\n",
      "Iteration 26, loss = 0.69409850\n",
      "Iteration 27, loss = 0.69386279\n",
      "Iteration 28, loss = 0.69361924\n",
      "Iteration 29, loss = 0.69338576\n",
      "Iteration 30, loss = 0.69314717\n",
      "Iteration 31, loss = 0.69289529\n",
      "Iteration 32, loss = 0.69265829\n",
      "Iteration 33, loss = 0.69241643\n",
      "Iteration 34, loss = 0.69217643\n",
      "Iteration 35, loss = 0.69193099\n",
      "Iteration 36, loss = 0.69168923\n",
      "Iteration 37, loss = 0.69144710\n",
      "Iteration 38, loss = 0.69120157\n",
      "Iteration 39, loss = 0.69096347\n",
      "Iteration 40, loss = 0.69072193\n",
      "Iteration 41, loss = 0.69047495\n",
      "Iteration 42, loss = 0.69023989\n",
      "Iteration 43, loss = 0.68999466\n",
      "Iteration 44, loss = 0.68975261\n",
      "Iteration 45, loss = 0.68950504\n",
      "Iteration 46, loss = 0.68926934\n",
      "Iteration 47, loss = 0.68902439\n",
      "Iteration 48, loss = 0.68878558\n",
      "Iteration 49, loss = 0.68854950\n",
      "Iteration 50, loss = 0.68829787\n",
      "Iteration 51, loss = 0.68805394\n",
      "Iteration 52, loss = 0.68781600\n",
      "Iteration 53, loss = 0.68757463\n",
      "Iteration 54, loss = 0.68732840\n",
      "Iteration 55, loss = 0.68709120\n",
      "Iteration 56, loss = 0.68685135\n",
      "Iteration 57, loss = 0.68661068\n",
      "Iteration 58, loss = 0.68637134\n",
      "Iteration 59, loss = 0.68613033\n",
      "Iteration 60, loss = 0.68588640\n",
      "Iteration 61, loss = 0.68564655\n",
      "Iteration 62, loss = 0.68540546\n",
      "Iteration 63, loss = 0.68517072\n",
      "Iteration 64, loss = 0.68493072\n",
      "Iteration 65, loss = 0.68468875\n",
      "Iteration 66, loss = 0.68445360\n",
      "Iteration 67, loss = 0.68421306\n",
      "Iteration 68, loss = 0.68396724\n",
      "Iteration 69, loss = 0.68372526\n",
      "Iteration 70, loss = 0.68348525\n",
      "Iteration 71, loss = 0.68324804\n",
      "Iteration 72, loss = 0.68300355\n",
      "Iteration 73, loss = 0.68275408\n",
      "Iteration 74, loss = 0.68251101\n",
      "Iteration 75, loss = 0.68227170\n",
      "Iteration 76, loss = 0.68202050\n",
      "Iteration 77, loss = 0.68177468\n",
      "Iteration 78, loss = 0.68153460\n",
      "Iteration 79, loss = 0.68128240\n",
      "Iteration 80, loss = 0.68103149\n",
      "Iteration 81, loss = 0.68078215\n",
      "Iteration 82, loss = 0.68054166\n",
      "Iteration 83, loss = 0.68028533\n",
      "Iteration 84, loss = 0.68004643\n",
      "Iteration 85, loss = 0.67979131\n",
      "Iteration 86, loss = 0.67954701\n",
      "Iteration 87, loss = 0.67929422\n",
      "Iteration 88, loss = 0.67904924\n",
      "Iteration 89, loss = 0.67879597\n",
      "Iteration 90, loss = 0.67854065\n",
      "Iteration 91, loss = 0.67828978\n",
      "Iteration 92, loss = 0.67803345\n",
      "Iteration 93, loss = 0.67778245\n",
      "Iteration 94, loss = 0.67752141\n",
      "Iteration 95, loss = 0.67726755\n",
      "Iteration 96, loss = 0.67701412\n",
      "Iteration 97, loss = 0.67675874\n",
      "Iteration 98, loss = 0.67651053\n",
      "Iteration 99, loss = 0.67624159\n",
      "Iteration 100, loss = 0.67598934\n",
      "Iteration 101, loss = 0.67573709\n",
      "Iteration 102, loss = 0.67548648\n",
      "Iteration 103, loss = 0.67522727\n",
      "Iteration 104, loss = 0.67496554\n",
      "Iteration 105, loss = 0.67470785\n",
      "Iteration 106, loss = 0.67445102\n",
      "Iteration 107, loss = 0.67419338\n",
      "Iteration 108, loss = 0.67393250\n",
      "Iteration 109, loss = 0.67367172\n",
      "Iteration 110, loss = 0.67341124\n",
      "Iteration 111, loss = 0.67315200\n",
      "Iteration 112, loss = 0.67288509\n",
      "Iteration 113, loss = 0.67261503\n",
      "Iteration 114, loss = 0.67235267\n",
      "Iteration 115, loss = 0.67209091\n",
      "Iteration 116, loss = 0.67183634\n",
      "Iteration 117, loss = 0.67155832\n",
      "Iteration 118, loss = 0.67129465\n",
      "Iteration 119, loss = 0.67102025\n",
      "Iteration 120, loss = 0.67075403\n",
      "Iteration 121, loss = 0.67049191\n",
      "Iteration 122, loss = 0.67022185\n",
      "Iteration 123, loss = 0.66995123\n",
      "Iteration 124, loss = 0.66968483\n",
      "Iteration 125, loss = 0.66941439\n",
      "Iteration 126, loss = 0.66914132\n",
      "Iteration 127, loss = 0.66887932\n",
      "Iteration 128, loss = 0.66860430\n",
      "Iteration 129, loss = 0.66832630\n",
      "Iteration 130, loss = 0.66805393\n",
      "Iteration 131, loss = 0.66776136\n",
      "Iteration 132, loss = 0.66748917\n",
      "Iteration 133, loss = 0.66720366\n",
      "Iteration 134, loss = 0.66692473\n",
      "Iteration 135, loss = 0.66664482\n",
      "Iteration 136, loss = 0.66635824\n",
      "Iteration 137, loss = 0.66607797\n",
      "Iteration 138, loss = 0.66578500\n",
      "Iteration 139, loss = 0.66549543\n",
      "Iteration 140, loss = 0.66520951\n",
      "Iteration 141, loss = 0.66493084\n",
      "Iteration 142, loss = 0.66463643\n",
      "Iteration 143, loss = 0.66433133\n",
      "Iteration 144, loss = 0.66403857\n",
      "Iteration 145, loss = 0.66375346\n",
      "Iteration 146, loss = 0.66345107\n",
      "Iteration 147, loss = 0.66316715\n",
      "Iteration 148, loss = 0.66286417\n",
      "Iteration 149, loss = 0.66256858\n",
      "Iteration 150, loss = 0.66226771\n",
      "Iteration 151, loss = 0.66197414\n",
      "Iteration 152, loss = 0.66166418\n",
      "Iteration 153, loss = 0.66137050\n",
      "Iteration 154, loss = 0.66105983\n",
      "Iteration 155, loss = 0.66075105\n",
      "Iteration 156, loss = 0.66044719\n",
      "Iteration 157, loss = 0.66014024\n",
      "Iteration 158, loss = 0.65982946\n",
      "Iteration 159, loss = 0.65952350\n",
      "Iteration 160, loss = 0.65920953\n",
      "Iteration 161, loss = 0.65890477\n",
      "Iteration 162, loss = 0.65860335\n",
      "Iteration 163, loss = 0.65828433\n",
      "Iteration 164, loss = 0.65797249\n",
      "Iteration 165, loss = 0.65766531\n",
      "Iteration 166, loss = 0.65734603\n",
      "Iteration 167, loss = 0.65702977\n",
      "Iteration 168, loss = 0.65671437\n",
      "Iteration 169, loss = 0.65639796\n",
      "Iteration 170, loss = 0.65607942\n",
      "Iteration 171, loss = 0.65575888\n",
      "Iteration 172, loss = 0.65544316\n",
      "Iteration 173, loss = 0.65511601\n",
      "Iteration 174, loss = 0.65479632\n",
      "Iteration 175, loss = 0.65448413\n",
      "Iteration 176, loss = 0.65415602\n",
      "Iteration 177, loss = 0.65382536\n",
      "Iteration 178, loss = 0.65350022\n",
      "Iteration 179, loss = 0.65317579\n",
      "Iteration 180, loss = 0.65284944\n",
      "Iteration 181, loss = 0.65253013\n",
      "Iteration 182, loss = 0.65219295\n",
      "Iteration 183, loss = 0.65185988\n",
      "Iteration 184, loss = 0.65154410\n",
      "Iteration 185, loss = 0.65121696\n",
      "Iteration 186, loss = 0.65087466\n",
      "Iteration 187, loss = 0.65054495\n",
      "Iteration 188, loss = 0.65020714\n",
      "Iteration 189, loss = 0.64988591\n",
      "Iteration 190, loss = 0.64953451\n",
      "Iteration 191, loss = 0.64921485\n",
      "Iteration 192, loss = 0.64887435\n",
      "Iteration 193, loss = 0.64855426\n",
      "Iteration 194, loss = 0.64821404\n",
      "Iteration 195, loss = 0.64788844\n",
      "Iteration 196, loss = 0.64755626\n",
      "Iteration 197, loss = 0.64721870\n",
      "Iteration 198, loss = 0.64688352\n",
      "Iteration 199, loss = 0.64655096\n",
      "Iteration 200, loss = 0.64621396\n",
      "Iteration 201, loss = 0.64588120\n",
      "Iteration 202, loss = 0.64553187\n",
      "Iteration 203, loss = 0.64518686\n",
      "Iteration 204, loss = 0.64485216\n",
      "Iteration 205, loss = 0.64450709\n",
      "Iteration 206, loss = 0.64416656\n",
      "Iteration 207, loss = 0.64382092\n",
      "Iteration 208, loss = 0.64346623\n",
      "Iteration 209, loss = 0.64313088\n",
      "Iteration 210, loss = 0.64278842\n",
      "Iteration 211, loss = 0.64243696\n",
      "Iteration 212, loss = 0.64209397\n",
      "Iteration 213, loss = 0.64174136\n",
      "Iteration 214, loss = 0.64140003\n",
      "Iteration 215, loss = 0.64105708\n",
      "Iteration 216, loss = 0.64071173\n",
      "Iteration 217, loss = 0.64035714\n",
      "Iteration 218, loss = 0.64000656\n",
      "Iteration 219, loss = 0.63966764\n",
      "Iteration 220, loss = 0.63932116\n",
      "Iteration 221, loss = 0.63896502\n",
      "Iteration 222, loss = 0.63861923\n",
      "Iteration 223, loss = 0.63827942\n",
      "Iteration 224, loss = 0.63792507\n",
      "Iteration 225, loss = 0.63756860\n",
      "Iteration 226, loss = 0.63722566\n",
      "Iteration 227, loss = 0.63687570\n",
      "Iteration 228, loss = 0.63652541\n",
      "Iteration 229, loss = 0.63616671\n",
      "Iteration 230, loss = 0.63582771\n",
      "Iteration 231, loss = 0.63547402\n",
      "Iteration 232, loss = 0.63511620\n",
      "Iteration 233, loss = 0.63476895\n",
      "Iteration 234, loss = 0.63441787\n",
      "Iteration 235, loss = 0.63405099\n",
      "Iteration 236, loss = 0.63369018\n",
      "Iteration 237, loss = 0.63332976\n",
      "Iteration 238, loss = 0.63297444\n",
      "Iteration 239, loss = 0.63262309\n",
      "Iteration 240, loss = 0.63225235\n",
      "Iteration 241, loss = 0.63189742\n",
      "Iteration 242, loss = 0.63153629\n",
      "Iteration 243, loss = 0.63117691\n",
      "Iteration 244, loss = 0.63082751\n",
      "Iteration 245, loss = 0.63046572\n",
      "Iteration 246, loss = 0.63010752\n",
      "Iteration 247, loss = 0.62972903\n",
      "Iteration 248, loss = 0.62937896\n",
      "Iteration 249, loss = 0.62901061\n",
      "Iteration 250, loss = 0.62864591\n",
      "Iteration 251, loss = 0.62827633\n",
      "Iteration 252, loss = 0.62790195\n",
      "Iteration 253, loss = 0.62754341\n",
      "Iteration 254, loss = 0.62716460\n",
      "Iteration 255, loss = 0.62680204\n",
      "Iteration 256, loss = 0.62643459\n",
      "Iteration 257, loss = 0.62606552\n"
     ]
    },
    {
     "name": "stdout",
     "output_type": "stream",
     "text": [
      "Iteration 258, loss = 0.62569737\n",
      "Iteration 259, loss = 0.62532741\n",
      "Iteration 260, loss = 0.62495393\n",
      "Iteration 261, loss = 0.62456711\n",
      "Iteration 262, loss = 0.62419661\n",
      "Iteration 263, loss = 0.62381762\n",
      "Iteration 264, loss = 0.62345000\n",
      "Iteration 265, loss = 0.62307333\n",
      "Iteration 266, loss = 0.62268998\n",
      "Iteration 267, loss = 0.62231311\n",
      "Iteration 268, loss = 0.62193686\n",
      "Iteration 269, loss = 0.62155374\n",
      "Iteration 270, loss = 0.62117515\n",
      "Iteration 271, loss = 0.62079711\n",
      "Iteration 272, loss = 0.62041746\n",
      "Iteration 273, loss = 0.62003090\n",
      "Iteration 274, loss = 0.61965636\n",
      "Iteration 275, loss = 0.61927228\n",
      "Iteration 276, loss = 0.61889650\n",
      "Iteration 277, loss = 0.61849987\n",
      "Iteration 278, loss = 0.61812332\n",
      "Iteration 279, loss = 0.61774273\n",
      "Iteration 280, loss = 0.61735514\n",
      "Iteration 281, loss = 0.61697602\n",
      "Iteration 282, loss = 0.61658824\n",
      "Iteration 283, loss = 0.61619768\n",
      "Iteration 284, loss = 0.61582238\n",
      "Iteration 285, loss = 0.61543259\n",
      "Iteration 286, loss = 0.61504819\n",
      "Iteration 287, loss = 0.61465238\n",
      "Iteration 288, loss = 0.61427208\n",
      "Iteration 289, loss = 0.61388272\n",
      "Iteration 290, loss = 0.61348320\n",
      "Iteration 291, loss = 0.61309622\n",
      "Iteration 292, loss = 0.61269722\n",
      "Iteration 293, loss = 0.61229753\n",
      "Iteration 294, loss = 0.61191189\n",
      "Iteration 295, loss = 0.61151525\n",
      "Iteration 296, loss = 0.61111709\n",
      "Iteration 297, loss = 0.61072193\n",
      "Iteration 298, loss = 0.61031968\n",
      "Iteration 299, loss = 0.60992559\n",
      "Iteration 300, loss = 0.60952964\n",
      "Iteration 301, loss = 0.60913115\n",
      "Iteration 302, loss = 0.60873652\n",
      "Iteration 303, loss = 0.60833932\n",
      "Iteration 304, loss = 0.60793888\n",
      "Iteration 305, loss = 0.60754934\n",
      "Iteration 306, loss = 0.60713436\n",
      "Iteration 307, loss = 0.60674304\n",
      "Iteration 308, loss = 0.60635589\n",
      "Iteration 309, loss = 0.60595822\n",
      "Iteration 310, loss = 0.60555203\n",
      "Iteration 311, loss = 0.60514130\n",
      "Iteration 312, loss = 0.60474722\n",
      "Iteration 313, loss = 0.60435325\n",
      "Iteration 314, loss = 0.60394134\n",
      "Iteration 315, loss = 0.60355371\n",
      "Iteration 316, loss = 0.60314818\n",
      "Iteration 317, loss = 0.60275498\n",
      "Iteration 318, loss = 0.60234091\n",
      "Iteration 319, loss = 0.60194617\n",
      "Iteration 320, loss = 0.60153621\n",
      "Iteration 321, loss = 0.60114424\n",
      "Iteration 322, loss = 0.60073632\n",
      "Iteration 323, loss = 0.60032892\n",
      "Iteration 324, loss = 0.59993678\n",
      "Iteration 325, loss = 0.59953256\n",
      "Iteration 326, loss = 0.59912833\n",
      "Iteration 327, loss = 0.59872471\n",
      "Iteration 328, loss = 0.59832546\n",
      "Iteration 329, loss = 0.59792749\n",
      "Iteration 330, loss = 0.59751454\n",
      "Iteration 331, loss = 0.59710491\n",
      "Iteration 332, loss = 0.59671137\n",
      "Iteration 333, loss = 0.59631067\n",
      "Iteration 334, loss = 0.59588955\n",
      "Iteration 335, loss = 0.59548419\n",
      "Iteration 336, loss = 0.59508916\n",
      "Iteration 337, loss = 0.59467035\n",
      "Iteration 338, loss = 0.59426187\n",
      "Iteration 339, loss = 0.59386053\n",
      "Iteration 340, loss = 0.59343939\n",
      "Iteration 341, loss = 0.59303894\n",
      "Iteration 342, loss = 0.59261901\n",
      "Iteration 343, loss = 0.59220226\n",
      "Iteration 344, loss = 0.59179443\n",
      "Iteration 345, loss = 0.59138021\n",
      "Iteration 346, loss = 0.59096700\n",
      "Iteration 347, loss = 0.59055960\n",
      "Iteration 348, loss = 0.59013223\n",
      "Iteration 349, loss = 0.58972324\n",
      "Iteration 350, loss = 0.58930322\n",
      "Iteration 351, loss = 0.58888787\n",
      "Iteration 352, loss = 0.58847453\n",
      "Iteration 353, loss = 0.58805665\n",
      "Iteration 354, loss = 0.58763441\n",
      "Iteration 355, loss = 0.58721688\n",
      "Iteration 356, loss = 0.58679815\n",
      "Iteration 357, loss = 0.58638179\n",
      "Iteration 358, loss = 0.58596430\n",
      "Iteration 359, loss = 0.58554486\n",
      "Iteration 360, loss = 0.58511730\n",
      "Iteration 361, loss = 0.58471094\n",
      "Iteration 362, loss = 0.58428624\n",
      "Iteration 363, loss = 0.58387537\n",
      "Iteration 364, loss = 0.58344649\n",
      "Iteration 365, loss = 0.58302965\n",
      "Iteration 366, loss = 0.58261436\n",
      "Iteration 367, loss = 0.58219202\n",
      "Iteration 368, loss = 0.58177656\n",
      "Iteration 369, loss = 0.58134030\n",
      "Iteration 370, loss = 0.58092525\n",
      "Iteration 371, loss = 0.58049873\n",
      "Iteration 372, loss = 0.58008319\n",
      "Iteration 373, loss = 0.57966090\n",
      "Iteration 374, loss = 0.57923773\n",
      "Iteration 375, loss = 0.57882135\n",
      "Iteration 376, loss = 0.57838662\n",
      "Iteration 377, loss = 0.57795873\n",
      "Iteration 378, loss = 0.57754713\n",
      "Iteration 379, loss = 0.57713348\n",
      "Iteration 380, loss = 0.57669376\n",
      "Iteration 381, loss = 0.57626952\n",
      "Iteration 382, loss = 0.57584805\n",
      "Iteration 383, loss = 0.57543657\n",
      "Iteration 384, loss = 0.57499088\n",
      "Iteration 385, loss = 0.57457409\n",
      "Iteration 386, loss = 0.57415118\n",
      "Iteration 387, loss = 0.57371714\n",
      "Iteration 388, loss = 0.57329138\n",
      "Iteration 389, loss = 0.57287634\n",
      "Iteration 390, loss = 0.57244532\n",
      "Iteration 391, loss = 0.57201857\n",
      "Iteration 392, loss = 0.57159493\n",
      "Iteration 393, loss = 0.57116839\n",
      "Iteration 394, loss = 0.57074156\n",
      "Iteration 395, loss = 0.57031269\n",
      "Iteration 396, loss = 0.56988160\n",
      "Iteration 397, loss = 0.56946322\n",
      "Iteration 398, loss = 0.56902473\n",
      "Iteration 399, loss = 0.56860119\n",
      "Iteration 400, loss = 0.56817594\n",
      "Iteration 401, loss = 0.56774514\n",
      "Iteration 402, loss = 0.56731969\n",
      "Iteration 403, loss = 0.56688506\n",
      "Iteration 404, loss = 0.56646007\n",
      "Iteration 405, loss = 0.56604358\n",
      "Iteration 406, loss = 0.56560606\n",
      "Iteration 407, loss = 0.56517500\n",
      "Iteration 408, loss = 0.56474643\n",
      "Iteration 409, loss = 0.56431544\n",
      "Iteration 410, loss = 0.56387503\n",
      "Iteration 411, loss = 0.56344310\n",
      "Iteration 412, loss = 0.56301294\n",
      "Iteration 413, loss = 0.56260583\n",
      "Iteration 414, loss = 0.56216430\n",
      "Iteration 415, loss = 0.56172198\n",
      "Iteration 416, loss = 0.56128697\n",
      "Iteration 417, loss = 0.56084802\n",
      "Iteration 418, loss = 0.56042974\n",
      "Iteration 419, loss = 0.56000579\n",
      "Iteration 420, loss = 0.55955481\n",
      "Iteration 421, loss = 0.55913004\n",
      "Iteration 422, loss = 0.55869140\n",
      "Iteration 423, loss = 0.55826556\n",
      "Iteration 424, loss = 0.55783139\n",
      "Iteration 425, loss = 0.55739747\n",
      "Iteration 426, loss = 0.55696646\n",
      "Iteration 427, loss = 0.55652698\n",
      "Iteration 428, loss = 0.55609598\n",
      "Iteration 429, loss = 0.55567097\n",
      "Iteration 430, loss = 0.55522531\n",
      "Iteration 431, loss = 0.55479207\n",
      "Iteration 432, loss = 0.55435478\n",
      "Iteration 433, loss = 0.55392150\n",
      "Iteration 434, loss = 0.55349583\n",
      "Iteration 435, loss = 0.55306234\n",
      "Iteration 436, loss = 0.55261517\n",
      "Iteration 437, loss = 0.55217827\n",
      "Iteration 438, loss = 0.55174784\n",
      "Iteration 439, loss = 0.55130267\n",
      "Iteration 440, loss = 0.55086948\n",
      "Iteration 441, loss = 0.55044641\n",
      "Iteration 442, loss = 0.54999630\n",
      "Iteration 443, loss = 0.54956739\n",
      "Iteration 444, loss = 0.54913587\n",
      "Iteration 445, loss = 0.54869464\n",
      "Iteration 446, loss = 0.54826207\n",
      "Iteration 447, loss = 0.54782670\n",
      "Iteration 448, loss = 0.54738197\n",
      "Iteration 449, loss = 0.54695426\n",
      "Iteration 450, loss = 0.54651355\n",
      "Iteration 451, loss = 0.54608682\n",
      "Iteration 452, loss = 0.54565751\n",
      "Iteration 453, loss = 0.54522152\n",
      "Iteration 454, loss = 0.54477832\n",
      "Iteration 455, loss = 0.54434540\n",
      "Iteration 456, loss = 0.54390803\n",
      "Iteration 457, loss = 0.54347518\n",
      "Iteration 458, loss = 0.54304038\n",
      "Iteration 459, loss = 0.54261203\n",
      "Iteration 460, loss = 0.54216897\n",
      "Iteration 461, loss = 0.54174269\n",
      "Iteration 462, loss = 0.54129796\n",
      "Iteration 463, loss = 0.54086840\n",
      "Iteration 464, loss = 0.54042822\n",
      "Iteration 465, loss = 0.53999626\n",
      "Iteration 466, loss = 0.53956433\n",
      "Iteration 467, loss = 0.53912481\n",
      "Iteration 468, loss = 0.53869029\n",
      "Iteration 469, loss = 0.53825733\n",
      "Iteration 470, loss = 0.53781800\n",
      "Iteration 471, loss = 0.53738508\n",
      "Iteration 472, loss = 0.53695648\n",
      "Iteration 473, loss = 0.53651254\n",
      "Iteration 474, loss = 0.53608061\n",
      "Iteration 475, loss = 0.53564106\n",
      "Iteration 476, loss = 0.53521656\n",
      "Iteration 477, loss = 0.53477700\n",
      "Iteration 478, loss = 0.53434685\n",
      "Iteration 479, loss = 0.53391750\n",
      "Iteration 480, loss = 0.53346835\n",
      "Iteration 481, loss = 0.53305554\n",
      "Iteration 482, loss = 0.53260543\n",
      "Iteration 483, loss = 0.53216773\n",
      "Iteration 484, loss = 0.53172912\n",
      "Iteration 485, loss = 0.53130408\n",
      "Iteration 486, loss = 0.53087052\n",
      "Iteration 487, loss = 0.53043778\n",
      "Iteration 488, loss = 0.52999726\n",
      "Iteration 489, loss = 0.52956407\n",
      "Iteration 490, loss = 0.52912972\n",
      "Iteration 491, loss = 0.52869090\n",
      "Iteration 492, loss = 0.52825474\n",
      "Iteration 493, loss = 0.52782681\n",
      "Iteration 494, loss = 0.52738771\n",
      "Iteration 495, loss = 0.52695473\n",
      "Iteration 496, loss = 0.52653321\n",
      "Iteration 497, loss = 0.52609918\n",
      "Iteration 498, loss = 0.52565727\n",
      "Iteration 499, loss = 0.52522746\n",
      "Iteration 500, loss = 0.52478812\n",
      "Iteration 501, loss = 0.52435559\n",
      "Iteration 502, loss = 0.52393036\n",
      "Iteration 503, loss = 0.52350411\n",
      "Iteration 504, loss = 0.52306133\n",
      "Iteration 505, loss = 0.52262760\n",
      "Iteration 506, loss = 0.52219324\n",
      "Iteration 507, loss = 0.52176947\n",
      "Iteration 508, loss = 0.52132254\n",
      "Iteration 509, loss = 0.52090035\n",
      "Iteration 510, loss = 0.52046602\n",
      "Iteration 511, loss = 0.52004052\n",
      "Iteration 512, loss = 0.51960102\n",
      "Iteration 513, loss = 0.51917669\n",
      "Iteration 514, loss = 0.51874282\n"
     ]
    },
    {
     "name": "stdout",
     "output_type": "stream",
     "text": [
      "Iteration 515, loss = 0.51831629\n",
      "Iteration 516, loss = 0.51788098\n",
      "Iteration 517, loss = 0.51745266\n",
      "Iteration 518, loss = 0.51701324\n",
      "Iteration 519, loss = 0.51658159\n",
      "Iteration 520, loss = 0.51615583\n",
      "Iteration 521, loss = 0.51572352\n",
      "Iteration 522, loss = 0.51531245\n",
      "Iteration 523, loss = 0.51486323\n",
      "Iteration 524, loss = 0.51444334\n",
      "Iteration 525, loss = 0.51400471\n",
      "Iteration 526, loss = 0.51357944\n",
      "Iteration 527, loss = 0.51314366\n",
      "Iteration 528, loss = 0.51272432\n",
      "Iteration 529, loss = 0.51228928\n",
      "Iteration 530, loss = 0.51187049\n",
      "Iteration 531, loss = 0.51142890\n",
      "Iteration 532, loss = 0.51100870\n",
      "Iteration 533, loss = 0.51057844\n",
      "Iteration 534, loss = 0.51014771\n",
      "Iteration 535, loss = 0.50972463\n",
      "Iteration 536, loss = 0.50928988\n",
      "Iteration 537, loss = 0.50887109\n",
      "Iteration 538, loss = 0.50844349\n",
      "Iteration 539, loss = 0.50800952\n",
      "Iteration 540, loss = 0.50757862\n",
      "Iteration 541, loss = 0.50716346\n",
      "Iteration 542, loss = 0.50673270\n",
      "Iteration 543, loss = 0.50630704\n",
      "Iteration 544, loss = 0.50587718\n",
      "Iteration 545, loss = 0.50545048\n",
      "Iteration 546, loss = 0.50502266\n",
      "Iteration 547, loss = 0.50460054\n",
      "Iteration 548, loss = 0.50417938\n",
      "Iteration 549, loss = 0.50375320\n",
      "Iteration 550, loss = 0.50332144\n",
      "Iteration 551, loss = 0.50289910\n",
      "Iteration 552, loss = 0.50247324\n",
      "Iteration 553, loss = 0.50204049\n",
      "Iteration 554, loss = 0.50162903\n",
      "Iteration 555, loss = 0.50119617\n",
      "Iteration 556, loss = 0.50077049\n",
      "Iteration 557, loss = 0.50033889\n",
      "Iteration 558, loss = 0.49992821\n",
      "Iteration 559, loss = 0.49949022\n",
      "Iteration 560, loss = 0.49906938\n",
      "Iteration 561, loss = 0.49865353\n",
      "Iteration 562, loss = 0.49822095\n",
      "Iteration 563, loss = 0.49780083\n",
      "Iteration 564, loss = 0.49736787\n",
      "Iteration 565, loss = 0.49694880\n",
      "Iteration 566, loss = 0.49653137\n",
      "Iteration 567, loss = 0.49611680\n",
      "Iteration 568, loss = 0.49568187\n",
      "Iteration 569, loss = 0.49526007\n",
      "Iteration 570, loss = 0.49484427\n",
      "Iteration 571, loss = 0.49440997\n",
      "Iteration 572, loss = 0.49399943\n",
      "Iteration 573, loss = 0.49357542\n",
      "Iteration 574, loss = 0.49316325\n",
      "Iteration 575, loss = 0.49272988\n",
      "Iteration 576, loss = 0.49230698\n",
      "Iteration 577, loss = 0.49190287\n",
      "Iteration 578, loss = 0.49149132\n",
      "Iteration 579, loss = 0.49104580\n",
      "Iteration 580, loss = 0.49062950\n",
      "Iteration 581, loss = 0.49020910\n",
      "Iteration 582, loss = 0.48979601\n",
      "Iteration 583, loss = 0.48936658\n",
      "Iteration 584, loss = 0.48896020\n",
      "Iteration 585, loss = 0.48852725\n",
      "Iteration 586, loss = 0.48811443\n",
      "Iteration 587, loss = 0.48770051\n",
      "Iteration 588, loss = 0.48728042\n",
      "Iteration 589, loss = 0.48685260\n",
      "Iteration 590, loss = 0.48644399\n",
      "Iteration 591, loss = 0.48602527\n",
      "Iteration 592, loss = 0.48560987\n",
      "Iteration 593, loss = 0.48518800\n",
      "Iteration 594, loss = 0.48477611\n",
      "Iteration 595, loss = 0.48435818\n",
      "Iteration 596, loss = 0.48394494\n",
      "Iteration 597, loss = 0.48352936\n",
      "Iteration 598, loss = 0.48310485\n",
      "Iteration 599, loss = 0.48269361\n",
      "Iteration 600, loss = 0.48228776\n",
      "Iteration 601, loss = 0.48186961\n",
      "Iteration 602, loss = 0.48144988\n",
      "Iteration 603, loss = 0.48103441\n",
      "Iteration 604, loss = 0.48062054\n",
      "Iteration 605, loss = 0.48022139\n",
      "Iteration 606, loss = 0.47979702\n",
      "Iteration 607, loss = 0.47938109\n",
      "Iteration 608, loss = 0.47897068\n",
      "Iteration 609, loss = 0.47856932\n",
      "Iteration 610, loss = 0.47814253\n",
      "Iteration 611, loss = 0.47774277\n",
      "Iteration 612, loss = 0.47733378\n",
      "Iteration 613, loss = 0.47690731\n",
      "Iteration 614, loss = 0.47650148\n",
      "Iteration 615, loss = 0.47609485\n",
      "Iteration 616, loss = 0.47568053\n",
      "Iteration 617, loss = 0.47527212\n",
      "Iteration 618, loss = 0.47486598\n",
      "Iteration 619, loss = 0.47446067\n",
      "Iteration 620, loss = 0.47404248\n",
      "Iteration 621, loss = 0.47363459\n",
      "Iteration 622, loss = 0.47323095\n",
      "Iteration 623, loss = 0.47281471\n",
      "Iteration 624, loss = 0.47240094\n",
      "Iteration 625, loss = 0.47200427\n",
      "Iteration 626, loss = 0.47158583\n",
      "Iteration 627, loss = 0.47119307\n",
      "Iteration 628, loss = 0.47077463\n",
      "Iteration 629, loss = 0.47036960\n",
      "Iteration 630, loss = 0.46995839\n",
      "Iteration 631, loss = 0.46955406\n",
      "Iteration 632, loss = 0.46914582\n",
      "Iteration 633, loss = 0.46875140\n",
      "Iteration 634, loss = 0.46833835\n",
      "Iteration 635, loss = 0.46793014\n",
      "Iteration 636, loss = 0.46753230\n",
      "Iteration 637, loss = 0.46711618\n",
      "Iteration 638, loss = 0.46671257\n",
      "Iteration 639, loss = 0.46631527\n",
      "Iteration 640, loss = 0.46591766\n",
      "Iteration 641, loss = 0.46550543\n",
      "Iteration 642, loss = 0.46509962\n",
      "Iteration 643, loss = 0.46469595\n",
      "Iteration 644, loss = 0.46429517\n",
      "Iteration 645, loss = 0.46389155\n",
      "Iteration 646, loss = 0.46349658\n",
      "Iteration 647, loss = 0.46308713\n",
      "Iteration 648, loss = 0.46268199\n",
      "Iteration 649, loss = 0.46228407\n",
      "Iteration 650, loss = 0.46187972\n",
      "Iteration 651, loss = 0.46148797\n",
      "Iteration 652, loss = 0.46108685\n",
      "Iteration 653, loss = 0.46068460\n",
      "Iteration 654, loss = 0.46028250\n",
      "Iteration 655, loss = 0.45988969\n",
      "Iteration 656, loss = 0.45948650\n",
      "Iteration 657, loss = 0.45909073\n",
      "Iteration 658, loss = 0.45868816\n",
      "Iteration 659, loss = 0.45829540\n",
      "Iteration 660, loss = 0.45789395\n",
      "Iteration 661, loss = 0.45749611\n",
      "Iteration 662, loss = 0.45710776\n",
      "Iteration 663, loss = 0.45669779\n",
      "Iteration 664, loss = 0.45631118\n",
      "Iteration 665, loss = 0.45591650\n",
      "Iteration 666, loss = 0.45551045\n",
      "Iteration 667, loss = 0.45511472\n",
      "Iteration 668, loss = 0.45472633\n",
      "Iteration 669, loss = 0.45433888\n",
      "Iteration 670, loss = 0.45394173\n",
      "Iteration 671, loss = 0.45353961\n",
      "Iteration 672, loss = 0.45314377\n",
      "Iteration 673, loss = 0.45274979\n",
      "Iteration 674, loss = 0.45236044\n",
      "Iteration 675, loss = 0.45196440\n",
      "Iteration 676, loss = 0.45157640\n",
      "Iteration 677, loss = 0.45118654\n",
      "Iteration 678, loss = 0.45078870\n",
      "Iteration 679, loss = 0.45040060\n",
      "Iteration 680, loss = 0.45000906\n",
      "Iteration 681, loss = 0.44962025\n",
      "Iteration 682, loss = 0.44922689\n",
      "Iteration 683, loss = 0.44883934\n",
      "Iteration 684, loss = 0.44845579\n",
      "Iteration 685, loss = 0.44805857\n",
      "Iteration 686, loss = 0.44766828\n",
      "Iteration 687, loss = 0.44727805\n",
      "Iteration 688, loss = 0.44689723\n",
      "Iteration 689, loss = 0.44650283\n",
      "Iteration 690, loss = 0.44611348\n",
      "Iteration 691, loss = 0.44572247\n",
      "Iteration 692, loss = 0.44533135\n",
      "Iteration 693, loss = 0.44495173\n",
      "Iteration 694, loss = 0.44455890\n",
      "Iteration 695, loss = 0.44417969\n",
      "Iteration 696, loss = 0.44379147\n",
      "Iteration 697, loss = 0.44340366\n",
      "Iteration 698, loss = 0.44301522\n",
      "Iteration 699, loss = 0.44262796\n",
      "Iteration 700, loss = 0.44224000\n",
      "Iteration 701, loss = 0.44185690\n",
      "Iteration 702, loss = 0.44147685\n",
      "Iteration 703, loss = 0.44109854\n",
      "Iteration 704, loss = 0.44071474\n",
      "Iteration 705, loss = 0.44032178\n",
      "Iteration 706, loss = 0.43994368\n",
      "Iteration 707, loss = 0.43956001\n",
      "Iteration 708, loss = 0.43918071\n",
      "Iteration 709, loss = 0.43879193\n",
      "Iteration 710, loss = 0.43841331\n",
      "Iteration 711, loss = 0.43803995\n",
      "Iteration 712, loss = 0.43764874\n",
      "Iteration 713, loss = 0.43727598\n",
      "Iteration 714, loss = 0.43689314\n",
      "Iteration 715, loss = 0.43651587\n",
      "Iteration 716, loss = 0.43613565\n",
      "Iteration 717, loss = 0.43575575\n",
      "Iteration 718, loss = 0.43537310\n",
      "Iteration 719, loss = 0.43500643\n",
      "Iteration 720, loss = 0.43462117\n",
      "Iteration 721, loss = 0.43424047\n",
      "Iteration 722, loss = 0.43386021\n",
      "Iteration 723, loss = 0.43349035\n",
      "Iteration 724, loss = 0.43310903\n",
      "Iteration 725, loss = 0.43273783\n",
      "Iteration 726, loss = 0.43235843\n",
      "Iteration 727, loss = 0.43199404\n",
      "Iteration 728, loss = 0.43160624\n",
      "Iteration 729, loss = 0.43123386\n",
      "Iteration 730, loss = 0.43086004\n",
      "Iteration 731, loss = 0.43048653\n",
      "Iteration 732, loss = 0.43010943\n",
      "Iteration 733, loss = 0.42973734\n",
      "Iteration 734, loss = 0.42937642\n",
      "Iteration 735, loss = 0.42899444\n",
      "Iteration 736, loss = 0.42861515\n",
      "Iteration 737, loss = 0.42824787\n",
      "Iteration 738, loss = 0.42788650\n",
      "Iteration 739, loss = 0.42750295\n",
      "Iteration 740, loss = 0.42713549\n",
      "Iteration 741, loss = 0.42676214\n",
      "Iteration 742, loss = 0.42639082\n",
      "Iteration 743, loss = 0.42602163\n",
      "Iteration 744, loss = 0.42565376\n",
      "Iteration 745, loss = 0.42528406\n",
      "Iteration 746, loss = 0.42491515\n",
      "Iteration 747, loss = 0.42454465\n",
      "Iteration 748, loss = 0.42417712\n",
      "Iteration 749, loss = 0.42382139\n",
      "Iteration 750, loss = 0.42346688\n",
      "Iteration 751, loss = 0.42308037\n",
      "Iteration 752, loss = 0.42271915\n",
      "Iteration 753, loss = 0.42234758\n",
      "Iteration 754, loss = 0.42197677\n",
      "Iteration 755, loss = 0.42161656\n",
      "Iteration 756, loss = 0.42126145\n",
      "Iteration 757, loss = 0.42088855\n",
      "Iteration 758, loss = 0.42052116\n",
      "Iteration 759, loss = 0.42017315\n",
      "Iteration 760, loss = 0.41979092\n",
      "Iteration 761, loss = 0.41944448\n",
      "Iteration 762, loss = 0.41907337\n",
      "Iteration 763, loss = 0.41870282\n",
      "Iteration 764, loss = 0.41834402\n",
      "Iteration 765, loss = 0.41797943\n",
      "Iteration 766, loss = 0.41761889\n",
      "Iteration 767, loss = 0.41725762\n",
      "Iteration 768, loss = 0.41690772\n",
      "Iteration 769, loss = 0.41654378\n",
      "Iteration 770, loss = 0.41618073\n",
      "Iteration 771, loss = 0.41582247\n",
      "Iteration 772, loss = 0.41546010\n",
      "Iteration 773, loss = 0.41510226\n",
      "Iteration 774, loss = 0.41474963\n",
      "Iteration 775, loss = 0.41440482\n",
      "Iteration 776, loss = 0.41403407\n",
      "Iteration 777, loss = 0.41367578\n",
      "Iteration 778, loss = 0.41331491\n",
      "Iteration 779, loss = 0.41296973\n",
      "Iteration 780, loss = 0.41261783\n",
      "Iteration 781, loss = 0.41225388\n",
      "Iteration 782, loss = 0.41190151\n",
      "Iteration 783, loss = 0.41154302\n",
      "Iteration 784, loss = 0.41118020\n"
     ]
    },
    {
     "name": "stdout",
     "output_type": "stream",
     "text": [
      "Iteration 785, loss = 0.41084064\n",
      "Iteration 786, loss = 0.41047812\n",
      "Iteration 787, loss = 0.41011987\n",
      "Iteration 788, loss = 0.40977988\n",
      "Iteration 789, loss = 0.40942174\n",
      "Iteration 790, loss = 0.40907838\n",
      "Iteration 791, loss = 0.40871168\n",
      "Iteration 792, loss = 0.40836071\n",
      "Iteration 793, loss = 0.40801032\n",
      "Iteration 794, loss = 0.40766586\n",
      "Iteration 795, loss = 0.40731752\n",
      "Iteration 796, loss = 0.40697110\n",
      "Iteration 797, loss = 0.40662165\n",
      "Iteration 798, loss = 0.40626444\n",
      "Iteration 799, loss = 0.40591488\n",
      "Iteration 800, loss = 0.40556938\n",
      "Iteration 801, loss = 0.40522360\n",
      "Iteration 802, loss = 0.40486427\n",
      "Iteration 803, loss = 0.40452685\n",
      "Iteration 804, loss = 0.40417438\n",
      "Iteration 805, loss = 0.40383716\n",
      "Iteration 806, loss = 0.40348687\n",
      "Iteration 807, loss = 0.40313360\n",
      "Iteration 808, loss = 0.40279202\n",
      "Iteration 809, loss = 0.40244659\n",
      "Iteration 810, loss = 0.40209716\n",
      "Iteration 811, loss = 0.40175121\n",
      "Iteration 812, loss = 0.40140781\n",
      "Iteration 813, loss = 0.40107214\n",
      "Iteration 814, loss = 0.40072044\n",
      "Iteration 815, loss = 0.40038515\n",
      "Iteration 816, loss = 0.40003718\n",
      "Iteration 817, loss = 0.39971176\n",
      "Iteration 818, loss = 0.39934746\n",
      "Iteration 819, loss = 0.39900798\n",
      "Iteration 820, loss = 0.39867186\n",
      "Iteration 821, loss = 0.39832697\n",
      "Iteration 822, loss = 0.39798454\n",
      "Iteration 823, loss = 0.39765961\n",
      "Iteration 824, loss = 0.39730099\n",
      "Iteration 825, loss = 0.39696668\n",
      "Iteration 826, loss = 0.39662312\n",
      "Iteration 827, loss = 0.39628529\n",
      "Iteration 828, loss = 0.39595696\n",
      "Iteration 829, loss = 0.39560915\n",
      "Iteration 830, loss = 0.39527277\n",
      "Iteration 831, loss = 0.39493675\n",
      "Iteration 832, loss = 0.39459785\n",
      "Iteration 833, loss = 0.39427912\n",
      "Iteration 834, loss = 0.39392468\n",
      "Iteration 835, loss = 0.39358449\n",
      "Iteration 836, loss = 0.39324872\n",
      "Iteration 837, loss = 0.39291900\n",
      "Iteration 838, loss = 0.39258390\n",
      "Iteration 839, loss = 0.39224797\n",
      "Iteration 840, loss = 0.39191394\n",
      "Iteration 841, loss = 0.39157627\n",
      "Iteration 842, loss = 0.39124361\n",
      "Iteration 843, loss = 0.39091440\n",
      "Iteration 844, loss = 0.39057770\n",
      "Iteration 845, loss = 0.39024971\n",
      "Iteration 846, loss = 0.38991893\n",
      "Iteration 847, loss = 0.38958484\n",
      "Iteration 848, loss = 0.38925487\n",
      "Iteration 849, loss = 0.38891867\n",
      "Iteration 850, loss = 0.38859000\n",
      "Iteration 851, loss = 0.38826152\n",
      "Iteration 852, loss = 0.38793293\n",
      "Iteration 853, loss = 0.38759368\n",
      "Iteration 854, loss = 0.38727263\n",
      "Iteration 855, loss = 0.38693814\n",
      "Iteration 856, loss = 0.38661218\n",
      "Iteration 857, loss = 0.38628594\n",
      "Iteration 858, loss = 0.38595850\n",
      "Iteration 859, loss = 0.38563263\n",
      "Iteration 860, loss = 0.38530693\n",
      "Iteration 861, loss = 0.38497873\n",
      "Iteration 862, loss = 0.38464826\n",
      "Iteration 863, loss = 0.38431944\n",
      "Iteration 864, loss = 0.38399651\n",
      "Iteration 865, loss = 0.38367384\n",
      "Iteration 866, loss = 0.38334334\n",
      "Iteration 867, loss = 0.38302260\n",
      "Iteration 868, loss = 0.38270422\n",
      "Iteration 869, loss = 0.38237696\n",
      "Iteration 870, loss = 0.38205792\n",
      "Iteration 871, loss = 0.38172968\n",
      "Iteration 872, loss = 0.38141402\n",
      "Iteration 873, loss = 0.38108300\n",
      "Iteration 874, loss = 0.38075997\n",
      "Iteration 875, loss = 0.38044541\n",
      "Iteration 876, loss = 0.38011666\n",
      "Iteration 877, loss = 0.37979777\n",
      "Iteration 878, loss = 0.37947504\n",
      "Iteration 879, loss = 0.37916545\n",
      "Iteration 880, loss = 0.37884356\n",
      "Iteration 881, loss = 0.37851779\n",
      "Iteration 882, loss = 0.37819629\n",
      "Iteration 883, loss = 0.37787780\n",
      "Iteration 884, loss = 0.37756058\n",
      "Iteration 885, loss = 0.37724648\n",
      "Iteration 886, loss = 0.37692640\n",
      "Iteration 887, loss = 0.37660478\n",
      "Iteration 888, loss = 0.37630245\n",
      "Iteration 889, loss = 0.37597325\n",
      "Iteration 890, loss = 0.37567170\n",
      "Iteration 891, loss = 0.37534136\n",
      "Iteration 892, loss = 0.37502814\n",
      "Iteration 893, loss = 0.37471278\n",
      "Iteration 894, loss = 0.37440407\n",
      "Iteration 895, loss = 0.37410826\n",
      "Iteration 896, loss = 0.37377206\n",
      "Iteration 897, loss = 0.37346548\n",
      "Iteration 898, loss = 0.37313858\n",
      "Iteration 899, loss = 0.37283141\n",
      "Iteration 900, loss = 0.37251782\n",
      "Iteration 901, loss = 0.37220461\n",
      "Iteration 902, loss = 0.37189309\n",
      "Iteration 903, loss = 0.37158440\n",
      "Iteration 904, loss = 0.37127959\n",
      "Iteration 905, loss = 0.37096114\n",
      "Iteration 906, loss = 0.37064396\n",
      "Iteration 907, loss = 0.37035271\n",
      "Iteration 908, loss = 0.37003599\n",
      "Iteration 909, loss = 0.36972122\n",
      "Iteration 910, loss = 0.36942273\n",
      "Iteration 911, loss = 0.36909989\n",
      "Iteration 912, loss = 0.36879498\n",
      "Iteration 913, loss = 0.36849111\n",
      "Iteration 914, loss = 0.36817538\n",
      "Iteration 915, loss = 0.36787194\n",
      "Iteration 916, loss = 0.36756692\n",
      "Iteration 917, loss = 0.36725465\n",
      "Iteration 918, loss = 0.36695806\n",
      "Iteration 919, loss = 0.36663758\n",
      "Iteration 920, loss = 0.36634348\n",
      "Iteration 921, loss = 0.36603514\n",
      "Iteration 922, loss = 0.36573336\n",
      "Iteration 923, loss = 0.36542052\n",
      "Iteration 924, loss = 0.36512040\n",
      "Iteration 925, loss = 0.36481683\n",
      "Iteration 926, loss = 0.36451326\n",
      "Iteration 927, loss = 0.36421510\n",
      "Iteration 928, loss = 0.36390719\n",
      "Iteration 929, loss = 0.36360953\n",
      "Iteration 930, loss = 0.36330460\n",
      "Iteration 931, loss = 0.36299909\n",
      "Iteration 932, loss = 0.36270739\n",
      "Iteration 933, loss = 0.36239563\n",
      "Iteration 934, loss = 0.36209585\n",
      "Iteration 935, loss = 0.36179392\n",
      "Iteration 936, loss = 0.36150257\n",
      "Iteration 937, loss = 0.36120034\n",
      "Iteration 938, loss = 0.36090302\n",
      "Iteration 939, loss = 0.36059750\n",
      "Iteration 940, loss = 0.36031482\n",
      "Iteration 941, loss = 0.36000311\n",
      "Iteration 942, loss = 0.35970564\n",
      "Iteration 943, loss = 0.35941238\n",
      "Iteration 944, loss = 0.35911333\n",
      "Iteration 945, loss = 0.35881090\n",
      "Iteration 946, loss = 0.35851368\n",
      "Iteration 947, loss = 0.35822478\n",
      "Iteration 948, loss = 0.35793057\n",
      "Iteration 949, loss = 0.35763531\n",
      "Iteration 950, loss = 0.35734728\n",
      "Iteration 951, loss = 0.35704480\n",
      "Iteration 952, loss = 0.35675716\n",
      "Iteration 953, loss = 0.35645673\n",
      "Iteration 954, loss = 0.35616329\n",
      "Iteration 955, loss = 0.35586715\n",
      "Iteration 956, loss = 0.35557144\n",
      "Iteration 957, loss = 0.35528567\n",
      "Iteration 958, loss = 0.35498586\n",
      "Iteration 959, loss = 0.35470510\n",
      "Iteration 960, loss = 0.35440637\n",
      "Iteration 961, loss = 0.35411425\n",
      "Iteration 962, loss = 0.35382098\n",
      "Iteration 963, loss = 0.35353072\n",
      "Iteration 964, loss = 0.35324069\n",
      "Iteration 965, loss = 0.35296471\n",
      "Iteration 966, loss = 0.35266768\n",
      "Iteration 967, loss = 0.35237873\n",
      "Iteration 968, loss = 0.35208676\n",
      "Iteration 969, loss = 0.35179253\n",
      "Iteration 970, loss = 0.35150335\n",
      "Iteration 971, loss = 0.35121866\n",
      "Iteration 972, loss = 0.35093018\n",
      "Iteration 973, loss = 0.35064260\n",
      "Iteration 974, loss = 0.35035331\n",
      "Iteration 975, loss = 0.35007370\n",
      "Iteration 976, loss = 0.34979578\n",
      "Iteration 977, loss = 0.34950140\n",
      "Iteration 978, loss = 0.34920978\n",
      "Iteration 979, loss = 0.34892750\n",
      "Iteration 980, loss = 0.34865728\n",
      "Iteration 981, loss = 0.34835501\n",
      "Iteration 982, loss = 0.34808085\n",
      "Iteration 983, loss = 0.34778859\n",
      "Iteration 984, loss = 0.34750366\n",
      "Iteration 985, loss = 0.34722362\n",
      "Iteration 986, loss = 0.34694561\n",
      "Iteration 987, loss = 0.34665699\n",
      "Iteration 988, loss = 0.34637735\n",
      "Iteration 989, loss = 0.34608822\n",
      "Iteration 990, loss = 0.34581067\n",
      "Iteration 991, loss = 0.34552582\n",
      "Iteration 992, loss = 0.34524753\n",
      "Iteration 993, loss = 0.34496996\n",
      "Iteration 994, loss = 0.34469033\n",
      "Iteration 995, loss = 0.34441843\n",
      "Iteration 996, loss = 0.34413496\n",
      "Iteration 997, loss = 0.34385210\n",
      "Iteration 998, loss = 0.34356737\n",
      "Iteration 999, loss = 0.34329370\n",
      "Iteration 1000, loss = 0.34301925\n",
      "confusion_matrix:\n",
      " [[79 18]\n",
      " [32 71]]\n",
      "accuracy_score:  0.75\n"
     ]
    },
    {
     "name": "stderr",
     "output_type": "stream",
     "text": [
      "/anaconda3/lib/python3.6/site-packages/sklearn/neural_network/multilayer_perceptron.py:564: ConvergenceWarning: Stochastic Optimizer: Maximum iterations (1000) reached and the optimization hasn't converged yet.\n",
      "  % self.max_iter, ConvergenceWarning)\n"
     ]
    }
   ],
   "source": [
    "from sklearn.neural_network import MLPClassifier\n",
    "nn=MLPClassifier(hidden_layer_sizes=(7,), max_iter=1000, alpha=0.1,\n",
    "                     solver='sgd', verbose=10,  random_state=21,tol=0.000000001)\n",
    "\n",
    "nn.fit(X_train,y_train)\n",
    "# Predicting the Test set results\n",
    "y_pred = nn.predict(X_test)\n",
    "\n",
    "\n",
    "# Making the Confusion Matrix\n",
    "from sklearn.metrics import confusion_matrix, accuracy_score\n",
    "cm = confusion_matrix(y_test, y_pred)\n",
    "print(\"confusion_matrix:\\n\", cm)\n",
    "print(\"accuracy_score: \", accuracy_score(y_test, y_pred))"
   ]
  },
  {
   "cell_type": "markdown",
   "metadata": {},
   "source": [
    "# Siradaki Isler\n",
    "\n",
    "Spam/Ham\n",
    " - https://github.com/shreyans29/thesemicolon/blob/master/Text%20Analytics%20CV.ipynb\n",
    "\n",
    "NLP\n",
    " - https://dzone.com/articles/nlp-tutorial-using-python-nltk-simple-examples"
   ]
  },
  {
   "cell_type": "markdown",
   "metadata": {},
   "source": [
    "# Hipotez Testi"
   ]
  },
  {
   "cell_type": "code",
   "execution_count": 36,
   "metadata": {},
   "outputs": [
    {
     "name": "stdout",
     "output_type": "stream",
     "text": [
      "Population mean: 0.000542769162599561\n"
     ]
    }
   ],
   "source": [
    "import matplotlib.pyplot as plt\n",
    "import numpy as np\n",
    "import pandas as pd\n",
    "import quandl\n",
    "quandl.ApiConfig.api_key = 'tAyfv1zpWnyhmDsp91yv'\n",
    "#get data from quandl\n",
    "spy_table = quandl.get('BCIW/_SPXT')\n",
    "spy_total = spy_table[['Open','Close']]\n",
    "#calculate log returns\n",
    "spy_log_return = np.log(spy_total.Close).diff().dropna()\n",
    "print('Population mean:', np.mean(spy_log_return))\n"
   ]
  },
  {
   "cell_type": "code",
   "execution_count": 37,
   "metadata": {},
   "outputs": [
    {
     "name": "stdout",
     "output_type": "stream",
     "text": [
      "10 days sample returns: 0.0005199499813855369\n"
     ]
    }
   ],
   "source": [
    "print('10 days sample returns:', np.mean(spy_log_return.tail(10)))"
   ]
  },
  {
   "cell_type": "code",
   "execution_count": 38,
   "metadata": {},
   "outputs": [
    {
     "name": "stdout",
     "output_type": "stream",
     "text": [
      "10 days sample returns: 0.000542769162599561\n"
     ]
    }
   ],
   "source": [
    "print('10 days sample returns:', np.mean(spy_log_return.tail(1000)))"
   ]
  },
  {
   "cell_type": "markdown",
   "metadata": {},
   "source": [
    "> As we expected, the two samples has different means and variances."
   ]
  },
  {
   "cell_type": "code",
   "execution_count": null,
   "metadata": {},
   "outputs": [],
   "source": []
  }
 ],
 "metadata": {
  "kernelspec": {
   "display_name": "Python 3",
   "language": "python",
   "name": "python3"
  },
  "language_info": {
   "codemirror_mode": {
    "name": "ipython",
    "version": 3
   },
   "file_extension": ".py",
   "mimetype": "text/x-python",
   "name": "python",
   "nbconvert_exporter": "python",
   "pygments_lexer": "ipython3",
   "version": "3.6.4"
  }
 },
 "nbformat": 4,
 "nbformat_minor": 2
}
