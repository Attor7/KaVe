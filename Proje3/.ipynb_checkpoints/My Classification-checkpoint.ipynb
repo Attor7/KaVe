{
 "cells": [
  {
   "cell_type": "markdown",
   "metadata": {},
   "source": [
    "## Logistic Regression\n",
    "\n",
    "\n",
    "Sigmoid Function\n",
    "\n",
    "$$\n",
    "g(z) = \\frac{1}{1 + e^{-z}}\n",
    "$$\n",
    "Parameters\n",
    "$$\n",
    "W = \n",
    "\\begin{bmatrix} \n",
    "w_0 \\\\\n",
    "w_1 \\\\\n",
    "w_2 \n",
    "\\end{bmatrix}\n",
    "$$\n",
    "Hypothesis\n",
    "$$\n",
    "h = \n",
    "g(XW) =\n",
    "g(\n",
    "\\begin{bmatrix} \n",
    "1 & x_{01} & x_{02}\\\\\n",
    "1 & x_{11} & x_{12}\\\\\n",
    "1 & x_{21} & x_{22}\\\\\n",
    "1 & x_{31} & x_{32}\\\\\n",
    "1 & x_{41} & x_{42}\n",
    "\\end{bmatrix}\n",
    "\\begin{bmatrix} \n",
    "w_0 \\\\\n",
    "w_1 \\\\\n",
    "w_2 \n",
    "\\end{bmatrix}\n",
    ")\n",
    "=\n",
    "\\begin{bmatrix} \n",
    "g(w_0 + w_1 x_{01} + w_2 x_{02})\\\\\n",
    "g(w_0 + w_1 x_{11} + w_2 x_{12})\\\\\n",
    "g(w_0 + w_1 x_{21} + w_2 x_{22})\\\\\n",
    "g(w_0 + w_1 x_{31} + w_2 x_{32})\\\\\n",
    "g(w_0 + w_1 x_{41} + w_2 x_{42})\\\\\n",
    "\\end{bmatrix}\n",
    "=\n",
    "\\begin{bmatrix} \n",
    "h_{0} \\\\\n",
    "h_{1} \\\\\n",
    "h_{2} \\\\\n",
    "h_{3} \\\\\n",
    "h_{4}\n",
    "\\end{bmatrix}\n",
    "$$\n",
    "\n",
    "\n",
    "Cost Function\n",
    "$$\n",
    "J(W) = \\frac{1}{2m} \\sum_{i=1}^{m} (h_i - y_i)^2\n",
    "= \\frac{1}{2m} \\sum_{i=1}^{m} (g(w_0 + w_1 x_{i1} + w_2 x_{i2}) - y_i)^2\n",
    "$$\n",
    "\n",
    "Derivative of Cost Funnction\n",
    "$$\n",
    "\\frac{dJ(W)}{dw_j} = \n",
    "\\sum_{i=1}^{m}\n",
    "\\frac{dJ(W)}{dh_i} \\frac{dh_i}{dz_i}  \\frac{dz_i}{dw_j}\n",
    "=  \n",
    "\\sum_{i=1}^{m}\n",
    "\\frac{1}{m} (h_i - y_i)\n",
    "\\frac{dh_i}{dz_i}  \\frac{dz_i}{dw_j}\n",
    "=\n",
    "\\frac{1}{m}\n",
    "\\sum_{i=1}^{m}\n",
    "(h_i - y_i)\n",
    "h_i (1- h_i)\n",
    "\\frac{dz_i}{dw_j}\n",
    "=\n",
    "\\frac{1}{m} \\sum_{i=1}^{m} \n",
    "(h_i - y_i)\n",
    "h_i (1- h_i)\n",
    "x_{ij}\n",
    "$$\n",
    "\n",
    "Derivative of Cost Funnction\n",
    "$$\n",
    "\\frac{dJ(W)}{dw} = \n",
    "\\begin{bmatrix} \n",
    "\\frac{dJ(W)}{dw_0} \\\\\n",
    "\\frac{dJ(W)}{dw_1} \\\\\n",
    "\\frac{dJ(W)}{dw_2}\n",
    "\\end{bmatrix}\n",
    "=\n",
    "\\frac{1}{m}\n",
    "\\begin{bmatrix} \n",
    "\\sum_{i=1}^{m} (h_i - y_i) h_i (1- h_i) x_{i0} \\\\\n",
    "\\sum_{i=1}^{m} (h_i - y_i) h_i (1- h_i) x_{i1} \\\\\n",
    "\\sum_{i=1}^{m} (h_i - y_i) h_i (1- h_i) x_{i2}\n",
    "\\end{bmatrix}\n",
    "$$\n",
    "\n",
    "![](data/myclassifier.png)\n",
    "\n"
   ]
  },
  {
   "cell_type": "code",
   "execution_count": 1,
   "metadata": {},
   "outputs": [
    {
     "name": "stdout",
     "output_type": "stream",
     "text": [
      "W:\n",
      " [[1]\n",
      " [1]\n",
      " [1]]\n",
      "X:\n",
      " [[1 0 0]\n",
      " [1 1 1]\n",
      " [1 2 2]\n",
      " [1 3 3]\n",
      " [1 4 4]\n",
      " [1 5 5]]\n",
      "y:\n",
      " [[0]\n",
      " [0]\n",
      " [0]\n",
      " [0]\n",
      " [1]\n",
      " [1]]\n",
      "h:\n",
      " [[0.73105858]\n",
      " [0.95257413]\n",
      " [0.99330715]\n",
      " [0.99908895]\n",
      " [0.99987661]\n",
      " [0.9999833 ]]\n",
      "cost:\n",
      " 0.28555682900130047\n",
      "derivative for every w_j:\n",
      " [0.03238032 0.00982823 0.00982823]\n"
     ]
    },
    {
     "data": {
      "text/plain": [
       "(3,)"
      ]
     },
     "execution_count": 1,
     "metadata": {},
     "output_type": "execute_result"
    }
   ],
   "source": [
    "# Importing the libraries\n",
    "import numpy as np\n",
    "import matplotlib.pyplot as plt\n",
    "import pandas as pd\n",
    "\n",
    "def sigmoid(z):\n",
    "    return(1 / (1 + np.exp(-z)))\n",
    "\n",
    "W = np.array([[1],[1],[1]]) \n",
    "X = np.array([[1,0,0],[1,1,1],[1,2,2],[1,3,3],[1,4,4],[1,5,5]])\n",
    "y = np.array([[0],[0],[0],[0],[1],[1]]) \n",
    "h = sigmoid(X.dot(W))\n",
    "m, n = X.shape\n",
    "cost = np.sum(np.power(h-y,2))/ (2*m)\n",
    "derivative = np.sum(X * (h-y) * h * (1-h), axis=0)/ m\n",
    "print(\"W:\\n\", W)\n",
    "print(\"X:\\n\", X)\n",
    "print(\"y:\\n\", y)\n",
    "print(\"h:\\n\", h)\n",
    "print(\"cost:\\n\", cost)\n",
    "print(\"derivative for every w_j:\\n\", derivative)\n",
    "derivative.shape"
   ]
  },
  {
   "cell_type": "code",
   "execution_count": 2,
   "metadata": {},
   "outputs": [],
   "source": [
    "class myClassification():\n",
    "    def __init__(self,X_train, y_train):\n",
    "        self.m, self.n = X_train.shape\n",
    "        self.n += 1 # Add one for x_0 column \n",
    "        \n",
    "        self.X_train = np.hstack((np.ones((self.m,1)), X_train))\n",
    "        self.y_train = y_train.reshape((self.m,1))\n",
    "        self.W = np.random.randn(self.n,1)\n",
    "            \n",
    "    def cost(self):\n",
    "        h = sigmoid(self.X_train.dot(self.W))\n",
    "        return np.sum(np.power(h-self.y_train,2))/ (2*self.m)\n",
    "\n",
    "    def derivative(self):\n",
    "        h = sigmoid(self.X_train.dot(self.W))\n",
    "        derivative = np.sum(self.X_train * (h-self.y_train) * h * (1-h) , axis=0)/ self.m\n",
    "        return derivative.reshape(self.W.shape)\n",
    "\n",
    "    def gradient_descent(self, alpha = 0.05, number_steps = 10000):\n",
    "        for i in range(number_steps):\n",
    "            self.W = self.W - alpha * self.derivative()\n",
    "        return self.W\n",
    "    \n",
    "    def predict(self, X_test, threshold=0.5):\n",
    "        m, n = X_test.shape\n",
    "        X_test = np.hstack((np.ones((m,1)), X_test))\n",
    "        h = sigmoid(X_test.dot(self.W)) \n",
    "        p = h >= threshold\n",
    "        return (p.astype('int'))\n",
    "\n",
    "    def fit(self):\n",
    "        self.W = self.gradient_descent()"
   ]
  },
  {
   "cell_type": "markdown",
   "metadata": {},
   "source": [
    "The following code and data is taken from https://www.udemy.com/machinelearning/\n",
    "\n"
   ]
  },
  {
   "cell_type": "code",
   "execution_count": 3,
   "metadata": {},
   "outputs": [
    {
     "name": "stderr",
     "output_type": "stream",
     "text": [
      "/anaconda3/lib/python3.6/site-packages/sklearn/cross_validation.py:41: DeprecationWarning: This module was deprecated in version 0.18 in favor of the model_selection module into which all the refactored classes and functions are moved. Also note that the interface of the new CV iterators are different from that of this module. This module will be removed in 0.20.\n",
      "  \"This module will be removed in 0.20.\", DeprecationWarning)\n",
      "/anaconda3/lib/python3.6/site-packages/sklearn/utils/validation.py:475: DataConversionWarning: Data with input dtype int64 was converted to float64 by StandardScaler.\n",
      "  warnings.warn(msg, DataConversionWarning)\n"
     ]
    },
    {
     "name": "stdout",
     "output_type": "stream",
     "text": [
      "[[65  3]\n",
      " [ 8 24]]\n"
     ]
    },
    {
     "data": {
      "image/png": "[encoded data removed]",
      "text/plain": [
       "<matplotlib.figure.Figure at 0x1a108bb358>"
      ]
     },
     "metadata": {},
     "output_type": "display_data"
    }
   ],
   "source": [
    "# Logistic Regression\n",
    "# Importing the dataset\n",
    "dataset = pd.read_csv('data/Social_Network_Ads.csv')\n",
    "X = dataset.iloc[:, [2, 3]].values\n",
    "y = dataset.iloc[:, 4].values\n",
    "\n",
    "# Splitting the dataset into the Training set and Test set\n",
    "from sklearn.cross_validation import train_test_split\n",
    "X_train, X_test, y_train, y_test = train_test_split(X, y, test_size = 0.25, random_state = 0)\n",
    "\n",
    "# Feature Scaling\n",
    "from sklearn.preprocessing import StandardScaler\n",
    "sc = StandardScaler()\n",
    "X_train = sc.fit_transform(X_train)\n",
    "X_test = sc.transform(X_test)\n",
    "\n",
    "# Fitting Logistic Regression to the Training set\n",
    "from sklearn.linear_model import LogisticRegression\n",
    "classifier = LogisticRegression(random_state = 0)\n",
    "classifier.fit(X_train, y_train)\n",
    "\n",
    "# Predicting the Test set results\n",
    "y_pred = classifier.predict(X_test)\n",
    "\n",
    "# Making the Confusion Matrix\n",
    "from sklearn.metrics import confusion_matrix\n",
    "cm = confusion_matrix(y_test, y_pred)\n",
    "print(cm)\n",
    "\n",
    "# Visualising the Test set results\n",
    "from matplotlib.colors import ListedColormap\n",
    "X_set, y_set = X_test, y_test\n",
    "X1, X2 = np.meshgrid(np.arange(start = X_set[:, 0].min() - 1, stop = X_set[:, 0].max() + 1, step = 0.01),\n",
    "                     np.arange(start = X_set[:, 1].min() - 1, stop = X_set[:, 1].max() + 1, step = 0.01))\n",
    "plt.contourf(X1, X2, classifier.predict(np.array([X1.ravel(), X2.ravel()]).T).reshape(X1.shape),\n",
    "             alpha = 0.75, cmap = ListedColormap(('red', 'green')))\n",
    "plt.xlim(X1.min(), X1.max())\n",
    "plt.ylim(X2.min(), X2.max())\n",
    "for i, j in enumerate(np.unique(y_set)):\n",
    "    plt.scatter(X_set[y_set == j, 0], X_set[y_set == j, 1],\n",
    "                c = ListedColormap(('red', 'green'))(i), label = j)\n",
    "plt.title('Logistic Regression (Test set)')\n",
    "plt.xlabel('Age')\n",
    "plt.ylabel('Estimated Salary')\n",
    "plt.legend()\n",
    "plt.show()"
   ]
  },
  {
   "cell_type": "code",
   "execution_count": 4,
   "metadata": {},
   "outputs": [
    {
     "data": {
      "text/html": [
       "<div>\n",
       "<style scoped>\n",
       "    .dataframe tbody tr th:only-of-type {\n",
       "        vertical-align: middle;\n",
       "    }\n",
       "\n",
       "    .dataframe tbody tr th {\n",
       "        vertical-align: top;\n",
       "    }\n",
       "\n",
       "    .dataframe thead th {\n",
       "        text-align: right;\n",
       "    }\n",
       "</style>\n",
       "<table border=\"1\" class=\"dataframe\">\n",
       "  <thead>\n",
       "    <tr style=\"text-align: right;\">\n",
       "      <th></th>\n",
       "      <th>User ID</th>\n",
       "      <th>Gender</th>\n",
       "      <th>Age</th>\n",
       "      <th>EstimatedSalary</th>\n",
       "      <th>Purchased</th>\n",
       "    </tr>\n",
       "  </thead>\n",
       "  <tbody>\n",
       "    <tr>\n",
       "      <th>0</th>\n",
       "      <td>15624510</td>\n",
       "      <td>Male</td>\n",
       "      <td>19</td>\n",
       "      <td>19000</td>\n",
       "      <td>0</td>\n",
       "    </tr>\n",
       "    <tr>\n",
       "      <th>1</th>\n",
       "      <td>15810944</td>\n",
       "      <td>Male</td>\n",
       "      <td>35</td>\n",
       "      <td>20000</td>\n",
       "      <td>0</td>\n",
       "    </tr>\n",
       "    <tr>\n",
       "      <th>2</th>\n",
       "      <td>15668575</td>\n",
       "      <td>Female</td>\n",
       "      <td>26</td>\n",
       "      <td>43000</td>\n",
       "      <td>0</td>\n",
       "    </tr>\n",
       "    <tr>\n",
       "      <th>3</th>\n",
       "      <td>15603246</td>\n",
       "      <td>Female</td>\n",
       "      <td>27</td>\n",
       "      <td>57000</td>\n",
       "      <td>0</td>\n",
       "    </tr>\n",
       "    <tr>\n",
       "      <th>4</th>\n",
       "      <td>15804002</td>\n",
       "      <td>Male</td>\n",
       "      <td>19</td>\n",
       "      <td>76000</td>\n",
       "      <td>0</td>\n",
       "    </tr>\n",
       "  </tbody>\n",
       "</table>\n",
       "</div>"
      ],
      "text/plain": [
       "    User ID  Gender  Age  EstimatedSalary  Purchased\n",
       "0  15624510    Male   19            19000          0\n",
       "1  15810944    Male   35            20000          0\n",
       "2  15668575  Female   26            43000          0\n",
       "3  15603246  Female   27            57000          0\n",
       "4  15804002    Male   19            76000          0"
      ]
     },
     "execution_count": 4,
     "metadata": {},
     "output_type": "execute_result"
    }
   ],
   "source": [
    "dataset.head()"
   ]
  },
  {
   "cell_type": "code",
   "execution_count": 5,
   "metadata": {},
   "outputs": [
    {
     "name": "stdout",
     "output_type": "stream",
     "text": [
      "[[64  4]\n",
      " [ 6 26]]\n"
     ]
    }
   ],
   "source": [
    "me = myClassification(X_train, y_train)\n",
    "me.fit()\n",
    "me_pred = me.predict(X_test)\n",
    "\n",
    "cm = confusion_matrix(y_test, me_pred)\n",
    "print(cm)"
   ]
  },
  {
   "cell_type": "code",
   "execution_count": 6,
   "metadata": {},
   "outputs": [
    {
     "data": {
      "image/png": "[encoded data removed]",
      "text/plain": [
       "<matplotlib.figure.Figure at 0x10b41a198>"
      ]
     },
     "metadata": {},
     "output_type": "display_data"
    }
   ],
   "source": [
    "# Visualising the Test set results\n",
    "from matplotlib.colors import ListedColormap\n",
    "X_set, y_set = X_test, y_test\n",
    "X1, X2 = np.meshgrid(np.arange(start = X_set[:, 0].min() - 1, stop = X_set[:, 0].max() + 1, step = 0.01),\n",
    "                     np.arange(start = X_set[:, 1].min() - 1, stop = X_set[:, 1].max() + 1, step = 0.01))\n",
    "plt.contourf(X1, X2, me.predict(np.array([X1.ravel(), X2.ravel()]).T).reshape(X1.shape),\n",
    "             alpha = 0.75, cmap = ListedColormap(('red', 'green')))\n",
    "plt.xlim(X1.min(), X1.max())\n",
    "plt.ylim(X2.min(), X2.max())\n",
    "for i, j in enumerate(np.unique(y_set)):\n",
    "    plt.scatter(X_set[y_set == j, 0], X_set[y_set == j, 1],\n",
    "                c = ListedColormap(('red', 'green'))(i), label = j)\n",
    "plt.title('My Logistic Regression (Test set)')\n",
    "plt.xlabel('Age')\n",
    "plt.ylabel('Estimated Salary')\n",
    "plt.legend()\n",
    "plt.show()"
   ]
  },
  {
   "cell_type": "markdown",
   "metadata": {},
   "source": [
    "For a different machine learning task look at\n",
    " - https://www.datacamp.com/community/tutorials/time-series-analysis-tutorial\n"
   ]
  },
  {
   "cell_type": "code",
   "execution_count": null,
   "metadata": {},
   "outputs": [],
   "source": []
  }
 ],
 "metadata": {
  "kernelspec": {
   "display_name": "Python 3",
   "language": "python",
   "name": "python3"
  },
  "language_info": {
   "codemirror_mode": {
    "name": "ipython",
    "version": 3
   },
   "file_extension": ".py",
   "mimetype": "text/x-python",
   "name": "python",
   "nbconvert_exporter": "python",
   "pygments_lexer": "ipython3",
   "version": "3.6.4"
  }
 },
 "nbformat": 4,
 "nbformat_minor": 2
}
