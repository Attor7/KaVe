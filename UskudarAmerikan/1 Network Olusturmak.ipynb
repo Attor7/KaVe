{
 "cells": [
  {
   "cell_type": "markdown",
   "metadata": {},
   "source": [
    "# Python ile Sosyal Ag Analizi I\n",
    "Networku Olusturmak\n",
    "\n",
    "> Bu calisma Uzay Cetin tarafindan, Uskudar Amerikan Lisesi CodeFest 2018 (https://www.codefesttr.org) icin hazirlanmistir. \n",
    "\n",
    "NetworkX version: 2.0 gereklidir.\n",
    "\n",
    "___\n",
    "\n",
    "[Genel olarak Ag Bilimi ve Bilgisayim Organizasyonu](https://github.com/uzay00/CMPE232/tree/master/Lecture1)"
   ]
  },
  {
   "cell_type": "code",
   "execution_count": 1,
   "metadata": {},
   "outputs": [
    {
     "name": "stdout",
     "output_type": "stream",
     "text": [
      "NetworkX version: 2.0\n"
     ]
    }
   ],
   "source": [
    "import warnings\n",
    "warnings.filterwarnings('ignore')\n",
    "\n",
    "import networkx as nx\n",
    "import matplotlib.pyplot as plt\n",
    "%matplotlib inline\n",
    "print('NetworkX version: {}'.format(nx.__version__))"
   ]
  },
  {
   "cell_type": "code",
   "execution_count": 2,
   "metadata": {},
   "outputs": [
    {
     "data": {
      "image/png": "[encoded data removed]",
      "text/plain": [
       "<matplotlib.figure.Figure at 0x10aa9c400>"
      ]
     },
     "metadata": {},
     "output_type": "display_data"
    }
   ],
   "source": [
    "G = nx.Graph() # empty graph\n",
    "G.add_node(\"Uzay\")\n",
    "nx.draw(G, node_size=1000, node_color='lightblue', with_labels=True)"
   ]
  },
  {
   "cell_type": "code",
   "execution_count": 3,
   "metadata": {},
   "outputs": [
    {
     "name": "stdout",
     "output_type": "stream",
     "text": [
      "Name: \n",
      "Type: Graph\n",
      "Number of nodes: 1\n",
      "Number of edges: 0\n",
      "Average degree:   0.0000\n"
     ]
    }
   ],
   "source": [
    "print(nx.info(G))"
   ]
  },
  {
   "cell_type": "code",
   "execution_count": 4,
   "metadata": {},
   "outputs": [
    {
     "data": {
      "image/png": "[encoded data removed]",
      "text/plain": [
       "<matplotlib.figure.Figure at 0x10aa9c048>"
      ]
     },
     "metadata": {},
     "output_type": "display_data"
    }
   ],
   "source": [
    "G = nx.Graph(subject='love', name='Book Graph') \n",
    "G.add_edge(\"Leyla\",\"Mecnun\")\n",
    "G.add_edge(\"Juliet\",\"Romeo\")\n",
    "nx.draw(G, with_labels=True,node_color='lightgray')"
   ]
  },
  {
   "cell_type": "code",
   "execution_count": 5,
   "metadata": {},
   "outputs": [
    {
     "name": "stdout",
     "output_type": "stream",
     "text": [
      "Name: Book Graph\n",
      "Type: Graph\n",
      "Number of nodes: 4\n",
      "Number of edges: 2\n",
      "Average degree:   1.0000\n"
     ]
    }
   ],
   "source": [
    "print(nx.info(G))"
   ]
  },
  {
   "cell_type": "markdown",
   "metadata": {},
   "source": [
    "### Dugum Ozellilerini Belirleme"
   ]
  },
  {
   "cell_type": "code",
   "execution_count": 6,
   "metadata": {},
   "outputs": [],
   "source": [
    "ozellik = 'cinsiyet'\n",
    "G.node['Leyla'][ozellik] = 'Kadin'\n",
    "G.node['Juliet'][ozellik] = 'Kadin'\n",
    "\n",
    "G.node['Mecnun'][ozellik] = 'Erkek'\n",
    "G.node['Romeo'][ozellik] = 'Erkek'"
   ]
  },
  {
   "cell_type": "code",
   "execution_count": 7,
   "metadata": {},
   "outputs": [
    {
     "data": {
      "text/plain": [
       "[('Leyla', {'cinsiyet': 'Kadin'}),\n",
       " ('Mecnun', {'cinsiyet': 'Erkek'}),\n",
       " ('Juliet', {'cinsiyet': 'Kadin'}),\n",
       " ('Romeo', {'cinsiyet': 'Erkek'})]"
      ]
     },
     "execution_count": 7,
     "metadata": {},
     "output_type": "execute_result"
    }
   ],
   "source": [
    "list(G.nodes(data=True))"
   ]
  },
  {
   "cell_type": "code",
   "execution_count": 8,
   "metadata": {},
   "outputs": [
    {
     "name": "stdout",
     "output_type": "stream",
     "text": [
      "[('Leyla', 'Kadin'), ('Mecnun', 'Erkek'), ('Juliet', 'Kadin'), ('Romeo', 'Erkek')]\n"
     ]
    }
   ],
   "source": [
    "print(list(G.nodes(data=ozellik)))"
   ]
  },
  {
   "cell_type": "code",
   "execution_count": 9,
   "metadata": {},
   "outputs": [
    {
     "data": {
      "text/plain": [
       "[('Leyla', 'Kadin'),\n",
       " ('Mecnun', 'Erkek'),\n",
       " ('Juliet', 'Kadin'),\n",
       " ('Romeo', 'Erkek')]"
      ]
     },
     "execution_count": 9,
     "metadata": {},
     "output_type": "execute_result"
    }
   ],
   "source": [
    "[(dugum, deger) for dugum, deger in G.nodes(data=ozellik)]"
   ]
  },
  {
   "cell_type": "markdown",
   "metadata": {},
   "source": [
    "#### Soru 1: Kadin Dugumleri Sec"
   ]
  },
  {
   "cell_type": "code",
   "execution_count": 10,
   "metadata": {},
   "outputs": [],
   "source": [
    "# [dugum for dugum, deger in G.nodes(data=ozellik) if deger == 'Kadin']"
   ]
  },
  {
   "cell_type": "markdown",
   "metadata": {},
   "source": [
    "### Baglanti Ozelliklerini Belirleme"
   ]
  },
  {
   "cell_type": "code",
   "execution_count": 11,
   "metadata": {},
   "outputs": [],
   "source": [
    "G.add_edge(\"Uzay\",\"Mecnun\", arkadas = True)\n",
    "G.add_edge(\"Uzay\",\"Romeo\", arkadas = True)\n",
    "G.add_edge(\"Romeo\",\"Mecnun\", arkadas = True)\n",
    "G.node['Uzay']['cinsiyet'] = 'Erkek'"
   ]
  },
  {
   "cell_type": "code",
   "execution_count": 12,
   "metadata": {},
   "outputs": [
    {
     "data": {
      "image/png": "[encoded data removed]",
      "text/plain": [
       "<matplotlib.figure.Figure at 0x115630c18>"
      ]
     },
     "metadata": {},
     "output_type": "display_data"
    }
   ],
   "source": [
    "nx.draw(G, node_size=1000, node_color='lightblue', with_labels=True)"
   ]
  },
  {
   "cell_type": "code",
   "execution_count": 13,
   "metadata": {},
   "outputs": [
    {
     "data": {
      "text/plain": [
       "{('Mecnun', 'Romeo'): True, ('Mecnun', 'Uzay'): True, ('Romeo', 'Uzay'): True}"
      ]
     },
     "execution_count": 13,
     "metadata": {},
     "output_type": "execute_result"
    }
   ],
   "source": [
    "nx.get_edge_attributes(G, 'arkadas')"
   ]
  },
  {
   "cell_type": "code",
   "execution_count": 14,
   "metadata": {},
   "outputs": [
    {
     "data": {
      "text/plain": [
       "{('Juliet', 'Romeo'): True, ('Leyla', 'Mecnun'): True}"
      ]
     },
     "execution_count": 14,
     "metadata": {},
     "output_type": "execute_result"
    }
   ],
   "source": [
    "G['Leyla']['Mecnun']['ask']= True\n",
    "G['Juliet']['Romeo']['ask']= True\n",
    "nx.get_edge_attributes(G, 'ask')"
   ]
  },
  {
   "cell_type": "code",
   "execution_count": 15,
   "metadata": {},
   "outputs": [
    {
     "data": {
      "text/plain": [
       "EdgeView([('Leyla', 'Mecnun'), ('Mecnun', 'Uzay'), ('Mecnun', 'Romeo'), ('Juliet', 'Romeo'), ('Romeo', 'Uzay')])"
      ]
     },
     "execution_count": 15,
     "metadata": {},
     "output_type": "execute_result"
    }
   ],
   "source": [
    "G.edges"
   ]
  },
  {
   "cell_type": "code",
   "execution_count": 16,
   "metadata": {},
   "outputs": [
    {
     "data": {
      "text/plain": [
       "EdgeDataView([('Leyla', 'Mecnun', {'ask': True}), ('Mecnun', 'Uzay', {'arkadas': True}), ('Mecnun', 'Romeo', {'arkadas': True}), ('Juliet', 'Romeo', {'ask': True}), ('Romeo', 'Uzay', {'arkadas': True})])"
      ]
     },
     "execution_count": 16,
     "metadata": {},
     "output_type": "execute_result"
    }
   ],
   "source": [
    "G.edges(data = True)"
   ]
  },
  {
   "cell_type": "code",
   "execution_count": 20,
   "metadata": {},
   "outputs": [
    {
     "name": "stdout",
     "output_type": "stream",
     "text": [
      "Leyla Mecnun {'ask': True}\n",
      "Mecnun Uzay {'arkadas': True}\n",
      "Mecnun Romeo {'arkadas': True}\n",
      "Juliet Romeo {'ask': True}\n",
      "Romeo Uzay {'arkadas': True}\n"
     ]
    }
   ],
   "source": [
    "for n1, n2, attr in G.edges(data=True): # unpacking\n",
    "        print(n1, n2, attr)"
   ]
  },
  {
   "cell_type": "code",
   "execution_count": 22,
   "metadata": {},
   "outputs": [
    {
     "name": "stdout",
     "output_type": "stream",
     "text": [
      "Leyla 1\n",
      "Mecnun 3\n",
      "Juliet 1\n",
      "Romeo 3\n",
      "Uzay 2\n"
     ]
    }
   ],
   "source": [
    "for node in G.nodes(): # or node in g.nodes_iter():\n",
    "    print(node, G.degree(node))"
   ]
  },
  {
   "cell_type": "markdown",
   "metadata": {},
   "source": [
    "#### Soru 2: Kimler Birbirine Asik?"
   ]
  },
  {
   "cell_type": "code",
   "execution_count": null,
   "metadata": {},
   "outputs": [],
   "source": [
    "#list(nx.get_edge_attributes(G, 'ask').keys())\n",
    "#list(nx.get_edge_attributes(G, 'arkadas').keys())"
   ]
  },
  {
   "cell_type": "markdown",
   "metadata": {},
   "source": [
    "## Detayli Cizim"
   ]
  },
  {
   "cell_type": "code",
   "execution_count": null,
   "metadata": {},
   "outputs": [],
   "source": [
    "pos_fr = nx.fruchterman_reingold_layout(G)\n",
    "pos_fr"
   ]
  },
  {
   "cell_type": "code",
   "execution_count": null,
   "metadata": {},
   "outputs": [],
   "source": [
    "nx.draw(G, pos=pos_fr, node_size=1000, node_color='lightblue', with_labels=True)"
   ]
  },
  {
   "cell_type": "markdown",
   "metadata": {},
   "source": [
    "### Kadin ve Erkekleri Secelim"
   ]
  },
  {
   "cell_type": "code",
   "execution_count": null,
   "metadata": {},
   "outputs": [],
   "source": [
    "kadinlar = {dugum for dugum, deger in G.nodes(data=ozellik) if deger == 'Kadin'}\n",
    "erkekler = set(G) - kadinlar\n",
    "print(kadinlar)\n",
    "print(erkekler)"
   ]
  },
  {
   "cell_type": "code",
   "execution_count": null,
   "metadata": {},
   "outputs": [],
   "source": [
    "plt.figure(figsize=(10,10))\n",
    "# Plot nodes\n",
    "nx.draw_networkx_nodes(G, pos=pos_fr, nodelist=kadinlar, node_size=2000, node_color='pink')\n",
    "nx.draw_networkx_nodes(G, pos=pos_fr, nodelist=erkekler, node_size=1000, node_color='lightblue')\n",
    "# Plot node labels\n",
    "nx.draw_networkx_labels(G, pos=pos_fr)\n",
    "# Remove axes\n",
    "ax = plt.gca()\n",
    "ax.set_axis_off()"
   ]
  },
  {
   "cell_type": "markdown",
   "metadata": {},
   "source": [
    "### Ask ve Arkadaslik iliskilerini Belirleyelim"
   ]
  },
  {
   "cell_type": "code",
   "execution_count": null,
   "metadata": {},
   "outputs": [],
   "source": [
    "asik = list(nx.get_edge_attributes(G, 'ask').keys())\n",
    "arkadas = list(nx.get_edge_attributes(G, 'arkadas').keys())"
   ]
  },
  {
   "cell_type": "code",
   "execution_count": null,
   "metadata": {},
   "outputs": [],
   "source": [
    "asik"
   ]
  },
  {
   "cell_type": "code",
   "execution_count": null,
   "metadata": {},
   "outputs": [],
   "source": [
    "plt.figure(figsize=(10,10))\n",
    "# Plot nodes\n",
    "nx.draw_networkx_nodes(G, pos=pos_fr, nodelist=kadinlar, node_size=2000, node_color='pink')\n",
    "nx.draw_networkx_nodes(G, pos=pos_fr, nodelist=erkekler, node_size=1000, node_color='lightblue')\n",
    "# Plot node labels\n",
    "nx.draw_networkx_labels(G, pos=pos_fr)\n",
    "# Plot edges \n",
    "nx.draw_networkx_edges(G, pos=pos_fr, edgelist=asik, width=5, edge_color='red')\n",
    "nx.draw_networkx_edges(G, pos=pos_fr, edge_list=arkadas, edge_color='green')\n",
    "# Remove axes\n",
    "ax = plt.gca()\n",
    "ax.set_axis_off()"
   ]
  },
  {
   "cell_type": "markdown",
   "metadata": {},
   "source": [
    "#### Soru3: Bu iliskinin adini koyalim\n",
    "Her cift dugumu anahtar (key) kabul eden, iliski adini deger (value) olarak belirleyen bir sozluk (dictionary) yazalim."
   ]
  },
  {
   "cell_type": "code",
   "execution_count": null,
   "metadata": {},
   "outputs": [],
   "source": [
    "iliskiler = {}\n",
    "for cift in asik:\n",
    "    iliskiler[cift] = 'asik'\n",
    "for cift in arkadas:\n",
    "    iliskiler[cift] = 'arkadas'\n",
    "iliskiler"
   ]
  },
  {
   "cell_type": "code",
   "execution_count": null,
   "metadata": {},
   "outputs": [],
   "source": [
    "plt.figure(figsize=(10,10))\n",
    "# Plot nodes\n",
    "nx.draw_networkx_nodes(G, alpha = 0.7, pos=pos_fr, nodelist=kadinlar, node_size=2000, node_color='pink')\n",
    "nx.draw_networkx_nodes(G, alpha = 0.7, pos=pos_fr, nodelist=erkekler, node_size=1000, node_color='lightblue')\n",
    "# Plot node labels\n",
    "nx.draw_networkx_labels(G, pos=pos_fr)\n",
    "# Plot edges \n",
    "nx.draw_networkx_edges(G, pos=pos_fr, edgelist=asik, width=5, edge_color='red')\n",
    "nx.draw_networkx_edges(G, pos=pos_fr, edge_list=arkadas, edge_color='green')\n",
    "# Plot edge labels\n",
    "nx.draw_networkx_edge_labels(G, pos=pos_fr, edge_labels=iliskiler)\n",
    "plt.tight_layout()\n",
    "# Remove axes\n",
    "ax = plt.gca()\n",
    "ax.set_axis_off()"
   ]
  },
  {
   "cell_type": "code",
   "execution_count": null,
   "metadata": {},
   "outputs": [],
   "source": [
    "print(nx.info(G))"
   ]
  },
  {
   "cell_type": "code",
   "execution_count": null,
   "metadata": {},
   "outputs": [],
   "source": [
    "# Let's get a list of nodes with their attributes.\n",
    "dict(G.nodes(data=True))"
   ]
  },
  {
   "cell_type": "code",
   "execution_count": null,
   "metadata": {},
   "outputs": [],
   "source": [
    "from nxviz import MatrixPlot\n",
    "\n",
    "m = MatrixPlot(G)\n",
    "m.draw()"
   ]
  },
  {
   "cell_type": "code",
   "execution_count": null,
   "metadata": {},
   "outputs": [],
   "source": [
    "from nxviz import CircosPlot\n",
    "\n",
    "c = CircosPlot(G, node_color='cinsiyet', node_grouping='cinsiyet')\n",
    "c.draw()"
   ]
  },
  {
   "cell_type": "code",
   "execution_count": null,
   "metadata": {},
   "outputs": [],
   "source": [
    "# Farkli layout'lar\n",
    "[lay for lay in nx.__dir__() if lay.endswith('_layout')]"
   ]
  },
  {
   "cell_type": "markdown",
   "metadata": {},
   "source": [
    "## Summary\n",
    "\n",
    "https://github.com/MaxPoon/coursera-Applied-Data-Science-with-Python/tree/master/Applied-Social-Network-Analysis-In-Python/week1\n",
    "\n",
    "https://nikoleta-v3.github.io/blog/2017/10/19/python-graphs-got.html\n",
    "\n",
    "https://www.coursera.org/learn/python-social-network-analysis/home/week/3\n",
    "\n",
    "Many complex structures can be modeled through networks. We can give examples from social networks from biology networks, transportation networks, and so on. \n",
    "\n",
    "<img src=\"Figures/networkx1.png\" alt=\"Kaynak:https://www.coursera.org/learn/python-social-network-analysis/lecture/oQ60i/network-definition-and-vocabulary\" width=700 height=600>\n",
    "\n",
    "<img src=\"Figures/networkx2.png\" alt=\"Kaynak:https://www.coursera.org/learn/python-social-network-analysis/lecture/oQ60i/network-definition-and-vocabulary\" width=700 height=600>\n",
    "\n",
    "<img src=\"Figures/networkx3.png\" alt=\"Kaynak:https://www.coursera.org/learn/python-social-network-analysis/lecture/oQ60i/network-definition-and-vocabulary\" width=700 height=600>"
   ]
  },
  {
   "cell_type": "code",
   "execution_count": null,
   "metadata": {},
   "outputs": [],
   "source": []
  }
 ],
 "metadata": {
  "kernelspec": {
   "display_name": "Python 3",
   "language": "python",
   "name": "python3"
  },
  "language_info": {
   "codemirror_mode": {
    "name": "ipython",
    "version": 3
   },
   "file_extension": ".py",
   "mimetype": "text/x-python",
   "name": "python",
   "nbconvert_exporter": "python",
   "pygments_lexer": "ipython3",
   "version": "3.6.4"
  }
 },
 "nbformat": 4,
 "nbformat_minor": 2
}
