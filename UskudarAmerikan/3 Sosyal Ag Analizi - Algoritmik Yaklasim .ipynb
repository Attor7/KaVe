{
 "cells": [
  {
   "cell_type": "markdown",
   "metadata": {},
   "source": [
    "# Sosyal Ag Analizi III - Algoritmik Yaklasim \n",
    "\n",
    "> Bu calisma Uzay Cetin tarafindan, Uskudar Amerikan Lisesi CodeFest 2018 (https://www.codefesttr.org) icin hazirlanmistir. \n",
    "\n",
    "NetworkX version: 2.0 gereklidir.\n",
    "\n",
    "---\n",
    "\n",
    "Su sorulara cevap vermek istiyoruz\n",
    "\n",
    " - Networkte bir mesajin/virusun yayilmasi ne kadar surer?\n",
    " - A'dan B'ye en kisa yol nedir?\n",
    " \n",
    "## Breadth First Search Algoritmasi\n",
    " \n",
    "<video controls src=\"https://algs4.cs.princeton.edu/lectures/41DemoBreadthFirstSearch.mov\" />"
   ]
  },
  {
   "cell_type": "code",
   "execution_count": 1,
   "metadata": {},
   "outputs": [],
   "source": [
    "import warnings\n",
    "warnings.filterwarnings('ignore')\n",
    "\n",
    "import networkx as nx\n",
    "import matplotlib.pyplot as plt\n",
    "%matplotlib inline"
   ]
  },
  {
   "cell_type": "code",
   "execution_count": 2,
   "metadata": {},
   "outputs": [
    {
     "data": {
      "image/png": "[encoded data removed]",
      "text/plain": [
       "<matplotlib.figure.Figure at 0x113758588>"
      ]
     },
     "metadata": {},
     "output_type": "display_data"
    }
   ],
   "source": [
    "G = nx.Graph() # empty graph\n",
    "G.add_edge(\"Leyla\",\"Mecnun\")\n",
    "G.add_edge(\"Juliet\",\"Romeo\")\n",
    "G.add_edge(\"Uzay\",\"Mecnun\")\n",
    "G.add_edge(\"Uzay\",\"Romeo\")\n",
    "G.add_edge(\"Romeo\",\"Mecnun\")\n",
    "\n",
    "nx.draw(G, node_size=1000, node_color='lightblue', with_labels=True)"
   ]
  },
  {
   "cell_type": "code",
   "execution_count": 3,
   "metadata": {},
   "outputs": [
    {
     "name": "stdout",
     "output_type": "stream",
     "text": [
      "Name: \n",
      "Type: Graph\n",
      "Number of nodes: 5\n",
      "Number of edges: 5\n",
      "Average degree:   2.0000\n"
     ]
    }
   ],
   "source": [
    "print(nx.info(G))"
   ]
  },
  {
   "cell_type": "code",
   "execution_count": 3,
   "metadata": {},
   "outputs": [],
   "source": [
    "from queue import *\n",
    "\n",
    "def BFS(bas, G):\n",
    "    goruldu = set()\n",
    "    nerden_geldim = dict()\n",
    "    kuyruk = Queue()\n",
    "    kuyruk.put(bas)\n",
    "    \n",
    "    while not kuyruk.empty():\n",
    "        orta = kuyruk.get()\n",
    "        goruldu.add(orta)\n",
    "        komsular = list(G.neighbors(orta))\n",
    "        \n",
    "        for n in komsular:\n",
    "            if n not in goruldu:\n",
    "                kuyruk.put(n)   \n",
    "                nerden_geldim[n] = orta\n",
    "    return nerden_geldim"
   ]
  },
  {
   "cell_type": "code",
   "execution_count": 4,
   "metadata": {},
   "outputs": [
    {
     "data": {
      "text/plain": [
       "{'Juliet': 'Romeo', 'Leyla': 'Mecnun', 'Mecnun': 'Uzay', 'Romeo': 'Mecnun'}"
      ]
     },
     "execution_count": 4,
     "metadata": {},
     "output_type": "execute_result"
    }
   ],
   "source": [
    "BFS('Uzay', G)"
   ]
  },
  {
   "cell_type": "markdown",
   "metadata": {},
   "source": [
    "## Sorular\n",
    "\n",
    " - Uzay'dan Juliet'e yol var mi?\n",
    " - Yolu yazar misiniz?"
   ]
  },
  {
   "cell_type": "code",
   "execution_count": 5,
   "metadata": {},
   "outputs": [
    {
     "data": {
      "text/plain": [
       "{'Juliet': 'Romeo', 'Mecnun': 'Leyla', 'Romeo': 'Uzay', 'Uzay': 'Mecnun'}"
      ]
     },
     "execution_count": 5,
     "metadata": {},
     "output_type": "execute_result"
    }
   ],
   "source": [
    "nerden_geldim = BFS('Leyla', G)\n",
    "nerden_geldim"
   ]
  },
  {
   "cell_type": "code",
   "execution_count": 6,
   "metadata": {},
   "outputs": [
    {
     "data": {
      "text/plain": [
       "'Leyla'"
      ]
     },
     "execution_count": 6,
     "metadata": {},
     "output_type": "execute_result"
    }
   ],
   "source": [
    "# 'Mecnun'a 'Leyla'dan geldim\n",
    "nerden_geldim['Mecnun']"
   ]
  },
  {
   "cell_type": "code",
   "execution_count": null,
   "metadata": {},
   "outputs": [],
   "source": []
  }
 ],
 "metadata": {
  "kernelspec": {
   "display_name": "Python 3",
   "language": "python",
   "name": "python3"
  },
  "language_info": {
   "codemirror_mode": {
    "name": "ipython",
    "version": 3
   },
   "file_extension": ".py",
   "mimetype": "text/x-python",
   "name": "python",
   "nbconvert_exporter": "python",
   "pygments_lexer": "ipython3",
   "version": "3.6.4"
  }
 },
 "nbformat": 4,
 "nbformat_minor": 2
}
