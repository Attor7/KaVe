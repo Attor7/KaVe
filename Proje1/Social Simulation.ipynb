{
 "cells": [
  {
   "cell_type": "markdown",
   "metadata": {},
   "source": [
    "## Modeling Spread of Disease/Innovation\n",
    "\n",
    "- M : population size\n",
    "- I: infected people\n",
    "- M-I : susceptible\n",
    "- k : probabability of spreading when one infected encounters with a susceptible\n",
    "\n",
    "M = 200, k = 0.1, I[0] = 2, dt = 0.005\n",
    "\n",
    "$$\n",
    "\\frac{dI}{dt} = k(M-I)I\n",
    "$$"
   ]
  },
  {
   "cell_type": "code",
   "execution_count": 2,
   "metadata": {},
   "outputs": [
    {
     "data": {
      "text/plain": [
       "<matplotlib.legend.Legend at 0x117d32fd0>"
      ]
     },
     "execution_count": 2,
     "metadata": {},
     "output_type": "execute_result"
    },
    {
     "data": {
      "image/png": "[encoded data removed]",
      "text/plain": [
       "<matplotlib.figure.Figure at 0x1170ed3c8>"
      ]
     },
     "metadata": {},
     "output_type": "display_data"
    }
   ],
   "source": [
    "import numpy as np\n",
    "import matplotlib.pyplot as plt\n",
    "%matplotlib inline\n",
    "\n",
    "k = 0.075\n",
    "M = 100\n",
    "dt = 0.01\n",
    "zaman = np.arange(0, 1.1, dt)\n",
    "\n",
    "I = [1];\n",
    "for t in range(len(zaman)):\n",
    "    dI = k * (M - I[t]) * I[t] * dt    \n",
    "    yeniI = I[t] + dI\n",
    "    I.append(yeniI)\n",
    "\n",
    "plt.figure(figsize=(12,8))\n",
    "plt.plot(I,'g-',markersize=10)\n",
    "plt.grid(True) \n",
    "plt.ylabel('Hastalık Yayılım Modeli'); \n",
    "plt.xlabel('t')\n",
    "plt.legend([r'$\\frac{dI}{dt} = k (M- I) I$'], shadow=True, fancybox=True)"
   ]
  },
  {
   "cell_type": "markdown",
   "metadata": {},
   "source": [
    "## The love of Romeo and Juliet\n",
    "\n",
    "When Juliet's love increases, Romeo's love decrease!! \n",
    "$$\n",
    "\\frac{dR}{dt} = aJ\n",
    "$$\n",
    "\n",
    "When Romeo's love increases, Juliet's love decrease!!\n",
    "$$\n",
    "\\frac{dJ}{dt} = -bR\n",
    "$$"
   ]
  },
  {
   "cell_type": "code",
   "execution_count": 1,
   "metadata": {},
   "outputs": [],
   "source": [
    "a, b = 1, 2\n",
    "R = [1] # 1: Romeo loves Juliet\n",
    "J = [-1] # -1 : Juliet hates Romeo\n",
    "dt = 0.01"
   ]
  },
  {
   "cell_type": "code",
   "execution_count": null,
   "metadata": {},
   "outputs": [],
   "source": []
  },
  {
   "cell_type": "markdown",
   "metadata": {},
   "source": [
    "# Social Simulation\n",
    "\n",
    "Jose Ortega y Gasset\n",
    "> I am I and my circumstances.\" \n",
    "\n",
    "\n",
    "Oscar Wilde\n",
    ">Most people are other people. Their thoughts are someone else's opinions,\n",
    "their lives a mimicry, their passions a quotation.\"\n",
    "\n",
    "\n",
    "### A simple model of economy\n",
    "Let's first think about a simple model of economy in which agents exchange money at random with each other.\n",
    "\n",
    "- Say initially each agent has a wealth of 500 dollars. \n",
    "- Simulation runs over discrete time steps. \n",
    "- At each tick, agents with non-zero wealth give one dollar to a random agent. \n",
    "\n",
    "What would be the resulting wealth distribution? There is a NetLogo model for\n",
    "this setting. If we run it, we interestingly obtain a power-law distribution which\n",
    "corresponds to a great inequality in wealth. \n",
    "\n",
    "Actually, one can modify the model such that agents with negative wealth can also give money to others. By doing so, you remove one type of barrier for interaction and then power-law distribution disappears.\n",
    "Again we witness how interaction structure generates the behavior."
   ]
  },
  {
   "cell_type": "code",
   "execution_count": 2,
   "metadata": {
    "collapsed": true
   },
   "outputs": [],
   "source": [
    "from random import randint\n",
    "\n",
    "randint?"
   ]
  },
  {
   "cell_type": "code",
   "execution_count": 3,
   "metadata": {
    "collapsed": true
   },
   "outputs": [],
   "source": [
    "class ecoman():\n",
    "    \"\"\"Ecoman is an economic agent!\"\"\"\n",
    "    def __init__(self, ID, money = 5):\n",
    "        self.ID = ID\n",
    "        self.money = money\n",
    "    def give(self):\n",
    "        self.money = self.money - 1\n",
    "    def take(self):\n",
    "        self.money = self.money + 1 \n",
    "    def budget(self):\n",
    "        return self.money\n",
    "        \n",
    "class ecomania():\n",
    "    \"\"\"A Simple Model of Economy\"\"\"\n",
    "    def __init__(self, N = 10):\n",
    "        self.N = N\n",
    "        self.ecomen = [ecoman(i) for i in range(self.N)]\n",
    "        \n",
    "    def exchange(self):\n",
    "        # Select two random ecoman, A:giver and B:taker\n",
    "        A, B = self.ecomen[randint(0, self.N-1)], self.ecomen[randint(0, self.N-1)]\n",
    "        if A.budget() > 0:\n",
    "            A.give()\n",
    "            B.take()\n",
    "        \n",
    "    def budgets(self):\n",
    "        return [man.budget() for man in self.ecomen]\n",
    "    \n",
    "    def describe(self):\n",
    "        for i in range(self.N):\n",
    "            A = self.ecomen[i]\n",
    "            print(\"Ecoman \", A.ID, \"has \", A.budget(), \" dollar\")\n",
    "    "
   ]
  },
  {
   "cell_type": "code",
   "execution_count": 4,
   "metadata": {},
   "outputs": [
    {
     "name": "stdout",
     "output_type": "stream",
     "text": [
      "Ecoman  0 has  5  dollar\n",
      "Ecoman  1 has  5  dollar\n",
      "Ecoman  2 has  5  dollar\n",
      "Ecoman  3 has  5  dollar\n",
      "Ecoman  4 has  5  dollar\n",
      "Ecoman  5 has  5  dollar\n",
      "Ecoman  6 has  5  dollar\n",
      "Ecoman  7 has  5  dollar\n",
      "Ecoman  8 has  5  dollar\n",
      "Ecoman  9 has  5  dollar\n"
     ]
    }
   ],
   "source": [
    "world = ecomania()\n",
    "world.describe()"
   ]
  },
  {
   "cell_type": "code",
   "execution_count": 5,
   "metadata": {},
   "outputs": [
    {
     "name": "stdout",
     "output_type": "stream",
     "text": [
      "Ecoman  0 has  5  dollar\n",
      "Ecoman  1 has  5  dollar\n",
      "Ecoman  2 has  5  dollar\n",
      "Ecoman  3 has  5  dollar\n",
      "Ecoman  4 has  5  dollar\n",
      "Ecoman  5 has  5  dollar\n",
      "Ecoman  6 has  6  dollar\n",
      "Ecoman  7 has  5  dollar\n",
      "Ecoman  8 has  4  dollar\n",
      "Ecoman  9 has  5  dollar\n"
     ]
    }
   ],
   "source": [
    "world.exchange()\n",
    "world.describe()"
   ]
  },
  {
   "cell_type": "code",
   "execution_count": 6,
   "metadata": {},
   "outputs": [
    {
     "data": {
      "text/plain": [
       "[5, 5, 5, 5, 5, 5, 6, 5, 4, 5]"
      ]
     },
     "execution_count": 6,
     "metadata": {},
     "output_type": "execute_result"
    }
   ],
   "source": [
    "world.budgets()"
   ]
  },
  {
   "cell_type": "code",
   "execution_count": 7,
   "metadata": {},
   "outputs": [
    {
     "data": {
      "text/plain": [
       "[0, 0, 0, 0, 0, 0, 0, 0, 0, 0, 0, 0, 0, 0, 0, 0, 0, 0, 1, 1]"
      ]
     },
     "execution_count": 7,
     "metadata": {},
     "output_type": "execute_result"
    }
   ],
   "source": [
    "world = ecomania(N = 100)\n",
    "def runTheWorld():\n",
    "    for time in range(1000000):\n",
    "        world.exchange()\n",
    "\n",
    "runTheWorld()\n",
    "sorted(world.budgets())[:20]    "
   ]
  },
  {
   "cell_type": "code",
   "execution_count": 8,
   "metadata": {},
   "outputs": [
    {
     "data": {
      "text/plain": [
       "<matplotlib.text.Text at 0x11180eda0>"
      ]
     },
     "execution_count": 8,
     "metadata": {},
     "output_type": "execute_result"
    },
    {
     "data": {
      "image/png": "[encoded data removed]",
      "text/plain": [
       "<matplotlib.figure.Figure at 0x111762b70>"
      ]
     },
     "metadata": {},
     "output_type": "display_data"
    }
   ],
   "source": [
    "import matplotlib.pyplot as plt\n",
    "%matplotlib inline\n",
    "\n",
    "plt.plot(sorted(world.budgets()))\n",
    "plt.xlabel('ID'); plt.ylabel('Budget')"
   ]
  },
  {
   "cell_type": "code",
   "execution_count": 9,
   "metadata": {},
   "outputs": [
    {
     "data": {
      "text/plain": [
       "(array([ 44.,  19.,  17.,   5.,  10.,   1.,   1.,   2.,   0.,   1.]),\n",
       " array([  0. ,   2.7,   5.4,   8.1,  10.8,  13.5,  16.2,  18.9,  21.6,\n",
       "         24.3,  27. ]),\n",
       " <a list of 10 Patch objects>)"
      ]
     },
     "execution_count": 9,
     "metadata": {},
     "output_type": "execute_result"
    },
    {
     "data": {
      "image/png": "[encoded data removed]",
      "text/plain": [
       "<matplotlib.figure.Figure at 0x107108b00>"
      ]
     },
     "metadata": {},
     "output_type": "display_data"
    }
   ],
   "source": [
    "plt.hist(world.budgets())"
   ]
  },
  {
   "cell_type": "markdown",
   "metadata": {},
   "source": [
    "### Cultural Model\n",
    "\n",
    "We considered economy as a simple process of spreading money within a society.\n",
    "For sure, when an agent gives money to another, the giver loses its money. This\n",
    "is the case for material things. \n",
    "\n",
    "> What if agents exchange non-material things such\n",
    "as information, beliefs or cultural features? How we can model the dynamics of a\n",
    "culture? \n",
    "\n",
    "Another model by Robert Axelrod who has known for his in\n",
    "uential work on cooperation can help us. In his work on the dissemination of culture, \n",
    " - each agent is represented by a string of features and is located on a grid. \n",
    " - Agents follow the homophily principle for interaction. \n",
    " - The interaction probability is a function of similarity. \n",
    "\n",
    "As an example, consider two agents 12345 and 87645 which are similar only\n",
    "in the last two positions out of five positions in their representations. Their interaction\n",
    "probability is then 2/5 = 0.4. \n",
    "\n",
    "- If the interaction probability is not zero between two local neighbors, one of the agent adopts a non-matching feature of the other. \n",
    "\n",
    "> As a result, more similar agents interact more and then become even more similar. As a\n",
    "side effect, less similar agents become even more dissimilar and as simulation iterates\n",
    "impassable group boundaries come to form. \n",
    "\n",
    "Regions with different cultures emerge.\n",
    "Interestingly interaction structure depending on similarity, creates polarization on the\n",
    "macro level. \n",
    "\n",
    "> Once again we witness how micro-motives and macro-behavior fail to\n",
    "align, in an agent-based model."
   ]
  },
  {
   "cell_type": "code",
   "execution_count": 40,
   "metadata": {
    "collapsed": true
   },
   "outputs": [],
   "source": [
    "from random import randint\n",
    "\n",
    "class socialMan():\n",
    "    \"\"\"socialMan is a social agent, that exchanges information!\n",
    "    idea = 0, means agent does not have any idea\n",
    "    idea = 1, means agent have an idea\n",
    "    \"\"\"\n",
    "    def __init__(self, ID, idea = 0):\n",
    "        self.ID = ID\n",
    "        self.idea = idea\n",
    "    def give(self):\n",
    "        return self.getIdea()\n",
    "    def take(self, new_idea):\n",
    "        if(self.idea == 0):\n",
    "            self.idea = new_idea\n",
    "    def getIdea(self):\n",
    "        return self.idea\n",
    "        \n",
    "class socialWorld():\n",
    "    \"\"\"A Simple Model of Economy\"\"\"\n",
    "    def __init__(self, N = 10):\n",
    "        self.N = N\n",
    "        self.socialMen = [socialMan(i) for i in range(self.N)]\n",
    "        # Initially, only one agent has an idea\n",
    "        self.socialMen[0].take(1)\n",
    "        \n",
    "    def exchange(self):\n",
    "        # Select two random socialMan, A:giver and B:taker\n",
    "        A, B = self.socialMen[randint(0, self.N-1)], self.socialMen[randint(0, self.N-1)]\n",
    "        if A.getIdea() == 1:\n",
    "            B.take(A.give())\n",
    "        \n",
    "    def ideas(self):\n",
    "        return [man.getIdea() for man in self.socialMen]\n",
    "    \n",
    "    def describe(self):\n",
    "        for i in range(self.N):\n",
    "            A = self.socialMen[i]\n",
    "            print(\"socialMan \", \"has \", A.getIdea(), \" idea\")\n",
    "  "
   ]
  },
  {
   "cell_type": "code",
   "execution_count": 41,
   "metadata": {},
   "outputs": [
    {
     "name": "stdout",
     "output_type": "stream",
     "text": [
      "socialMan  has  1  idea\n",
      "socialMan  has  0  idea\n",
      "socialMan  has  0  idea\n",
      "socialMan  has  0  idea\n",
      "socialMan  has  0  idea\n",
      "socialMan  has  0  idea\n",
      "socialMan  has  0  idea\n",
      "socialMan  has  0  idea\n",
      "socialMan  has  0  idea\n",
      "socialMan  has  0  idea\n"
     ]
    }
   ],
   "source": [
    "world = socialWorld()\n",
    "world.describe()"
   ]
  },
  {
   "cell_type": "code",
   "execution_count": 42,
   "metadata": {
    "collapsed": true
   },
   "outputs": [],
   "source": [
    "s = socialMan(3) "
   ]
  },
  {
   "cell_type": "code",
   "execution_count": 43,
   "metadata": {},
   "outputs": [
    {
     "data": {
      "text/plain": [
       "0"
      ]
     },
     "execution_count": 43,
     "metadata": {},
     "output_type": "execute_result"
    }
   ],
   "source": [
    "s.getIdea()"
   ]
  },
  {
   "cell_type": "code",
   "execution_count": 51,
   "metadata": {
    "collapsed": true
   },
   "outputs": [],
   "source": [
    "world = socialWorld(N = 100)\n",
    "time = 2000\n",
    "adopters = [0] * time\n",
    "def runTheWorld():\n",
    "    for t in range(time):\n",
    "        world.exchange()\n",
    "        adopters[t] = sum(world.ideas())\n",
    "\n",
    "runTheWorld()"
   ]
  },
  {
   "cell_type": "code",
   "execution_count": 52,
   "metadata": {},
   "outputs": [
    {
     "data": {
      "text/plain": [
       "<matplotlib.text.Text at 0x1121a1a90>"
      ]
     },
     "execution_count": 52,
     "metadata": {},
     "output_type": "execute_result"
    },
    {
     "data": {
      "image/png": "[encoded data removed]",
      "text/plain": [
       "<matplotlib.figure.Figure at 0x111a8bac8>"
      ]
     },
     "metadata": {},
     "output_type": "display_data"
    }
   ],
   "source": [
    "import matplotlib.pyplot as plt\n",
    "%matplotlib inline\n",
    "\n",
    "plt.plot(adopters)\n",
    "plt.xlabel('ID'); plt.ylabel('Budget')"
   ]
  },
  {
   "cell_type": "markdown",
   "metadata": {
    "collapsed": true
   },
   "source": [
    "## From social simulation to optimization\n",
    " - Immitation of others >> unanimity\n",
    " - Immitation of similars >> polarization\n",
    " - Immitation of betters >> optimization"
   ]
  },
  {
   "cell_type": "code",
   "execution_count": null,
   "metadata": {
    "collapsed": true
   },
   "outputs": [],
   "source": []
  }
 ],
 "metadata": {
  "kernelspec": {
   "display_name": "Python 3",
   "language": "python",
   "name": "python3"
  },
  "language_info": {
   "codemirror_mode": {
    "name": "ipython",
    "version": 3
   },
   "file_extension": ".py",
   "mimetype": "text/x-python",
   "name": "python",
   "nbconvert_exporter": "python",
   "pygments_lexer": "ipython3",
   "version": "3.6.4"
  }
 },
 "nbformat": 4,
 "nbformat_minor": 2
}
