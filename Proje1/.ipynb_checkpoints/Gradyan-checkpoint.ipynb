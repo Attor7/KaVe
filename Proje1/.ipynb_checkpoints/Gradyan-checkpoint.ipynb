{
 "cells": [
  {
   "cell_type": "markdown",
   "metadata": {},
   "source": [
    "## Gradyan Inise Hazirlik\n",
    "Basit bir fonksiyon icin gradyan inis algoritmasini yazalim. Bunu daha cok python ile programlamaya giris olarak gormekte fayda var. Daha sonra gradyan inisin gercek verilerle kullanacagiz ve diger yapay ogrenme algoritmalarina nasil temel olusturudguna bakacagiz. \n",
    "\n",
    "Yapay Öğrenme, bir anlamda optimizasyon problemidir.\n",
    " - [Part 1](https://ml.berkeley.edu/blog/2016/11/06/tutorial-1/) The basics of machine learning - regression, cost functions, and gradient descent.\n",
    " - [Örnek](https://uzay00.github.io/kahve/dersler/yapayzeka/ders7/programlama.html) Ekte R dili ile $Hata(\\theta) = \\theta^2 + 5$ fonksiyonunu minimum yapan $\\theta$ değeri gradyan iniş ile bulunuyor. \n",
    " \n",
    " \n",
    " > Biz de python ile $Hata(w) = (w-3)^2 + 5$ fonksiyonunu minimum yapan $w$ değerini gradyan iniş ile bulalim.\n",
    " \n",
    " \n"
   ]
  },
  {
   "cell_type": "code",
   "execution_count": 8,
   "metadata": {},
   "outputs": [],
   "source": [
    "import numpy as np\n",
    "import matplotlib.pyplot as plt\n",
    "%matplotlib inline "
   ]
  },
  {
   "cell_type": "code",
   "execution_count": null,
   "metadata": {},
   "outputs": [],
   "source": [
    "def Hata(w):\n",
    "    return (w-3)**2)+5\n",
    "def turev(w):\n",
    "    return 2*(w-3)\n",
    "\n",
    "def gradyan_inis(w = 0, alpha = 0.025, dongu = 20)\n",
    "    W = [0]*dongu\n",
    "    for i in range(dongu):\n",
    "        w = w - alpha * turev(w)\n",
    "        W[i] = w\n",
    "    return(th)\n"
   ]
  },
  {
   "cell_type": "code",
   "execution_count": 3,
   "metadata": {},
   "outputs": [
    {
     "data": {
      "text/plain": [
       "array([25, 16])"
      ]
     },
     "execution_count": 3,
     "metadata": {},
     "output_type": "execute_result"
    }
   ],
   "source": [
    "\n",
    "w = np.array([5, 4])\n",
    "w**2"
   ]
  },
  {
   "cell_type": "code",
   "execution_count": null,
   "metadata": {},
   "outputs": [],
   "source": []
  }
 ],
 "metadata": {
  "kernelspec": {
   "display_name": "Python 3",
   "language": "python",
   "name": "python3"
  },
  "language_info": {
   "codemirror_mode": {
    "name": "ipython",
    "version": 3
   },
   "file_extension": ".py",
   "mimetype": "text/x-python",
   "name": "python",
   "nbconvert_exporter": "python",
   "pygments_lexer": "ipython3",
   "version": "3.6.4"
  }
 },
 "nbformat": 4,
 "nbformat_minor": 2
}
