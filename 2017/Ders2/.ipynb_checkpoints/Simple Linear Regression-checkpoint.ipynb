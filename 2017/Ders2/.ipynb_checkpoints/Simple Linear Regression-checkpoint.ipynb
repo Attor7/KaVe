{
 "cells": [
  {
   "cell_type": "markdown",
   "metadata": {},
   "source": [
    "## Simple Linear Regression with Scikit-Learn\n",
    "\n",
    "y = w0*x0 + w1 * x1\n",
    "\n",
    " - w0: constant\n",
    " - w1: coefficient\n",
    " - x0: 1\n",
    " - x1: independent variable\n",
    " - y : dependent variable\n",
    " \n",
    "##### Which (w0,w1) minimizes $\\sum(y-a)^2$\n",
    "\n",
    " - Following data is taken from https://www.superdatascience.com/machine-learning/"
   ]
  },
  {
   "cell_type": "code",
   "execution_count": 134,
   "metadata": {},
   "outputs": [
    {
     "data": {
      "image/png": "[encoded data removed]",
      "text/plain": [
       "<matplotlib.figure.Figure at 0x115b732b0>"
      ]
     },
     "metadata": {},
     "output_type": "display_data"
    }
   ],
   "source": [
    "# Importing the libraries\n",
    "import numpy as np\n",
    "import matplotlib.pyplot as plt\n",
    "%matplotlib inline  \n",
    "import pandas as pd\n",
    "from sklearn.cross_validation import train_test_split\n",
    "from sklearn.linear_model import LinearRegression\n",
    "\n",
    "# Importing the dataset\n",
    "filename = 'data/ex1data1.txt'\n",
    "#filename ='data/Salary_Data.csv'\n",
    "data = pd.read_csv(filename)\n",
    "X = data.iloc[:, :-1].values\n",
    "y = data.iloc[:, -1].values\n",
    "\n",
    "# Split dataset into train ab=nd test sets\n",
    "X_train, X_test, y_train, t_test = train_test_split(X,y,test_size = 1/3, random_state = 0)\n",
    "\n",
    "# fit simple linear regression model to the data\n",
    "lr = LinearRegression()\n",
    "lr.fit(X_train, y_train)\n",
    "# make predicitions\n",
    "y_pred = lr.predict(X_test)\n",
    "\n",
    "# Plot\n",
    "plt.scatter(X_train, y_train, color = 'red')\n",
    "plt.plot(X_train, lr.predict(X_train))\n",
    "#plt.title('Experience vs Salary'); plt.xlabel('Years of Experience');plt.ylabel('Salary');\n",
    "plt.xlabel('Population of City in 10,000s');plt.ylabel('Profit in $10,000s');\n",
    "plt.grid()"
   ]
  },
  {
   "cell_type": "code",
   "execution_count": 135,
   "metadata": {},
   "outputs": [
    {
     "data": {
      "text/plain": [
       "(-3.8162942377827136, array([ 1.16439258]))"
      ]
     },
     "execution_count": 135,
     "metadata": {},
     "output_type": "execute_result"
    }
   ],
   "source": [
    "lr.intercept_, lr.coef_"
   ]
  },
  {
   "cell_type": "markdown",
   "metadata": {},
   "source": [
    "## Our own simple linear regression\n",
    " - https://github.com/uzay00/Coursera-Machine-Learning\n"
   ]
  },
  {
   "cell_type": "code",
   "execution_count": 136,
   "metadata": {},
   "outputs": [
    {
     "data": {
      "text/plain": [
       "(2, 96)"
      ]
     },
     "execution_count": 136,
     "metadata": {},
     "output_type": "execute_result"
    }
   ],
   "source": [
    "X = np.hstack((np.ones((X.shape)), X)) # add 1 column to data\n",
    "X = X.T\n",
    "X.shape"
   ]
  },
  {
   "cell_type": "code",
   "execution_count": 137,
   "metadata": {},
   "outputs": [
    {
     "data": {
      "text/plain": [
       "array([[ 1.    ,  1.    ,  1.    ,  1.    ,  1.    ],\n",
       "       [ 5.5277,  8.5186,  7.0032,  5.8598,  8.3829]])"
      ]
     },
     "execution_count": 137,
     "metadata": {},
     "output_type": "execute_result"
    }
   ],
   "source": [
    "X[:,:5] # look first 5 observations"
   ]
  },
  {
   "cell_type": "code",
   "execution_count": 138,
   "metadata": {
    "collapsed": true
   },
   "outputs": [],
   "source": [
    "def computeCost(X, y, W=np.array([[0],[0]])):\n",
    "    \"\"\"X: Data, y: Target Value, W: Parameters\"\"\"\n",
    "    m = len(y) # number of observations\n",
    "    h = W.T.dot(X) # Our prediction, our hypothesis h = W.T x \n",
    "    J = 1/(2*m)*np.sum(np.square(h-y)) # Cost(W) = 1/2m(\\sum (h-y)^2)\n",
    "    return(J)"
   ]
  },
  {
   "cell_type": "code",
   "execution_count": 139,
   "metadata": {},
   "outputs": [
    {
     "data": {
      "text/plain": [
       "30.794957855345832"
      ]
     },
     "execution_count": 139,
     "metadata": {},
     "output_type": "execute_result"
    }
   ],
   "source": [
    "computeCost(X,y)"
   ]
  },
  {
   "cell_type": "code",
   "execution_count": 140,
   "metadata": {
    "collapsed": true
   },
   "outputs": [],
   "source": [
    "def gradientDescent(X, y, W=np.array([[0],[0]]), alpha=0.01, iterations=1500):\n",
    "    m = len(y) # number of observations\n",
    "    J_history = np.zeros(iterations)\n",
    "    \n",
    "    for i in range(iterations):\n",
    "        h = W.T.dot(X) # Our prediction, our hypothesis h = W.T x \n",
    "        dJdW = (1/m) * np.dot(X, (h-y).T)\n",
    "        W = W - alpha * dJdW\n",
    "        J_history[i] = computeCost(X, y, W)\n",
    "        \n",
    "    return(W, J_history)   "
   ]
  },
  {
   "cell_type": "code",
   "execution_count": 141,
   "metadata": {},
   "outputs": [
    {
     "name": "stdout",
     "output_type": "stream",
     "text": [
      "W:  [[-3.92643901]\n",
      " [ 1.1849957 ]]\n"
     ]
    },
    {
     "data": {
      "image/png": "[encoded data removed]",
      "text/plain": [
       "<matplotlib.figure.Figure at 0x115b73898>"
      ]
     },
     "metadata": {},
     "output_type": "display_data"
    }
   ],
   "source": [
    "# W for minimized cost J\n",
    "W , Cost_J = gradientDescent(X, y, W =np.array([[0], [0]]))\n",
    "print('W: ',W)\n",
    "\n",
    "plt.plot(Cost_J)\n",
    "plt.ylabel('Cost J')\n",
    "plt.xlabel('Iterations');"
   ]
  },
  {
   "cell_type": "code",
   "execution_count": 142,
   "metadata": {},
   "outputs": [],
   "source": [
    "def predict(X_train):\n",
    "    XU = np.hstack((np.ones((X_train.shape)), X_train)) # add 1 column to data\n",
    "    XU = XU.T\n",
    "    hU = W.T.dot(XU)\n",
    "    return hU[0,]"
   ]
  },
  {
   "cell_type": "code",
   "execution_count": 143,
   "metadata": {},
   "outputs": [
    {
     "data": {
      "image/png": "[encoded data removed]",
      "text/plain": [
       "<matplotlib.figure.Figure at 0x115a117f0>"
      ]
     },
     "metadata": {},
     "output_type": "display_data"
    }
   ],
   "source": [
    "# Plot\n",
    "plt.scatter(X_train, y_train, color = 'red')\n",
    "plt.plot(X_train, lr.predict(X_train))\n",
    "plt.plot(X_train, predict(X_train))\n",
    "#plt.title('Experience vs Salary'); plt.xlabel('Years of Experience');plt.ylabel('Salary');\n",
    "plt.xlabel('Population of City in 10,000s');plt.ylabel('Profit in $10,000s');\n",
    "plt.grid()"
   ]
  },
  {
   "cell_type": "code",
   "execution_count": 144,
   "metadata": {},
   "outputs": [
    {
     "data": {
      "text/plain": [
       "3.4952528096541529"
      ]
     },
     "execution_count": 144,
     "metadata": {},
     "output_type": "execute_result"
    }
   ],
   "source": [
    "computeCost(X,y,W = np.array([[-3.63029144],  [1.16636235]]))"
   ]
  },
  {
   "cell_type": "code",
   "execution_count": null,
   "metadata": {
    "collapsed": true
   },
   "outputs": [],
   "source": []
  },
  {
   "cell_type": "code",
   "execution_count": null,
   "metadata": {
    "collapsed": true
   },
   "outputs": [],
   "source": []
  }
 ],
 "metadata": {
  "kernelspec": {
   "display_name": "Python 3",
   "language": "python",
   "name": "python3"
  },
  "language_info": {
   "codemirror_mode": {
    "name": "ipython",
    "version": 3
   },
   "file_extension": ".py",
   "mimetype": "text/x-python",
   "name": "python",
   "nbconvert_exporter": "python",
   "pygments_lexer": "ipython3",
   "version": "3.6.4"
  }
 },
 "nbformat": 4,
 "nbformat_minor": 2
}
