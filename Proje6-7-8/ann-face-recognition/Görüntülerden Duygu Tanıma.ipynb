{
 "cells": [
  {
   "cell_type": "markdown",
   "metadata": {},
   "source": [
    "# YSA Dersi\n",
    "\n",
    "Bu uygulamaya gecmeden once asagidaki dersleri tekrar etmek isteyebilirsiniz.\n",
    " - [Yapay Sinir Hucresi](http://nbviewer.jupyter.org/github/uzay00/KaVe/blob/master/Ders4/Yapay%20Sinir%20Hücresi.ipynb) \n",
    " - [Yapay Sinir Aglari](http://nbviewer.jupyter.org/github/uzay00/KaVe/blob/master/Ders4/Yapay%20Sinir%20Ağları.ipynb) \n",
    " \n",
    "\n",
    "# Görüntülerde duygu tanıma\n",
    "Burada öğrendiklerimizi ve yazdfığımız YSA kodunu şu veri seti üzerinde deneyebilirsiniz.\n",
    "\n",
    "https://www.kaggle.com/c/challenges-in-representation-learning-facial-expression-recognition-challenge\n",
    "\n"
   ]
  },
  {
   "cell_type": "code",
   "execution_count": 1,
   "metadata": {},
   "outputs": [],
   "source": [
    "# Importing the libraries\n",
    "import numpy as np\n",
    "import matplotlib.pyplot as plt\n",
    "%matplotlib inline  \n",
    "import pandas as pd\n",
    "import warnings\n",
    "warnings.filterwarnings('ignore')\n",
    "import timeit\n",
    "import random\n",
    "\n",
    "class yapay_sinir_agi():\n",
    "    def __init__(self, katmanlar):\n",
    "        self.katmanlar = katmanlar\n",
    "        self.b = [np.random.randn(k, 1) for k in self.katmanlar[1:]] # bias degerleri (ilk katman haric)\n",
    "        self.W = [np.random.randn(k2, k1) for k1, k2 in zip(self.katmanlar[:-1],self.katmanlar[1:])]\n",
    "        self.H = [] # hata\n",
    "        \n",
    "        self.onlyOnce = True\n",
    "\n",
    "    def ag(self):\n",
    "        return self.W, self.b\n",
    "    \n",
    "    def ileribesleme(self, a):\n",
    "        \"\"\"Katman katman yeni a degerleri hesaplaniyor\"\"\"\n",
    "        a = self.checkDimension(a)\n",
    "        for w, b in zip(self.W, self.b):\n",
    "            z = np.dot(w, a)+b\n",
    "            a = self.sigmoid(z)\n",
    "        return a\n",
    "    \n",
    "    def geribesleme(self,X,y):\n",
    "        delta_b = [np.zeros(b.shape) for b in self.b]\n",
    "        delta_w = [np.zeros(w.shape) for w in self.W]\n",
    "        a = X; A, Z = [a], []  # A, Z degerleri\n",
    "        for w, b in zip(self.W, self.b):# z ve a degerlerini depolayalim\n",
    "            z = np.dot(w, a) + b\n",
    "            a = self.sigmoid(z)\n",
    "            Z.append(z); A.append(a)\n",
    "            \n",
    "            #self.printShape(b, \"b\", w, \"w\")\n",
    "\n",
    "\n",
    "        \n",
    "        hata = A[-1] - y # En son katmandaki hata \n",
    "        delta = hata * self.sigmoid_turevi(Z[-1])\n",
    "        delta_b[-1] = delta # Son katmanda W, b'deki degisim  \n",
    "        delta_w[-1] = delta * A[-2].T # ERROR: np.dot(delta, A[-2].T)\n",
    "        \n",
    "        #self.printShape(delta_b[-1], \"delta_b[-1]\", delta_w[-1], \"delta_w[-1]\")\n",
    "        \n",
    "        for k in range(2, len(self.katmanlar)): # Hatanin geriye yayilimi\n",
    "            delta = np.dot(self.W[-k+1].T, delta) * self.sigmoid_turevi(Z[-k])\n",
    "            delta_b[-k] = delta\n",
    "            delta_w[-k] = delta * A[-k-1].T # ERROR: np.dot(delta, A[-k-1].T)\n",
    "            \n",
    "            #self.printShape(delta_b[-k], \"delta_b[-k]\", delta_w[-k], \"delta_w[-k]\")\n",
    "        self.onlyOnce = False\n",
    "\n",
    "        return (delta_b, delta_w)  \n",
    "    \n",
    "    def hata(self,X,y):\n",
    "        a = self.ileribesleme(X)\n",
    "        if a.shape != y.shape: print(hata)\n",
    "        return np.sum(np.power(a-y,2))\n",
    "    \n",
    "    \n",
    "    def gradyan_inis(self, X_train, y_train, alpha, number_steps):\n",
    "        print(\"X_train.shape\",X_train.shape)\n",
    "        print(\"y_train.shape\",y_train.shape)\n",
    "        for s in range(number_steps):\n",
    "            i, m = 0,X_train.shape[1]\n",
    "            X, y = X_train[:,[i]], y_train[:,[i]]\n",
    "            tum_delta_b, tum_delta_w = self.geribesleme(X,y)\n",
    "            hata = self.hata(X,y)\n",
    "            \n",
    "            for i in range(1,m): # Tum X kolonlari icin\n",
    "                X, y = X_train[:,[i]], y_train[:,[i]]\n",
    "                delta_b, delta_w = self.geribesleme(X,y)\n",
    "                tum_delta_b = [tdb + db for tdb, db in zip(tum_delta_b, delta_b)]\n",
    "                tum_delta_w = [tdw + dw for tdw, dw in zip(tum_delta_w, delta_w)]\n",
    "                hata += self.hata(X,y)\n",
    "                    \n",
    "            tum_delta_b = [alpha*tdb for tdb in tum_delta_b]\n",
    "            tum_delta_w = [alpha*tdw for tdw in tum_delta_w]\n",
    "        \n",
    "            self.W = [w - dw for w, dw in zip(self.W, tum_delta_w)]\n",
    "            self.b = [b - db for b, db in zip(self.b, tum_delta_b)]\n",
    "            self.H.append(hata/m)\n",
    "            \n",
    "            if s % (number_steps/10) == 0:\n",
    "                print(\" Error at iteration \",s,\"/\",number_steps,\" is \", self.H[-1])\n",
    "\n",
    "    def fit(self, X_train, y_train, alpha = 0.0000001, number_steps = 1000):  \n",
    "        X_train = X_train.T # X verileri kolon=gozlem, satir=oznitelik (alistigimizin tersi)\n",
    "        y_train = self.checkOutputLayer(y_train)\n",
    "        return self.gradyan_inis(X_train, y_train, alpha, number_steps)\n",
    "    \n",
    "    def predict(self, X_test):\n",
    "        if self.katmanlar[-1] == 1 : \n",
    "            tahmin = self.ileribesleme(X_test.T) >= 0.5  \n",
    "            t = tahmin.astype('int')\n",
    "            return t[0]\n",
    "        return np.argmax(self.ileribesleme(X_test.T), axis= 0)\n",
    "    \n",
    "    #### Yardimci Fonksiyonlar\n",
    "    def sigmoid(self,z):\n",
    "        return 1.0/(1.0+np.exp(-z))\n",
    "    def sigmoid_turevi(self,z):\n",
    "        return self.sigmoid(z)*(1-self.sigmoid(z))\n",
    "    def checkDimension(self,x):\n",
    "        if x.ndim == 1: return x.reshape(x.shape[0], 1)\n",
    "        return x\n",
    "    def checkOutputLayer(self, y):\n",
    "        if len(set(y)) == 2: return y.reshape(1,y.shape[0])\n",
    "        y_vec = np.zeros((len(set(y)),len(y)))\n",
    "        for c,r in enumerate(y):  y_vec[r,c] = 1\n",
    "        return y_vec\n",
    "    def printShape(self, b, bs, w, ws):\n",
    "        if self.onlyOnce == True: print(bs, \".shape: \",b.shape,\" \", ws ,\".shape: \",w.shape)"
   ]
  },
  {
   "cell_type": "markdown",
   "metadata": {},
   "source": [
    "# Veriyi oku ve ciz "
   ]
  },
  {
   "cell_type": "code",
   "execution_count": 2,
   "metadata": {},
   "outputs": [],
   "source": [
    "label_map = ['Anger', 'Disgust', 'Fear', 'Happy', 'Sad', 'Surprise', 'Neutral']\n",
    "def getData():\n",
    "    Y = []\n",
    "    X = []\n",
    "    first = True\n",
    "    for line in open('fer2013/fer2013.csv'):\n",
    "        if first:\n",
    "            first = False\n",
    "        else:\n",
    "            row = line.split(',')\n",
    "            y = int(row[0])\n",
    "            Y.append(y)\n",
    "            X.append([int(p) for p in row[1].split()])\n",
    "    return np.array(X) / 255.0, np.array(Y)"
   ]
  },
  {
   "cell_type": "code",
   "execution_count": 3,
   "metadata": {},
   "outputs": [],
   "source": [
    "X, y = getData()"
   ]
  },
  {
   "cell_type": "code",
   "execution_count": 4,
   "metadata": {},
   "outputs": [],
   "source": [
    "def random_image_draw(X = X *255.0, y=y):\n",
    "    j = np.random.choice(len(y))\n",
    "    plt.imshow(X[j].reshape(48, 48), cmap='gray')\n",
    "    plt.title(label_map[y[j]])"
   ]
  },
  {
   "cell_type": "code",
   "execution_count": 5,
   "metadata": {},
   "outputs": [
    {
     "data": {
      "image/png": "[encoded data removed]",
      "text/plain": [
       "<matplotlib.figure.Figure at 0x1076ed240>"
      ]
     },
     "metadata": {},
     "output_type": "display_data"
    }
   ],
   "source": [
    "random_image_draw()"
   ]
  },
  {
   "cell_type": "code",
   "execution_count": 6,
   "metadata": {},
   "outputs": [
    {
     "data": {
      "image/png": "[encoded data removed]",
      "text/plain": [
       "<matplotlib.figure.Figure at 0x10772abe0>"
      ]
     },
     "metadata": {},
     "output_type": "display_data"
    }
   ],
   "source": [
    "random_image_draw()"
   ]
  },
  {
   "cell_type": "code",
   "execution_count": 7,
   "metadata": {},
   "outputs": [
    {
     "data": {
      "image/png": "[encoded data removed]",
      "text/plain": [
       "<matplotlib.figure.Figure at 0x10ae2b2e8>"
      ]
     },
     "metadata": {},
     "output_type": "display_data"
    }
   ],
   "source": [
    "random_image_draw()"
   ]
  },
  {
   "cell_type": "code",
   "execution_count": 8,
   "metadata": {},
   "outputs": [
    {
     "data": {
      "image/png": "[encoded data removed]",
      "text/plain": [
       "<matplotlib.figure.Figure at 0x10ae904e0>"
      ]
     },
     "metadata": {},
     "output_type": "display_data"
    }
   ],
   "source": [
    "random_image_draw()"
   ]
  },
  {
   "cell_type": "code",
   "execution_count": 9,
   "metadata": {},
   "outputs": [
    {
     "data": {
      "image/png": "[encoded data removed]",
      "text/plain": [
       "<matplotlib.figure.Figure at 0x10af117f0>"
      ]
     },
     "metadata": {},
     "output_type": "display_data"
    }
   ],
   "source": [
    "fig = plt.figure()\n",
    "fig.subplots_adjust(hspace=1.6, wspace=1.2)\n",
    "for i in range(1,25):\n",
    "    ax = fig.add_subplot(4, 6, i)\n",
    "    random_image_draw()"
   ]
  },
  {
   "cell_type": "code",
   "execution_count": 10,
   "metadata": {},
   "outputs": [
    {
     "name": "stdout",
     "output_type": "stream",
     "text": [
      "ogrenme kumesinin uzunlugu:  26915\n",
      "test kumesinin uzunlugu:  8972\n"
     ]
    }
   ],
   "source": [
    "#################################################\n",
    "# Datayi train ve test olark ayir\n",
    "from sklearn.model_selection import train_test_split\n",
    "X_train, X_test, y_train, y_test = train_test_split(X, y)\n",
    "print(\"ogrenme kumesinin uzunlugu: \", len(X_train))\n",
    "print(\"test kumesinin uzunlugu: \", len(X_test))\n",
    "\n",
    "#################################################\n",
    "# Datayi normalize et \n",
    "#.      Standardize features by removing the mean and scaling to unit variance\n",
    "#.      Centering and scaling happen independently on each feature\n",
    "from sklearn.preprocessing import StandardScaler\n",
    "scaler = StandardScaler()\n",
    "\n",
    "# Fit only to the training data\n",
    "scaler.fit(X_train)\n",
    "\n",
    "# Now apply the transformations to the data:\n",
    "X_train_scaled = scaler.transform(X_train)\n",
    "X_test_scaled = scaler.transform(X_test)"
   ]
  },
  {
   "cell_type": "code",
   "execution_count": 11,
   "metadata": {},
   "outputs": [
    {
     "name": "stdout",
     "output_type": "stream",
     "text": [
      "X_train.shape (2304, 26915)\n",
      "y_train.shape (7, 26915)\n",
      " Error at iteration  0 / 10  is  2.3483716944058273\n",
      " Error at iteration  1 / 10  is  1.6326833172265014\n"
     ]
    },
    {
     "ename": "KeyboardInterrupt",
     "evalue": "",
     "output_type": "error",
     "traceback": [
      "\u001b[0;31m---------------------------------------------------------------------------\u001b[0m",
      "\u001b[0;31mKeyboardInterrupt\u001b[0m                         Traceback (most recent call last)",
      "\u001b[0;32m<ipython-input-11-21c68d299165>\u001b[0m in \u001b[0;36m<module>\u001b[0;34m()\u001b[0m\n\u001b[1;32m      2\u001b[0m \u001b[0mstart_time\u001b[0m \u001b[0;34m=\u001b[0m \u001b[0mtimeit\u001b[0m\u001b[0;34m.\u001b[0m\u001b[0mdefault_timer\u001b[0m\u001b[0;34m(\u001b[0m\u001b[0;34m)\u001b[0m\u001b[0;34m\u001b[0m\u001b[0m\n\u001b[1;32m      3\u001b[0m \u001b[0mysa\u001b[0m \u001b[0;34m=\u001b[0m \u001b[0myapay_sinir_agi\u001b[0m\u001b[0;34m(\u001b[0m\u001b[0mkatmanlar\u001b[0m \u001b[0;34m=\u001b[0m \u001b[0;34m[\u001b[0m\u001b[0;36m48\u001b[0m\u001b[0;34m*\u001b[0m\u001b[0;36m48\u001b[0m\u001b[0;34m,\u001b[0m\u001b[0;36m96\u001b[0m\u001b[0;34m,\u001b[0m\u001b[0;36m24\u001b[0m\u001b[0;34m,\u001b[0m\u001b[0;36m7\u001b[0m\u001b[0;34m]\u001b[0m\u001b[0;34m)\u001b[0m\u001b[0;34m\u001b[0m\u001b[0m\n\u001b[0;32m----> 4\u001b[0;31m \u001b[0mysa\u001b[0m\u001b[0;34m.\u001b[0m\u001b[0mfit\u001b[0m\u001b[0;34m(\u001b[0m\u001b[0mX_train_scaled\u001b[0m\u001b[0;34m,\u001b[0m\u001b[0my_train\u001b[0m\u001b[0;34m,\u001b[0m \u001b[0malpha\u001b[0m \u001b[0;34m=\u001b[0m \u001b[0;36m0.0001\u001b[0m\u001b[0;34m,\u001b[0m \u001b[0mnumber_steps\u001b[0m \u001b[0;34m=\u001b[0m \u001b[0;36m10\u001b[0m\u001b[0;34m)\u001b[0m\u001b[0;34m\u001b[0m\u001b[0m\n\u001b[0m\u001b[1;32m      5\u001b[0m \u001b[0;34m\u001b[0m\u001b[0m\n\u001b[1;32m      6\u001b[0m \u001b[0mtahmin\u001b[0m \u001b[0;34m=\u001b[0m \u001b[0mysa\u001b[0m\u001b[0;34m.\u001b[0m\u001b[0mpredict\u001b[0m\u001b[0;34m(\u001b[0m\u001b[0mX_test_scaled\u001b[0m\u001b[0;34m)\u001b[0m\u001b[0;34m\u001b[0m\u001b[0m\n",
      "\u001b[0;32m<ipython-input-1-0e607bdd6406>\u001b[0m in \u001b[0;36mfit\u001b[0;34m(self, X_train, y_train, alpha, number_steps)\u001b[0m\n\u001b[1;32m     94\u001b[0m         \u001b[0mX_train\u001b[0m \u001b[0;34m=\u001b[0m \u001b[0mX_train\u001b[0m\u001b[0;34m.\u001b[0m\u001b[0mT\u001b[0m \u001b[0;31m# X verileri kolon=gozlem, satir=oznitelik (alistigimizin tersi)\u001b[0m\u001b[0;34m\u001b[0m\u001b[0m\n\u001b[1;32m     95\u001b[0m         \u001b[0my_train\u001b[0m \u001b[0;34m=\u001b[0m \u001b[0mself\u001b[0m\u001b[0;34m.\u001b[0m\u001b[0mcheckOutputLayer\u001b[0m\u001b[0;34m(\u001b[0m\u001b[0my_train\u001b[0m\u001b[0;34m)\u001b[0m\u001b[0;34m\u001b[0m\u001b[0m\n\u001b[0;32m---> 96\u001b[0;31m         \u001b[0;32mreturn\u001b[0m \u001b[0mself\u001b[0m\u001b[0;34m.\u001b[0m\u001b[0mgradyan_inis\u001b[0m\u001b[0;34m(\u001b[0m\u001b[0mX_train\u001b[0m\u001b[0;34m,\u001b[0m \u001b[0my_train\u001b[0m\u001b[0;34m,\u001b[0m \u001b[0malpha\u001b[0m\u001b[0;34m,\u001b[0m \u001b[0mnumber_steps\u001b[0m\u001b[0;34m)\u001b[0m\u001b[0;34m\u001b[0m\u001b[0m\n\u001b[0m\u001b[1;32m     97\u001b[0m \u001b[0;34m\u001b[0m\u001b[0m\n\u001b[1;32m     98\u001b[0m     \u001b[0;32mdef\u001b[0m \u001b[0mpredict\u001b[0m\u001b[0;34m(\u001b[0m\u001b[0mself\u001b[0m\u001b[0;34m,\u001b[0m \u001b[0mX_test\u001b[0m\u001b[0;34m)\u001b[0m\u001b[0;34m:\u001b[0m\u001b[0;34m\u001b[0m\u001b[0m\n",
      "\u001b[0;32m<ipython-input-1-0e607bdd6406>\u001b[0m in \u001b[0;36mgradyan_inis\u001b[0;34m(self, X_train, y_train, alpha, number_steps)\u001b[0m\n\u001b[1;32m     76\u001b[0m             \u001b[0;32mfor\u001b[0m \u001b[0mi\u001b[0m \u001b[0;32min\u001b[0m \u001b[0mrange\u001b[0m\u001b[0;34m(\u001b[0m\u001b[0;36m1\u001b[0m\u001b[0;34m,\u001b[0m\u001b[0mm\u001b[0m\u001b[0;34m)\u001b[0m\u001b[0;34m:\u001b[0m \u001b[0;31m# Tum X kolonlari icin\u001b[0m\u001b[0;34m\u001b[0m\u001b[0m\n\u001b[1;32m     77\u001b[0m                 \u001b[0mX\u001b[0m\u001b[0;34m,\u001b[0m \u001b[0my\u001b[0m \u001b[0;34m=\u001b[0m \u001b[0mX_train\u001b[0m\u001b[0;34m[\u001b[0m\u001b[0;34m:\u001b[0m\u001b[0;34m,\u001b[0m\u001b[0;34m[\u001b[0m\u001b[0mi\u001b[0m\u001b[0;34m]\u001b[0m\u001b[0;34m]\u001b[0m\u001b[0;34m,\u001b[0m \u001b[0my_train\u001b[0m\u001b[0;34m[\u001b[0m\u001b[0;34m:\u001b[0m\u001b[0;34m,\u001b[0m\u001b[0;34m[\u001b[0m\u001b[0mi\u001b[0m\u001b[0;34m]\u001b[0m\u001b[0;34m]\u001b[0m\u001b[0;34m\u001b[0m\u001b[0m\n\u001b[0;32m---> 78\u001b[0;31m                 \u001b[0mdelta_b\u001b[0m\u001b[0;34m,\u001b[0m \u001b[0mdelta_w\u001b[0m \u001b[0;34m=\u001b[0m \u001b[0mself\u001b[0m\u001b[0;34m.\u001b[0m\u001b[0mgeribesleme\u001b[0m\u001b[0;34m(\u001b[0m\u001b[0mX\u001b[0m\u001b[0;34m,\u001b[0m\u001b[0my\u001b[0m\u001b[0;34m)\u001b[0m\u001b[0;34m\u001b[0m\u001b[0m\n\u001b[0m\u001b[1;32m     79\u001b[0m                 \u001b[0mtum_delta_b\u001b[0m \u001b[0;34m=\u001b[0m \u001b[0;34m[\u001b[0m\u001b[0mtdb\u001b[0m \u001b[0;34m+\u001b[0m \u001b[0mdb\u001b[0m \u001b[0;32mfor\u001b[0m \u001b[0mtdb\u001b[0m\u001b[0;34m,\u001b[0m \u001b[0mdb\u001b[0m \u001b[0;32min\u001b[0m \u001b[0mzip\u001b[0m\u001b[0;34m(\u001b[0m\u001b[0mtum_delta_b\u001b[0m\u001b[0;34m,\u001b[0m \u001b[0mdelta_b\u001b[0m\u001b[0;34m)\u001b[0m\u001b[0;34m]\u001b[0m\u001b[0;34m\u001b[0m\u001b[0m\n\u001b[1;32m     80\u001b[0m                 \u001b[0mtum_delta_w\u001b[0m \u001b[0;34m=\u001b[0m \u001b[0;34m[\u001b[0m\u001b[0mtdw\u001b[0m \u001b[0;34m+\u001b[0m \u001b[0mdw\u001b[0m \u001b[0;32mfor\u001b[0m \u001b[0mtdw\u001b[0m\u001b[0;34m,\u001b[0m \u001b[0mdw\u001b[0m \u001b[0;32min\u001b[0m \u001b[0mzip\u001b[0m\u001b[0;34m(\u001b[0m\u001b[0mtum_delta_w\u001b[0m\u001b[0;34m,\u001b[0m \u001b[0mdelta_w\u001b[0m\u001b[0;34m)\u001b[0m\u001b[0;34m]\u001b[0m\u001b[0;34m\u001b[0m\u001b[0m\n",
      "\u001b[0;32m<ipython-input-1-0e607bdd6406>\u001b[0m in \u001b[0;36mgeribesleme\u001b[0;34m(self, X, y)\u001b[0m\n\u001b[1;32m     52\u001b[0m             \u001b[0mdelta\u001b[0m \u001b[0;34m=\u001b[0m \u001b[0mnp\u001b[0m\u001b[0;34m.\u001b[0m\u001b[0mdot\u001b[0m\u001b[0;34m(\u001b[0m\u001b[0mself\u001b[0m\u001b[0;34m.\u001b[0m\u001b[0mW\u001b[0m\u001b[0;34m[\u001b[0m\u001b[0;34m-\u001b[0m\u001b[0mk\u001b[0m\u001b[0;34m+\u001b[0m\u001b[0;36m1\u001b[0m\u001b[0;34m]\u001b[0m\u001b[0;34m.\u001b[0m\u001b[0mT\u001b[0m\u001b[0;34m,\u001b[0m \u001b[0mdelta\u001b[0m\u001b[0;34m)\u001b[0m \u001b[0;34m*\u001b[0m \u001b[0mself\u001b[0m\u001b[0;34m.\u001b[0m\u001b[0msigmoid_turevi\u001b[0m\u001b[0;34m(\u001b[0m\u001b[0mZ\u001b[0m\u001b[0;34m[\u001b[0m\u001b[0;34m-\u001b[0m\u001b[0mk\u001b[0m\u001b[0;34m]\u001b[0m\u001b[0;34m)\u001b[0m\u001b[0;34m\u001b[0m\u001b[0m\n\u001b[1;32m     53\u001b[0m             \u001b[0mdelta_b\u001b[0m\u001b[0;34m[\u001b[0m\u001b[0;34m-\u001b[0m\u001b[0mk\u001b[0m\u001b[0;34m]\u001b[0m \u001b[0;34m=\u001b[0m \u001b[0mdelta\u001b[0m\u001b[0;34m\u001b[0m\u001b[0m\n\u001b[0;32m---> 54\u001b[0;31m             \u001b[0mdelta_w\u001b[0m\u001b[0;34m[\u001b[0m\u001b[0;34m-\u001b[0m\u001b[0mk\u001b[0m\u001b[0;34m]\u001b[0m \u001b[0;34m=\u001b[0m \u001b[0mdelta\u001b[0m \u001b[0;34m*\u001b[0m \u001b[0mA\u001b[0m\u001b[0;34m[\u001b[0m\u001b[0;34m-\u001b[0m\u001b[0mk\u001b[0m\u001b[0;34m-\u001b[0m\u001b[0;36m1\u001b[0m\u001b[0;34m]\u001b[0m\u001b[0;34m.\u001b[0m\u001b[0mT\u001b[0m \u001b[0;31m# ERROR: np.dot(delta, A[-k-1].T)\u001b[0m\u001b[0;34m\u001b[0m\u001b[0m\n\u001b[0m\u001b[1;32m     55\u001b[0m \u001b[0;34m\u001b[0m\u001b[0m\n\u001b[1;32m     56\u001b[0m             \u001b[0;31m#self.printShape(delta_b[-k], \"delta_b[-k]\", delta_w[-k], \"delta_w[-k]\")\u001b[0m\u001b[0;34m\u001b[0m\u001b[0;34m\u001b[0m\u001b[0m\n",
      "\u001b[0;31mKeyboardInterrupt\u001b[0m: "
     ]
    }
   ],
   "source": [
    "# Fitting Our Own Neural Network to the Training set\n",
    "start_time = timeit.default_timer()\n",
    "ysa = yapay_sinir_agi(katmanlar = [48*48,96,24,7])\n",
    "ysa.fit(X_train_scaled,y_train, alpha = 0.0001, number_steps = 10)\n",
    "\n",
    "tahmin = ysa.predict(X_test_scaled)\n",
    "print(\"Time: \", timeit.default_timer() - start_time)\n",
    "\n",
    "# Making the Confusion Matrix\n",
    "from sklearn.metrics import confusion_matrix, accuracy_score\n",
    "cm = confusion_matrix(y_test, tahmin)\n",
    "print(\"\\t\\t\\t\\t\\t---Our Own Neural Network---\")\n",
    "print(\"confusion_matrix:\\n\", cm)\n",
    "print(\"accuracy_score: \", accuracy_score(y_test, tahmin))\n",
    "plt.plot(ysa.H)"
   ]
  },
  {
   "cell_type": "code",
   "execution_count": null,
   "metadata": {},
   "outputs": [],
   "source": [
    "# Fitting Our Own Neural Network to the Training set\n",
    "start_time = timeit.default_timer()\n",
    "ysa = yapay_sinir_agi(katmanlar = [48*48,12,7])\n",
    "ysa.fit(X_train_scaled,y_train, alpha = 0.00001, number_steps = 100)\n",
    "\n",
    "tahmin = ysa.predict(X_test_scaled)\n",
    "print(\"Time: \", timeit.default_timer() - start_time)\n",
    "\n",
    "# Making the Confusion Matrix\n",
    "from sklearn.metrics import confusion_matrix, accuracy_score\n",
    "cm = confusion_matrix(y_test, tahmin)\n",
    "print(\"\\t\\t\\t\\t\\t---Our Own Neural Network---\")\n",
    "print(\"confusion_matrix:\\n\", cm)\n",
    "print(\"accuracy_score: \", accuracy_score(y_test, tahmin))\n",
    "plt.plot(ysa.H)"
   ]
  },
  {
   "cell_type": "code",
   "execution_count": 37,
   "metadata": {},
   "outputs": [
    {
     "name": "stdout",
     "output_type": "stream",
     "text": [
      "X_train.shape (2304, 26915)\n",
      "y_train.shape (7, 26915)\n",
      " Error at iteration  0 / 2  is  2.6206950181258852\n",
      "Time:  10.87051049200818\n",
      "\t\t\t\t\t---Our Own Neural Network---\n",
      "confusion_matrix:\n",
      " [[   8    0    0  658  593   14    1]\n",
      " [   0    0    0   64   77    2    0]\n",
      " [   9    0    0  619  634   10    1]\n",
      " [  13    0    0 1335  888   25    0]\n",
      " [   6    1    2  828  656   28    2]\n",
      " [   7    0    0  402  555    2    0]\n",
      " [   9    0    2  892  606   23    0]]\n",
      "accuracy_score:  0.22302719572001783\n"
     ]
    },
    {
     "data": {
      "text/plain": [
       "[<matplotlib.lines.Line2D at 0x115919160>]"
      ]
     },
     "execution_count": 37,
     "metadata": {},
     "output_type": "execute_result"
    },
    {
     "data": {
      "image/png": "[encoded data removed]",
      "text/plain": [
       "<matplotlib.figure.Figure at 0x1152749b0>"
      ]
     },
     "metadata": {},
     "output_type": "display_data"
    }
   ],
   "source": [
    "# Fitting Our Own Neural Network to the Training set\n",
    "start_time = timeit.default_timer()\n",
    "ysa = yapay_sinir_agi(katmanlar = [48*48,24,12,7])\n",
    "ysa.fit(X_train_scaled,y_train, alpha = 0.0001, number_steps = 2)\n",
    "\n",
    "tahmin = ysa.predict(X_test_scaled)\n",
    "print(\"Time: \", timeit.default_timer() - start_time)\n",
    "\n",
    "# Making the Confusion Matrix\n",
    "from sklearn.metrics import confusion_matrix, accuracy_score\n",
    "cm = confusion_matrix(y_test, tahmin)\n",
    "print(\"\\t\\t\\t\\t\\t---Our Own Neural Network---\")\n",
    "print(\"confusion_matrix:\\n\", cm)\n",
    "print(\"accuracy_score: \", accuracy_score(y_test, tahmin))\n",
    "plt.plot(ysa.H)"
   ]
  },
  {
   "cell_type": "code",
   "execution_count": 12,
   "metadata": {},
   "outputs": [
    {
     "name": "stderr",
     "output_type": "stream",
     "text": [
      "Using TensorFlow backend.\n"
     ]
    },
    {
     "name": "stdout",
     "output_type": "stream",
     "text": [
      "WARNING:tensorflow:From /anaconda3/lib/python3.6/site-packages/keras/backend/tensorflow_backend.py:1349: calling reduce_mean (from tensorflow.python.ops.math_ops) with keep_dims is deprecated and will be removed in a future version.\n",
      "Instructions for updating:\n",
      "keep_dims is deprecated, use keepdims instead\n",
      "_________________________________________________________________\n",
      "Layer (type)                 Output Shape              Param #   \n",
      "=================================================================\n",
      "dense_1 (Dense)              (None, 400)               922000    \n",
      "_________________________________________________________________\n",
      "dense_2 (Dense)              (None, 96)                38496     \n",
      "_________________________________________________________________\n",
      "dense_3 (Dense)              (None, 48)                4656      \n",
      "_________________________________________________________________\n",
      "dense_4 (Dense)              (None, 24)                1176      \n",
      "_________________________________________________________________\n",
      "dense_5 (Dense)              (None, 7)                 175       \n",
      "=================================================================\n",
      "Total params: 966,503\n",
      "Trainable params: 966,503\n",
      "Non-trainable params: 0\n",
      "_________________________________________________________________\n"
     ]
    }
   ],
   "source": [
    "# Importing the Keras libraries and packages\n",
    "import keras\n",
    "from keras.models import Sequential\n",
    "from keras.layers import Dense\n",
    "\n",
    "\n",
    "model2 = Sequential()\n",
    "model2.add(Dense(400, input_dim=48*48, activation='relu')) \n",
    "model2.add(Dense(96, activation='relu'))\n",
    "model2.add(Dense(48, activation='relu'))\n",
    "model2.add(Dense(24, activation='relu'))\n",
    "model2.add(Dense(7, activation='softmax'))\n",
    "model2.compile(loss='binary_crossentropy', optimizer='adam', metrics=['accuracy'])\n",
    "model2.summary()\n"
   ]
  },
  {
   "cell_type": "code",
   "execution_count": 13,
   "metadata": {},
   "outputs": [],
   "source": [
    "y_train_labels = keras.utils.to_categorical(y_train)\n",
    "y_test_labels = keras.utils.to_categorical(y_test)"
   ]
  },
  {
   "cell_type": "code",
   "execution_count": 14,
   "metadata": {},
   "outputs": [
    {
     "name": "stdout",
     "output_type": "stream",
     "text": [
      "Epoch 1/100\n",
      "26915/26915 [==============================] - 31s 1ms/step - loss: 0.3756 - acc: 0.8593\n",
      "Epoch 2/100\n",
      "26915/26915 [==============================] - 37s 1ms/step - loss: 0.3557 - acc: 0.8646\n",
      "Epoch 3/100\n",
      "26915/26915 [==============================] - 34s 1ms/step - loss: 0.3463 - acc: 0.8674\n",
      "Epoch 4/100\n",
      "26915/26915 [==============================] - 33s 1ms/step - loss: 0.3382 - acc: 0.8696\n",
      "Epoch 5/100\n",
      "26915/26915 [==============================] - 28s 1ms/step - loss: 0.3292 - acc: 0.8727\n",
      "Epoch 6/100\n",
      "26915/26915 [==============================] - 28s 1ms/step - loss: 0.3225 - acc: 0.8746\n",
      "Epoch 7/100\n",
      "26915/26915 [==============================] - 34s 1ms/step - loss: 0.3148 - acc: 0.8772\n",
      "Epoch 8/100\n",
      "26915/26915 [==============================] - 33s 1ms/step - loss: 0.3071 - acc: 0.8798\n",
      "Epoch 9/100\n",
      "26915/26915 [==============================] - 33s 1ms/step - loss: 0.3007 - acc: 0.8818\n",
      "Epoch 10/100\n",
      "26915/26915 [==============================] - 33s 1ms/step - loss: 0.2934 - acc: 0.8841\n",
      "Epoch 11/100\n",
      "26915/26915 [==============================] - 32s 1ms/step - loss: 0.2867 - acc: 0.8872\n",
      "Epoch 12/100\n",
      "26915/26915 [==============================] - 32s 1ms/step - loss: 0.2798 - acc: 0.8893\n",
      "Epoch 13/100\n",
      "26915/26915 [==============================] - 34s 1ms/step - loss: 0.2745 - acc: 0.8919\n",
      "Epoch 14/100\n",
      "26915/26915 [==============================] - 34s 1ms/step - loss: 0.2682 - acc: 0.8945\n",
      "Epoch 15/100\n",
      "26915/26915 [==============================] - 32s 1ms/step - loss: 0.2625 - acc: 0.8969\n",
      "Epoch 16/100\n",
      "26915/26915 [==============================] - 32s 1ms/step - loss: 0.2583 - acc: 0.8986\n",
      "Epoch 17/100\n",
      "26915/26915 [==============================] - 32s 1ms/step - loss: 0.2510 - acc: 0.9015\n",
      "Epoch 18/100\n",
      "26915/26915 [==============================] - 33s 1ms/step - loss: 0.2464 - acc: 0.9035\n",
      "Epoch 19/100\n",
      "26915/26915 [==============================] - 33s 1ms/step - loss: 0.2417 - acc: 0.9049\n",
      "Epoch 20/100\n",
      "26915/26915 [==============================] - 33s 1ms/step - loss: 0.2362 - acc: 0.9074\n",
      "Epoch 21/100\n",
      "26915/26915 [==============================] - 36s 1ms/step - loss: 0.2328 - acc: 0.9087\n",
      "Epoch 22/100\n",
      "26915/26915 [==============================] - 34s 1ms/step - loss: 0.2300 - acc: 0.9100\n",
      "Epoch 23/100\n",
      "26915/26915 [==============================] - 33s 1ms/step - loss: 0.2242 - acc: 0.9123\n",
      "Epoch 24/100\n",
      "26915/26915 [==============================] - 33s 1ms/step - loss: 0.2203 - acc: 0.9139\n",
      "Epoch 25/100\n",
      "26915/26915 [==============================] - 32s 1ms/step - loss: 0.2162 - acc: 0.9158\n",
      "Epoch 26/100\n",
      "26915/26915 [==============================] - 31s 1ms/step - loss: 0.2127 - acc: 0.9171\n",
      "Epoch 27/100\n",
      "26915/26915 [==============================] - 31s 1ms/step - loss: 0.2097 - acc: 0.9184\n",
      "Epoch 28/100\n",
      "26915/26915 [==============================] - 33s 1ms/step - loss: 0.2074 - acc: 0.9189\n",
      "Epoch 29/100\n",
      "26915/26915 [==============================] - 37s 1ms/step - loss: 0.2046 - acc: 0.9203\n",
      "Epoch 30/100\n",
      "26915/26915 [==============================] - 34s 1ms/step - loss: 0.2021 - acc: 0.9216\n",
      "Epoch 31/100\n",
      "26915/26915 [==============================] - 33s 1ms/step - loss: 0.1958 - acc: 0.9238\n",
      "Epoch 32/100\n",
      "26915/26915 [==============================] - 33s 1ms/step - loss: 0.1922 - acc: 0.9255\n",
      "Epoch 33/100\n",
      "26915/26915 [==============================] - 33s 1ms/step - loss: 0.1902 - acc: 0.9264\n",
      "Epoch 34/100\n",
      "26915/26915 [==============================] - 32s 1ms/step - loss: 0.1862 - acc: 0.9282\n",
      "Epoch 35/100\n",
      "26915/26915 [==============================] - 34s 1ms/step - loss: 0.1843 - acc: 0.9289\n",
      "Epoch 36/100\n",
      "26915/26915 [==============================] - 33s 1ms/step - loss: 0.1830 - acc: 0.9290\n",
      "Epoch 37/100\n",
      "26915/26915 [==============================] - 32s 1ms/step - loss: 0.1798 - acc: 0.9304\n",
      "Epoch 38/100\n",
      "26915/26915 [==============================] - 34s 1ms/step - loss: 0.1786 - acc: 0.9314\n",
      "Epoch 39/100\n",
      "26915/26915 [==============================] - 30s 1ms/step - loss: 0.1741 - acc: 0.9329\n",
      "Epoch 40/100\n",
      "26915/26915 [==============================] - 90s 3ms/step - loss: 0.1731 - acc: 0.9338\n",
      "Epoch 41/100\n",
      "26915/26915 [==============================] - 925s 34ms/step - loss: 0.1694 - acc: 0.9345\n",
      "Epoch 42/100\n",
      "26915/26915 [==============================] - 50s 2ms/step - loss: 0.1671 - acc: 0.9356\n",
      "Epoch 43/100\n",
      "26915/26915 [==============================] - 5477s 203ms/step - loss: 0.1673 - acc: 0.9356\n",
      "Epoch 44/100\n",
      "26915/26915 [==============================] - 33s 1ms/step - loss: 0.1659 - acc: 0.9361\n",
      "Epoch 45/100\n",
      "26915/26915 [==============================] - 29s 1ms/step - loss: 0.1611 - acc: 0.9383\n",
      "Epoch 46/100\n",
      "26915/26915 [==============================] - 34s 1ms/step - loss: 0.1580 - acc: 0.9392\n",
      "Epoch 47/100\n",
      "26915/26915 [==============================] - 35s 1ms/step - loss: 0.1618 - acc: 0.9382\n",
      "Epoch 48/100\n",
      "26915/26915 [==============================] - 29s 1ms/step - loss: 0.1557 - acc: 0.9402\n",
      "Epoch 49/100\n",
      "26915/26915 [==============================] - 29s 1ms/step - loss: 0.1544 - acc: 0.9412\n",
      "Epoch 50/100\n",
      "26915/26915 [==============================] - 34s 1ms/step - loss: 0.1532 - acc: 0.9415\n",
      "Epoch 51/100\n",
      "26915/26915 [==============================] - 34s 1ms/step - loss: 0.1502 - acc: 0.9423\n",
      "Epoch 52/100\n",
      "26915/26915 [==============================] - 33s 1ms/step - loss: 0.1488 - acc: 0.9433\n",
      "Epoch 53/100\n",
      "26915/26915 [==============================] - 36s 1ms/step - loss: 0.1481 - acc: 0.9437\n",
      "Epoch 54/100\n",
      "26915/26915 [==============================] - 33s 1ms/step - loss: 0.1463 - acc: 0.9443\n",
      "Epoch 55/100\n",
      "26915/26915 [==============================] - 35s 1ms/step - loss: 0.1444 - acc: 0.9455\n",
      "Epoch 56/100\n",
      "26915/26915 [==============================] - 34s 1ms/step - loss: 0.1451 - acc: 0.9450\n",
      "Epoch 57/100\n",
      "26915/26915 [==============================] - 35s 1ms/step - loss: 0.1431 - acc: 0.9456\n",
      "Epoch 58/100\n",
      "26915/26915 [==============================] - 34s 1ms/step - loss: 0.1405 - acc: 0.9463\n",
      "Epoch 59/100\n",
      "26915/26915 [==============================] - 33s 1ms/step - loss: 0.1386 - acc: 0.9471\n",
      "Epoch 60/100\n",
      "26915/26915 [==============================] - 33s 1ms/step - loss: 0.1403 - acc: 0.9470\n",
      "Epoch 61/100\n",
      "26915/26915 [==============================] - 33s 1ms/step - loss: 0.1371 - acc: 0.9479\n",
      "Epoch 62/100\n",
      "26915/26915 [==============================] - 34s 1ms/step - loss: 0.1356 - acc: 0.9489\n",
      "Epoch 63/100\n",
      "26915/26915 [==============================] - 34s 1ms/step - loss: 0.1319 - acc: 0.9499\n",
      "Epoch 64/100\n",
      "26915/26915 [==============================] - 34s 1ms/step - loss: 0.1338 - acc: 0.9491\n",
      "Epoch 65/100\n",
      "26915/26915 [==============================] - 34s 1ms/step - loss: 0.1330 - acc: 0.9497\n",
      "Epoch 66/100\n",
      "26915/26915 [==============================] - 33s 1ms/step - loss: 0.1283 - acc: 0.9514\n",
      "Epoch 67/100\n",
      "26915/26915 [==============================] - 35s 1ms/step - loss: 0.1301 - acc: 0.9509\n",
      "Epoch 68/100\n",
      "26915/26915 [==============================] - 30s 1ms/step - loss: 0.1287 - acc: 0.9513\n",
      "Epoch 69/100\n",
      "26915/26915 [==============================] - 30s 1ms/step - loss: 0.1294 - acc: 0.9517\n",
      "Epoch 70/100\n",
      "26915/26915 [==============================] - 33s 1ms/step - loss: 0.1241 - acc: 0.9536\n",
      "Epoch 71/100\n",
      "26915/26915 [==============================] - 36s 1ms/step - loss: 0.1257 - acc: 0.9526\n",
      "Epoch 72/100\n",
      "26915/26915 [==============================] - 36s 1ms/step - loss: 0.1253 - acc: 0.9527\n",
      "Epoch 73/100\n",
      "26915/26915 [==============================] - 34s 1ms/step - loss: 0.1263 - acc: 0.9524\n",
      "Epoch 74/100\n",
      "26915/26915 [==============================] - 35s 1ms/step - loss: 0.1200 - acc: 0.9550\n",
      "Epoch 75/100\n",
      "26915/26915 [==============================] - 35s 1ms/step - loss: 0.1225 - acc: 0.9538\n",
      "Epoch 76/100\n",
      "26915/26915 [==============================] - 36s 1ms/step - loss: 0.1191 - acc: 0.9552\n",
      "Epoch 77/100\n",
      "26915/26915 [==============================] - 39s 1ms/step - loss: 0.1213 - acc: 0.9540\n",
      "Epoch 78/100\n",
      "26915/26915 [==============================] - 37s 1ms/step - loss: 0.1193 - acc: 0.9551\n",
      "Epoch 79/100\n",
      "26915/26915 [==============================] - 37s 1ms/step - loss: 0.1169 - acc: 0.9560\n",
      "Epoch 80/100\n",
      "26915/26915 [==============================] - 34s 1ms/step - loss: 0.1167 - acc: 0.9562\n",
      "Epoch 81/100\n"
     ]
    },
    {
     "name": "stdout",
     "output_type": "stream",
     "text": [
      "26915/26915 [==============================] - 34s 1ms/step - loss: 0.1155 - acc: 0.9570\n",
      "Epoch 82/100\n",
      "26915/26915 [==============================] - 34s 1ms/step - loss: 0.1179 - acc: 0.9561\n",
      "Epoch 83/100\n",
      "26915/26915 [==============================] - 35s 1ms/step - loss: 0.1116 - acc: 0.9583\n",
      "Epoch 84/100\n",
      "26915/26915 [==============================] - 32s 1ms/step - loss: 0.1127 - acc: 0.9582\n",
      "Epoch 85/100\n",
      "26915/26915 [==============================] - 32s 1ms/step - loss: 0.1103 - acc: 0.9589\n",
      "Epoch 86/100\n",
      "26915/26915 [==============================] - 33s 1ms/step - loss: 0.1126 - acc: 0.9580\n",
      "Epoch 87/100\n",
      "26915/26915 [==============================] - 30s 1ms/step - loss: 0.1105 - acc: 0.9587\n",
      "Epoch 88/100\n",
      "26915/26915 [==============================] - 26s 962us/step - loss: 0.1080 - acc: 0.9596\n",
      "Epoch 89/100\n",
      "26915/26915 [==============================] - 30s 1ms/step - loss: 0.1099 - acc: 0.9590\n",
      "Epoch 90/100\n",
      "26915/26915 [==============================] - 34s 1ms/step - loss: 0.1087 - acc: 0.9595\n",
      "Epoch 91/100\n",
      "26915/26915 [==============================] - 32s 1ms/step - loss: 0.1102 - acc: 0.9591\n",
      "Epoch 92/100\n",
      "26915/26915 [==============================] - 30s 1ms/step - loss: 0.1060 - acc: 0.9603\n",
      "Epoch 93/100\n",
      "26915/26915 [==============================] - 33s 1ms/step - loss: 0.1051 - acc: 0.9608\n",
      "Epoch 94/100\n",
      "26915/26915 [==============================] - 32s 1ms/step - loss: 0.1078 - acc: 0.9603\n",
      "Epoch 95/100\n",
      "26915/26915 [==============================] - 26s 954us/step - loss: 0.1070 - acc: 0.9604\n",
      "Epoch 96/100\n",
      "26915/26915 [==============================] - 30s 1ms/step - loss: 0.1060 - acc: 0.9610\n",
      "Epoch 97/100\n",
      "26915/26915 [==============================] - 31s 1ms/step - loss: 0.1026 - acc: 0.9621\n",
      "Epoch 98/100\n",
      "26915/26915 [==============================] - 34s 1ms/step - loss: 0.1017 - acc: 0.9624\n",
      "Epoch 99/100\n",
      "26915/26915 [==============================] - 32s 1ms/step - loss: 0.1019 - acc: 0.9622\n",
      "Epoch 100/100\n",
      "26915/26915 [==============================] - 36s 1ms/step - loss: 0.1037 - acc: 0.9615\n"
     ]
    },
    {
     "data": {
      "text/plain": [
       "<keras.callbacks.History at 0x1aa3903710>"
      ]
     },
     "execution_count": 14,
     "metadata": {},
     "output_type": "execute_result"
    }
   ],
   "source": [
    "# Fitting the ANN to the Training set\n",
    "model2.fit(X_train_scaled, y_train_labels, batch_size = 10, epochs = 100)"
   ]
  },
  {
   "cell_type": "code",
   "execution_count": 15,
   "metadata": {},
   "outputs": [],
   "source": [
    "y_pred = model2.predict(X_test_scaled)\n",
    "y_pred = y_pred.argmax(axis=1)"
   ]
  },
  {
   "cell_type": "code",
   "execution_count": 16,
   "metadata": {},
   "outputs": [
    {
     "name": "stdout",
     "output_type": "stream",
     "text": [
      "\t\t\t\t\t---Keras Neural Network---\n",
      "confusion_matrix:\n",
      " [[ 309   21  220  150  269   60  254]\n",
      " [  29   45   22    9   22    6   18]\n",
      " [ 111   30  413  121  250  134  217]\n",
      " [ 153   30  141 1188  267   70  337]\n",
      " [ 150   34  212  142  565   71  338]\n",
      " [  32    8  115   70   88  590  113]\n",
      " [ 119   17  168  183  354   52  655]]\n",
      "accuracy_score:  0.41963887650468124\n"
     ]
    }
   ],
   "source": [
    "# Making the Confusion Matrix\n",
    "from sklearn.metrics import confusion_matrix, accuracy_score\n",
    "cm = confusion_matrix(y_test, y_pred)\n",
    "print(\"\\t\\t\\t\\t\\t---Keras Neural Network---\")\n",
    "print(\"confusion_matrix:\\n\", cm)\n",
    "print(\"accuracy_score: \", accuracy_score(y_test, y_pred))"
   ]
  },
  {
   "cell_type": "code",
   "execution_count": null,
   "metadata": {},
   "outputs": [],
   "source": []
  }
 ],
 "metadata": {
  "kernelspec": {
   "display_name": "Python 3",
   "language": "python",
   "name": "python3"
  },
  "language_info": {
   "codemirror_mode": {
    "name": "ipython",
    "version": 3
   },
   "file_extension": ".py",
   "mimetype": "text/x-python",
   "name": "python",
   "nbconvert_exporter": "python",
   "pygments_lexer": "ipython3",
   "version": "3.6.4"
  }
 },
 "nbformat": 4,
 "nbformat_minor": 2
}
